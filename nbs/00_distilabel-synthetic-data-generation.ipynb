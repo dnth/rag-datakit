{
 "cells": [
  {
   "cell_type": "markdown",
   "id": "b4df4e0b",
   "metadata": {},
   "source": [
    "## Using distilabel for synthetic data generation\n",
    "\n",
    "This notebook shows how to use `distilabel` to generate synthetic data to train a customized embedding model.\n",
    "\n",
    "First let's install the required packages. Uncomment the following cell to install."
   ]
  },
  {
   "cell_type": "code",
   "execution_count": 1,
   "id": "56646eed",
   "metadata": {},
   "outputs": [],
   "source": [
    "# !pip install git+https://github.com/dnth/rag-datakit.git"
   ]
  },
  {
   "cell_type": "markdown",
   "id": "4cbd0d3c",
   "metadata": {},
   "source": [
    "## Load and Inspect Dataset\n",
    "\n",
    "This is a dataset from the Skills Frameworks - https://jobsandskills.skillsfuture.gov.sg/frameworks/skills-frameworks\n",
    "\n",
    "I've uploaded the excel file into the Hugging Face dataset repo - `dnth/ssf-dataset`. "
   ]
  },
  {
   "cell_type": "code",
   "execution_count": 2,
   "id": "32d8f8c6",
   "metadata": {},
   "outputs": [],
   "source": [
    "from datasets import load_dataset\n",
    "\n",
    "dataset = load_dataset(\"dnth/ssf-dataset\")"
   ]
  },
  {
   "cell_type": "code",
   "execution_count": 3,
   "id": "0f157224",
   "metadata": {},
   "outputs": [
    {
     "data": {
      "text/plain": [
       "DatasetDict({\n",
       "    train: Dataset({\n",
       "        features: ['Sector', 'Track', 'Job Role', 'Job Role Description', 'Performance Expectation'],\n",
       "        num_rows: 1885\n",
       "    })\n",
       "})"
      ]
     },
     "execution_count": 3,
     "metadata": {},
     "output_type": "execute_result"
    }
   ],
   "source": [
    "dataset"
   ]
  },
  {
   "cell_type": "code",
   "execution_count": 4,
   "id": "9823e0d0",
   "metadata": {},
   "outputs": [
    {
     "data": {
      "text/plain": [
       "{'Sector': 'Accountancy',\n",
       " 'Track': 'Assurance',\n",
       " 'Job Role': 'Audit Associate / Audit Assistant Associate',\n",
       " 'Job Role Description': 'The Audit Associate/Audit Assistant Associate undertakes specific stages of audit work under supervision. He/She begins to appreciate the underlying principles behind the tasks assigned to him as part of the audit plan. He is also able to make adjustments to the application of skills to improve the work tasks or solve non-complex issues. The Audit Associate/Audit Assistant Associate operates in a structured work environment. He is able to build relationships, work in a team and identify ethical issues with reference to the code of professional conduct and ethics. He is able to select and apply from a range of known solutions to familiar problems and takes responsibility for his own learning and performance. He is a trustworthy and meticulous individual.',\n",
       " 'Performance Expectation': 'In accordance with: Singapore Standards on Auditing, Ethics Pronouncements in Singapore, Singapore Companies Act, and Singapore Financial Reporting Standards'}"
      ]
     },
     "execution_count": 4,
     "metadata": {},
     "output_type": "execute_result"
    }
   ],
   "source": [
    "dataset['train'][0]"
   ]
  },
  {
   "cell_type": "markdown",
   "id": "f64e5c4b",
   "metadata": {},
   "source": [
    "## Generate positive and negative queries\n",
    "\n",
    "In order to train an embedding dataset, we need to generate a positive and negative queries based on the anchor.\n",
    "\n",
    "In this example, the anchor is the job role description. For simplicity we will use the OpenAI model to generate. Make sure you have the API KEY exported."
   ]
  },
  {
   "cell_type": "code",
   "execution_count": 5,
   "id": "3270ab65",
   "metadata": {},
   "outputs": [],
   "source": [
    "# !export OPENAI_API_KEY=\"your_openai_api_key_here\""
   ]
  },
  {
   "cell_type": "code",
   "execution_count": 6,
   "id": "c05c3b7c",
   "metadata": {},
   "outputs": [
    {
     "name": "stderr",
     "output_type": "stream",
     "text": [
      "/tmp/ipykernel_189821/92261052.py:2: DeprecationWarning: Importing from 'distilabel.llms' is deprecated and will be removed in a version 1.7.0. Import from 'distilabel.models' instead.\n",
      "  from distilabel.llms import OpenAILLM\n"
     ]
    }
   ],
   "source": [
    "import os\n",
    "from distilabel.llms import OpenAILLM\n",
    "\n",
    "llm = OpenAILLM(\n",
    "    model=\"gpt-4o-mini\",\n",
    "    api_key=os.getenv(\"OPENAI_API_KEY\"),\n",
    ")"
   ]
  },
  {
   "cell_type": "code",
   "execution_count": 7,
   "id": "dd5cb418",
   "metadata": {},
   "outputs": [],
   "source": [
    "context = \"\"\"\n",
    "The text is a job description from the Singapore SkillsFuture Skills Framework.\n",
    "\n",
    "Your task is to generate realistic search queries that users would input when looking for similar job roles.\n",
    "\n",
    "Users typically search by:\n",
    "- Inputting partial job descriptions or requirements they're looking for\n",
    "- Describing skills, responsibilities, or qualifications they want to match\n",
    "- Using job titles or role descriptions as search terms\n",
    "- Mentioning specific domains, industries, or technical requirements\n",
    "\n",
    "The generated query should represent how someone would search for or describe a job opening similar to the given job description. \n",
    "The generated query should be in English. The generated query should not be a question.\n",
    "The generated query should contain about the same amount of words as the original job description.\n",
    "\n",
    "Respond in this exact format using ## before the positive and negative queries:\n",
    "\n",
    "## Positive\\n your positive query here\n",
    "## Negative\\n your negative description here\n",
    "\"\"\"\n",
    "\n",
    "from distilabel.pipeline import Pipeline\n",
    "from distilabel.steps import LoadDataFromHub\n",
    "from distilabel.steps.tasks import GenerateSentencePair\n",
    "\n",
    "with Pipeline(name=\"generate\") as pipeline:\n",
    "    load_dataset = LoadDataFromHub(\n",
    "        num_examples=10,\n",
    "        use_cache=False,\n",
    "        output_mappings={\"Job Role Description\": \"anchor\"},\n",
    "    )\n",
    "    generate_retrieval_pairs_easy = GenerateSentencePair(\n",
    "        name=\"easy_triplets\",\n",
    "        triplet=True,\n",
    "        hard_negative=False,\n",
    "        action=\"paraphrase\",\n",
    "        llm=llm,\n",
    "        input_batch_size=10,\n",
    "        context=context,\n",
    "    )\n",
    "\n",
    "    load_dataset.connect(generate_retrieval_pairs_easy)"
   ]
  },
  {
   "cell_type": "code",
   "execution_count": 8,
   "id": "a362d4fc",
   "metadata": {},
   "outputs": [
    {
     "data": {
      "text/html": [
       "<pre style=\"white-space:pre;overflow-x:auto;line-height:normal;font-family:Menlo,'DejaVu Sans Mono',consolas,'Courier New',monospace\"><span style=\"color: #7fbfbf; text-decoration-color: #7fbfbf\">[08/11/25 17:03:28] </span><span style=\"color: #000080; text-decoration-color: #000080\">INFO    </span> <span style=\"font-weight: bold\">[</span><span style=\"color: #008000; text-decoration-color: #008000\">'distilabel.pipeline'</span><span style=\"font-weight: bold\">]</span> 💾 Loading `_BatchManager` from cache:             <a href=\"file:///home/dnth/Desktop/rag-datakit/.venv/lib/python3.12/site-packages/distilabel/pipeline/base.py\" target=\"_blank\"><span style=\"color: #7f7f7f; text-decoration-color: #7f7f7f\">base.py</span></a><span style=\"color: #7f7f7f; text-decoration-color: #7f7f7f\">:</span><a href=\"file:///home/dnth/Desktop/rag-datakit/.venv/lib/python3.12/site-packages/distilabel/pipeline/base.py#967\" target=\"_blank\"><span style=\"color: #7f7f7f; text-decoration-color: #7f7f7f\">967</span></a>\n",
       "<span style=\"color: #7fbfbf; text-decoration-color: #7fbfbf\">                    </span>         <span style=\"color: #008000; text-decoration-color: #008000\">'/home/dnth/.cache/distilabel/pipelines/generate/afe4396c4450cb942bd98d4b6</span> <span style=\"color: #7f7f7f; text-decoration-color: #7f7f7f\">           </span>\n",
       "<span style=\"color: #7fbfbf; text-decoration-color: #7fbfbf\">                    </span>         <span style=\"color: #008000; text-decoration-color: #008000\">23c039bb0a5c4d1/executions/617323a529ff4e142b63749352bb41e8af0d4c2c/batch_</span> <span style=\"color: #7f7f7f; text-decoration-color: #7f7f7f\">           </span>\n",
       "<span style=\"color: #7fbfbf; text-decoration-color: #7fbfbf\">                    </span>         <span style=\"color: #008000; text-decoration-color: #008000\">manager.json'</span>                                                              <span style=\"color: #7f7f7f; text-decoration-color: #7f7f7f\">           </span>\n",
       "</pre>\n"
      ],
      "text/plain": [
       "\u001b[2;36m[08/11/25 17:03:28]\u001b[0m\u001b[2;36m \u001b[0m\u001b[34mINFO    \u001b[0m \u001b[1m[\u001b[0m\u001b[32m'distilabel.pipeline'\u001b[0m\u001b[1m]\u001b[0m 💾 Loading `_BatchManager` from cache:             \u001b]8;id=889253;file:///home/dnth/Desktop/rag-datakit/.venv/lib/python3.12/site-packages/distilabel/pipeline/base.py\u001b\\\u001b[2mbase.py\u001b[0m\u001b]8;;\u001b\\\u001b[2m:\u001b[0m\u001b]8;id=767604;file:///home/dnth/Desktop/rag-datakit/.venv/lib/python3.12/site-packages/distilabel/pipeline/base.py#967\u001b\\\u001b[2m967\u001b[0m\u001b]8;;\u001b\\\n",
       "\u001b[2;36m                    \u001b[0m         \u001b[32m'/home/dnth/.cache/distilabel/pipelines/generate/afe4396c4450cb942bd98d4b6\u001b[0m \u001b[2m           \u001b[0m\n",
       "\u001b[2;36m                    \u001b[0m         \u001b[32m23c039bb0a5c4d1/executions/617323a529ff4e142b63749352bb41e8af0d4c2c/batch_\u001b[0m \u001b[2m           \u001b[0m\n",
       "\u001b[2;36m                    \u001b[0m         \u001b[32mmanager.json'\u001b[0m                                                              \u001b[2m           \u001b[0m\n"
      ]
     },
     "metadata": {},
     "output_type": "display_data"
    },
    {
     "data": {
      "text/html": [
       "<pre style=\"white-space:pre;overflow-x:auto;line-height:normal;font-family:Menlo,'DejaVu Sans Mono',consolas,'Courier New',monospace\"><span style=\"color: #7fbfbf; text-decoration-color: #7fbfbf\">                    </span><span style=\"color: #000080; text-decoration-color: #000080\">INFO    </span> <span style=\"font-weight: bold\">[</span><span style=\"color: #008000; text-decoration-color: #008000\">'distilabel.pipeline'</span><span style=\"font-weight: bold\">]</span> 💾 Loaded batch manager from cache doesn't contain <a href=\"file:///home/dnth/Desktop/rag-datakit/.venv/lib/python3.12/site-packages/distilabel/pipeline/base.py\" target=\"_blank\"><span style=\"color: #7f7f7f; text-decoration-color: #7f7f7f\">base.py</span></a><span style=\"color: #7f7f7f; text-decoration-color: #7f7f7f\">:</span><a href=\"file:///home/dnth/Desktop/rag-datakit/.venv/lib/python3.12/site-packages/distilabel/pipeline/base.py#394\" target=\"_blank\"><span style=\"color: #7f7f7f; text-decoration-color: #7f7f7f\">394</span></a>\n",
       "<span style=\"color: #7fbfbf; text-decoration-color: #7fbfbf\">                    </span>         any remaining data. Returning `Distiset` from cache data<span style=\"color: #808000; text-decoration-color: #808000\">...</span>                <span style=\"color: #7f7f7f; text-decoration-color: #7f7f7f\">           </span>\n",
       "</pre>\n"
      ],
      "text/plain": [
       "\u001b[2;36m                   \u001b[0m\u001b[2;36m \u001b[0m\u001b[34mINFO    \u001b[0m \u001b[1m[\u001b[0m\u001b[32m'distilabel.pipeline'\u001b[0m\u001b[1m]\u001b[0m 💾 Loaded batch manager from cache doesn't contain \u001b]8;id=583392;file:///home/dnth/Desktop/rag-datakit/.venv/lib/python3.12/site-packages/distilabel/pipeline/base.py\u001b\\\u001b[2mbase.py\u001b[0m\u001b]8;;\u001b\\\u001b[2m:\u001b[0m\u001b]8;id=62984;file:///home/dnth/Desktop/rag-datakit/.venv/lib/python3.12/site-packages/distilabel/pipeline/base.py#394\u001b\\\u001b[2m394\u001b[0m\u001b]8;;\u001b\\\n",
       "\u001b[2;36m                    \u001b[0m         any remaining data. Returning `Distiset` from cache data\u001b[33m...\u001b[0m                \u001b[2m           \u001b[0m\n"
      ]
     },
     "metadata": {},
     "output_type": "display_data"
    }
   ],
   "source": [
    "distiset = pipeline.run(\n",
    "    parameters={\n",
    "        load_dataset.name: {\n",
    "            \"repo_id\": \"dnth/ssf-dataset\",\n",
    "            \"split\": \"train\",\n",
    "        },\n",
    "        \"easy_triplets\": {\n",
    "            \"llm\": {\"generation_kwargs\": {\"temperature\": 0.3, \"max_new_tokens\": 512}}\n",
    "        },\n",
    "    }\n",
    ")"
   ]
  },
  {
   "cell_type": "code",
   "execution_count": 9,
   "id": "0009e36f",
   "metadata": {},
   "outputs": [
    {
     "data": {
      "text/plain": [
       "Distiset({\n",
       "    default: DatasetDict({\n",
       "        train: Dataset({\n",
       "            features: ['Sector', 'Track', 'Job Role', 'anchor', 'Performance Expectation', 'positive', 'negative', 'distilabel_metadata', 'model_name'],\n",
       "            num_rows: 10\n",
       "        })\n",
       "    })\n",
       "})"
      ]
     },
     "execution_count": 9,
     "metadata": {},
     "output_type": "execute_result"
    }
   ],
   "source": [
    "distiset"
   ]
  },
  {
   "cell_type": "code",
   "execution_count": 10,
   "id": "44ca55e0",
   "metadata": {},
   "outputs": [
    {
     "data": {
      "text/plain": [
       "{'Sector': 'Accountancy',\n",
       " 'Track': 'Assurance',\n",
       " 'Job Role': 'Audit Associate / Audit Assistant Associate',\n",
       " 'anchor': 'The Audit Associate/Audit Assistant Associate undertakes specific stages of audit work under supervision. He/She begins to appreciate the underlying principles behind the tasks assigned to him as part of the audit plan. He is also able to make adjustments to the application of skills to improve the work tasks or solve non-complex issues. The Audit Associate/Audit Assistant Associate operates in a structured work environment. He is able to build relationships, work in a team and identify ethical issues with reference to the code of professional conduct and ethics. He is able to select and apply from a range of known solutions to familiar problems and takes responsibility for his own learning and performance. He is a trustworthy and meticulous individual.',\n",
       " 'Performance Expectation': 'In accordance with: Singapore Standards on Auditing, Ethics Pronouncements in Singapore, Singapore Companies Act, and Singapore Financial Reporting Standards',\n",
       " 'positive': 'Job opening for an Audit Associate or Audit Assistant, focusing on supervised audit tasks and developing an understanding of audit principles, teamwork, and ethical standards in a structured environment.',\n",
       " 'negative': 'Seeking a position involving independent project management, creative problem-solving, and innovative thinking in a fast-paced, unstructured setting without the need for ethical considerations.',\n",
       " 'distilabel_metadata': {'raw_input_easy_triplets': [{'content': 'Your task is to generate a positive and a negative sentence given an anchor sentence. Take into account the context given. The positive sentence has to paraphrase the anchor sentence, while the negative sentence can use similar words but must not be related to the anchor sentence. You must output only two new sections: `## Positive` and `## Negative`.',\n",
       "    'role': 'system'},\n",
       "   {'content': \"## Context\\n\\n\\nThe text is a job description from the Singapore SkillsFuture Skills Framework.\\n\\nYour task is to generate realistic search queries that users would input when looking for similar job roles.\\n\\nUsers typically search by:\\n- Inputting partial job descriptions or requirements they're looking for\\n- Describing skills, responsibilities, or qualifications they want to match\\n- Using job titles or role descriptions as search terms\\n- Mentioning specific domains, industries, or technical requirements\\n\\nThe generated query should represent how someone would search for or describe a job opening similar to the given job description. \\nThe generated query should be in English. The generated query should not be a question.\\nThe generated query should contain about the same amount of words as the original job description.\\n\\nRespond in this exact format using ## before the positive and negative queries:\\n\\n## Positive\\n your positive query here\\n## Negative\\n your negative description here\\n\\n\\n## Anchor\\n\\nThe Audit Associate/Audit Assistant Associate undertakes specific stages of audit work under supervision. He/She begins to appreciate the underlying principles behind the tasks assigned to him as part of the audit plan. He is also able to make adjustments to the application of skills to improve the work tasks or solve non-complex issues. The Audit Associate/Audit Assistant Associate operates in a structured work environment. He is able to build relationships, work in a team and identify ethical issues with reference to the code of professional conduct and ethics. He is able to select and apply from a range of known solutions to familiar problems and takes responsibility for his own learning and performance. He is a trustworthy and meticulous individual.\\n\",\n",
       "    'role': 'user'}],\n",
       "  'raw_output_easy_triplets': '## Positive\\nJob opening for an Audit Associate or Audit Assistant, focusing on supervised audit tasks and developing an understanding of audit principles, teamwork, and ethical standards in a structured environment. \\n\\n## Negative\\nSeeking a position involving independent project management, creative problem-solving, and innovative thinking in a fast-paced, unstructured setting without the need for ethical considerations.',\n",
       "  'statistics_easy_triplets': {'input_tokens': 397, 'output_tokens': 70}},\n",
       " 'model_name': 'gpt-4o-mini'}"
      ]
     },
     "execution_count": 10,
     "metadata": {},
     "output_type": "execute_result"
    }
   ],
   "source": [
    "distiset[\"default\"][\"train\"][0]"
   ]
  },
  {
   "cell_type": "code",
   "execution_count": 11,
   "id": "22bdf9f9",
   "metadata": {},
   "outputs": [
    {
     "data": {
      "application/vnd.microsoft.datawrangler.viewer.v0+json": {
       "columns": [
        {
         "name": "index",
         "rawType": "int64",
         "type": "integer"
        },
        {
         "name": "Sector",
         "rawType": "object",
         "type": "string"
        },
        {
         "name": "Track",
         "rawType": "object",
         "type": "string"
        },
        {
         "name": "Job Role",
         "rawType": "object",
         "type": "string"
        },
        {
         "name": "anchor",
         "rawType": "object",
         "type": "string"
        },
        {
         "name": "Performance Expectation",
         "rawType": "object",
         "type": "unknown"
        },
        {
         "name": "positive",
         "rawType": "object",
         "type": "string"
        },
        {
         "name": "negative",
         "rawType": "object",
         "type": "string"
        },
        {
         "name": "distilabel_metadata",
         "rawType": "object",
         "type": "unknown"
        },
        {
         "name": "model_name",
         "rawType": "object",
         "type": "string"
        }
       ],
       "ref": "a21262c1-c2f9-47f4-97b7-bd67168a1523",
       "rows": [
        [
         "0",
         "Accountancy",
         "Assurance",
         "Audit Associate / Audit Assistant Associate",
         "The Audit Associate/Audit Assistant Associate undertakes specific stages of audit work under supervision. He/She begins to appreciate the underlying principles behind the tasks assigned to him as part of the audit plan. He is also able to make adjustments to the application of skills to improve the work tasks or solve non-complex issues. The Audit Associate/Audit Assistant Associate operates in a structured work environment. He is able to build relationships, work in a team and identify ethical issues with reference to the code of professional conduct and ethics. He is able to select and apply from a range of known solutions to familiar problems and takes responsibility for his own learning and performance. He is a trustworthy and meticulous individual.",
         "In accordance with: Singapore Standards on Auditing, Ethics Pronouncements in Singapore, Singapore Companies Act, and Singapore Financial Reporting Standards",
         "Job opening for an Audit Associate or Audit Assistant, focusing on supervised audit tasks and developing an understanding of audit principles, teamwork, and ethical standards in a structured environment.",
         "Seeking a position involving independent project management, creative problem-solving, and innovative thinking in a fast-paced, unstructured setting without the need for ethical considerations.",
         "{'raw_input_easy_triplets': array([{'content': 'Your task is to generate a positive and a negative sentence given an anchor sentence. Take into account the context given. The positive sentence has to paraphrase the anchor sentence, while the negative sentence can use similar words but must not be related to the anchor sentence. You must output only two new sections: `## Positive` and `## Negative`.', 'role': 'system'},\n       {'content': \"## Context\\n\\n\\nThe text is a job description from the Singapore SkillsFuture Skills Framework.\\n\\nYour task is to generate realistic search queries that users would input when looking for similar job roles.\\n\\nUsers typically search by:\\n- Inputting partial job descriptions or requirements they're looking for\\n- Describing skills, responsibilities, or qualifications they want to match\\n- Using job titles or role descriptions as search terms\\n- Mentioning specific domains, industries, or technical requirements\\n\\nThe generated query should represent how someone would search for or describe a job opening similar to the given job description. \\nThe generated query should be in English. The generated query should not be a question.\\nThe generated query should contain about the same amount of words as the original job description.\\n\\nRespond in this exact format using ## before the positive and negative queries:\\n\\n## Positive\\n your positive query here\\n## Negative\\n your negative description here\\n\\n\\n## Anchor\\n\\nThe Audit Associate/Audit Assistant Associate undertakes specific stages of audit work under supervision. He/She begins to appreciate the underlying principles behind the tasks assigned to him as part of the audit plan. He is also able to make adjustments to the application of skills to improve the work tasks or solve non-complex issues. The Audit Associate/Audit Assistant Associate operates in a structured work environment. He is able to build relationships, work in a team and identify ethical issues with reference to the code of professional conduct and ethics. He is able to select and apply from a range of known solutions to familiar problems and takes responsibility for his own learning and performance. He is a trustworthy and meticulous individual.\\n\", 'role': 'user'}],\n      dtype=object), 'raw_output_easy_triplets': '## Positive\\nJob opening for an Audit Associate or Audit Assistant, focusing on supervised audit tasks and developing an understanding of audit principles, teamwork, and ethical standards in a structured environment. \\n\\n## Negative\\nSeeking a position involving independent project management, creative problem-solving, and innovative thinking in a fast-paced, unstructured setting without the need for ethical considerations.', 'statistics_easy_triplets': {'input_tokens': 397, 'output_tokens': 70}}",
         "gpt-4o-mini"
        ],
        [
         "1",
         "Accountancy",
         "Assurance",
         "Audit Manager",
         "The Audit Senior Manager/Audit Manager manages a portfolio of engagements to deliver high quality audit services. He/she also provides leadership on audit engagements which includes client acceptance process, engagement planning, execution and finalisation of an audit engagement. He is fully accountable for the audit engagement and ensures that the engagement progress against budget and timeline is closely monitored. He also serves to develop and maintain long-term client relationships and value-add to the audit firm by identifying new business development opportunities. The Audit Senior Manager/Audit Manager reviews and provides key technical expertise to ensure the quality of audit work performed is in compliance with professional standards and requirements. He contributes towards continuous improvement in audit methodology and process. He will also assume a greater role in professional development activities such as training, staff recruitment and resource planning.",
         "In accordance with: Singapore Standards on Auditing, Ethics Pronouncements in Singapore, Singapore Companies Act, and Singapore Financial Reporting Standards",
         "Search for Audit Senior Manager or Audit Manager roles focusing on managing audit engagements, client relationships, and ensuring compliance with professional standards.",
         "Looking for entry-level positions in marketing or sales that require basic communication skills and do not involve any auditing responsibilities.",
         "{'raw_input_easy_triplets': array([{'content': 'Your task is to generate a positive and a negative sentence given an anchor sentence. Take into account the context given. The positive sentence has to paraphrase the anchor sentence, while the negative sentence can use similar words but must not be related to the anchor sentence. You must output only two new sections: `## Positive` and `## Negative`.', 'role': 'system'},\n       {'content': \"## Context\\n\\n\\nThe text is a job description from the Singapore SkillsFuture Skills Framework.\\n\\nYour task is to generate realistic search queries that users would input when looking for similar job roles.\\n\\nUsers typically search by:\\n- Inputting partial job descriptions or requirements they're looking for\\n- Describing skills, responsibilities, or qualifications they want to match\\n- Using job titles or role descriptions as search terms\\n- Mentioning specific domains, industries, or technical requirements\\n\\nThe generated query should represent how someone would search for or describe a job opening similar to the given job description. \\nThe generated query should be in English. The generated query should not be a question.\\nThe generated query should contain about the same amount of words as the original job description.\\n\\nRespond in this exact format using ## before the positive and negative queries:\\n\\n## Positive\\n your positive query here\\n## Negative\\n your negative description here\\n\\n\\n## Anchor\\n\\nThe Audit Senior Manager/Audit Manager manages a portfolio of engagements to deliver high quality audit services. He/she also provides leadership on audit engagements which includes client acceptance process, engagement planning, execution and finalisation of an audit engagement. He is fully accountable for the audit engagement and ensures that the engagement progress against budget and timeline is closely monitored. He also serves to develop and maintain long-term client relationships and value-add to the audit firm by identifying new business development opportunities. The Audit Senior Manager/Audit Manager reviews and provides key technical expertise to ensure the quality of audit work performed is in compliance with professional standards and requirements. He contributes towards continuous improvement in audit methodology and process. He will also assume a greater role in professional development activities such as training, staff recruitment and resource planning.\\n\", 'role': 'user'}],\n      dtype=object), 'raw_output_easy_triplets': '## Positive\\nSearch for Audit Senior Manager or Audit Manager roles focusing on managing audit engagements, client relationships, and ensuring compliance with professional standards.\\n\\n## Negative\\nLooking for entry-level positions in marketing or sales that require basic communication skills and do not involve any auditing responsibilities.', 'statistics_easy_triplets': {'input_tokens': 414, 'output_tokens': 53}}",
         "gpt-4o-mini"
        ],
        [
         "2",
         "Accountancy",
         "Assurance",
         "Audit Partner / Audit Director",
         "The Audit Partner/Audit Director is a transformational leader who steers the organisation to achieve its business goals and objectives by formulating technical and strategic directions to drive change. He/She provides strategic vision and leadership to the organisation in order to develop and strengthen organisational capabilities and culture. The Audit Partner/Audit Director is expected to promote new ideas and business solutions that result in extended services to existing clients. He constantly seeks to expand client base and support business development activities. He also establishes consistent and rigorous quality and risk management processes and procedures. The Audit Partner/Audit Director uses a multitude of controls and procedures consisting professional, regulatory, business, economic, social and environmental conditions to manage risk exposure.",
         "In accordance with: Singapore Standards on Auditing, Ethics Pronouncements in Singapore, Singapore Companies Act, and Singapore Financial Reporting Standards",
         "Looking for an Audit Partner or Director to lead strategic initiatives, enhance organizational capabilities, and drive business development while ensuring quality and risk management in a dynamic environment.",
         "Seeking a financial analyst to manage daily transactions, prepare reports, and ensure compliance with internal policies and regulations without a focus on client engagement or strategic leadership.",
         "{'raw_input_easy_triplets': array([{'content': 'Your task is to generate a positive and a negative sentence given an anchor sentence. Take into account the context given. The positive sentence has to paraphrase the anchor sentence, while the negative sentence can use similar words but must not be related to the anchor sentence. You must output only two new sections: `## Positive` and `## Negative`.', 'role': 'system'},\n       {'content': \"## Context\\n\\n\\nThe text is a job description from the Singapore SkillsFuture Skills Framework.\\n\\nYour task is to generate realistic search queries that users would input when looking for similar job roles.\\n\\nUsers typically search by:\\n- Inputting partial job descriptions or requirements they're looking for\\n- Describing skills, responsibilities, or qualifications they want to match\\n- Using job titles or role descriptions as search terms\\n- Mentioning specific domains, industries, or technical requirements\\n\\nThe generated query should represent how someone would search for or describe a job opening similar to the given job description. \\nThe generated query should be in English. The generated query should not be a question.\\nThe generated query should contain about the same amount of words as the original job description.\\n\\nRespond in this exact format using ## before the positive and negative queries:\\n\\n## Positive\\n your positive query here\\n## Negative\\n your negative description here\\n\\n\\n## Anchor\\n\\nThe Audit Partner/Audit Director is a transformational leader who steers the organisation to achieve its business goals and objectives by formulating technical and strategic directions to drive change. He/She provides strategic vision and leadership to the organisation in order to develop and strengthen organisational capabilities and culture. The Audit Partner/Audit Director is expected to promote new ideas and business solutions that result in extended services to existing clients. He constantly seeks to expand client base and support business development activities. He also establishes consistent and rigorous quality and risk management processes and procedures. The Audit Partner/Audit Director uses a multitude of controls and procedures consisting professional, regulatory, business, economic, social and environmental conditions to manage risk exposure.\\n\", 'role': 'user'}],\n      dtype=object), 'raw_output_easy_triplets': '## Positive\\nLooking for an Audit Partner or Director to lead strategic initiatives, enhance organizational capabilities, and drive business development while ensuring quality and risk management in a dynamic environment.\\n\\n## Negative\\nSeeking a financial analyst to manage daily transactions, prepare reports, and ensure compliance with internal policies and regulations without a focus on client engagement or strategic leadership.', 'statistics_easy_triplets': {'input_tokens': 397, 'output_tokens': 67}}",
         "gpt-4o-mini"
        ],
        [
         "3",
         "Accountancy",
         "Assurance",
         "Audit Senior",
         "The Audit Senior is expected to team lead various sizes of audit engagements which include planning, performing, reviewing of audit work performed by less experienced personnel and concluding the engagement. He/She works closely with team members to execute the audit plan and ensures the timely completion of the audit engagement. He also works closely with clients and manages their expectations to further nurture on-going client relationships. He is able to identify unethical behaviour and react based on the applicable ethical principles. The Audit Senior operates in work contexts that are less standardised and unanticipated changes can be frequent due to changes in the external environment. He is a trustworthy and meticulous individual.",
         "In accordance with: Singapore Standards on Auditing, Ethics Pronouncements in Singapore, Singapore Companies Act, and Singapore Financial Reporting Standards",
         "Audit Senior role leading audit engagements, managing teams, ensuring timely completion, and nurturing client relationships while upholding ethical standards.",
         "Seeking a project manager to oversee construction projects, coordinate teams, and ensure compliance with safety regulations in a dynamic environment.",
         "{'raw_input_easy_triplets': array([{'content': 'Your task is to generate a positive and a negative sentence given an anchor sentence. Take into account the context given. The positive sentence has to paraphrase the anchor sentence, while the negative sentence can use similar words but must not be related to the anchor sentence. You must output only two new sections: `## Positive` and `## Negative`.', 'role': 'system'},\n       {'content': \"## Context\\n\\n\\nThe text is a job description from the Singapore SkillsFuture Skills Framework.\\n\\nYour task is to generate realistic search queries that users would input when looking for similar job roles.\\n\\nUsers typically search by:\\n- Inputting partial job descriptions or requirements they're looking for\\n- Describing skills, responsibilities, or qualifications they want to match\\n- Using job titles or role descriptions as search terms\\n- Mentioning specific domains, industries, or technical requirements\\n\\nThe generated query should represent how someone would search for or describe a job opening similar to the given job description. \\nThe generated query should be in English. The generated query should not be a question.\\nThe generated query should contain about the same amount of words as the original job description.\\n\\nRespond in this exact format using ## before the positive and negative queries:\\n\\n## Positive\\n your positive query here\\n## Negative\\n your negative description here\\n\\n\\n## Anchor\\n\\nThe Audit Senior is expected to team lead various sizes of audit engagements which include planning, performing, reviewing of audit work performed by less experienced personnel and concluding the engagement. He/She works closely with team members to execute the audit plan and ensures the timely completion of the audit engagement. He also works closely with clients and manages their expectations to further nurture on-going client relationships. He is able to identify unethical behaviour and react based on the applicable ethical principles. The Audit Senior operates in work contexts that are less standardised and unanticipated changes can be frequent due to changes in the external environment. He is a trustworthy and meticulous individual.\\n\", 'role': 'user'}],\n      dtype=object), 'raw_output_easy_triplets': '## Positive\\nAudit Senior role leading audit engagements, managing teams, ensuring timely completion, and nurturing client relationships while upholding ethical standards.  \\n## Negative\\nSeeking a project manager to oversee construction projects, coordinate teams, and ensure compliance with safety regulations in a dynamic environment.', 'statistics_easy_triplets': {'input_tokens': 385, 'output_tokens': 54}}",
         "gpt-4o-mini"
        ],
        [
         "4",
         "Accountancy",
         "Business Valuation",
         "Business Valuation Associate / Business Valuation Executive",
         "The Business Valuation Associate/Business Valuation Executive has significant responsibility for execution of deliverables. He/She needs to work hands-on on the valuation analysis. He is expected to adhere to standards of ethics and maintain quality assurance in processes. The Business Valuation Associate/Business Valuation Executive participates in business development and stakeholder interaction. He has minimal experience and is expected to embark on a steep learning curve to acquire various skills and expertise in business valuation including valuation of intangible assets. He possesses strong time management and communication skills.",
         "In accordance with the International Valuation Standards Council's Code of Ethical Principles for Professional Valuers",
         "Business Valuation Analyst role requiring hands-on valuation analysis, strong ethics, and quality assurance, with opportunities for business development and stakeholder engagement while developing expertise in valuing intangible assets.",
         "Entry-level position in a completely different field requiring basic skills, minimal responsibility, and no interaction with clients or stakeholders, focusing solely on routine tasks without any emphasis on valuation or analysis.",
         "{'raw_input_easy_triplets': array([{'content': 'Your task is to generate a positive and a negative sentence given an anchor sentence. Take into account the context given. The positive sentence has to paraphrase the anchor sentence, while the negative sentence can use similar words but must not be related to the anchor sentence. You must output only two new sections: `## Positive` and `## Negative`.', 'role': 'system'},\n       {'content': \"## Context\\n\\n\\nThe text is a job description from the Singapore SkillsFuture Skills Framework.\\n\\nYour task is to generate realistic search queries that users would input when looking for similar job roles.\\n\\nUsers typically search by:\\n- Inputting partial job descriptions or requirements they're looking for\\n- Describing skills, responsibilities, or qualifications they want to match\\n- Using job titles or role descriptions as search terms\\n- Mentioning specific domains, industries, or technical requirements\\n\\nThe generated query should represent how someone would search for or describe a job opening similar to the given job description. \\nThe generated query should be in English. The generated query should not be a question.\\nThe generated query should contain about the same amount of words as the original job description.\\n\\nRespond in this exact format using ## before the positive and negative queries:\\n\\n## Positive\\n your positive query here\\n## Negative\\n your negative description here\\n\\n\\n## Anchor\\n\\nThe Business Valuation Associate/Business Valuation Executive has significant responsibility for execution of deliverables. He/She needs to work hands-on on the valuation analysis. He is expected to adhere to standards of ethics and maintain quality assurance in processes. The Business Valuation Associate/Business Valuation Executive participates in business development and stakeholder interaction. He has minimal experience and is expected to embark on a steep learning curve to acquire various skills and expertise in business valuation including valuation of intangible assets. He possesses strong time management and communication skills.\\n\", 'role': 'user'}],\n      dtype=object), 'raw_output_easy_triplets': '## Positive\\nBusiness Valuation Analyst role requiring hands-on valuation analysis, strong ethics, and quality assurance, with opportunities for business development and stakeholder engagement while developing expertise in valuing intangible assets.\\n\\n## Negative\\nEntry-level position in a completely different field requiring basic skills, minimal responsibility, and no interaction with clients or stakeholders, focusing solely on routine tasks without any emphasis on valuation or analysis.', 'statistics_easy_triplets': {'input_tokens': 364, 'output_tokens': 77}}",
         "gpt-4o-mini"
        ],
        [
         "5",
         "Accountancy",
         "Business Valuation",
         "Business Valuation Manager",
         "The Business Valuation Manager is second in charge of various functions including managing the valuation, generating and supporting the business, quality control, technical leadership as well as sourcing appropriate staff for the team. The Business Valuation Manager is a technical expert in all areas of valuation including valuation of intangible assets. He/She should possess considerable amount of experience in valuation, client, stakeholder and business management, project management and team development.",
         "In accordance with the International Valuation Standards Council's Code of Ethical Principles for Professional Valuers",
         "Business Valuation Manager overseeing valuation processes, driving business support, ensuring quality control, providing technical guidance, and recruiting skilled team members with extensive experience in valuation and project management.",
         "Financial Analyst responsible for data analysis, report generation, market research, and collaborating with cross-functional teams while having a strong background in statistical methods and software proficiency.",
         "{'raw_input_easy_triplets': array([{'content': 'Your task is to generate a positive and a negative sentence given an anchor sentence. Take into account the context given. The positive sentence has to paraphrase the anchor sentence, while the negative sentence can use similar words but must not be related to the anchor sentence. You must output only two new sections: `## Positive` and `## Negative`.', 'role': 'system'},\n       {'content': \"## Context\\n\\n\\nThe text is a job description from the Singapore SkillsFuture Skills Framework.\\n\\nYour task is to generate realistic search queries that users would input when looking for similar job roles.\\n\\nUsers typically search by:\\n- Inputting partial job descriptions or requirements they're looking for\\n- Describing skills, responsibilities, or qualifications they want to match\\n- Using job titles or role descriptions as search terms\\n- Mentioning specific domains, industries, or technical requirements\\n\\nThe generated query should represent how someone would search for or describe a job opening similar to the given job description. \\nThe generated query should be in English. The generated query should not be a question.\\nThe generated query should contain about the same amount of words as the original job description.\\n\\nRespond in this exact format using ## before the positive and negative queries:\\n\\n## Positive\\n your positive query here\\n## Negative\\n your negative description here\\n\\n\\n## Anchor\\n\\nThe Business Valuation Manager is second in charge of various functions including managing the valuation, generating and supporting the business, quality control, technical leadership as well as sourcing appropriate staff for the team. The Business Valuation Manager is a technical expert in all areas of valuation including valuation of intangible assets. He/She should possess considerable amount of experience in valuation, client, stakeholder and business management, project management and team development.\\n\", 'role': 'user'}],\n      dtype=object), 'raw_output_easy_triplets': '## Positive\\nBusiness Valuation Manager overseeing valuation processes, driving business support, ensuring quality control, providing technical guidance, and recruiting skilled team members with extensive experience in valuation and project management.  \\n## Negative\\nFinancial Analyst responsible for data analysis, report generation, market research, and collaborating with cross-functional teams while having a strong background in statistical methods and software proficiency.', 'statistics_easy_triplets': {'input_tokens': 343, 'output_tokens': 72}}",
         "gpt-4o-mini"
        ],
        [
         "6",
         "Accountancy",
         "Business Valuation",
         "Business Valuation Partner / Business Valuation Director",
         "The Business Valuation Partner/Business Valuation Director is a team leader in charge of various functions including generating business and growing the business, quality control, technical leadership as well as sourcing appropriate staff for the team. He/She is given the signing authority for any client deliverables in a consultancy role, or responsibility for corporate development in-house. He is not only responsible for the quality of technical output, but also for risk management for the business. The Business Valuation Partner/Business Valuation Director is also looked upon as an expert in valuation and should possess considerable amount of valuation experience including valuation of intangible assets. He is responsible for marketing and business development, client and stakeholder relationship management, and making decisions on engagements and client acceptance.",
         "In accordance with the International Valuation Standards Council's Code of Ethical Principles for Professional Valuers",
         "Job opening for a Business Valuation Director responsible for team leadership, business growth, quality control, and client deliverables in a consultancy role, requiring extensive valuation experience and expertise in intangible assets.",
         "Seeking a project manager with experience in software development, team coordination, and budget management, focusing on technical project execution and stakeholder communication.",
         "{'raw_input_easy_triplets': array([{'content': 'Your task is to generate a positive and a negative sentence given an anchor sentence. Take into account the context given. The positive sentence has to paraphrase the anchor sentence, while the negative sentence can use similar words but must not be related to the anchor sentence. You must output only two new sections: `## Positive` and `## Negative`.', 'role': 'system'},\n       {'content': \"## Context\\n\\n\\nThe text is a job description from the Singapore SkillsFuture Skills Framework.\\n\\nYour task is to generate realistic search queries that users would input when looking for similar job roles.\\n\\nUsers typically search by:\\n- Inputting partial job descriptions or requirements they're looking for\\n- Describing skills, responsibilities, or qualifications they want to match\\n- Using job titles or role descriptions as search terms\\n- Mentioning specific domains, industries, or technical requirements\\n\\nThe generated query should represent how someone would search for or describe a job opening similar to the given job description. \\nThe generated query should be in English. The generated query should not be a question.\\nThe generated query should contain about the same amount of words as the original job description.\\n\\nRespond in this exact format using ## before the positive and negative queries:\\n\\n## Positive\\n your positive query here\\n## Negative\\n your negative description here\\n\\n\\n## Anchor\\n\\nThe Business Valuation Partner/Business Valuation Director is a team leader in charge of various functions including generating business and growing the business, quality control, technical leadership as well as sourcing appropriate staff for the team. He/She is given the signing authority for any client deliverables in a consultancy role, or responsibility for corporate development in-house. He is not only responsible for the quality of technical output, but also for risk management for the business. The Business Valuation Partner/Business Valuation Director is also looked upon as an expert in valuation and should possess considerable amount of valuation experience including valuation of intangible assets. He is responsible for marketing and business development, client and stakeholder relationship management, and making decisions on engagements and client acceptance.\\n\", 'role': 'user'}],\n      dtype=object), 'raw_output_easy_triplets': '## Positive\\nJob opening for a Business Valuation Director responsible for team leadership, business growth, quality control, and client deliverables in a consultancy role, requiring extensive valuation experience and expertise in intangible assets.\\n\\n## Negative\\nSeeking a project manager with experience in software development, team coordination, and budget management, focusing on technical project execution and stakeholder communication.', 'statistics_easy_triplets': {'input_tokens': 406, 'output_tokens': 70}}",
         "gpt-4o-mini"
        ],
        [
         "7",
         "Accountancy",
         "Business Valuation",
         "Business Valuation Senior / Business Valuation Senior Executive",
         "The Business Valuation Senior/Business Valuation Senior Executive is in charge of day to day operations, from a valuation perspective. He/She manages the valuation exercise for the client engagements that he is responsible for, or the business that he belongs to. He is expected to adhere to standards of ethics and maintain quality assurance in processes. The Business Valuation Senior/Business Valuation Senior Executive participates in business development and is expected to interact with stakeholders to manage project deliverables and timeline. He has a significant level of technical expertise including valuation of intangible assets and is very hands on with the valuation exercise. He possesses strong time management and communication skills.",
         "In accordance with the International Valuation Standards Council's Code of Ethical Principles for Professional Valuers",
         "Senior Business Valuation Executive responsible for managing client valuation projects, ensuring ethical standards and quality assurance, while actively engaging in business development and stakeholder communication.",
         "Entry-level position focused on administrative tasks with minimal interaction, requiring basic skills in data entry and no specific expertise in valuation or client management.",
         "{'raw_input_easy_triplets': array([{'content': 'Your task is to generate a positive and a negative sentence given an anchor sentence. Take into account the context given. The positive sentence has to paraphrase the anchor sentence, while the negative sentence can use similar words but must not be related to the anchor sentence. You must output only two new sections: `## Positive` and `## Negative`.', 'role': 'system'},\n       {'content': \"## Context\\n\\n\\nThe text is a job description from the Singapore SkillsFuture Skills Framework.\\n\\nYour task is to generate realistic search queries that users would input when looking for similar job roles.\\n\\nUsers typically search by:\\n- Inputting partial job descriptions or requirements they're looking for\\n- Describing skills, responsibilities, or qualifications they want to match\\n- Using job titles or role descriptions as search terms\\n- Mentioning specific domains, industries, or technical requirements\\n\\nThe generated query should represent how someone would search for or describe a job opening similar to the given job description. \\nThe generated query should be in English. The generated query should not be a question.\\nThe generated query should contain about the same amount of words as the original job description.\\n\\nRespond in this exact format using ## before the positive and negative queries:\\n\\n## Positive\\n your positive query here\\n## Negative\\n your negative description here\\n\\n\\n## Anchor\\n\\nThe Business Valuation Senior/Business Valuation Senior Executive is in charge of day to day operations, from a valuation perspective. He/She manages the valuation exercise for the client engagements that he is responsible for, or the business that he belongs to. He is expected to adhere to standards of ethics and maintain quality assurance in processes. The Business Valuation Senior/Business Valuation Senior Executive participates in business development and is expected to interact with stakeholders to manage project deliverables and timeline. He has a significant level of technical expertise including valuation of intangible assets and is very hands on with the valuation exercise. He possesses strong time management and communication skills.\\n\", 'role': 'user'}],\n      dtype=object), 'raw_output_easy_triplets': '## Positive\\nSenior Business Valuation Executive responsible for managing client valuation projects, ensuring ethical standards and quality assurance, while actively engaging in business development and stakeholder communication.\\n\\n## Negative\\nEntry-level position focused on administrative tasks with minimal interaction, requiring basic skills in data entry and no specific expertise in valuation or client management.', 'statistics_easy_triplets': {'input_tokens': 388, 'output_tokens': 62}}",
         "gpt-4o-mini"
        ],
        [
         "8",
         "Accountancy",
         "Enterprise Risk Management",
         "Chief Risk Officer / Risk Partner / Head of Risk / Enterprise Risk Management Director",
         "The Chief Risk Officer/Risk Partner/Head of Risk/Enterprise Risk Management Director manages the overall risk exposure across the organisation in collaboration with relevant business units and senior stakeholders. He/She develops and defines enterprise-level policies and frameworks which establishes acceptable risk appetite and strategies to maintain the organisation's collective risk exposure. He reviews the monitoring and management of enterprise risk exposure, including identifying and measuring risks from an organisational level, and implementing appropriate risk controls across the organisation. He also leads planning for recovery and resolution activities after high-risk incidents in collaboration with business units. The Chief Risk Officer/Risk Partner/Head of Risk/Enterprise Risk Management Director is strategically oriented, well-versed with all aspects of the business including decision-making processes and able to connect the dots to achieve outcomes. He is conceptual, highly experienced in various risk disciplines and takes a big picture approach. He is an influential leader, leading and developing the team, and works well with a wide range of senior stakeholders. He has strong interpersonal skills and the ability to change undesirable behaviours with more desirable ones.",
         null,
         "Job opening for a Chief Risk Officer responsible for managing enterprise risk exposure, developing risk policies, and collaborating with senior stakeholders to implement effective risk controls and recovery strategies.",
         "Seeking a candidate for a role focused on enhancing customer satisfaction through innovative marketing strategies and improving team collaboration in a fast-paced retail environment.",
         "{'raw_input_easy_triplets': array([{'content': 'Your task is to generate a positive and a negative sentence given an anchor sentence. Take into account the context given. The positive sentence has to paraphrase the anchor sentence, while the negative sentence can use similar words but must not be related to the anchor sentence. You must output only two new sections: `## Positive` and `## Negative`.', 'role': 'system'},\n       {'content': \"## Context\\n\\n\\nThe text is a job description from the Singapore SkillsFuture Skills Framework.\\n\\nYour task is to generate realistic search queries that users would input when looking for similar job roles.\\n\\nUsers typically search by:\\n- Inputting partial job descriptions or requirements they're looking for\\n- Describing skills, responsibilities, or qualifications they want to match\\n- Using job titles or role descriptions as search terms\\n- Mentioning specific domains, industries, or technical requirements\\n\\nThe generated query should represent how someone would search for or describe a job opening similar to the given job description. \\nThe generated query should be in English. The generated query should not be a question.\\nThe generated query should contain about the same amount of words as the original job description.\\n\\nRespond in this exact format using ## before the positive and negative queries:\\n\\n## Positive\\n your positive query here\\n## Negative\\n your negative description here\\n\\n\\n## Anchor\\n\\nThe Chief Risk Officer/Risk Partner/Head of Risk/Enterprise Risk Management Director manages the overall risk exposure across the organisation in collaboration with relevant business units and senior stakeholders. He/She develops and defines enterprise-level policies and frameworks which establishes acceptable risk appetite and strategies to maintain the organisation's collective risk exposure. He reviews the monitoring and management of enterprise risk exposure, including identifying and measuring risks from an organisational level, and implementing appropriate risk controls across the organisation. He also leads planning for recovery and resolution activities after high-risk incidents in collaboration with business units. The Chief Risk Officer/Risk Partner/Head of Risk/Enterprise Risk Management Director is strategically oriented, well-versed with all aspects of the business including decision-making processes and able to connect the dots to achieve outcomes. He is conceptual, highly experienced in various risk disciplines and takes a big picture approach. He is an influential leader, leading and developing the team, and works well with a wide range of senior stakeholders. He has strong interpersonal skills and the ability to change undesirable behaviours with more desirable ones.\\n\", 'role': 'user'}],\n      dtype=object), 'raw_output_easy_triplets': '## Positive\\nJob opening for a Chief Risk Officer responsible for managing enterprise risk exposure, developing risk policies, and collaborating with senior stakeholders to implement effective risk controls and recovery strategies.\\n\\n## Negative\\nSeeking a candidate for a role focused on enhancing customer satisfaction through innovative marketing strategies and improving team collaboration in a fast-paced retail environment.', 'statistics_easy_triplets': {'input_tokens': 470, 'output_tokens': 64}}",
         "gpt-4o-mini"
        ],
        [
         "9",
         "Accountancy",
         "Enterprise Risk Management",
         "Enterprise Risk Management Associate / Enterprise Risk Management Executive",
         "The Enterprise Risk Management Associate/Enterprise Risk Management Executive is responsible for supporting the implementation of enterprise risk management (ERM) activities, as well as policy and process maintenance. He/She gathers information, monitors and flags issues within ERM systems. He assists in preparing documents and reports for management review. He monitors adherence to risk policy and guidelines, supporting overall communication and risk reporting mechanisms. He also supports identification of resolution activities after high-risk incidents. The Enterprise Risk Management Associate/Enterprise Risk Management Executive is inquisitive, adaptable, a quick learner and is able to execute work independently. He is highly motivated, takes initiative and able to deliver outcomes as required. He is also analytical, and process and task-oriented in carrying out required procedures. He possesses strong time management, interpersonal and communication skills. The Enterprise Risk Management Associate/Enterprise Risk Management Executive would typically have had prior exposure to other accounting and advisory functions, and is expected to embark on a steep learning curve to acquire ERM skills and expertise. He has basic knowledge of organisations' business model and culture.",
         null,
         "Job opening for an Enterprise Risk Management Associate or Executive focused on ERM activities, policy maintenance, and report preparation, requiring strong analytical skills, adaptability, and effective communication abilities.",
         "Seeking a candidate for a role involving customer service, sales strategies, and inventory management, emphasizing teamwork, creativity, and experience in retail environments.",
         "{'raw_input_easy_triplets': array([{'content': 'Your task is to generate a positive and a negative sentence given an anchor sentence. Take into account the context given. The positive sentence has to paraphrase the anchor sentence, while the negative sentence can use similar words but must not be related to the anchor sentence. You must output only two new sections: `## Positive` and `## Negative`.', 'role': 'system'},\n       {'content': \"## Context\\n\\n\\nThe text is a job description from the Singapore SkillsFuture Skills Framework.\\n\\nYour task is to generate realistic search queries that users would input when looking for similar job roles.\\n\\nUsers typically search by:\\n- Inputting partial job descriptions or requirements they're looking for\\n- Describing skills, responsibilities, or qualifications they want to match\\n- Using job titles or role descriptions as search terms\\n- Mentioning specific domains, industries, or technical requirements\\n\\nThe generated query should represent how someone would search for or describe a job opening similar to the given job description. \\nThe generated query should be in English. The generated query should not be a question.\\nThe generated query should contain about the same amount of words as the original job description.\\n\\nRespond in this exact format using ## before the positive and negative queries:\\n\\n## Positive\\n your positive query here\\n## Negative\\n your negative description here\\n\\n\\n## Anchor\\n\\nThe Enterprise Risk Management Associate/Enterprise Risk Management Executive is responsible for supporting the implementation of enterprise risk management (ERM) activities, as well as policy and process maintenance. He/She gathers information, monitors and flags issues within ERM systems. He assists in preparing documents and reports for management review. He monitors adherence to risk policy and guidelines, supporting overall communication and risk reporting mechanisms. He also supports identification of resolution activities after high-risk incidents. The Enterprise Risk Management Associate/Enterprise Risk Management Executive is inquisitive, adaptable, a quick learner and is able to execute work independently. He is highly motivated, takes initiative and able to deliver outcomes as required. He is also analytical, and process and task-oriented in carrying out required procedures. He possesses strong time management, interpersonal and communication skills. The Enterprise Risk Management Associate/Enterprise Risk Management Executive would typically have had prior exposure to other accounting and advisory functions, and is expected to embark on a steep learning curve to acquire ERM skills and expertise. He has basic knowledge of organisations' business model and culture.\\n\", 'role': 'user'}],\n      dtype=object), 'raw_output_easy_triplets': '## Positive\\nJob opening for an Enterprise Risk Management Associate or Executive focused on ERM activities, policy maintenance, and report preparation, requiring strong analytical skills, adaptability, and effective communication abilities.\\n\\n## Negative\\nSeeking a candidate for a role involving customer service, sales strategies, and inventory management, emphasizing teamwork, creativity, and experience in retail environments.', 'statistics_easy_triplets': {'input_tokens': 470, 'output_tokens': 69}}",
         "gpt-4o-mini"
        ]
       ],
       "shape": {
        "columns": 9,
        "rows": 10
       }
      },
      "text/html": [
       "<div>\n",
       "<style scoped>\n",
       "    .dataframe tbody tr th:only-of-type {\n",
       "        vertical-align: middle;\n",
       "    }\n",
       "\n",
       "    .dataframe tbody tr th {\n",
       "        vertical-align: top;\n",
       "    }\n",
       "\n",
       "    .dataframe thead th {\n",
       "        text-align: right;\n",
       "    }\n",
       "</style>\n",
       "<table border=\"1\" class=\"dataframe\">\n",
       "  <thead>\n",
       "    <tr style=\"text-align: right;\">\n",
       "      <th></th>\n",
       "      <th>Sector</th>\n",
       "      <th>Track</th>\n",
       "      <th>Job Role</th>\n",
       "      <th>anchor</th>\n",
       "      <th>Performance Expectation</th>\n",
       "      <th>positive</th>\n",
       "      <th>negative</th>\n",
       "      <th>distilabel_metadata</th>\n",
       "      <th>model_name</th>\n",
       "    </tr>\n",
       "  </thead>\n",
       "  <tbody>\n",
       "    <tr>\n",
       "      <th>0</th>\n",
       "      <td>Accountancy</td>\n",
       "      <td>Assurance</td>\n",
       "      <td>Audit Associate / Audit Assistant Associate</td>\n",
       "      <td>The Audit Associate/Audit Assistant Associate ...</td>\n",
       "      <td>In accordance with: Singapore Standards on Aud...</td>\n",
       "      <td>Job opening for an Audit Associate or Audit As...</td>\n",
       "      <td>Seeking a position involving independent proje...</td>\n",
       "      <td>{'raw_input_easy_triplets': [{'content': 'Your...</td>\n",
       "      <td>gpt-4o-mini</td>\n",
       "    </tr>\n",
       "    <tr>\n",
       "      <th>1</th>\n",
       "      <td>Accountancy</td>\n",
       "      <td>Assurance</td>\n",
       "      <td>Audit Manager</td>\n",
       "      <td>The Audit Senior Manager/Audit Manager manages...</td>\n",
       "      <td>In accordance with: Singapore Standards on Aud...</td>\n",
       "      <td>Search for Audit Senior Manager or Audit Manag...</td>\n",
       "      <td>Looking for entry-level positions in marketing...</td>\n",
       "      <td>{'raw_input_easy_triplets': [{'content': 'Your...</td>\n",
       "      <td>gpt-4o-mini</td>\n",
       "    </tr>\n",
       "    <tr>\n",
       "      <th>2</th>\n",
       "      <td>Accountancy</td>\n",
       "      <td>Assurance</td>\n",
       "      <td>Audit Partner / Audit Director</td>\n",
       "      <td>The Audit Partner/Audit Director is a transfor...</td>\n",
       "      <td>In accordance with: Singapore Standards on Aud...</td>\n",
       "      <td>Looking for an Audit Partner or Director to le...</td>\n",
       "      <td>Seeking a financial analyst to manage daily tr...</td>\n",
       "      <td>{'raw_input_easy_triplets': [{'content': 'Your...</td>\n",
       "      <td>gpt-4o-mini</td>\n",
       "    </tr>\n",
       "    <tr>\n",
       "      <th>3</th>\n",
       "      <td>Accountancy</td>\n",
       "      <td>Assurance</td>\n",
       "      <td>Audit Senior</td>\n",
       "      <td>The Audit Senior is expected to team lead vari...</td>\n",
       "      <td>In accordance with: Singapore Standards on Aud...</td>\n",
       "      <td>Audit Senior role leading audit engagements, m...</td>\n",
       "      <td>Seeking a project manager to oversee construct...</td>\n",
       "      <td>{'raw_input_easy_triplets': [{'content': 'Your...</td>\n",
       "      <td>gpt-4o-mini</td>\n",
       "    </tr>\n",
       "    <tr>\n",
       "      <th>4</th>\n",
       "      <td>Accountancy</td>\n",
       "      <td>Business Valuation</td>\n",
       "      <td>Business Valuation Associate / Business Valuat...</td>\n",
       "      <td>The Business Valuation Associate/Business Valu...</td>\n",
       "      <td>In accordance with the International Valuation...</td>\n",
       "      <td>Business Valuation Analyst role requiring hand...</td>\n",
       "      <td>Entry-level position in a completely different...</td>\n",
       "      <td>{'raw_input_easy_triplets': [{'content': 'Your...</td>\n",
       "      <td>gpt-4o-mini</td>\n",
       "    </tr>\n",
       "    <tr>\n",
       "      <th>5</th>\n",
       "      <td>Accountancy</td>\n",
       "      <td>Business Valuation</td>\n",
       "      <td>Business Valuation Manager</td>\n",
       "      <td>The Business Valuation Manager is second in ch...</td>\n",
       "      <td>In accordance with the International Valuation...</td>\n",
       "      <td>Business Valuation Manager overseeing valuatio...</td>\n",
       "      <td>Financial Analyst responsible for data analysi...</td>\n",
       "      <td>{'raw_input_easy_triplets': [{'content': 'Your...</td>\n",
       "      <td>gpt-4o-mini</td>\n",
       "    </tr>\n",
       "    <tr>\n",
       "      <th>6</th>\n",
       "      <td>Accountancy</td>\n",
       "      <td>Business Valuation</td>\n",
       "      <td>Business Valuation Partner / Business Valuatio...</td>\n",
       "      <td>The Business Valuation Partner/Business Valuat...</td>\n",
       "      <td>In accordance with the International Valuation...</td>\n",
       "      <td>Job opening for a Business Valuation Director ...</td>\n",
       "      <td>Seeking a project manager with experience in s...</td>\n",
       "      <td>{'raw_input_easy_triplets': [{'content': 'Your...</td>\n",
       "      <td>gpt-4o-mini</td>\n",
       "    </tr>\n",
       "    <tr>\n",
       "      <th>7</th>\n",
       "      <td>Accountancy</td>\n",
       "      <td>Business Valuation</td>\n",
       "      <td>Business Valuation Senior / Business Valuation...</td>\n",
       "      <td>The Business Valuation Senior/Business Valuati...</td>\n",
       "      <td>In accordance with the International Valuation...</td>\n",
       "      <td>Senior Business Valuation Executive responsibl...</td>\n",
       "      <td>Entry-level position focused on administrative...</td>\n",
       "      <td>{'raw_input_easy_triplets': [{'content': 'Your...</td>\n",
       "      <td>gpt-4o-mini</td>\n",
       "    </tr>\n",
       "    <tr>\n",
       "      <th>8</th>\n",
       "      <td>Accountancy</td>\n",
       "      <td>Enterprise Risk Management</td>\n",
       "      <td>Chief Risk Officer / Risk Partner / Head of Ri...</td>\n",
       "      <td>The Chief Risk Officer/Risk Partner/Head of Ri...</td>\n",
       "      <td>None</td>\n",
       "      <td>Job opening for a Chief Risk Officer responsib...</td>\n",
       "      <td>Seeking a candidate for a role focused on enha...</td>\n",
       "      <td>{'raw_input_easy_triplets': [{'content': 'Your...</td>\n",
       "      <td>gpt-4o-mini</td>\n",
       "    </tr>\n",
       "    <tr>\n",
       "      <th>9</th>\n",
       "      <td>Accountancy</td>\n",
       "      <td>Enterprise Risk Management</td>\n",
       "      <td>Enterprise Risk Management Associate / Enterpr...</td>\n",
       "      <td>The Enterprise Risk Management Associate/Enter...</td>\n",
       "      <td>None</td>\n",
       "      <td>Job opening for an Enterprise Risk Management ...</td>\n",
       "      <td>Seeking a candidate for a role involving custo...</td>\n",
       "      <td>{'raw_input_easy_triplets': [{'content': 'Your...</td>\n",
       "      <td>gpt-4o-mini</td>\n",
       "    </tr>\n",
       "  </tbody>\n",
       "</table>\n",
       "</div>"
      ],
      "text/plain": [
       "        Sector                       Track  \\\n",
       "0  Accountancy                   Assurance   \n",
       "1  Accountancy                   Assurance   \n",
       "2  Accountancy                   Assurance   \n",
       "3  Accountancy                   Assurance   \n",
       "4  Accountancy          Business Valuation   \n",
       "5  Accountancy          Business Valuation   \n",
       "6  Accountancy          Business Valuation   \n",
       "7  Accountancy          Business Valuation   \n",
       "8  Accountancy  Enterprise Risk Management   \n",
       "9  Accountancy  Enterprise Risk Management   \n",
       "\n",
       "                                            Job Role  \\\n",
       "0        Audit Associate / Audit Assistant Associate   \n",
       "1                                      Audit Manager   \n",
       "2                     Audit Partner / Audit Director   \n",
       "3                                       Audit Senior   \n",
       "4  Business Valuation Associate / Business Valuat...   \n",
       "5                         Business Valuation Manager   \n",
       "6  Business Valuation Partner / Business Valuatio...   \n",
       "7  Business Valuation Senior / Business Valuation...   \n",
       "8  Chief Risk Officer / Risk Partner / Head of Ri...   \n",
       "9  Enterprise Risk Management Associate / Enterpr...   \n",
       "\n",
       "                                              anchor  \\\n",
       "0  The Audit Associate/Audit Assistant Associate ...   \n",
       "1  The Audit Senior Manager/Audit Manager manages...   \n",
       "2  The Audit Partner/Audit Director is a transfor...   \n",
       "3  The Audit Senior is expected to team lead vari...   \n",
       "4  The Business Valuation Associate/Business Valu...   \n",
       "5  The Business Valuation Manager is second in ch...   \n",
       "6  The Business Valuation Partner/Business Valuat...   \n",
       "7  The Business Valuation Senior/Business Valuati...   \n",
       "8  The Chief Risk Officer/Risk Partner/Head of Ri...   \n",
       "9  The Enterprise Risk Management Associate/Enter...   \n",
       "\n",
       "                             Performance Expectation  \\\n",
       "0  In accordance with: Singapore Standards on Aud...   \n",
       "1  In accordance with: Singapore Standards on Aud...   \n",
       "2  In accordance with: Singapore Standards on Aud...   \n",
       "3  In accordance with: Singapore Standards on Aud...   \n",
       "4  In accordance with the International Valuation...   \n",
       "5  In accordance with the International Valuation...   \n",
       "6  In accordance with the International Valuation...   \n",
       "7  In accordance with the International Valuation...   \n",
       "8                                               None   \n",
       "9                                               None   \n",
       "\n",
       "                                            positive  \\\n",
       "0  Job opening for an Audit Associate or Audit As...   \n",
       "1  Search for Audit Senior Manager or Audit Manag...   \n",
       "2  Looking for an Audit Partner or Director to le...   \n",
       "3  Audit Senior role leading audit engagements, m...   \n",
       "4  Business Valuation Analyst role requiring hand...   \n",
       "5  Business Valuation Manager overseeing valuatio...   \n",
       "6  Job opening for a Business Valuation Director ...   \n",
       "7  Senior Business Valuation Executive responsibl...   \n",
       "8  Job opening for a Chief Risk Officer responsib...   \n",
       "9  Job opening for an Enterprise Risk Management ...   \n",
       "\n",
       "                                            negative  \\\n",
       "0  Seeking a position involving independent proje...   \n",
       "1  Looking for entry-level positions in marketing...   \n",
       "2  Seeking a financial analyst to manage daily tr...   \n",
       "3  Seeking a project manager to oversee construct...   \n",
       "4  Entry-level position in a completely different...   \n",
       "5  Financial Analyst responsible for data analysi...   \n",
       "6  Seeking a project manager with experience in s...   \n",
       "7  Entry-level position focused on administrative...   \n",
       "8  Seeking a candidate for a role focused on enha...   \n",
       "9  Seeking a candidate for a role involving custo...   \n",
       "\n",
       "                                 distilabel_metadata   model_name  \n",
       "0  {'raw_input_easy_triplets': [{'content': 'Your...  gpt-4o-mini  \n",
       "1  {'raw_input_easy_triplets': [{'content': 'Your...  gpt-4o-mini  \n",
       "2  {'raw_input_easy_triplets': [{'content': 'Your...  gpt-4o-mini  \n",
       "3  {'raw_input_easy_triplets': [{'content': 'Your...  gpt-4o-mini  \n",
       "4  {'raw_input_easy_triplets': [{'content': 'Your...  gpt-4o-mini  \n",
       "5  {'raw_input_easy_triplets': [{'content': 'Your...  gpt-4o-mini  \n",
       "6  {'raw_input_easy_triplets': [{'content': 'Your...  gpt-4o-mini  \n",
       "7  {'raw_input_easy_triplets': [{'content': 'Your...  gpt-4o-mini  \n",
       "8  {'raw_input_easy_triplets': [{'content': 'Your...  gpt-4o-mini  \n",
       "9  {'raw_input_easy_triplets': [{'content': 'Your...  gpt-4o-mini  "
      ]
     },
     "execution_count": 11,
     "metadata": {},
     "output_type": "execute_result"
    }
   ],
   "source": [
    "distiset[\"default\"][\"train\"].to_pandas()"
   ]
  },
  {
   "cell_type": "code",
   "execution_count": 12,
   "id": "110757f6",
   "metadata": {},
   "outputs": [
    {
     "data": {
      "application/vnd.jupyter.widget-view+json": {
       "model_id": "b158a83a98ca42c98f27f1482e4524b0",
       "version_major": 2,
       "version_minor": 0
      },
      "text/plain": [
       "Uploading the dataset shards:   0%|          | 0/1 [00:00<?, ? shards/s]"
      ]
     },
     "metadata": {},
     "output_type": "display_data"
    },
    {
     "data": {
      "application/vnd.jupyter.widget-view+json": {
       "model_id": "61bb01e95d314c21baed53141ae5a4a7",
       "version_major": 2,
       "version_minor": 0
      },
      "text/plain": [
       "Creating parquet from Arrow format:   0%|          | 0/1 [00:00<?, ?ba/s]"
      ]
     },
     "metadata": {},
     "output_type": "display_data"
    },
    {
     "data": {
      "application/vnd.jupyter.widget-view+json": {
       "model_id": "419b266d0bcc4cc4aa8c14a5cc66225b",
       "version_major": 2,
       "version_minor": 0
      },
      "text/plain": [
       "Processing Files (0 / 0)                : |          |  0.00B /  0.00B            "
      ]
     },
     "metadata": {},
     "output_type": "display_data"
    },
    {
     "data": {
      "application/vnd.jupyter.widget-view+json": {
       "model_id": "5c3d5f626ff94d2eb62ccca8d5dd5a63",
       "version_major": 2,
       "version_minor": 0
      },
      "text/plain": [
       "New Data Upload                         : |          |  0.00B /  0.00B            "
      ]
     },
     "metadata": {},
     "output_type": "display_data"
    },
    {
     "data": {
      "application/vnd.jupyter.widget-view+json": {
       "model_id": "3d82367cc20b4900b4f7758e2d60d4e7",
       "version_major": 2,
       "version_minor": 0
      },
      "text/plain": [
       "                                        : 100%|##########| 33.8kB / 33.8kB            "
      ]
     },
     "metadata": {},
     "output_type": "display_data"
    },
    {
     "data": {
      "application/vnd.jupyter.widget-view+json": {
       "model_id": "983b2f8b7ff14ef69aeae0c530b112a7",
       "version_major": 2,
       "version_minor": 0
      },
      "text/plain": [
       "README.md:   0%|          | 0.00/919 [00:00<?, ?B/s]"
      ]
     },
     "metadata": {},
     "output_type": "display_data"
    },
    {
     "name": "stderr",
     "output_type": "stream",
     "text": [
      "No files have been modified since last commit. Skipping to prevent empty commit.\n",
      "--- Logging error ---\n",
      "Traceback (most recent call last):\n",
      "  File \"/home/dnth/.local/share/uv/python/cpython-3.12.8-linux-x86_64-gnu/lib/python3.12/logging/handlers.py\", line 1496, in emit\n",
      "    self.enqueue(self.prepare(record))\n",
      "  File \"/home/dnth/.local/share/uv/python/cpython-3.12.8-linux-x86_64-gnu/lib/python3.12/logging/handlers.py\", line 1454, in enqueue\n",
      "    self.queue.put_nowait(record)\n",
      "  File \"/home/dnth/.local/share/uv/python/cpython-3.12.8-linux-x86_64-gnu/lib/python3.12/multiprocessing/queues.py\", line 138, in put_nowait\n",
      "    return self.put(obj, False)\n",
      "           ^^^^^^^^^^^^^^^^^^^^\n",
      "  File \"/home/dnth/.local/share/uv/python/cpython-3.12.8-linux-x86_64-gnu/lib/python3.12/multiprocessing/queues.py\", line 88, in put\n",
      "    raise ValueError(f\"Queue {self!r} is closed\")\n",
      "ValueError: Queue <multiprocessing.queues.Queue object at 0x79a1ff90bc80> is closed\n",
      "Call stack:\n",
      "  File \"<frozen runpy>\", line 198, in _run_module_as_main\n",
      "  File \"<frozen runpy>\", line 88, in _run_code\n",
      "  File \"/home/dnth/Desktop/rag-datakit/.venv/lib/python3.12/site-packages/ipykernel_launcher.py\", line 18, in <module>\n",
      "    app.launch_new_instance()\n",
      "  File \"/home/dnth/Desktop/rag-datakit/.venv/lib/python3.12/site-packages/traitlets/config/application.py\", line 1075, in launch_instance\n",
      "    app.start()\n",
      "  File \"/home/dnth/Desktop/rag-datakit/.venv/lib/python3.12/site-packages/ipykernel/kernelapp.py\", line 739, in start\n",
      "    self.io_loop.start()\n",
      "  File \"/home/dnth/Desktop/rag-datakit/.venv/lib/python3.12/site-packages/tornado/platform/asyncio.py\", line 211, in start\n",
      "    self.asyncio_loop.run_forever()\n",
      "  File \"/home/dnth/.local/share/uv/python/cpython-3.12.8-linux-x86_64-gnu/lib/python3.12/asyncio/base_events.py\", line 640, in run_forever\n",
      "    self._run_once()\n",
      "  File \"/home/dnth/Desktop/rag-datakit/.venv/lib/python3.12/site-packages/nest_asyncio.py\", line 133, in _run_once\n",
      "    handle._run()\n",
      "  File \"/home/dnth/.local/share/uv/python/cpython-3.12.8-linux-x86_64-gnu/lib/python3.12/asyncio/events.py\", line 88, in _run\n",
      "    self._context.run(self._callback, *self._args)\n",
      "  File \"/home/dnth/Desktop/rag-datakit/.venv/lib/python3.12/site-packages/ipykernel/kernelbase.py\", line 519, in dispatch_queue\n",
      "    await self.process_one()\n",
      "  File \"/home/dnth/Desktop/rag-datakit/.venv/lib/python3.12/site-packages/ipykernel/kernelbase.py\", line 508, in process_one\n",
      "    await dispatch(*args)\n",
      "  File \"/home/dnth/Desktop/rag-datakit/.venv/lib/python3.12/site-packages/ipykernel/kernelbase.py\", line 400, in dispatch_shell\n",
      "    await result\n",
      "  File \"/home/dnth/Desktop/rag-datakit/.venv/lib/python3.12/site-packages/ipykernel/ipkernel.py\", line 368, in execute_request\n",
      "    await super().execute_request(stream, ident, parent)\n",
      "  File \"/home/dnth/Desktop/rag-datakit/.venv/lib/python3.12/site-packages/ipykernel/kernelbase.py\", line 767, in execute_request\n",
      "    reply_content = await reply_content\n",
      "  File \"/home/dnth/Desktop/rag-datakit/.venv/lib/python3.12/site-packages/ipykernel/ipkernel.py\", line 455, in do_execute\n",
      "    res = shell.run_cell(\n",
      "  File \"/home/dnth/Desktop/rag-datakit/.venv/lib/python3.12/site-packages/ipykernel/zmqshell.py\", line 577, in run_cell\n",
      "    return super().run_cell(*args, **kwargs)\n",
      "  File \"/home/dnth/Desktop/rag-datakit/.venv/lib/python3.12/site-packages/IPython/core/interactiveshell.py\", line 3116, in run_cell\n",
      "    result = self._run_cell(\n",
      "  File \"/home/dnth/Desktop/rag-datakit/.venv/lib/python3.12/site-packages/IPython/core/interactiveshell.py\", line 3171, in _run_cell\n",
      "    result = runner(coro)\n",
      "  File \"/home/dnth/Desktop/rag-datakit/.venv/lib/python3.12/site-packages/IPython/core/async_helpers.py\", line 128, in _pseudo_sync_runner\n",
      "    coro.send(None)\n",
      "  File \"/home/dnth/Desktop/rag-datakit/.venv/lib/python3.12/site-packages/IPython/core/interactiveshell.py\", line 3394, in run_cell_async\n",
      "    has_raised = await self.run_ast_nodes(code_ast.body, cell_name,\n",
      "  File \"/home/dnth/Desktop/rag-datakit/.venv/lib/python3.12/site-packages/IPython/core/interactiveshell.py\", line 3639, in run_ast_nodes\n",
      "    if await self.run_code(code, result, async_=asy):\n",
      "  File \"/home/dnth/Desktop/rag-datakit/.venv/lib/python3.12/site-packages/IPython/core/interactiveshell.py\", line 3699, in run_code\n",
      "    exec(code_obj, self.user_global_ns, self.user_ns)\n",
      "  File \"/tmp/ipykernel_189821/165846656.py\", line 1, in <module>\n",
      "    distiset.push_to_hub(repo_id=\"dnth/ssf-dataset-synthetic\", revision=\"main\")\n",
      "  File \"/home/dnth/Desktop/rag-datakit/.venv/lib/python3.12/site-packages/distilabel/distiset.py\", line 141, in push_to_hub\n",
      "    dataset.push_to_hub(\n",
      "  File \"/home/dnth/Desktop/rag-datakit/.venv/lib/python3.12/site-packages/datasets/dataset_dict.py\", line 1886, in push_to_hub\n",
      "    commit_info = api.create_commit(\n",
      "  File \"/home/dnth/Desktop/rag-datakit/.venv/lib/python3.12/site-packages/huggingface_hub/utils/_validators.py\", line 114, in _inner_fn\n",
      "    return fn(*args, **kwargs)\n",
      "  File \"/home/dnth/Desktop/rag-datakit/.venv/lib/python3.12/site-packages/huggingface_hub/hf_api.py\", line 1669, in _inner\n",
      "    return fn(self, *args, **kwargs)\n",
      "  File \"/home/dnth/Desktop/rag-datakit/.venv/lib/python3.12/site-packages/huggingface_hub/hf_api.py\", line 4287, in create_commit\n",
      "    logger.warning(\"No files have been modified since last commit. Skipping to prevent empty commit.\")\n",
      "Message: 'No files have been modified since last commit. Skipping to prevent empty commit.'\n",
      "Arguments: ()\n"
     ]
    }
   ],
   "source": [
    "distiset.push_to_hub(repo_id=\"dnth/ssf-dataset-synthetic\", revision=\"main\")"
   ]
  },
  {
   "cell_type": "code",
   "execution_count": null,
   "id": "c11777bb",
   "metadata": {},
   "outputs": [],
   "source": []
  }
 ],
 "metadata": {
  "kernelspec": {
   "display_name": "rag-datakit",
   "language": "python",
   "name": "python3"
  },
  "language_info": {
   "codemirror_mode": {
    "name": "ipython",
    "version": 3
   },
   "file_extension": ".py",
   "mimetype": "text/x-python",
   "name": "python",
   "nbconvert_exporter": "python",
   "pygments_lexer": "ipython3",
   "version": "3.12.8"
  }
 },
 "nbformat": 4,
 "nbformat_minor": 5
}
