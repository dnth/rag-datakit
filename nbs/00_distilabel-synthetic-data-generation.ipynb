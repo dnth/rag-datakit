{
 "cells": [
  {
   "cell_type": "markdown",
   "id": "b4df4e0b",
   "metadata": {},
   "source": [
    "# Synthetic Data Generation for Embedding Training with Distilabel\n",
    "\n",
    "This notebook demonstrates how to use `distilabel` to generate synthetic training data for customized embedding models. We'll work with job descriptions from Singapore's SkillsFuture Framework to create positive and negative query pairs that can be used to train embedding models for better job matching and semantic search capabilities.\n",
    "\n",
    "## What you'll learn:\n",
    "- How to load and prepare datasets for synthetic data generation\n",
    "- Creating positive and negative query pairs using LLMs\n",
    "- Building distilabel pipelines for automated data generation\n",
    "- Publishing synthetic datasets to Hugging Face Hub\n",
    "\n",
    "## Prerequisites\n",
    "Make sure you have the required packages installed. The main dependency is the `rag-datakit` package which includes distilabel and other necessary components."
   ]
  },
  {
   "cell_type": "code",
   "execution_count": 1,
   "id": "56646eed",
   "metadata": {},
   "outputs": [],
   "source": [
    "# !pip install git+https://github.com/dnth/rag-datakit.git"
   ]
  },
  {
   "cell_type": "markdown",
   "id": "g7wlpllxmp",
   "metadata": {},
   "source": [
    "## Installation\n",
    "\n",
    "Install the rag-datakit package which includes all necessary dependencies including distilabel, transformers, and dataset utilities. Uncomment the cell below to install if you haven't already."
   ]
  },
  {
   "cell_type": "markdown",
   "id": "4cbd0d3c",
   "metadata": {},
   "source": [
    "## Dataset Loading and Inspection\n",
    "\n",
    "We'll work with the Singapore Skills Framework (SSF) dataset, which contains job roles and descriptions across various sectors. This dataset is ideal for training embedding models for job matching applications.\n",
    "\n",
    "**Dataset source:** [Skills Frameworks Singapore](https://jobsandskills.skillsfuture.gov.sg/frameworks/skills-frameworks)  \n",
    "**Hugging Face repo:** `dnth/ssf-dataset`\n",
    "\n",
    "The dataset contains structured information about:\n",
    "- **Sector**: Industry sector (e.g., Accountancy, Technology)\n",
    "- **Track**: Specialization within the sector (e.g., Assurance, Business Valuation)\n",
    "- **Job Role**: Specific job title\n",
    "- **Job Role Description**: Detailed description of responsibilities and requirements\n",
    "- **Performance Expectation**: Standards and compliance requirements\n",
    "\n",
    "Let's load and examine the dataset structure:"
   ]
  },
  {
   "cell_type": "code",
   "execution_count": 2,
   "id": "32d8f8c6",
   "metadata": {},
   "outputs": [],
   "source": [
    "from datasets import load_dataset\n",
    "\n",
    "dataset = load_dataset(\"dnth/ssf-dataset\")"
   ]
  },
  {
   "cell_type": "code",
   "execution_count": 3,
   "id": "0f157224",
   "metadata": {},
   "outputs": [
    {
     "data": {
      "text/plain": [
       "DatasetDict({\n",
       "    train: Dataset({\n",
       "        features: ['Sector', 'Track', 'Job Role', 'Job Role Description', 'Performance Expectation'],\n",
       "        num_rows: 1885\n",
       "    })\n",
       "})"
      ]
     },
     "execution_count": 3,
     "metadata": {},
     "output_type": "execute_result"
    }
   ],
   "source": [
    "dataset"
   ]
  },
  {
   "cell_type": "code",
   "execution_count": 4,
   "id": "9823e0d0",
   "metadata": {},
   "outputs": [
    {
     "data": {
      "text/plain": [
       "{'Sector': 'Accountancy',\n",
       " 'Track': 'Assurance',\n",
       " 'Job Role': 'Audit Associate / Audit Assistant Associate',\n",
       " 'Job Role Description': 'The Audit Associate/Audit Assistant Associate undertakes specific stages of audit work under supervision. He/She begins to appreciate the underlying principles behind the tasks assigned to him as part of the audit plan. He is also able to make adjustments to the application of skills to improve the work tasks or solve non-complex issues. The Audit Associate/Audit Assistant Associate operates in a structured work environment. He is able to build relationships, work in a team and identify ethical issues with reference to the code of professional conduct and ethics. He is able to select and apply from a range of known solutions to familiar problems and takes responsibility for his own learning and performance. He is a trustworthy and meticulous individual.',\n",
       " 'Performance Expectation': 'In accordance with: Singapore Standards on Auditing, Ethics Pronouncements in Singapore, Singapore Companies Act, and Singapore Financial Reporting Standards'}"
      ]
     },
     "execution_count": 4,
     "metadata": {},
     "output_type": "execute_result"
    }
   ],
   "source": [
    "dataset['train'][0]"
   ]
  },
  {
   "cell_type": "markdown",
   "id": "f64e5c4b",
   "metadata": {},
   "source": [
    "## Synthetic Data Generation Setup\n",
    "\n",
    "To train effective embedding models, we need to create training triplets consisting of:\n",
    "- **Anchor**: The original job role description\n",
    "- **Positive**: A paraphrased or similar job description (semantically similar)\n",
    "- **Negative**: A different job description (semantically dissimilar)\n",
    "\n",
    "We'll use a Large Language Model (LLM) to generate these positive and negative examples automatically. This approach allows us to:\n",
    "1. Create diverse paraphrases of job descriptions\n",
    "2. Generate realistic negative examples from different roles/industries\n",
    "3. Scale up our training data efficiently\n",
    "\n",
    "### LLM Configuration\n",
    "We support both local models (via Transformers) and API-based models (like OpenAI). For this example, we'll use a local Qwen model, but you can switch to OpenAI by uncommenting the appropriate section.\n",
    "\n",
    "**For OpenAI API**: Make sure you have your API key in a `.env` file:\n",
    "```\n",
    "OPENAI_API_KEY=sk-proj-...\n",
    "```"
   ]
  },
  {
   "cell_type": "code",
   "execution_count": 5,
   "id": "c05c3b7c",
   "metadata": {},
   "outputs": [
    {
     "name": "stderr",
     "output_type": "stream",
     "text": [
      "/tmp/ipykernel_256229/4154567482.py:2: DeprecationWarning: Importing from 'distilabel.llms' is deprecated and will be removed in a version 1.7.0. Import from 'distilabel.models' instead.\n",
      "  from distilabel.llms import OpenAILLM, TransformersLLM\n"
     ]
    }
   ],
   "source": [
    "import os\n",
    "from distilabel.llms import OpenAILLM, TransformersLLM\n",
    "\n",
    "llm = TransformersLLM(\n",
    "    model=\"Qwen/Qwen3-4B-Instruct-2507\",\n",
    "    device_map=\"auto\",\n",
    "    torch_dtype=\"float16\",\n",
    ")\n",
    "\n",
    "# llm = OpenAILLM(\n",
    "#     model=\"gpt-4o-mini\",\n",
    "#     api_key=os.getenv(\"OPENAI_API_KEY\"),\n",
    "# )\n",
    "\n"
   ]
  },
  {
   "cell_type": "code",
   "execution_count": null,
   "id": "dd5cb418",
   "metadata": {},
   "outputs": [],
   "source": [
    "context = \"\"\"\n",
    "The text is a job description from the Singapore SkillsFuture Framework. Your task is to generate realistic job descriptions from the provided description.\n",
    "\n",
    "For the positive query, generate a realistic description for this role. Focus on creating variations that capture the essence of the role in different words, as if written by different people or organizations posting similar jobs.\n",
    "\n",
    "For negative descriptions you are allowed to choose from the following strategies\n",
    "\n",
    "1. Same industry, different seniority level (Senior → Junior or Vice versa)\n",
    "2. Same industry, different function (Business Valuation → Risk Management)\n",
    "3. Similar skills, different domain (Financial Analysis in Banking vs Healthcare)\n",
    "4. Same title, different industry context\n",
    "\n",
    "The query should always include the job role. Start the description with The <job role>.\n",
    "\n",
    "\"\"\"\n",
    "\n",
    "from distilabel.pipeline import Pipeline\n",
    "from distilabel.steps import LoadDataFromHub\n",
    "from distilabel.steps.tasks import GenerateSentencePair\n",
    "\n",
    "with Pipeline(name=\"generate\") as pipeline:\n",
    "    load_dataset = LoadDataFromHub(\n",
    "        num_examples=10,  # Limit to 10 examples for demo - increase for production datasets\n",
    "        use_cache=False,  # Disable caching to ensure fresh data generation each run\n",
    "        output_mappings={\"Job Role Description\": \"anchor\"},  # Map original column to 'anchor' for triplet generation\n",
    "    )\n",
    "    generate_retrieval_pairs_easy = GenerateSentencePair(\n",
    "        name=\"easy_triplets\",\n",
    "        triplet=True,  # Generate anchor-positive-negative triplets for embedding training\n",
    "        hard_negative=False,  # Use easier negatives rather than hard negatives\n",
    "        action=\"paraphrase\",  # Focus on paraphrasing for positive examples\n",
    "        llm=llm,  # Use the LLM configured above (local Qwen or OpenAI)\n",
    "        input_batch_size=10,  # Process 10 examples at once for efficiency\n",
    "        context=context,  # Provide the context instructions for generation quality\n",
    "    )\n",
    "\n",
    "    load_dataset.connect(generate_retrieval_pairs_easy)"
   ]
  },
  {
   "cell_type": "markdown",
   "id": "qlj1y6g0cok",
   "metadata": {},
   "source": [
    "## Pipeline Configuration\n",
    "\n",
    "Now we'll set up a distilabel pipeline to automatically generate positive and negative examples. The pipeline consists of:\n",
    "\n",
    "1. **LoadDataFromHub**: Loads our SSF dataset from Hugging Face\n",
    "2. **GenerateSentencePair**: Uses the LLM to create positive/negative pairs\n",
    "\n",
    "### Context for LLM Generation\n",
    "We provide specific instructions to the LLM for generating realistic job descriptions:\n",
    "- **Positive examples**: Paraphrases that maintain the essence of the original role\n",
    "- **Negative examples**: Use strategies like different seniority levels, functions, or industries\n",
    "\n",
    "The pipeline is configured to generate triplets (anchor, positive, negative) for embedding training."
   ]
  },
  {
   "cell_type": "code",
   "execution_count": 7,
   "id": "a362d4fc",
   "metadata": {},
   "outputs": [
    {
     "data": {
      "text/html": [
       "<pre style=\"white-space:pre;overflow-x:auto;line-height:normal;font-family:Menlo,'DejaVu Sans Mono',consolas,'Courier New',monospace\"><span style=\"color: #7fbfbf; text-decoration-color: #7fbfbf\">[08/12/25 11:27:46] </span><span style=\"color: #000080; text-decoration-color: #000080\">INFO    </span> <span style=\"font-weight: bold\">[</span><span style=\"color: #008000; text-decoration-color: #008000\">'distilabel.pipeline'</span><span style=\"font-weight: bold\">]</span> 📝 Pipeline data will be written to               <a href=\"file:///home/dnth/Desktop/rag-datakit/.venv/lib/python3.12/site-packages/distilabel/pipeline/base.py\" target=\"_blank\"><span style=\"color: #7f7f7f; text-decoration-color: #7f7f7f\">base.py</span></a><span style=\"color: #7f7f7f; text-decoration-color: #7f7f7f\">:</span><a href=\"file:///home/dnth/Desktop/rag-datakit/.venv/lib/python3.12/site-packages/distilabel/pipeline/base.py#1015\" target=\"_blank\"><span style=\"color: #7f7f7f; text-decoration-color: #7f7f7f\">1015</span></a>\n",
       "<span style=\"color: #7fbfbf; text-decoration-color: #7fbfbf\">                    </span>         <span style=\"color: #008000; text-decoration-color: #008000\">'/home/dnth/.cache/distilabel/pipelines/generate/afe4396c4450cb942bd98d4b</span> <span style=\"color: #7f7f7f; text-decoration-color: #7f7f7f\">            </span>\n",
       "<span style=\"color: #7fbfbf; text-decoration-color: #7fbfbf\">                    </span>         <span style=\"color: #008000; text-decoration-color: #008000\">623c039bb0a5c4d1/executions/c8f463e803bb9ac1024eef020b370021e7da5d08/data</span> <span style=\"color: #7f7f7f; text-decoration-color: #7f7f7f\">            </span>\n",
       "<span style=\"color: #7fbfbf; text-decoration-color: #7fbfbf\">                    </span>         <span style=\"color: #008000; text-decoration-color: #008000\">/steps_outputs'</span>                                                           <span style=\"color: #7f7f7f; text-decoration-color: #7f7f7f\">            </span>\n",
       "</pre>\n"
      ],
      "text/plain": [
       "\u001b[2;36m[08/12/25 11:27:46]\u001b[0m\u001b[2;36m \u001b[0m\u001b[34mINFO    \u001b[0m \u001b[1m[\u001b[0m\u001b[32m'distilabel.pipeline'\u001b[0m\u001b[1m]\u001b[0m 📝 Pipeline data will be written to               \u001b]8;id=588412;file:///home/dnth/Desktop/rag-datakit/.venv/lib/python3.12/site-packages/distilabel/pipeline/base.py\u001b\\\u001b[2mbase.py\u001b[0m\u001b]8;;\u001b\\\u001b[2m:\u001b[0m\u001b]8;id=975729;file:///home/dnth/Desktop/rag-datakit/.venv/lib/python3.12/site-packages/distilabel/pipeline/base.py#1015\u001b\\\u001b[2m1015\u001b[0m\u001b]8;;\u001b\\\n",
       "\u001b[2;36m                    \u001b[0m         \u001b[32m'/home/dnth/.cache/distilabel/pipelines/generate/afe4396c4450cb942bd98d4b\u001b[0m \u001b[2m            \u001b[0m\n",
       "\u001b[2;36m                    \u001b[0m         \u001b[32m623c039bb0a5c4d1/executions/c8f463e803bb9ac1024eef020b370021e7da5d08/data\u001b[0m \u001b[2m            \u001b[0m\n",
       "\u001b[2;36m                    \u001b[0m         \u001b[32m/steps_outputs'\u001b[0m                                                           \u001b[2m            \u001b[0m\n"
      ]
     },
     "metadata": {},
     "output_type": "display_data"
    },
    {
     "data": {
      "text/html": [
       "<pre style=\"white-space:pre;overflow-x:auto;line-height:normal;font-family:Menlo,'DejaVu Sans Mono',consolas,'Courier New',monospace\"><span style=\"color: #7fbfbf; text-decoration-color: #7fbfbf\">                    </span><span style=\"color: #000080; text-decoration-color: #000080\">INFO    </span> <span style=\"font-weight: bold\">[</span><span style=\"color: #008000; text-decoration-color: #008000\">'distilabel.pipeline'</span><span style=\"font-weight: bold\">]</span> ⌛ The steps of the pipeline will be loaded in    <a href=\"file:///home/dnth/Desktop/rag-datakit/.venv/lib/python3.12/site-packages/distilabel/pipeline/base.py\" target=\"_blank\"><span style=\"color: #7f7f7f; text-decoration-color: #7f7f7f\">base.py</span></a><span style=\"color: #7f7f7f; text-decoration-color: #7f7f7f\">:</span><a href=\"file:///home/dnth/Desktop/rag-datakit/.venv/lib/python3.12/site-packages/distilabel/pipeline/base.py#1046\" target=\"_blank\"><span style=\"color: #7f7f7f; text-decoration-color: #7f7f7f\">1046</span></a>\n",
       "<span style=\"color: #7fbfbf; text-decoration-color: #7fbfbf\">                    </span>         stages:                                                                   <span style=\"color: #7f7f7f; text-decoration-color: #7f7f7f\">            </span>\n",
       "<span style=\"color: #7fbfbf; text-decoration-color: #7fbfbf\">                    </span>          * Legend: 🚰 GeneratorStep 🌐 GlobalStep 🔄 Step                         <span style=\"color: #7f7f7f; text-decoration-color: #7f7f7f\">            </span>\n",
       "<span style=\"color: #7fbfbf; text-decoration-color: #7fbfbf\">                    </span>          * Stage <span style=\"color: #008080; text-decoration-color: #008080; font-weight: bold\">0</span>:                                                               <span style=\"color: #7f7f7f; text-decoration-color: #7f7f7f\">            </span>\n",
       "<span style=\"color: #7fbfbf; text-decoration-color: #7fbfbf\">                    </span>            - 🚰 <span style=\"color: #008000; text-decoration-color: #008000\">'load_data_from_hub_0'</span>                                            <span style=\"color: #7f7f7f; text-decoration-color: #7f7f7f\">            </span>\n",
       "<span style=\"color: #7fbfbf; text-decoration-color: #7fbfbf\">                    </span>            - 🔄 <span style=\"color: #008000; text-decoration-color: #008000\">'easy_triplets'</span>                                                   <span style=\"color: #7f7f7f; text-decoration-color: #7f7f7f\">            </span>\n",
       "</pre>\n"
      ],
      "text/plain": [
       "\u001b[2;36m                   \u001b[0m\u001b[2;36m \u001b[0m\u001b[34mINFO    \u001b[0m \u001b[1m[\u001b[0m\u001b[32m'distilabel.pipeline'\u001b[0m\u001b[1m]\u001b[0m ⌛ The steps of the pipeline will be loaded in    \u001b]8;id=990846;file:///home/dnth/Desktop/rag-datakit/.venv/lib/python3.12/site-packages/distilabel/pipeline/base.py\u001b\\\u001b[2mbase.py\u001b[0m\u001b]8;;\u001b\\\u001b[2m:\u001b[0m\u001b]8;id=535950;file:///home/dnth/Desktop/rag-datakit/.venv/lib/python3.12/site-packages/distilabel/pipeline/base.py#1046\u001b\\\u001b[2m1046\u001b[0m\u001b]8;;\u001b\\\n",
       "\u001b[2;36m                    \u001b[0m         stages:                                                                   \u001b[2m            \u001b[0m\n",
       "\u001b[2;36m                    \u001b[0m          * Legend: 🚰 GeneratorStep 🌐 GlobalStep 🔄 Step                         \u001b[2m            \u001b[0m\n",
       "\u001b[2;36m                    \u001b[0m          * Stage \u001b[1;36m0\u001b[0m:                                                               \u001b[2m            \u001b[0m\n",
       "\u001b[2;36m                    \u001b[0m            - 🚰 \u001b[32m'load_data_from_hub_0'\u001b[0m                                            \u001b[2m            \u001b[0m\n",
       "\u001b[2;36m                    \u001b[0m            - 🔄 \u001b[32m'easy_triplets'\u001b[0m                                                   \u001b[2m            \u001b[0m\n"
      ]
     },
     "metadata": {},
     "output_type": "display_data"
    },
    {
     "data": {
      "text/html": [
       "<pre style=\"white-space:pre;overflow-x:auto;line-height:normal;font-family:Menlo,'DejaVu Sans Mono',consolas,'Courier New',monospace\"><span style=\"color: #7fbfbf; text-decoration-color: #7fbfbf\">                    </span><span style=\"color: #000080; text-decoration-color: #000080\">INFO    </span> <span style=\"font-weight: bold\">[</span><span style=\"color: #008000; text-decoration-color: #008000\">'distilabel.pipeline'</span><span style=\"font-weight: bold\">]</span> ⏳ Waiting for all the steps of stage <span style=\"color: #008080; text-decoration-color: #008080; font-weight: bold\">0</span> to        <a href=\"file:///home/dnth/Desktop/rag-datakit/.venv/lib/python3.12/site-packages/distilabel/pipeline/base.py\" target=\"_blank\"><span style=\"color: #7f7f7f; text-decoration-color: #7f7f7f\">base.py</span></a><span style=\"color: #7f7f7f; text-decoration-color: #7f7f7f\">:</span><a href=\"file:///home/dnth/Desktop/rag-datakit/.venv/lib/python3.12/site-packages/distilabel/pipeline/base.py#1382\" target=\"_blank\"><span style=\"color: #7f7f7f; text-decoration-color: #7f7f7f\">1382</span></a>\n",
       "<span style=\"color: #7fbfbf; text-decoration-color: #7fbfbf\">                    </span>         load<span style=\"color: #808000; text-decoration-color: #808000\">...</span>                                                                   <span style=\"color: #7f7f7f; text-decoration-color: #7f7f7f\">            </span>\n",
       "</pre>\n"
      ],
      "text/plain": [
       "\u001b[2;36m                   \u001b[0m\u001b[2;36m \u001b[0m\u001b[34mINFO    \u001b[0m \u001b[1m[\u001b[0m\u001b[32m'distilabel.pipeline'\u001b[0m\u001b[1m]\u001b[0m ⏳ Waiting for all the steps of stage \u001b[1;36m0\u001b[0m to        \u001b]8;id=999792;file:///home/dnth/Desktop/rag-datakit/.venv/lib/python3.12/site-packages/distilabel/pipeline/base.py\u001b\\\u001b[2mbase.py\u001b[0m\u001b]8;;\u001b\\\u001b[2m:\u001b[0m\u001b]8;id=338068;file:///home/dnth/Desktop/rag-datakit/.venv/lib/python3.12/site-packages/distilabel/pipeline/base.py#1382\u001b\\\u001b[2m1382\u001b[0m\u001b]8;;\u001b\\\n",
       "\u001b[2;36m                    \u001b[0m         load\u001b[33m...\u001b[0m                                                                   \u001b[2m            \u001b[0m\n"
      ]
     },
     "metadata": {},
     "output_type": "display_data"
    },
    {
     "data": {
      "text/html": [
       "<pre style=\"white-space:pre;overflow-x:auto;line-height:normal;font-family:Menlo,'DejaVu Sans Mono',consolas,'Courier New',monospace\"><span style=\"color: #7fbfbf; text-decoration-color: #7fbfbf\">[08/12/25 11:27:49] </span><span style=\"color: #000080; text-decoration-color: #000080\">INFO    </span> <span style=\"font-weight: bold\">[</span><span style=\"color: #008000; text-decoration-color: #008000\">'accelerate.utils.modeling'</span><span style=\"font-weight: bold\">]</span> We will use <span style=\"color: #008080; text-decoration-color: #008080; font-weight: bold\">90</span>% of the memory on device <a href=\"file:///home/dnth/Desktop/rag-datakit/.venv/lib/python3.12/site-packages/accelerate/utils/modeling.py\" target=\"_blank\"><span style=\"color: #7f7f7f; text-decoration-color: #7f7f7f\">modeling.py</span></a><span style=\"color: #7f7f7f; text-decoration-color: #7f7f7f\">:</span><a href=\"file:///home/dnth/Desktop/rag-datakit/.venv/lib/python3.12/site-packages/accelerate/utils/modeling.py#1004\" target=\"_blank\"><span style=\"color: #7f7f7f; text-decoration-color: #7f7f7f\">1004</span></a>\n",
       "<span style=\"color: #7fbfbf; text-decoration-color: #7fbfbf\">                    </span>         <span style=\"color: #008080; text-decoration-color: #008080; font-weight: bold\">0</span> for storing the model, and <span style=\"color: #008080; text-decoration-color: #008080; font-weight: bold\">10</span>% for the buffer to avoid OOM. You can <span style=\"color: #7f7f7f; text-decoration-color: #7f7f7f\">                </span>\n",
       "<span style=\"color: #7fbfbf; text-decoration-color: #7fbfbf\">                    </span>         set `max_memory` in to a higher value to use more memory <span style=\"font-weight: bold\">(</span>at your own <span style=\"color: #7f7f7f; text-decoration-color: #7f7f7f\">                </span>\n",
       "<span style=\"color: #7fbfbf; text-decoration-color: #7fbfbf\">                    </span>         risk<span style=\"font-weight: bold\">)</span>.                                                                <span style=\"color: #7f7f7f; text-decoration-color: #7f7f7f\">                </span>\n",
       "</pre>\n"
      ],
      "text/plain": [
       "\u001b[2;36m[08/12/25 11:27:49]\u001b[0m\u001b[2;36m \u001b[0m\u001b[34mINFO    \u001b[0m \u001b[1m[\u001b[0m\u001b[32m'accelerate.utils.modeling'\u001b[0m\u001b[1m]\u001b[0m We will use \u001b[1;36m90\u001b[0m% of the memory on device \u001b]8;id=460907;file:///home/dnth/Desktop/rag-datakit/.venv/lib/python3.12/site-packages/accelerate/utils/modeling.py\u001b\\\u001b[2mmodeling.py\u001b[0m\u001b]8;;\u001b\\\u001b[2m:\u001b[0m\u001b]8;id=483697;file:///home/dnth/Desktop/rag-datakit/.venv/lib/python3.12/site-packages/accelerate/utils/modeling.py#1004\u001b\\\u001b[2m1004\u001b[0m\u001b]8;;\u001b\\\n",
       "\u001b[2;36m                    \u001b[0m         \u001b[1;36m0\u001b[0m for storing the model, and \u001b[1;36m10\u001b[0m% for the buffer to avoid OOM. You can \u001b[2m                \u001b[0m\n",
       "\u001b[2;36m                    \u001b[0m         set `max_memory` in to a higher value to use more memory \u001b[1m(\u001b[0mat your own \u001b[2m                \u001b[0m\n",
       "\u001b[2;36m                    \u001b[0m         risk\u001b[1m)\u001b[0m.                                                                \u001b[2m                \u001b[0m\n"
      ]
     },
     "metadata": {},
     "output_type": "display_data"
    },
    {
     "data": {
      "text/html": [
       "<pre style=\"white-space:pre;overflow-x:auto;line-height:normal;font-family:Menlo,'DejaVu Sans Mono',consolas,'Courier New',monospace\"><span style=\"color: #7fbfbf; text-decoration-color: #7fbfbf\">[08/12/25 11:27:51] </span><span style=\"color: #000080; text-decoration-color: #000080\">INFO    </span> <span style=\"font-weight: bold\">[</span><span style=\"color: #008000; text-decoration-color: #008000\">'distilabel.pipeline'</span><span style=\"font-weight: bold\">]</span> ⏳ Steps from stage <span style=\"color: #008080; text-decoration-color: #008080; font-weight: bold\">0</span> loaded: <span style=\"color: #008080; text-decoration-color: #008080; font-weight: bold\">1</span>/<span style=\"color: #008080; text-decoration-color: #008080; font-weight: bold\">2</span>                 <a href=\"file:///home/dnth/Desktop/rag-datakit/.venv/lib/python3.12/site-packages/distilabel/pipeline/base.py\" target=\"_blank\"><span style=\"color: #7f7f7f; text-decoration-color: #7f7f7f\">base.py</span></a><span style=\"color: #7f7f7f; text-decoration-color: #7f7f7f\">:</span><a href=\"file:///home/dnth/Desktop/rag-datakit/.venv/lib/python3.12/site-packages/distilabel/pipeline/base.py#1418\" target=\"_blank\"><span style=\"color: #7f7f7f; text-decoration-color: #7f7f7f\">1418</span></a>\n",
       "<span style=\"color: #7fbfbf; text-decoration-color: #7fbfbf\">                    </span>          * <span style=\"color: #008000; text-decoration-color: #008000\">'load_data_from_hub_0'</span> replicas: <span style=\"color: #008080; text-decoration-color: #008080; font-weight: bold\">1</span>/<span style=\"color: #008080; text-decoration-color: #008080; font-weight: bold\">1</span>                                   <span style=\"color: #7f7f7f; text-decoration-color: #7f7f7f\">            </span>\n",
       "<span style=\"color: #7fbfbf; text-decoration-color: #7fbfbf\">                    </span>          * <span style=\"color: #008000; text-decoration-color: #008000\">'easy_triplets'</span> replicas: <span style=\"color: #008080; text-decoration-color: #008080; font-weight: bold\">0</span>/<span style=\"color: #008080; text-decoration-color: #008080; font-weight: bold\">1</span>                                          <span style=\"color: #7f7f7f; text-decoration-color: #7f7f7f\">            </span>\n",
       "</pre>\n"
      ],
      "text/plain": [
       "\u001b[2;36m[08/12/25 11:27:51]\u001b[0m\u001b[2;36m \u001b[0m\u001b[34mINFO    \u001b[0m \u001b[1m[\u001b[0m\u001b[32m'distilabel.pipeline'\u001b[0m\u001b[1m]\u001b[0m ⏳ Steps from stage \u001b[1;36m0\u001b[0m loaded: \u001b[1;36m1\u001b[0m/\u001b[1;36m2\u001b[0m                 \u001b]8;id=167317;file:///home/dnth/Desktop/rag-datakit/.venv/lib/python3.12/site-packages/distilabel/pipeline/base.py\u001b\\\u001b[2mbase.py\u001b[0m\u001b]8;;\u001b\\\u001b[2m:\u001b[0m\u001b]8;id=366942;file:///home/dnth/Desktop/rag-datakit/.venv/lib/python3.12/site-packages/distilabel/pipeline/base.py#1418\u001b\\\u001b[2m1418\u001b[0m\u001b]8;;\u001b\\\n",
       "\u001b[2;36m                    \u001b[0m          * \u001b[32m'load_data_from_hub_0'\u001b[0m replicas: \u001b[1;36m1\u001b[0m/\u001b[1;36m1\u001b[0m                                   \u001b[2m            \u001b[0m\n",
       "\u001b[2;36m                    \u001b[0m          * \u001b[32m'easy_triplets'\u001b[0m replicas: \u001b[1;36m0\u001b[0m/\u001b[1;36m1\u001b[0m                                          \u001b[2m            \u001b[0m\n"
      ]
     },
     "metadata": {},
     "output_type": "display_data"
    },
    {
     "name": "stderr",
     "output_type": "stream",
     "text": [
      "Device set to use cuda:0\n"
     ]
    },
    {
     "data": {
      "text/html": [
       "<pre style=\"white-space:pre;overflow-x:auto;line-height:normal;font-family:Menlo,'DejaVu Sans Mono',consolas,'Courier New',monospace\"><span style=\"color: #7fbfbf; text-decoration-color: #7fbfbf\">[08/12/25 11:27:54] </span><span style=\"color: #000080; text-decoration-color: #000080\">INFO    </span> <span style=\"font-weight: bold\">[</span><span style=\"color: #008000; text-decoration-color: #008000\">'distilabel.pipeline'</span><span style=\"font-weight: bold\">]</span> ⏳ Steps from stage <span style=\"color: #008080; text-decoration-color: #008080; font-weight: bold\">0</span> loaded: <span style=\"color: #008080; text-decoration-color: #008080; font-weight: bold\">2</span>/<span style=\"color: #008080; text-decoration-color: #008080; font-weight: bold\">2</span>                 <a href=\"file:///home/dnth/Desktop/rag-datakit/.venv/lib/python3.12/site-packages/distilabel/pipeline/base.py\" target=\"_blank\"><span style=\"color: #7f7f7f; text-decoration-color: #7f7f7f\">base.py</span></a><span style=\"color: #7f7f7f; text-decoration-color: #7f7f7f\">:</span><a href=\"file:///home/dnth/Desktop/rag-datakit/.venv/lib/python3.12/site-packages/distilabel/pipeline/base.py#1418\" target=\"_blank\"><span style=\"color: #7f7f7f; text-decoration-color: #7f7f7f\">1418</span></a>\n",
       "<span style=\"color: #7fbfbf; text-decoration-color: #7fbfbf\">                    </span>          * <span style=\"color: #008000; text-decoration-color: #008000\">'load_data_from_hub_0'</span> replicas: <span style=\"color: #008080; text-decoration-color: #008080; font-weight: bold\">1</span>/<span style=\"color: #008080; text-decoration-color: #008080; font-weight: bold\">1</span>                                   <span style=\"color: #7f7f7f; text-decoration-color: #7f7f7f\">            </span>\n",
       "<span style=\"color: #7fbfbf; text-decoration-color: #7fbfbf\">                    </span>          * <span style=\"color: #008000; text-decoration-color: #008000\">'easy_triplets'</span> replicas: <span style=\"color: #008080; text-decoration-color: #008080; font-weight: bold\">1</span>/<span style=\"color: #008080; text-decoration-color: #008080; font-weight: bold\">1</span>                                          <span style=\"color: #7f7f7f; text-decoration-color: #7f7f7f\">            </span>\n",
       "</pre>\n"
      ],
      "text/plain": [
       "\u001b[2;36m[08/12/25 11:27:54]\u001b[0m\u001b[2;36m \u001b[0m\u001b[34mINFO    \u001b[0m \u001b[1m[\u001b[0m\u001b[32m'distilabel.pipeline'\u001b[0m\u001b[1m]\u001b[0m ⏳ Steps from stage \u001b[1;36m0\u001b[0m loaded: \u001b[1;36m2\u001b[0m/\u001b[1;36m2\u001b[0m                 \u001b]8;id=689032;file:///home/dnth/Desktop/rag-datakit/.venv/lib/python3.12/site-packages/distilabel/pipeline/base.py\u001b\\\u001b[2mbase.py\u001b[0m\u001b]8;;\u001b\\\u001b[2m:\u001b[0m\u001b]8;id=180259;file:///home/dnth/Desktop/rag-datakit/.venv/lib/python3.12/site-packages/distilabel/pipeline/base.py#1418\u001b\\\u001b[2m1418\u001b[0m\u001b]8;;\u001b\\\n",
       "\u001b[2;36m                    \u001b[0m          * \u001b[32m'load_data_from_hub_0'\u001b[0m replicas: \u001b[1;36m1\u001b[0m/\u001b[1;36m1\u001b[0m                                   \u001b[2m            \u001b[0m\n",
       "\u001b[2;36m                    \u001b[0m          * \u001b[32m'easy_triplets'\u001b[0m replicas: \u001b[1;36m1\u001b[0m/\u001b[1;36m1\u001b[0m                                          \u001b[2m            \u001b[0m\n"
      ]
     },
     "metadata": {},
     "output_type": "display_data"
    },
    {
     "data": {
      "text/html": [
       "<pre style=\"white-space:pre;overflow-x:auto;line-height:normal;font-family:Menlo,'DejaVu Sans Mono',consolas,'Courier New',monospace\"><span style=\"color: #7fbfbf; text-decoration-color: #7fbfbf\">                    </span><span style=\"color: #000080; text-decoration-color: #000080\">INFO    </span> <span style=\"font-weight: bold\">[</span><span style=\"color: #008000; text-decoration-color: #008000\">'distilabel.pipeline'</span><span style=\"font-weight: bold\">]</span> ✅ All the steps from stage <span style=\"color: #008080; text-decoration-color: #008080; font-weight: bold\">0</span> have been loaded!   <a href=\"file:///home/dnth/Desktop/rag-datakit/.venv/lib/python3.12/site-packages/distilabel/pipeline/base.py\" target=\"_blank\"><span style=\"color: #7f7f7f; text-decoration-color: #7f7f7f\">base.py</span></a><span style=\"color: #7f7f7f; text-decoration-color: #7f7f7f\">:</span><a href=\"file:///home/dnth/Desktop/rag-datakit/.venv/lib/python3.12/site-packages/distilabel/pipeline/base.py#1422\" target=\"_blank\"><span style=\"color: #7f7f7f; text-decoration-color: #7f7f7f\">1422</span></a>\n",
       "</pre>\n"
      ],
      "text/plain": [
       "\u001b[2;36m                   \u001b[0m\u001b[2;36m \u001b[0m\u001b[34mINFO    \u001b[0m \u001b[1m[\u001b[0m\u001b[32m'distilabel.pipeline'\u001b[0m\u001b[1m]\u001b[0m ✅ All the steps from stage \u001b[1;36m0\u001b[0m have been loaded!   \u001b]8;id=630263;file:///home/dnth/Desktop/rag-datakit/.venv/lib/python3.12/site-packages/distilabel/pipeline/base.py\u001b\\\u001b[2mbase.py\u001b[0m\u001b]8;;\u001b\\\u001b[2m:\u001b[0m\u001b]8;id=500424;file:///home/dnth/Desktop/rag-datakit/.venv/lib/python3.12/site-packages/distilabel/pipeline/base.py#1422\u001b\\\u001b[2m1422\u001b[0m\u001b]8;;\u001b\\\n"
      ]
     },
     "metadata": {},
     "output_type": "display_data"
    },
    {
     "data": {
      "text/html": [
       "<pre style=\"white-space:pre;overflow-x:auto;line-height:normal;font-family:Menlo,'DejaVu Sans Mono',consolas,'Courier New',monospace\"><span style=\"color: #7fbfbf; text-decoration-color: #7fbfbf\">                    </span><span style=\"color: #000080; text-decoration-color: #000080\">INFO    </span> <span style=\"font-weight: bold\">[</span><span style=\"color: #008000; text-decoration-color: #008000\">'distilabel.step.load_data_from_hub_0'</span><span style=\"font-weight: bold\">]</span> 🚰 Starting yielding      <a href=\"file:///home/dnth/Desktop/rag-datakit/.venv/lib/python3.12/site-packages/distilabel/pipeline/step_wrapper.py\" target=\"_blank\"><span style=\"color: #7f7f7f; text-decoration-color: #7f7f7f\">step_wrapper.py</span></a><span style=\"color: #7f7f7f; text-decoration-color: #7f7f7f\">:</span><a href=\"file:///home/dnth/Desktop/rag-datakit/.venv/lib/python3.12/site-packages/distilabel/pipeline/step_wrapper.py#179\" target=\"_blank\"><span style=\"color: #7f7f7f; text-decoration-color: #7f7f7f\">179</span></a>\n",
       "<span style=\"color: #7fbfbf; text-decoration-color: #7fbfbf\">                    </span>         batches from generator step <span style=\"color: #008000; text-decoration-color: #008000\">'load_data_from_hub_0'</span>. Offset: <span style=\"color: #008080; text-decoration-color: #008080; font-weight: bold\">0</span>      <span style=\"color: #7f7f7f; text-decoration-color: #7f7f7f\">                   </span>\n",
       "</pre>\n"
      ],
      "text/plain": [
       "\u001b[2;36m                   \u001b[0m\u001b[2;36m \u001b[0m\u001b[34mINFO    \u001b[0m \u001b[1m[\u001b[0m\u001b[32m'distilabel.step.load_data_from_hub_0'\u001b[0m\u001b[1m]\u001b[0m 🚰 Starting yielding      \u001b]8;id=63612;file:///home/dnth/Desktop/rag-datakit/.venv/lib/python3.12/site-packages/distilabel/pipeline/step_wrapper.py\u001b\\\u001b[2mstep_wrapper.py\u001b[0m\u001b]8;;\u001b\\\u001b[2m:\u001b[0m\u001b]8;id=65970;file:///home/dnth/Desktop/rag-datakit/.venv/lib/python3.12/site-packages/distilabel/pipeline/step_wrapper.py#179\u001b\\\u001b[2m179\u001b[0m\u001b]8;;\u001b\\\n",
       "\u001b[2;36m                    \u001b[0m         batches from generator step \u001b[32m'load_data_from_hub_0'\u001b[0m. Offset: \u001b[1;36m0\u001b[0m      \u001b[2m                   \u001b[0m\n"
      ]
     },
     "metadata": {},
     "output_type": "display_data"
    },
    {
     "data": {
      "text/html": [
       "<pre style=\"white-space:pre;overflow-x:auto;line-height:normal;font-family:Menlo,'DejaVu Sans Mono',consolas,'Courier New',monospace\"><span style=\"color: #7fbfbf; text-decoration-color: #7fbfbf\">                    </span><span style=\"color: #000080; text-decoration-color: #000080\">INFO    </span> <span style=\"font-weight: bold\">[</span><span style=\"color: #008000; text-decoration-color: #008000\">'distilabel.step.load_data_from_hub_0'</span><span style=\"font-weight: bold\">]</span> 📨 Step                   <a href=\"file:///home/dnth/Desktop/rag-datakit/.venv/lib/python3.12/site-packages/distilabel/pipeline/step_wrapper.py\" target=\"_blank\"><span style=\"color: #7f7f7f; text-decoration-color: #7f7f7f\">step_wrapper.py</span></a><span style=\"color: #7f7f7f; text-decoration-color: #7f7f7f\">:</span><a href=\"file:///home/dnth/Desktop/rag-datakit/.venv/lib/python3.12/site-packages/distilabel/pipeline/step_wrapper.py#290\" target=\"_blank\"><span style=\"color: #7f7f7f; text-decoration-color: #7f7f7f\">290</span></a>\n",
       "<span style=\"color: #7fbfbf; text-decoration-color: #7fbfbf\">                    </span>         <span style=\"color: #008000; text-decoration-color: #008000\">'load_data_from_hub_0'</span> sending batch <span style=\"color: #008080; text-decoration-color: #008080; font-weight: bold\">0</span> to output queue             <span style=\"color: #7f7f7f; text-decoration-color: #7f7f7f\">                   </span>\n",
       "</pre>\n"
      ],
      "text/plain": [
       "\u001b[2;36m                   \u001b[0m\u001b[2;36m \u001b[0m\u001b[34mINFO    \u001b[0m \u001b[1m[\u001b[0m\u001b[32m'distilabel.step.load_data_from_hub_0'\u001b[0m\u001b[1m]\u001b[0m 📨 Step                   \u001b]8;id=607303;file:///home/dnth/Desktop/rag-datakit/.venv/lib/python3.12/site-packages/distilabel/pipeline/step_wrapper.py\u001b\\\u001b[2mstep_wrapper.py\u001b[0m\u001b]8;;\u001b\\\u001b[2m:\u001b[0m\u001b]8;id=832816;file:///home/dnth/Desktop/rag-datakit/.venv/lib/python3.12/site-packages/distilabel/pipeline/step_wrapper.py#290\u001b\\\u001b[2m290\u001b[0m\u001b]8;;\u001b\\\n",
       "\u001b[2;36m                    \u001b[0m         \u001b[32m'load_data_from_hub_0'\u001b[0m sending batch \u001b[1;36m0\u001b[0m to output queue             \u001b[2m                   \u001b[0m\n"
      ]
     },
     "metadata": {},
     "output_type": "display_data"
    },
    {
     "data": {
      "text/html": [
       "<pre style=\"white-space:pre;overflow-x:auto;line-height:normal;font-family:Menlo,'DejaVu Sans Mono',consolas,'Courier New',monospace\"><span style=\"color: #7fbfbf; text-decoration-color: #7fbfbf\">                    </span><span style=\"color: #000080; text-decoration-color: #000080\">INFO    </span> <span style=\"font-weight: bold\">[</span><span style=\"color: #008000; text-decoration-color: #008000\">'distilabel.step.load_data_from_hub_0'</span><span style=\"font-weight: bold\">]</span> 🏁 Finished running step  <a href=\"file:///home/dnth/Desktop/rag-datakit/.venv/lib/python3.12/site-packages/distilabel/pipeline/step_wrapper.py\" target=\"_blank\"><span style=\"color: #7f7f7f; text-decoration-color: #7f7f7f\">step_wrapper.py</span></a><span style=\"color: #7f7f7f; text-decoration-color: #7f7f7f\">:</span><a href=\"file:///home/dnth/Desktop/rag-datakit/.venv/lib/python3.12/site-packages/distilabel/pipeline/step_wrapper.py#129\" target=\"_blank\"><span style=\"color: #7f7f7f; text-decoration-color: #7f7f7f\">129</span></a>\n",
       "<span style=\"color: #7fbfbf; text-decoration-color: #7fbfbf\">                    </span>         <span style=\"color: #008000; text-decoration-color: #008000\">'load_data_from_hub_0'</span> <span style=\"font-weight: bold\">(</span>replica ID: <span style=\"color: #008080; text-decoration-color: #008080; font-weight: bold\">0</span><span style=\"font-weight: bold\">)</span>                             <span style=\"color: #7f7f7f; text-decoration-color: #7f7f7f\">                   </span>\n",
       "</pre>\n"
      ],
      "text/plain": [
       "\u001b[2;36m                   \u001b[0m\u001b[2;36m \u001b[0m\u001b[34mINFO    \u001b[0m \u001b[1m[\u001b[0m\u001b[32m'distilabel.step.load_data_from_hub_0'\u001b[0m\u001b[1m]\u001b[0m 🏁 Finished running step  \u001b]8;id=266870;file:///home/dnth/Desktop/rag-datakit/.venv/lib/python3.12/site-packages/distilabel/pipeline/step_wrapper.py\u001b\\\u001b[2mstep_wrapper.py\u001b[0m\u001b]8;;\u001b\\\u001b[2m:\u001b[0m\u001b]8;id=317019;file:///home/dnth/Desktop/rag-datakit/.venv/lib/python3.12/site-packages/distilabel/pipeline/step_wrapper.py#129\u001b\\\u001b[2m129\u001b[0m\u001b]8;;\u001b\\\n",
       "\u001b[2;36m                    \u001b[0m         \u001b[32m'load_data_from_hub_0'\u001b[0m \u001b[1m(\u001b[0mreplica ID: \u001b[1;36m0\u001b[0m\u001b[1m)\u001b[0m                             \u001b[2m                   \u001b[0m\n"
      ]
     },
     "metadata": {},
     "output_type": "display_data"
    },
    {
     "data": {
      "text/html": [
       "<pre style=\"white-space:pre;overflow-x:auto;line-height:normal;font-family:Menlo,'DejaVu Sans Mono',consolas,'Courier New',monospace\"><span style=\"color: #7fbfbf; text-decoration-color: #7fbfbf\">                    </span><span style=\"color: #000080; text-decoration-color: #000080\">INFO    </span> <span style=\"font-weight: bold\">[</span><span style=\"color: #008000; text-decoration-color: #008000\">'distilabel.step.easy_triplets'</span><span style=\"font-weight: bold\">]</span> 📦 Processing batch <span style=\"color: #008080; text-decoration-color: #008080; font-weight: bold\">0</span> in         <a href=\"file:///home/dnth/Desktop/rag-datakit/.venv/lib/python3.12/site-packages/distilabel/pipeline/step_wrapper.py\" target=\"_blank\"><span style=\"color: #7f7f7f; text-decoration-color: #7f7f7f\">step_wrapper.py</span></a><span style=\"color: #7f7f7f; text-decoration-color: #7f7f7f\">:</span><a href=\"file:///home/dnth/Desktop/rag-datakit/.venv/lib/python3.12/site-packages/distilabel/pipeline/step_wrapper.py#230\" target=\"_blank\"><span style=\"color: #7f7f7f; text-decoration-color: #7f7f7f\">230</span></a>\n",
       "<span style=\"color: #7fbfbf; text-decoration-color: #7fbfbf\">                    </span>         <span style=\"color: #008000; text-decoration-color: #008000\">'easy_triplets'</span> <span style=\"font-weight: bold\">(</span>replica ID: <span style=\"color: #008080; text-decoration-color: #008080; font-weight: bold\">0</span><span style=\"font-weight: bold\">)</span>                                    <span style=\"color: #7f7f7f; text-decoration-color: #7f7f7f\">                   </span>\n",
       "</pre>\n"
      ],
      "text/plain": [
       "\u001b[2;36m                   \u001b[0m\u001b[2;36m \u001b[0m\u001b[34mINFO    \u001b[0m \u001b[1m[\u001b[0m\u001b[32m'distilabel.step.easy_triplets'\u001b[0m\u001b[1m]\u001b[0m 📦 Processing batch \u001b[1;36m0\u001b[0m in         \u001b]8;id=796099;file:///home/dnth/Desktop/rag-datakit/.venv/lib/python3.12/site-packages/distilabel/pipeline/step_wrapper.py\u001b\\\u001b[2mstep_wrapper.py\u001b[0m\u001b]8;;\u001b\\\u001b[2m:\u001b[0m\u001b]8;id=482351;file:///home/dnth/Desktop/rag-datakit/.venv/lib/python3.12/site-packages/distilabel/pipeline/step_wrapper.py#230\u001b\\\u001b[2m230\u001b[0m\u001b]8;;\u001b\\\n",
       "\u001b[2;36m                    \u001b[0m         \u001b[32m'easy_triplets'\u001b[0m \u001b[1m(\u001b[0mreplica ID: \u001b[1;36m0\u001b[0m\u001b[1m)\u001b[0m                                    \u001b[2m                   \u001b[0m\n"
      ]
     },
     "metadata": {},
     "output_type": "display_data"
    },
    {
     "data": {
      "text/html": [
       "<pre style=\"white-space:pre;overflow-x:auto;line-height:normal;font-family:Menlo,'DejaVu Sans Mono',consolas,'Courier New',monospace\"><span style=\"color: #7fbfbf; text-decoration-color: #7fbfbf\">[08/12/25 11:28:58] </span><span style=\"color: #000080; text-decoration-color: #000080\">INFO    </span> <span style=\"font-weight: bold\">[</span><span style=\"color: #008000; text-decoration-color: #008000\">'distilabel.step.easy_triplets'</span><span style=\"font-weight: bold\">]</span> 📨 Step <span style=\"color: #008000; text-decoration-color: #008000\">'easy_triplets'</span> sending  <a href=\"file:///home/dnth/Desktop/rag-datakit/.venv/lib/python3.12/site-packages/distilabel/pipeline/step_wrapper.py\" target=\"_blank\"><span style=\"color: #7f7f7f; text-decoration-color: #7f7f7f\">step_wrapper.py</span></a><span style=\"color: #7f7f7f; text-decoration-color: #7f7f7f\">:</span><a href=\"file:///home/dnth/Desktop/rag-datakit/.venv/lib/python3.12/site-packages/distilabel/pipeline/step_wrapper.py#290\" target=\"_blank\"><span style=\"color: #7f7f7f; text-decoration-color: #7f7f7f\">290</span></a>\n",
       "<span style=\"color: #7fbfbf; text-decoration-color: #7fbfbf\">                    </span>         batch <span style=\"color: #008080; text-decoration-color: #008080; font-weight: bold\">0</span> to output queue                                            <span style=\"color: #7f7f7f; text-decoration-color: #7f7f7f\">                   </span>\n",
       "</pre>\n"
      ],
      "text/plain": [
       "\u001b[2;36m[08/12/25 11:28:58]\u001b[0m\u001b[2;36m \u001b[0m\u001b[34mINFO    \u001b[0m \u001b[1m[\u001b[0m\u001b[32m'distilabel.step.easy_triplets'\u001b[0m\u001b[1m]\u001b[0m 📨 Step \u001b[32m'easy_triplets'\u001b[0m sending  \u001b]8;id=127387;file:///home/dnth/Desktop/rag-datakit/.venv/lib/python3.12/site-packages/distilabel/pipeline/step_wrapper.py\u001b\\\u001b[2mstep_wrapper.py\u001b[0m\u001b]8;;\u001b\\\u001b[2m:\u001b[0m\u001b]8;id=588489;file:///home/dnth/Desktop/rag-datakit/.venv/lib/python3.12/site-packages/distilabel/pipeline/step_wrapper.py#290\u001b\\\u001b[2m290\u001b[0m\u001b]8;;\u001b\\\n",
       "\u001b[2;36m                    \u001b[0m         batch \u001b[1;36m0\u001b[0m to output queue                                            \u001b[2m                   \u001b[0m\n"
      ]
     },
     "metadata": {},
     "output_type": "display_data"
    },
    {
     "data": {
      "text/html": [
       "<pre style=\"white-space:pre;overflow-x:auto;line-height:normal;font-family:Menlo,'DejaVu Sans Mono',consolas,'Courier New',monospace\"><span style=\"color: #7fbfbf; text-decoration-color: #7fbfbf\">                    </span><span style=\"color: #000080; text-decoration-color: #000080\">INFO    </span> <span style=\"font-weight: bold\">[</span><span style=\"color: #008000; text-decoration-color: #008000\">'distilabel.step.easy_triplets'</span><span style=\"font-weight: bold\">]</span> 🏁 Finished running step         <a href=\"file:///home/dnth/Desktop/rag-datakit/.venv/lib/python3.12/site-packages/distilabel/pipeline/step_wrapper.py\" target=\"_blank\"><span style=\"color: #7f7f7f; text-decoration-color: #7f7f7f\">step_wrapper.py</span></a><span style=\"color: #7f7f7f; text-decoration-color: #7f7f7f\">:</span><a href=\"file:///home/dnth/Desktop/rag-datakit/.venv/lib/python3.12/site-packages/distilabel/pipeline/step_wrapper.py#129\" target=\"_blank\"><span style=\"color: #7f7f7f; text-decoration-color: #7f7f7f\">129</span></a>\n",
       "<span style=\"color: #7fbfbf; text-decoration-color: #7fbfbf\">                    </span>         <span style=\"color: #008000; text-decoration-color: #008000\">'easy_triplets'</span> <span style=\"font-weight: bold\">(</span>replica ID: <span style=\"color: #008080; text-decoration-color: #008080; font-weight: bold\">0</span><span style=\"font-weight: bold\">)</span>                                    <span style=\"color: #7f7f7f; text-decoration-color: #7f7f7f\">                   </span>\n",
       "</pre>\n"
      ],
      "text/plain": [
       "\u001b[2;36m                   \u001b[0m\u001b[2;36m \u001b[0m\u001b[34mINFO    \u001b[0m \u001b[1m[\u001b[0m\u001b[32m'distilabel.step.easy_triplets'\u001b[0m\u001b[1m]\u001b[0m 🏁 Finished running step         \u001b]8;id=447646;file:///home/dnth/Desktop/rag-datakit/.venv/lib/python3.12/site-packages/distilabel/pipeline/step_wrapper.py\u001b\\\u001b[2mstep_wrapper.py\u001b[0m\u001b]8;;\u001b\\\u001b[2m:\u001b[0m\u001b]8;id=63244;file:///home/dnth/Desktop/rag-datakit/.venv/lib/python3.12/site-packages/distilabel/pipeline/step_wrapper.py#129\u001b\\\u001b[2m129\u001b[0m\u001b]8;;\u001b\\\n",
       "\u001b[2;36m                    \u001b[0m         \u001b[32m'easy_triplets'\u001b[0m \u001b[1m(\u001b[0mreplica ID: \u001b[1;36m0\u001b[0m\u001b[1m)\u001b[0m                                    \u001b[2m                   \u001b[0m\n"
      ]
     },
     "metadata": {},
     "output_type": "display_data"
    },
    {
     "data": {
      "application/vnd.jupyter.widget-view+json": {
       "model_id": "a9d15a6a2fd84cf2af10bc1561076d22",
       "version_major": 2,
       "version_minor": 0
      },
      "text/plain": [
       "Generating train split: 0 examples [00:00, ? examples/s]"
      ]
     },
     "metadata": {},
     "output_type": "display_data"
    }
   ],
   "source": [
    "distiset = pipeline.run(\n",
    "    parameters={\n",
    "        load_dataset.name: {\n",
    "            \"repo_id\": \"dnth/ssf-dataset\",\n",
    "            \"split\": \"train\",\n",
    "        },\n",
    "        \"easy_triplets\": {\n",
    "            \"llm\": {\"generation_kwargs\": {\"temperature\": 0.7, \"max_new_tokens\": 256}}\n",
    "        },\n",
    "    }\n",
    ")"
   ]
  },
  {
   "cell_type": "markdown",
   "id": "oxik9sir57r",
   "metadata": {},
   "source": [
    "## Running the Pipeline\n",
    "\n",
    "Execute the pipeline with specific parameters:\n",
    "- **num_examples**: Limit to 10 examples for demonstration (increase for production)\n",
    "- **temperature**: Controls randomness in LLM generation (0.7 for creative but consistent outputs)\n",
    "- **max_new_tokens**: Maximum length of generated text\n",
    "\n",
    "The pipeline will process each job description and generate corresponding positive and negative examples."
   ]
  },
  {
   "cell_type": "code",
   "execution_count": 8,
   "id": "0009e36f",
   "metadata": {},
   "outputs": [
    {
     "data": {
      "text/plain": [
       "Distiset({\n",
       "    default: DatasetDict({\n",
       "        train: Dataset({\n",
       "            features: ['Sector', 'Track', 'Job Role', 'anchor', 'Performance Expectation', 'positive', 'negative', 'distilabel_metadata', 'model_name'],\n",
       "            num_rows: 10\n",
       "        })\n",
       "    })\n",
       "})"
      ]
     },
     "execution_count": 8,
     "metadata": {},
     "output_type": "execute_result"
    }
   ],
   "source": [
    "distiset"
   ]
  },
  {
   "cell_type": "markdown",
   "id": "ahl5lkcx65j",
   "metadata": {},
   "source": [
    "## Results Inspection\n",
    "\n",
    "The pipeline generates a `Distiset` object containing our synthetic dataset. Let's examine the structure and content of the generated data:\n",
    "\n",
    "### Dataset Structure\n",
    "The output includes the original fields plus new generated columns:\n",
    "- **anchor**: Original job role description\n",
    "- **positive**: LLM-generated paraphrase (semantically similar)\n",
    "- **negative**: LLM-generated different job description (semantically dissimilar)\n",
    "- **distilabel_metadata**: Generation metadata and token usage\n",
    "- **model_name**: LLM model used for generation"
   ]
  },
  {
   "cell_type": "code",
   "execution_count": 9,
   "id": "44ca55e0",
   "metadata": {},
   "outputs": [
    {
     "data": {
      "text/plain": [
       "{'Sector': 'Accountancy',\n",
       " 'Track': 'Assurance',\n",
       " 'Job Role': 'Audit Associate / Audit Assistant Associate',\n",
       " 'anchor': 'The Audit Associate/Audit Assistant Associate undertakes specific stages of audit work under supervision. He/She begins to appreciate the underlying principles behind the tasks assigned to him as part of the audit plan. He is also able to make adjustments to the application of skills to improve the work tasks or solve non-complex issues. The Audit Associate/Audit Assistant Associate operates in a structured work environment. He is able to build relationships, work in a team and identify ethical issues with reference to the code of professional conduct and ethics. He is able to select and apply from a range of known solutions to familiar problems and takes responsibility for his own learning and performance. He is a trustworthy and meticulous individual.',\n",
       " 'Performance Expectation': 'In accordance with: Singapore Standards on Auditing, Ethics Pronouncements in Singapore, Singapore Companies Act, and Singapore Financial Reporting Standards',\n",
       " 'positive': 'The Audit Assistant undertakes hands-on audit tasks under the guidance of experienced professionals, gradually gaining insight into the core concepts and objectives embedded within each audit phase. As part of the audit process, they begin to understand how audit procedures align with accounting standards and internal controls. They are empowered to adapt their approach to refine workflows and resolve straightforward discrepancies, contributing effectively to audit deliverables. Working within a well-defined and organized framework, the Audit Assistant collaborates with peers, participates in team-based reviews, and applies ethical judgment when identifying potential compliance concerns. They draw upon established methodologies to address routine audit challenges, take ownership of their development, and demonstrate strong attention to detail and integrity throughout their responsibilities.',\n",
       " 'negative': 'The Junior Financial Analyst supports daily operations in a retail company by collecting sales data, preparing basic reports, and assisting in budgeting processes. This role involves minimal decision-making, with most tasks being guided by senior staff. The employee works independently on simple data entry and reconciliation activities, completes routine tasks with limited oversight, and follows standard operating procedures without needing to interpret complex financial models. While the position requires some teamwork during monthly meetings, it does not involve ethical evaluations or professional conduct training. The individual is expected to complete assigned duties efficiently and promptly but is not required to evaluate',\n",
       " 'distilabel_metadata': {'raw_input_easy_triplets': [{'content': 'Your task is to generate a positive and a negative sentence given an anchor sentence. Take into account the context given. The positive sentence has to paraphrase the anchor sentence, while the negative sentence can use similar words but must not be related to the anchor sentence. You must output only two new sections: `## Positive` and `## Negative`.',\n",
       "    'role': 'system'},\n",
       "   {'content': '## Context\\n\\n\\nThe text is a job description from the Singapore SkillsFuture Framework. Your task is to generate realistic job descriptions from the provided description.\\n\\nFor the positive query, generate a realistic description for this role. Focus on creating variations that capture the essence of the role in different words, as if written by different people or organizations posting similar jobs.\\nFor the positive query, you are allowed to paraphrase the job role name as long as the description has similar meaning.\\n\\nFor negative descriptions you are allowed to choose from the following strategies\\n\\n1. Same industry, different seniority level (Senior → Junior or Vice versa)\\n2. Same industry, different function (Business Valuation → Risk Management)\\n3. Similar skills, different domain (Financial Analysis in Banking vs Healthcare)\\n4. Same title, different industry context\\n\\nThe query should always include the job role. Start the description with The <job role>.\\n\\n\\n\\n## Anchor\\n\\nThe Audit Associate/Audit Assistant Associate undertakes specific stages of audit work under supervision. He/She begins to appreciate the underlying principles behind the tasks assigned to him as part of the audit plan. He is also able to make adjustments to the application of skills to improve the work tasks or solve non-complex issues. The Audit Associate/Audit Assistant Associate operates in a structured work environment. He is able to build relationships, work in a team and identify ethical issues with reference to the code of professional conduct and ethics. He is able to select and apply from a range of known solutions to familiar problems and takes responsibility for his own learning and performance. He is a trustworthy and meticulous individual.\\n',\n",
       "    'role': 'user'}],\n",
       "  'raw_output_easy_triplets': '## Positive  \\nThe Audit Assistant undertakes hands-on audit tasks under the guidance of experienced professionals, gradually gaining insight into the core concepts and objectives embedded within each audit phase. As part of the audit process, they begin to understand how audit procedures align with accounting standards and internal controls. They are empowered to adapt their approach to refine workflows and resolve straightforward discrepancies, contributing effectively to audit deliverables. Working within a well-defined and organized framework, the Audit Assistant collaborates with peers, participates in team-based reviews, and applies ethical judgment when identifying potential compliance concerns. They draw upon established methodologies to address routine audit challenges, take ownership of their development, and demonstrate strong attention to detail and integrity throughout their responsibilities.\\n\\n## Negative  \\nThe Junior Financial Analyst supports daily operations in a retail company by collecting sales data, preparing basic reports, and assisting in budgeting processes. This role involves minimal decision-making, with most tasks being guided by senior staff. The employee works independently on simple data entry and reconciliation activities, completes routine tasks with limited oversight, and follows standard operating procedures without needing to interpret complex financial models. While the position requires some teamwork during monthly meetings, it does not involve ethical evaluations or professional conduct training. The individual is expected to complete assigned duties efficiently and promptly but is not required to evaluate',\n",
       "  'statistics_easy_triplets': {'input_tokens': 390, 'output_tokens': 256}},\n",
       " 'model_name': 'Qwen/Qwen3-4B-Instruct-2507'}"
      ]
     },
     "execution_count": 9,
     "metadata": {},
     "output_type": "execute_result"
    }
   ],
   "source": [
    "distiset[\"default\"][\"train\"][0]"
   ]
  },
  {
   "cell_type": "code",
   "execution_count": 10,
   "id": "22bdf9f9",
   "metadata": {},
   "outputs": [
    {
     "data": {
      "application/vnd.microsoft.datawrangler.viewer.v0+json": {
       "columns": [
        {
         "name": "index",
         "rawType": "int64",
         "type": "integer"
        },
        {
         "name": "Sector",
         "rawType": "object",
         "type": "string"
        },
        {
         "name": "Track",
         "rawType": "object",
         "type": "string"
        },
        {
         "name": "Job Role",
         "rawType": "object",
         "type": "string"
        },
        {
         "name": "anchor",
         "rawType": "object",
         "type": "string"
        },
        {
         "name": "Performance Expectation",
         "rawType": "object",
         "type": "unknown"
        },
        {
         "name": "positive",
         "rawType": "object",
         "type": "string"
        },
        {
         "name": "negative",
         "rawType": "object",
         "type": "string"
        },
        {
         "name": "distilabel_metadata",
         "rawType": "object",
         "type": "unknown"
        },
        {
         "name": "model_name",
         "rawType": "object",
         "type": "string"
        }
       ],
       "ref": "16996b91-ba6e-4fc4-b9a2-6f65d56b6d06",
       "rows": [
        [
         "0",
         "Accountancy",
         "Assurance",
         "Audit Associate / Audit Assistant Associate",
         "The Audit Associate/Audit Assistant Associate undertakes specific stages of audit work under supervision. He/She begins to appreciate the underlying principles behind the tasks assigned to him as part of the audit plan. He is also able to make adjustments to the application of skills to improve the work tasks or solve non-complex issues. The Audit Associate/Audit Assistant Associate operates in a structured work environment. He is able to build relationships, work in a team and identify ethical issues with reference to the code of professional conduct and ethics. He is able to select and apply from a range of known solutions to familiar problems and takes responsibility for his own learning and performance. He is a trustworthy and meticulous individual.",
         "In accordance with: Singapore Standards on Auditing, Ethics Pronouncements in Singapore, Singapore Companies Act, and Singapore Financial Reporting Standards",
         "The Audit Assistant undertakes hands-on audit tasks under the guidance of experienced professionals, gradually gaining insight into the core concepts and objectives embedded within each audit phase. As part of the audit process, they begin to understand how audit procedures align with accounting standards and internal controls. They are empowered to adapt their approach to refine workflows and resolve straightforward discrepancies, contributing effectively to audit deliverables. Working within a well-defined and organized framework, the Audit Assistant collaborates with peers, participates in team-based reviews, and applies ethical judgment when identifying potential compliance concerns. They draw upon established methodologies to address routine audit challenges, take ownership of their development, and demonstrate strong attention to detail and integrity throughout their responsibilities.",
         "The Junior Financial Analyst supports daily operations in a retail company by collecting sales data, preparing basic reports, and assisting in budgeting processes. This role involves minimal decision-making, with most tasks being guided by senior staff. The employee works independently on simple data entry and reconciliation activities, completes routine tasks with limited oversight, and follows standard operating procedures without needing to interpret complex financial models. While the position requires some teamwork during monthly meetings, it does not involve ethical evaluations or professional conduct training. The individual is expected to complete assigned duties efficiently and promptly but is not required to evaluate",
         "{'raw_input_easy_triplets': array([{'content': 'Your task is to generate a positive and a negative sentence given an anchor sentence. Take into account the context given. The positive sentence has to paraphrase the anchor sentence, while the negative sentence can use similar words but must not be related to the anchor sentence. You must output only two new sections: `## Positive` and `## Negative`.', 'role': 'system'},\n       {'content': '## Context\\n\\n\\nThe text is a job description from the Singapore SkillsFuture Framework. Your task is to generate realistic job descriptions from the provided description.\\n\\nFor the positive query, generate a realistic description for this role. Focus on creating variations that capture the essence of the role in different words, as if written by different people or organizations posting similar jobs.\\nFor the positive query, you are allowed to paraphrase the job role name as long as the description has similar meaning.\\n\\nFor negative descriptions you are allowed to choose from the following strategies\\n\\n1. Same industry, different seniority level (Senior → Junior or Vice versa)\\n2. Same industry, different function (Business Valuation → Risk Management)\\n3. Similar skills, different domain (Financial Analysis in Banking vs Healthcare)\\n4. Same title, different industry context\\n\\nThe query should always include the job role. Start the description with The <job role>.\\n\\n\\n\\n## Anchor\\n\\nThe Audit Associate/Audit Assistant Associate undertakes specific stages of audit work under supervision. He/She begins to appreciate the underlying principles behind the tasks assigned to him as part of the audit plan. He is also able to make adjustments to the application of skills to improve the work tasks or solve non-complex issues. The Audit Associate/Audit Assistant Associate operates in a structured work environment. He is able to build relationships, work in a team and identify ethical issues with reference to the code of professional conduct and ethics. He is able to select and apply from a range of known solutions to familiar problems and takes responsibility for his own learning and performance. He is a trustworthy and meticulous individual.\\n', 'role': 'user'}],\n      dtype=object), 'raw_output_easy_triplets': '## Positive  \\nThe Audit Assistant undertakes hands-on audit tasks under the guidance of experienced professionals, gradually gaining insight into the core concepts and objectives embedded within each audit phase. As part of the audit process, they begin to understand how audit procedures align with accounting standards and internal controls. They are empowered to adapt their approach to refine workflows and resolve straightforward discrepancies, contributing effectively to audit deliverables. Working within a well-defined and organized framework, the Audit Assistant collaborates with peers, participates in team-based reviews, and applies ethical judgment when identifying potential compliance concerns. They draw upon established methodologies to address routine audit challenges, take ownership of their development, and demonstrate strong attention to detail and integrity throughout their responsibilities.\\n\\n## Negative  \\nThe Junior Financial Analyst supports daily operations in a retail company by collecting sales data, preparing basic reports, and assisting in budgeting processes. This role involves minimal decision-making, with most tasks being guided by senior staff. The employee works independently on simple data entry and reconciliation activities, completes routine tasks with limited oversight, and follows standard operating procedures without needing to interpret complex financial models. While the position requires some teamwork during monthly meetings, it does not involve ethical evaluations or professional conduct training. The individual is expected to complete assigned duties efficiently and promptly but is not required to evaluate', 'statistics_easy_triplets': {'input_tokens': 390, 'output_tokens': 256}}",
         "Qwen/Qwen3-4B-Instruct-2507"
        ],
        [
         "1",
         "Accountancy",
         "Assurance",
         "Audit Manager",
         "The Audit Senior Manager/Audit Manager manages a portfolio of engagements to deliver high quality audit services. He/she also provides leadership on audit engagements which includes client acceptance process, engagement planning, execution and finalisation of an audit engagement. He is fully accountable for the audit engagement and ensures that the engagement progress against budget and timeline is closely monitored. He also serves to develop and maintain long-term client relationships and value-add to the audit firm by identifying new business development opportunities. The Audit Senior Manager/Audit Manager reviews and provides key technical expertise to ensure the quality of audit work performed is in compliance with professional standards and requirements. He contributes towards continuous improvement in audit methodology and process. He will also assume a greater role in professional development activities such as training, staff recruitment and resource planning.",
         "In accordance with: Singapore Standards on Auditing, Ethics Pronouncements in Singapore, Singapore Companies Act, and Singapore Financial Reporting Standards",
         "The Audit Senior Manager oversees a diverse range of audit projects, ensuring consistent delivery of high-quality assurance services. This role involves leading clients through the entire audit lifecycle—from initial acceptance and detailed planning to execution and final reporting—while maintaining strict adherence to timelines and budgets. The individual bears full responsibility for audit outcomes, driving efficiency and accountability across all engagements. They play a critical role in strengthening client trust by fostering long-term partnerships and actively exploring avenues for sustainable business growth. In addition, they provide expert guidance on audit quality, ensure compliance with global auditing standards, and contribute to refining audit processes and methodologies. The role also includes mentoring junior team members, supporting talent development, and shaping future workforce needs through strategic recruitment and internal training initiatives.",
         "The Junior Auditor supports day-to-day accounting tasks under supervision, including data entry, reconciliations, and assistance during financial statement preparation. Responsibilities involve working within assigned teams to complete basic documentation and ensuring accuracy in transaction records. While the position requires attention to detail and a solid understanding of standard accounting procedures, it does not involve independent decision-making or client engagement management. There is minimal involvement in defining audit strategies or developing new service offerings. The role focuses primarily on executing routine tasks rather than providing technical oversight or contributing to process improvements.",
         "{'raw_input_easy_triplets': array([{'content': 'Your task is to generate a positive and a negative sentence given an anchor sentence. Take into account the context given. The positive sentence has to paraphrase the anchor sentence, while the negative sentence can use similar words but must not be related to the anchor sentence. You must output only two new sections: `## Positive` and `## Negative`.', 'role': 'system'},\n       {'content': '## Context\\n\\n\\nThe text is a job description from the Singapore SkillsFuture Framework. Your task is to generate realistic job descriptions from the provided description.\\n\\nFor the positive query, generate a realistic description for this role. Focus on creating variations that capture the essence of the role in different words, as if written by different people or organizations posting similar jobs.\\nFor the positive query, you are allowed to paraphrase the job role name as long as the description has similar meaning.\\n\\nFor negative descriptions you are allowed to choose from the following strategies\\n\\n1. Same industry, different seniority level (Senior → Junior or Vice versa)\\n2. Same industry, different function (Business Valuation → Risk Management)\\n3. Similar skills, different domain (Financial Analysis in Banking vs Healthcare)\\n4. Same title, different industry context\\n\\nThe query should always include the job role. Start the description with The <job role>.\\n\\n\\n\\n## Anchor\\n\\nThe Audit Senior Manager/Audit Manager manages a portfolio of engagements to deliver high quality audit services. He/she also provides leadership on audit engagements which includes client acceptance process, engagement planning, execution and finalisation of an audit engagement. He is fully accountable for the audit engagement and ensures that the engagement progress against budget and timeline is closely monitored. He also serves to develop and maintain long-term client relationships and value-add to the audit firm by identifying new business development opportunities. The Audit Senior Manager/Audit Manager reviews and provides key technical expertise to ensure the quality of audit work performed is in compliance with professional standards and requirements. He contributes towards continuous improvement in audit methodology and process. He will also assume a greater role in professional development activities such as training, staff recruitment and resource planning.\\n', 'role': 'user'}],\n      dtype=object), 'raw_output_easy_triplets': '## Positive  \\nThe Audit Senior Manager oversees a diverse range of audit projects, ensuring consistent delivery of high-quality assurance services. This role involves leading clients through the entire audit lifecycle—from initial acceptance and detailed planning to execution and final reporting—while maintaining strict adherence to timelines and budgets. The individual bears full responsibility for audit outcomes, driving efficiency and accountability across all engagements. They play a critical role in strengthening client trust by fostering long-term partnerships and actively exploring avenues for sustainable business growth. In addition, they provide expert guidance on audit quality, ensure compliance with global auditing standards, and contribute to refining audit processes and methodologies. The role also includes mentoring junior team members, supporting talent development, and shaping future workforce needs through strategic recruitment and internal training initiatives.\\n\\n## Negative  \\nThe Junior Auditor supports day-to-day accounting tasks under supervision, including data entry, reconciliations, and assistance during financial statement preparation. Responsibilities involve working within assigned teams to complete basic documentation and ensuring accuracy in transaction records. While the position requires attention to detail and a solid understanding of standard accounting procedures, it does not involve independent decision-making or client engagement management. There is minimal involvement in defining audit strategies or developing new service offerings. The role focuses primarily on executing routine tasks rather than providing technical oversight or contributing to process improvements.', 'statistics_easy_triplets': {'input_tokens': 407, 'output_tokens': 256}}",
         "Qwen/Qwen3-4B-Instruct-2507"
        ],
        [
         "2",
         "Accountancy",
         "Assurance",
         "Audit Partner / Audit Director",
         "The Audit Partner/Audit Director is a transformational leader who steers the organisation to achieve its business goals and objectives by formulating technical and strategic directions to drive change. He/She provides strategic vision and leadership to the organisation in order to develop and strengthen organisational capabilities and culture. The Audit Partner/Audit Director is expected to promote new ideas and business solutions that result in extended services to existing clients. He constantly seeks to expand client base and support business development activities. He also establishes consistent and rigorous quality and risk management processes and procedures. The Audit Partner/Audit Director uses a multitude of controls and procedures consisting professional, regulatory, business, economic, social and environmental conditions to manage risk exposure.",
         "In accordance with: Singapore Standards on Auditing, Ethics Pronouncements in Singapore, Singapore Companies Act, and Singapore Financial Reporting Standards",
         "The Audit Partner or Audit Director is a visionary leader responsible for shaping the strategic direction of the audit function and driving organizational growth through innovation and sound governance. This role involves developing forward-thinking audit strategies, strengthening internal controls, and fostering a culture of excellence and accountability across teams. The individual plays a key role in identifying emerging opportunities to deliver enhanced value to current clients, proposing scalable solutions, and expanding service offerings to meet evolving market needs. By implementing robust frameworks for quality assurance and risk management—integrating financial, operational, regulatory, and sustainability considerations—the Audit Partner/Director ensures resilience and compliance in all operations, ultimately supporting sustainable business performance.",
         "The Junior Auditor is tasked with assisting in daily fieldwork and data collection under supervision, ensuring accuracy in documentation and adherence to standard operating procedures. While maintaining meticulous records and completing assigned tasks, the junior auditor supports team efforts in preparing preliminary reports and conducting basic compliance checks. Responsibilities include reconciling financial statements, verifying transaction details, and participating in internal control reviews. Though trained in procedural compliance, the role does not involve high-level strategy formulation, client expansion, or organizational culture development. Instead, it focuses on executing routine audit tasks within defined guidelines, contributing to operational efficiency without requiring independent judgment or risk assessment decisions.",
         "{'raw_input_easy_triplets': array([{'content': 'Your task is to generate a positive and a negative sentence given an anchor sentence. Take into account the context given. The positive sentence has to paraphrase the anchor sentence, while the negative sentence can use similar words but must not be related to the anchor sentence. You must output only two new sections: `## Positive` and `## Negative`.', 'role': 'system'},\n       {'content': '## Context\\n\\n\\nThe text is a job description from the Singapore SkillsFuture Framework. Your task is to generate realistic job descriptions from the provided description.\\n\\nFor the positive query, generate a realistic description for this role. Focus on creating variations that capture the essence of the role in different words, as if written by different people or organizations posting similar jobs.\\nFor the positive query, you are allowed to paraphrase the job role name as long as the description has similar meaning.\\n\\nFor negative descriptions you are allowed to choose from the following strategies\\n\\n1. Same industry, different seniority level (Senior → Junior or Vice versa)\\n2. Same industry, different function (Business Valuation → Risk Management)\\n3. Similar skills, different domain (Financial Analysis in Banking vs Healthcare)\\n4. Same title, different industry context\\n\\nThe query should always include the job role. Start the description with The <job role>.\\n\\n\\n\\n## Anchor\\n\\nThe Audit Partner/Audit Director is a transformational leader who steers the organisation to achieve its business goals and objectives by formulating technical and strategic directions to drive change. He/She provides strategic vision and leadership to the organisation in order to develop and strengthen organisational capabilities and culture. The Audit Partner/Audit Director is expected to promote new ideas and business solutions that result in extended services to existing clients. He constantly seeks to expand client base and support business development activities. He also establishes consistent and rigorous quality and risk management processes and procedures. The Audit Partner/Audit Director uses a multitude of controls and procedures consisting professional, regulatory, business, economic, social and environmental conditions to manage risk exposure.\\n', 'role': 'user'}],\n      dtype=object), 'raw_output_easy_triplets': '## Positive  \\nThe Audit Partner or Audit Director is a visionary leader responsible for shaping the strategic direction of the audit function and driving organizational growth through innovation and sound governance. This role involves developing forward-thinking audit strategies, strengthening internal controls, and fostering a culture of excellence and accountability across teams. The individual plays a key role in identifying emerging opportunities to deliver enhanced value to current clients, proposing scalable solutions, and expanding service offerings to meet evolving market needs. By implementing robust frameworks for quality assurance and risk management—integrating financial, operational, regulatory, and sustainability considerations—the Audit Partner/Director ensures resilience and compliance in all operations, ultimately supporting sustainable business performance.\\n\\n## Negative  \\nThe Junior Auditor is tasked with assisting in daily fieldwork and data collection under supervision, ensuring accuracy in documentation and adherence to standard operating procedures. While maintaining meticulous records and completing assigned tasks, the junior auditor supports team efforts in preparing preliminary reports and conducting basic compliance checks. Responsibilities include reconciling financial statements, verifying transaction details, and participating in internal control reviews. Though trained in procedural compliance, the role does not involve high-level strategy formulation, client expansion, or organizational culture development. Instead, it focuses on executing routine audit tasks within defined guidelines, contributing to operational efficiency without requiring independent judgment or risk assessment decisions.', 'statistics_easy_triplets': {'input_tokens': 392, 'output_tokens': 254}}",
         "Qwen/Qwen3-4B-Instruct-2507"
        ],
        [
         "3",
         "Accountancy",
         "Assurance",
         "Audit Senior",
         "The Audit Senior is expected to team lead various sizes of audit engagements which include planning, performing, reviewing of audit work performed by less experienced personnel and concluding the engagement. He/She works closely with team members to execute the audit plan and ensures the timely completion of the audit engagement. He also works closely with clients and manages their expectations to further nurture on-going client relationships. He is able to identify unethical behaviour and react based on the applicable ethical principles. The Audit Senior operates in work contexts that are less standardised and unanticipated changes can be frequent due to changes in the external environment. He is a trustworthy and meticulous individual.",
         "In accordance with: Singapore Standards on Auditing, Ethics Pronouncements in Singapore, Singapore Companies Act, and Singapore Financial Reporting Standards",
         "The Audit Senior leads diverse audit projects from inception to closure, overseeing planning, execution, and review of tasks carried out by junior team members. They collaborate directly with colleagues to ensure audits are conducted efficiently and on schedule, maintaining high standards of accuracy and compliance. The role involves active client interaction, where the Audit Senior communicates clearly, sets realistic expectations, and strengthens long-term client trust. They possess strong judgment in detecting potential misconduct and respond promptly using established ethical guidelines. Working in dynamic environments, the Audit Senior adapts quickly to evolving regulatory landscapes, business changes, or unexpected challenges. A key attribute is integrity—being dependable, detail-oriented, and committed to upholding professional accountability.",
         "The Junior Auditor supports smaller-scale audit activities under supervision, focusing on data collection, documentation, and basic testing procedures. They assist senior staff in preparing audit files and attend meetings to gain exposure to audit processes. While they may engage with clients during routine check-ins, they do not take ownership of project leadership or client relationship management. Their responsibilities remain within defined scopes, with minimal involvement in identifying ethical red flags or making independent judgments. The role operates within structured workflows and maintains consistency across engagements, with little need for adaptation to unpredictable environmental shifts. The individual demonstrates reliability and diligence in completing",
         "{'raw_input_easy_triplets': array([{'content': 'Your task is to generate a positive and a negative sentence given an anchor sentence. Take into account the context given. The positive sentence has to paraphrase the anchor sentence, while the negative sentence can use similar words but must not be related to the anchor sentence. You must output only two new sections: `## Positive` and `## Negative`.', 'role': 'system'},\n       {'content': '## Context\\n\\n\\nThe text is a job description from the Singapore SkillsFuture Framework. Your task is to generate realistic job descriptions from the provided description.\\n\\nFor the positive query, generate a realistic description for this role. Focus on creating variations that capture the essence of the role in different words, as if written by different people or organizations posting similar jobs.\\nFor the positive query, you are allowed to paraphrase the job role name as long as the description has similar meaning.\\n\\nFor negative descriptions you are allowed to choose from the following strategies\\n\\n1. Same industry, different seniority level (Senior → Junior or Vice versa)\\n2. Same industry, different function (Business Valuation → Risk Management)\\n3. Similar skills, different domain (Financial Analysis in Banking vs Healthcare)\\n4. Same title, different industry context\\n\\nThe query should always include the job role. Start the description with The <job role>.\\n\\n\\n\\n## Anchor\\n\\nThe Audit Senior is expected to team lead various sizes of audit engagements which include planning, performing, reviewing of audit work performed by less experienced personnel and concluding the engagement. He/She works closely with team members to execute the audit plan and ensures the timely completion of the audit engagement. He also works closely with clients and manages their expectations to further nurture on-going client relationships. He is able to identify unethical behaviour and react based on the applicable ethical principles. The Audit Senior operates in work contexts that are less standardised and unanticipated changes can be frequent due to changes in the external environment. He is a trustworthy and meticulous individual.\\n', 'role': 'user'}],\n      dtype=object), 'raw_output_easy_triplets': '## Positive  \\nThe Audit Senior leads diverse audit projects from inception to closure, overseeing planning, execution, and review of tasks carried out by junior team members. They collaborate directly with colleagues to ensure audits are conducted efficiently and on schedule, maintaining high standards of accuracy and compliance. The role involves active client interaction, where the Audit Senior communicates clearly, sets realistic expectations, and strengthens long-term client trust. They possess strong judgment in detecting potential misconduct and respond promptly using established ethical guidelines. Working in dynamic environments, the Audit Senior adapts quickly to evolving regulatory landscapes, business changes, or unexpected challenges. A key attribute is integrity—being dependable, detail-oriented, and committed to upholding professional accountability.\\n\\n## Negative  \\nThe Junior Auditor supports smaller-scale audit activities under supervision, focusing on data collection, documentation, and basic testing procedures. They assist senior staff in preparing audit files and attend meetings to gain exposure to audit processes. While they may engage with clients during routine check-ins, they do not take ownership of project leadership or client relationship management. Their responsibilities remain within defined scopes, with minimal involvement in identifying ethical red flags or making independent judgments. The role operates within structured workflows and maintains consistency across engagements, with little need for adaptation to unpredictable environmental shifts. The individual demonstrates reliability and diligence in completing', 'statistics_easy_triplets': {'input_tokens': 378, 'output_tokens': 256}}",
         "Qwen/Qwen3-4B-Instruct-2507"
        ],
        [
         "4",
         "Accountancy",
         "Business Valuation",
         "Business Valuation Associate / Business Valuation Executive",
         "The Business Valuation Associate/Business Valuation Executive has significant responsibility for execution of deliverables. He/She needs to work hands-on on the valuation analysis. He is expected to adhere to standards of ethics and maintain quality assurance in processes. The Business Valuation Associate/Business Valuation Executive participates in business development and stakeholder interaction. He has minimal experience and is expected to embark on a steep learning curve to acquire various skills and expertise in business valuation including valuation of intangible assets. He possesses strong time management and communication skills.",
         "In accordance with the International Valuation Standards Council's Code of Ethical Principles for Professional Valuers",
         "The Business Valuation Analyst supports the full lifecycle of valuation projects, working directly on financial modeling, market comparables, and asset-based analyses. This role requires strict adherence to professional valuation standards and ethical practices, with a focus on maintaining high-quality outputs through rigorous process controls. The candidate will actively engage with clients and internal stakeholders to understand business requirements and drive accurate valuations. While entry-level, the role involves rapid skill acquisition across key areas such as intangible asset valuation, emerging technologies, and sector-specific methodologies. Strong organizational abilities and clear communication are essential to manage multiple tasks efficiently under tight deadlines.",
         "The Junior Accountant maintains daily bookkeeping records and prepares basic financial reports for small businesses. This role involves routine data entry, reconciliations, and support to senior staff in generating monthly statements. The employee follows standard accounting procedures and ensures accuracy within set guidelines. Minimal prior experience is required, and the position emphasizes foundational knowledge of accounting principles and attention to detail. Time management and clear reporting are valued traits to ensure timely submission of documents.",
         "{'raw_input_easy_triplets': array([{'content': 'Your task is to generate a positive and a negative sentence given an anchor sentence. Take into account the context given. The positive sentence has to paraphrase the anchor sentence, while the negative sentence can use similar words but must not be related to the anchor sentence. You must output only two new sections: `## Positive` and `## Negative`.', 'role': 'system'},\n       {'content': '## Context\\n\\n\\nThe text is a job description from the Singapore SkillsFuture Framework. Your task is to generate realistic job descriptions from the provided description.\\n\\nFor the positive query, generate a realistic description for this role. Focus on creating variations that capture the essence of the role in different words, as if written by different people or organizations posting similar jobs.\\nFor the positive query, you are allowed to paraphrase the job role name as long as the description has similar meaning.\\n\\nFor negative descriptions you are allowed to choose from the following strategies\\n\\n1. Same industry, different seniority level (Senior → Junior or Vice versa)\\n2. Same industry, different function (Business Valuation → Risk Management)\\n3. Similar skills, different domain (Financial Analysis in Banking vs Healthcare)\\n4. Same title, different industry context\\n\\nThe query should always include the job role. Start the description with The <job role>.\\n\\n\\n\\n## Anchor\\n\\nThe Business Valuation Associate/Business Valuation Executive has significant responsibility for execution of deliverables. He/She needs to work hands-on on the valuation analysis. He is expected to adhere to standards of ethics and maintain quality assurance in processes. The Business Valuation Associate/Business Valuation Executive participates in business development and stakeholder interaction. He has minimal experience and is expected to embark on a steep learning curve to acquire various skills and expertise in business valuation including valuation of intangible assets. He possesses strong time management and communication skills.\\n', 'role': 'user'}],\n      dtype=object), 'raw_output_easy_triplets': '## Positive  \\nThe Business Valuation Analyst supports the full lifecycle of valuation projects, working directly on financial modeling, market comparables, and asset-based analyses. This role requires strict adherence to professional valuation standards and ethical practices, with a focus on maintaining high-quality outputs through rigorous process controls. The candidate will actively engage with clients and internal stakeholders to understand business requirements and drive accurate valuations. While entry-level, the role involves rapid skill acquisition across key areas such as intangible asset valuation, emerging technologies, and sector-specific methodologies. Strong organizational abilities and clear communication are essential to manage multiple tasks efficiently under tight deadlines.\\n\\n## Negative  \\nThe Junior Accountant maintains daily bookkeeping records and prepares basic financial reports for small businesses. This role involves routine data entry, reconciliations, and support to senior staff in generating monthly statements. The employee follows standard accounting procedures and ensures accuracy within set guidelines. Minimal prior experience is required, and the position emphasizes foundational knowledge of accounting principles and attention to detail. Time management and clear reporting are valued traits to ensure timely submission of documents.', 'statistics_easy_triplets': {'input_tokens': 359, 'output_tokens': 212}}",
         "Qwen/Qwen3-4B-Instruct-2507"
        ],
        [
         "5",
         "Accountancy",
         "Business Valuation",
         "Business Valuation Manager",
         "The Business Valuation Manager is second in charge of various functions including managing the valuation, generating and supporting the business, quality control, technical leadership as well as sourcing appropriate staff for the team. The Business Valuation Manager is a technical expert in all areas of valuation including valuation of intangible assets. He/She should possess considerable amount of experience in valuation, client, stakeholder and business management, project management and team development.",
         "In accordance with the International Valuation Standards Council's Code of Ethical Principles for Professional Valuers",
         "The Business Valuation Lead oversees key functions such as valuation analysis, business planning, quality assurance, technical guidance, and talent acquisition within the team. This role requires deep expertise in assessing corporate value—particularly in intangible assets like intellectual property, brand equity, and customer relationships—and demands proven experience in client engagement, cross-functional collaboration, project execution, and building high-performing teams.",
         "The Junior Business Analyst supports the operations team by conducting basic financial data entry, preparing reports, and assisting with workflow documentation. The role involves light data compilation and process tracking, with minimal exposure to valuation techniques or stakeholder management. While some familiarity with financial systems is required, this position does not involve technical valuation, team leadership, or strategic decision-making.",
         "{'raw_input_easy_triplets': array([{'content': 'Your task is to generate a positive and a negative sentence given an anchor sentence. Take into account the context given. The positive sentence has to paraphrase the anchor sentence, while the negative sentence can use similar words but must not be related to the anchor sentence. You must output only two new sections: `## Positive` and `## Negative`.', 'role': 'system'},\n       {'content': '## Context\\n\\n\\nThe text is a job description from the Singapore SkillsFuture Framework. Your task is to generate realistic job descriptions from the provided description.\\n\\nFor the positive query, generate a realistic description for this role. Focus on creating variations that capture the essence of the role in different words, as if written by different people or organizations posting similar jobs.\\nFor the positive query, you are allowed to paraphrase the job role name as long as the description has similar meaning.\\n\\nFor negative descriptions you are allowed to choose from the following strategies\\n\\n1. Same industry, different seniority level (Senior → Junior or Vice versa)\\n2. Same industry, different function (Business Valuation → Risk Management)\\n3. Similar skills, different domain (Financial Analysis in Banking vs Healthcare)\\n4. Same title, different industry context\\n\\nThe query should always include the job role. Start the description with The <job role>.\\n\\n\\n\\n## Anchor\\n\\nThe Business Valuation Manager is second in charge of various functions including managing the valuation, generating and supporting the business, quality control, technical leadership as well as sourcing appropriate staff for the team. The Business Valuation Manager is a technical expert in all areas of valuation including valuation of intangible assets. He/She should possess considerable amount of experience in valuation, client, stakeholder and business management, project management and team development.\\n', 'role': 'user'}],\n      dtype=object), 'raw_output_easy_triplets': '## Positive  \\nThe Business Valuation Lead oversees key functions such as valuation analysis, business planning, quality assurance, technical guidance, and talent acquisition within the team. This role requires deep expertise in assessing corporate value—particularly in intangible assets like intellectual property, brand equity, and customer relationships—and demands proven experience in client engagement, cross-functional collaboration, project execution, and building high-performing teams.\\n\\n## Negative  \\nThe Junior Business Analyst supports the operations team by conducting basic financial data entry, preparing reports, and assisting with workflow documentation. The role involves light data compilation and process tracking, with minimal exposure to valuation techniques or stakeholder management. While some familiarity with financial systems is required, this position does not involve technical valuation, team leadership, or strategic decision-making.', 'statistics_easy_triplets': {'input_tokens': 338, 'output_tokens': 152}}",
         "Qwen/Qwen3-4B-Instruct-2507"
        ],
        [
         "6",
         "Accountancy",
         "Business Valuation",
         "Business Valuation Partner / Business Valuation Director",
         "The Business Valuation Partner/Business Valuation Director is a team leader in charge of various functions including generating business and growing the business, quality control, technical leadership as well as sourcing appropriate staff for the team. He/She is given the signing authority for any client deliverables in a consultancy role, or responsibility for corporate development in-house. He is not only responsible for the quality of technical output, but also for risk management for the business. The Business Valuation Partner/Business Valuation Director is also looked upon as an expert in valuation and should possess considerable amount of valuation experience including valuation of intangible assets. He is responsible for marketing and business development, client and stakeholder relationship management, and making decisions on engagements and client acceptance.",
         "In accordance with the International Valuation Standards Council's Code of Ethical Principles for Professional Valuers",
         "The Business Valuation Director leads a dynamic team focused on strategic business growth, ensuring high-quality valuations across diverse industries. This role involves driving business development through proactive marketing, managing key client relationships, and overseeing engagement decisions. As a technical leader, the Director provides expert guidance in valuation methodologies—especially those involving intangible assets—and ensures rigorous quality control throughout all deliverables. With full authority over client project approvals and decision-making, they play a pivotal role in both operational excellence and corporate strategy. They lead talent acquisition, mentor junior professionals, and maintain strong compliance and risk oversight to support sustainable business expansion.",
         "The Junior Financial Analyst supports daily accounting tasks and prepares basic financial reports for internal departments. This role focuses on data entry, reconciliations, and assisting with budgeting processes under supervision. While the analyst may assist in compiling simple financial summaries, they do not have decision-making authority or involvement in client engagements. Responsibilities are limited to transactional reporting and do not extend to valuation techniques, risk assessments, or strategic business planning. The role operates within a finance department without direct exposure to market analysis, intangible asset evaluation, or external stakeholder relationship management.",
         "{'raw_input_easy_triplets': array([{'content': 'Your task is to generate a positive and a negative sentence given an anchor sentence. Take into account the context given. The positive sentence has to paraphrase the anchor sentence, while the negative sentence can use similar words but must not be related to the anchor sentence. You must output only two new sections: `## Positive` and `## Negative`.', 'role': 'system'},\n       {'content': '## Context\\n\\n\\nThe text is a job description from the Singapore SkillsFuture Framework. Your task is to generate realistic job descriptions from the provided description.\\n\\nFor the positive query, generate a realistic description for this role. Focus on creating variations that capture the essence of the role in different words, as if written by different people or organizations posting similar jobs.\\nFor the positive query, you are allowed to paraphrase the job role name as long as the description has similar meaning.\\n\\nFor negative descriptions you are allowed to choose from the following strategies\\n\\n1. Same industry, different seniority level (Senior → Junior or Vice versa)\\n2. Same industry, different function (Business Valuation → Risk Management)\\n3. Similar skills, different domain (Financial Analysis in Banking vs Healthcare)\\n4. Same title, different industry context\\n\\nThe query should always include the job role. Start the description with The <job role>.\\n\\n\\n\\n## Anchor\\n\\nThe Business Valuation Partner/Business Valuation Director is a team leader in charge of various functions including generating business and growing the business, quality control, technical leadership as well as sourcing appropriate staff for the team. He/She is given the signing authority for any client deliverables in a consultancy role, or responsibility for corporate development in-house. He is not only responsible for the quality of technical output, but also for risk management for the business. The Business Valuation Partner/Business Valuation Director is also looked upon as an expert in valuation and should possess considerable amount of valuation experience including valuation of intangible assets. He is responsible for marketing and business development, client and stakeholder relationship management, and making decisions on engagements and client acceptance.\\n', 'role': 'user'}],\n      dtype=object), 'raw_output_easy_triplets': '## Positive  \\nThe Business Valuation Director leads a dynamic team focused on strategic business growth, ensuring high-quality valuations across diverse industries. This role involves driving business development through proactive marketing, managing key client relationships, and overseeing engagement decisions. As a technical leader, the Director provides expert guidance in valuation methodologies—especially those involving intangible assets—and ensures rigorous quality control throughout all deliverables. With full authority over client project approvals and decision-making, they play a pivotal role in both operational excellence and corporate strategy. They lead talent acquisition, mentor junior professionals, and maintain strong compliance and risk oversight to support sustainable business expansion.\\n\\n## Negative  \\nThe Junior Financial Analyst supports daily accounting tasks and prepares basic financial reports for internal departments. This role focuses on data entry, reconciliations, and assisting with budgeting processes under supervision. While the analyst may assist in compiling simple financial summaries, they do not have decision-making authority or involvement in client engagements. Responsibilities are limited to transactional reporting and do not extend to valuation techniques, risk assessments, or strategic business planning. The role operates within a finance department without direct exposure to market analysis, intangible asset evaluation, or external stakeholder relationship management.', 'statistics_easy_triplets': {'input_tokens': 401, 'output_tokens': 236}}",
         "Qwen/Qwen3-4B-Instruct-2507"
        ],
        [
         "7",
         "Accountancy",
         "Business Valuation",
         "Business Valuation Senior / Business Valuation Senior Executive",
         "The Business Valuation Senior/Business Valuation Senior Executive is in charge of day to day operations, from a valuation perspective. He/She manages the valuation exercise for the client engagements that he is responsible for, or the business that he belongs to. He is expected to adhere to standards of ethics and maintain quality assurance in processes. The Business Valuation Senior/Business Valuation Senior Executive participates in business development and is expected to interact with stakeholders to manage project deliverables and timeline. He has a significant level of technical expertise including valuation of intangible assets and is very hands on with the valuation exercise. He possesses strong time management and communication skills.",
         "In accordance with the International Valuation Standards Council's Code of Ethical Principles for Professional Valuers",
         "The Business Valuation Specialist is responsible for leading and managing full-cycle valuation projects across diverse client portfolios. This role involves conducting detailed valuations, particularly focusing on intangible assets such as intellectual property, brand value, and customer relationships. The specialist ensures compliance with established professional standards and maintains rigorous quality control throughout all valuation processes. Active participation in business growth initiatives and stakeholder engagement is required, including regular coordination with clients to define scope, track timelines, and deliver accurate, actionable insights. Strong analytical abilities, technical precision, and effective communication are essential to meet tight deadlines and uphold high service standards.",
         "The IT Support Technician provides assistance with hardware troubleshooting, software installation, and user training within a corporate office environment. This role focuses on ensuring daily operational efficiency of technology systems, resolving device issues, and supporting end-users through helpdesk channels. The technician follows standard operating procedures, documents incidents, and collaborates with department heads to address system outages. While technically proficient in basic computer systems, this position does not involve financial analysis, market evaluation, or valuation methodologies, nor does it require interaction with complex business models or strategic planning frameworks.",
         "{'raw_input_easy_triplets': array([{'content': 'Your task is to generate a positive and a negative sentence given an anchor sentence. Take into account the context given. The positive sentence has to paraphrase the anchor sentence, while the negative sentence can use similar words but must not be related to the anchor sentence. You must output only two new sections: `## Positive` and `## Negative`.', 'role': 'system'},\n       {'content': '## Context\\n\\n\\nThe text is a job description from the Singapore SkillsFuture Framework. Your task is to generate realistic job descriptions from the provided description.\\n\\nFor the positive query, generate a realistic description for this role. Focus on creating variations that capture the essence of the role in different words, as if written by different people or organizations posting similar jobs.\\nFor the positive query, you are allowed to paraphrase the job role name as long as the description has similar meaning.\\n\\nFor negative descriptions you are allowed to choose from the following strategies\\n\\n1. Same industry, different seniority level (Senior → Junior or Vice versa)\\n2. Same industry, different function (Business Valuation → Risk Management)\\n3. Similar skills, different domain (Financial Analysis in Banking vs Healthcare)\\n4. Same title, different industry context\\n\\nThe query should always include the job role. Start the description with The <job role>.\\n\\n\\n\\n## Anchor\\n\\nThe Business Valuation Senior/Business Valuation Senior Executive is in charge of day to day operations, from a valuation perspective. He/She manages the valuation exercise for the client engagements that he is responsible for, or the business that he belongs to. He is expected to adhere to standards of ethics and maintain quality assurance in processes. The Business Valuation Senior/Business Valuation Senior Executive participates in business development and is expected to interact with stakeholders to manage project deliverables and timeline. He has a significant level of technical expertise including valuation of intangible assets and is very hands on with the valuation exercise. He possesses strong time management and communication skills.\\n', 'role': 'user'}],\n      dtype=object), 'raw_output_easy_triplets': '## Positive  \\nThe Business Valuation Specialist is responsible for leading and managing full-cycle valuation projects across diverse client portfolios. This role involves conducting detailed valuations, particularly focusing on intangible assets such as intellectual property, brand value, and customer relationships. The specialist ensures compliance with established professional standards and maintains rigorous quality control throughout all valuation processes. Active participation in business growth initiatives and stakeholder engagement is required, including regular coordination with clients to define scope, track timelines, and deliver accurate, actionable insights. Strong analytical abilities, technical precision, and effective communication are essential to meet tight deadlines and uphold high service standards.\\n\\n## Negative  \\nThe IT Support Technician provides assistance with hardware troubleshooting, software installation, and user training within a corporate office environment. This role focuses on ensuring daily operational efficiency of technology systems, resolving device issues, and supporting end-users through helpdesk channels. The technician follows standard operating procedures, documents incidents, and collaborates with department heads to address system outages. While technically proficient in basic computer systems, this position does not involve financial analysis, market evaluation, or valuation methodologies, nor does it require interaction with complex business models or strategic planning frameworks.', 'statistics_easy_triplets': {'input_tokens': 382, 'output_tokens': 230}}",
         "Qwen/Qwen3-4B-Instruct-2507"
        ],
        [
         "8",
         "Accountancy",
         "Enterprise Risk Management",
         "Chief Risk Officer / Risk Partner / Head of Risk / Enterprise Risk Management Director",
         "The Chief Risk Officer/Risk Partner/Head of Risk/Enterprise Risk Management Director manages the overall risk exposure across the organisation in collaboration with relevant business units and senior stakeholders. He/She develops and defines enterprise-level policies and frameworks which establishes acceptable risk appetite and strategies to maintain the organisation's collective risk exposure. He reviews the monitoring and management of enterprise risk exposure, including identifying and measuring risks from an organisational level, and implementing appropriate risk controls across the organisation. He also leads planning for recovery and resolution activities after high-risk incidents in collaboration with business units. The Chief Risk Officer/Risk Partner/Head of Risk/Enterprise Risk Management Director is strategically oriented, well-versed with all aspects of the business including decision-making processes and able to connect the dots to achieve outcomes. He is conceptual, highly experienced in various risk disciplines and takes a big picture approach. He is an influential leader, leading and developing the team, and works well with a wide range of senior stakeholders. He has strong interpersonal skills and the ability to change undesirable behaviours with more desirable ones.",
         null,
         "The Enterprise Risk Management Director oversees the organisation’s comprehensive risk posture by working closely with key business leaders and senior executives. This role designs and implements enterprise-wide risk policies, clearly defining the company’s risk tolerance and strategic risk mitigation plans. The director systematically evaluates risks at an organisational level, conducts thorough assessments, and ensures robust risk control mechanisms are embedded throughout operations. They lead post-incident recovery and crisis response planning in partnership with business functions. A strategic thinker with deep business acumen, this individual understands how decisions impact risk profiles and aligns risk management with business objectives. Highly analytical and proactive, they bring a holistic view of risk across all domains and serve as a trusted advisor to leadership. With strong leadership and communication abilities, they guide and mentor the risk function, foster cross-functional collaboration, and drive cultural improvements in risk awareness and accountability.",
         "The Junior Risk Analyst supports the daily monitoring of financial transactions within a retail e-commerce platform, focusing on detecting anomalies and ensuring compliance with internal policies. This role involves inputting data into automated reporting tools, flagging potential discrepancies, and assisting senior staff during routine audits. The analyst follows established procedures, performs basic risk screening, and contributes to weekly risk updates without formulating overarching risk strategies or engaging in large-scale incident",
         "{'raw_input_easy_triplets': array([{'content': 'Your task is to generate a positive and a negative sentence given an anchor sentence. Take into account the context given. The positive sentence has to paraphrase the anchor sentence, while the negative sentence can use similar words but must not be related to the anchor sentence. You must output only two new sections: `## Positive` and `## Negative`.', 'role': 'system'},\n       {'content': \"## Context\\n\\n\\nThe text is a job description from the Singapore SkillsFuture Framework. Your task is to generate realistic job descriptions from the provided description.\\n\\nFor the positive query, generate a realistic description for this role. Focus on creating variations that capture the essence of the role in different words, as if written by different people or organizations posting similar jobs.\\nFor the positive query, you are allowed to paraphrase the job role name as long as the description has similar meaning.\\n\\nFor negative descriptions you are allowed to choose from the following strategies\\n\\n1. Same industry, different seniority level (Senior → Junior or Vice versa)\\n2. Same industry, different function (Business Valuation → Risk Management)\\n3. Similar skills, different domain (Financial Analysis in Banking vs Healthcare)\\n4. Same title, different industry context\\n\\nThe query should always include the job role. Start the description with The <job role>.\\n\\n\\n\\n## Anchor\\n\\nThe Chief Risk Officer/Risk Partner/Head of Risk/Enterprise Risk Management Director manages the overall risk exposure across the organisation in collaboration with relevant business units and senior stakeholders. He/She develops and defines enterprise-level policies and frameworks which establishes acceptable risk appetite and strategies to maintain the organisation's collective risk exposure. He reviews the monitoring and management of enterprise risk exposure, including identifying and measuring risks from an organisational level, and implementing appropriate risk controls across the organisation. He also leads planning for recovery and resolution activities after high-risk incidents in collaboration with business units. The Chief Risk Officer/Risk Partner/Head of Risk/Enterprise Risk Management Director is strategically oriented, well-versed with all aspects of the business including decision-making processes and able to connect the dots to achieve outcomes. He is conceptual, highly experienced in various risk disciplines and takes a big picture approach. He is an influential leader, leading and developing the team, and works well with a wide range of senior stakeholders. He has strong interpersonal skills and the ability to change undesirable behaviours with more desirable ones.\\n\", 'role': 'user'}],\n      dtype=object), 'raw_output_easy_triplets': '## Positive  \\nThe Enterprise Risk Management Director oversees the organisation’s comprehensive risk posture by working closely with key business leaders and senior executives. This role designs and implements enterprise-wide risk policies, clearly defining the company’s risk tolerance and strategic risk mitigation plans. The director systematically evaluates risks at an organisational level, conducts thorough assessments, and ensures robust risk control mechanisms are embedded throughout operations. They lead post-incident recovery and crisis response planning in partnership with business functions. A strategic thinker with deep business acumen, this individual understands how decisions impact risk profiles and aligns risk management with business objectives. Highly analytical and proactive, they bring a holistic view of risk across all domains and serve as a trusted advisor to leadership. With strong leadership and communication abilities, they guide and mentor the risk function, foster cross-functional collaboration, and drive cultural improvements in risk awareness and accountability.\\n\\n## Negative  \\nThe Junior Risk Analyst supports the daily monitoring of financial transactions within a retail e-commerce platform, focusing on detecting anomalies and ensuring compliance with internal policies. This role involves inputting data into automated reporting tools, flagging potential discrepancies, and assisting senior staff during routine audits. The analyst follows established procedures, performs basic risk screening, and contributes to weekly risk updates without formulating overarching risk strategies or engaging in large-scale incident', 'statistics_easy_triplets': {'input_tokens': 464, 'output_tokens': 256}}",
         "Qwen/Qwen3-4B-Instruct-2507"
        ],
        [
         "9",
         "Accountancy",
         "Enterprise Risk Management",
         "Enterprise Risk Management Associate / Enterprise Risk Management Executive",
         "The Enterprise Risk Management Associate/Enterprise Risk Management Executive is responsible for supporting the implementation of enterprise risk management (ERM) activities, as well as policy and process maintenance. He/She gathers information, monitors and flags issues within ERM systems. He assists in preparing documents and reports for management review. He monitors adherence to risk policy and guidelines, supporting overall communication and risk reporting mechanisms. He also supports identification of resolution activities after high-risk incidents. The Enterprise Risk Management Associate/Enterprise Risk Management Executive is inquisitive, adaptable, a quick learner and is able to execute work independently. He is highly motivated, takes initiative and able to deliver outcomes as required. He is also analytical, and process and task-oriented in carrying out required procedures. He possesses strong time management, interpersonal and communication skills. The Enterprise Risk Management Associate/Enterprise Risk Management Executive would typically have had prior exposure to other accounting and advisory functions, and is expected to embark on a steep learning curve to acquire ERM skills and expertise. He has basic knowledge of organisations' business model and culture.",
         null,
         "The Enterprise Risk Management Support Specialist plays a key role in advancing organisational resilience by assisting in the design, monitoring, and execution of enterprise risk management initiatives. This role involves collecting data across departments, identifying potential risks, and alerting stakeholders through timely flagging of system-level anomalies. The specialist contributes to the preparation of executive-level risk reports and maintains compliance with established risk policies and operational guidelines. They actively support post-incident reviews to identify root causes and recommend actionable mitigation strategies. A strong sense of curiosity, adaptability, and self-motivation is essential, along with the ability to manage multiple tasks efficiently under tight deadlines. Excellent communication and interpersonal abilities are critical for collaborating across teams and ensuring clear risk messaging throughout the organisation. While foundational understanding of business operations and corporate culture is expected, the individual will undergo structured training to build advanced ERM competencies quickly.",
         "The Junior Accounts Payable Clerk is responsible for processing supplier invoices, verifying payment details, maintaining accurate records in the accounts payable system, and coordinating with finance and procurement teams to ensure timely payments. This position requires attention to detail, basic bookkeeping knowledge, and familiarity with financial software. The clerk follows established procedures to ensure compliance with internal controls and company policies. They assist in reconciling monthly statements",
         "{'raw_input_easy_triplets': array([{'content': 'Your task is to generate a positive and a negative sentence given an anchor sentence. Take into account the context given. The positive sentence has to paraphrase the anchor sentence, while the negative sentence can use similar words but must not be related to the anchor sentence. You must output only two new sections: `## Positive` and `## Negative`.', 'role': 'system'},\n       {'content': \"## Context\\n\\n\\nThe text is a job description from the Singapore SkillsFuture Framework. Your task is to generate realistic job descriptions from the provided description.\\n\\nFor the positive query, generate a realistic description for this role. Focus on creating variations that capture the essence of the role in different words, as if written by different people or organizations posting similar jobs.\\nFor the positive query, you are allowed to paraphrase the job role name as long as the description has similar meaning.\\n\\nFor negative descriptions you are allowed to choose from the following strategies\\n\\n1. Same industry, different seniority level (Senior → Junior or Vice versa)\\n2. Same industry, different function (Business Valuation → Risk Management)\\n3. Similar skills, different domain (Financial Analysis in Banking vs Healthcare)\\n4. Same title, different industry context\\n\\nThe query should always include the job role. Start the description with The <job role>.\\n\\n\\n\\n## Anchor\\n\\nThe Enterprise Risk Management Associate/Enterprise Risk Management Executive is responsible for supporting the implementation of enterprise risk management (ERM) activities, as well as policy and process maintenance. He/She gathers information, monitors and flags issues within ERM systems. He assists in preparing documents and reports for management review. He monitors adherence to risk policy and guidelines, supporting overall communication and risk reporting mechanisms. He also supports identification of resolution activities after high-risk incidents. The Enterprise Risk Management Associate/Enterprise Risk Management Executive is inquisitive, adaptable, a quick learner and is able to execute work independently. He is highly motivated, takes initiative and able to deliver outcomes as required. He is also analytical, and process and task-oriented in carrying out required procedures. He possesses strong time management, interpersonal and communication skills. The Enterprise Risk Management Associate/Enterprise Risk Management Executive would typically have had prior exposure to other accounting and advisory functions, and is expected to embark on a steep learning curve to acquire ERM skills and expertise. He has basic knowledge of organisations' business model and culture.\\n\", 'role': 'user'}],\n      dtype=object), 'raw_output_easy_triplets': '## Positive  \\nThe Enterprise Risk Management Support Specialist plays a key role in advancing organisational resilience by assisting in the design, monitoring, and execution of enterprise risk management initiatives. This role involves collecting data across departments, identifying potential risks, and alerting stakeholders through timely flagging of system-level anomalies. The specialist contributes to the preparation of executive-level risk reports and maintains compliance with established risk policies and operational guidelines. They actively support post-incident reviews to identify root causes and recommend actionable mitigation strategies. A strong sense of curiosity, adaptability, and self-motivation is essential, along with the ability to manage multiple tasks efficiently under tight deadlines. Excellent communication and interpersonal abilities are critical for collaborating across teams and ensuring clear risk messaging throughout the organisation. While foundational understanding of business operations and corporate culture is expected, the individual will undergo structured training to build advanced ERM competencies quickly.\\n\\n## Negative  \\nThe Junior Accounts Payable Clerk is responsible for processing supplier invoices, verifying payment details, maintaining accurate records in the accounts payable system, and coordinating with finance and procurement teams to ensure timely payments. This position requires attention to detail, basic bookkeeping knowledge, and familiarity with financial software. The clerk follows established procedures to ensure compliance with internal controls and company policies. They assist in reconciling monthly statements', 'statistics_easy_triplets': {'input_tokens': 464, 'output_tokens': 256}}",
         "Qwen/Qwen3-4B-Instruct-2507"
        ]
       ],
       "shape": {
        "columns": 9,
        "rows": 10
       }
      },
      "text/html": [
       "<div>\n",
       "<style scoped>\n",
       "    .dataframe tbody tr th:only-of-type {\n",
       "        vertical-align: middle;\n",
       "    }\n",
       "\n",
       "    .dataframe tbody tr th {\n",
       "        vertical-align: top;\n",
       "    }\n",
       "\n",
       "    .dataframe thead th {\n",
       "        text-align: right;\n",
       "    }\n",
       "</style>\n",
       "<table border=\"1\" class=\"dataframe\">\n",
       "  <thead>\n",
       "    <tr style=\"text-align: right;\">\n",
       "      <th></th>\n",
       "      <th>Sector</th>\n",
       "      <th>Track</th>\n",
       "      <th>Job Role</th>\n",
       "      <th>anchor</th>\n",
       "      <th>Performance Expectation</th>\n",
       "      <th>positive</th>\n",
       "      <th>negative</th>\n",
       "      <th>distilabel_metadata</th>\n",
       "      <th>model_name</th>\n",
       "    </tr>\n",
       "  </thead>\n",
       "  <tbody>\n",
       "    <tr>\n",
       "      <th>0</th>\n",
       "      <td>Accountancy</td>\n",
       "      <td>Assurance</td>\n",
       "      <td>Audit Associate / Audit Assistant Associate</td>\n",
       "      <td>The Audit Associate/Audit Assistant Associate ...</td>\n",
       "      <td>In accordance with: Singapore Standards on Aud...</td>\n",
       "      <td>The Audit Assistant undertakes hands-on audit ...</td>\n",
       "      <td>The Junior Financial Analyst supports daily op...</td>\n",
       "      <td>{'raw_input_easy_triplets': [{'content': 'Your...</td>\n",
       "      <td>Qwen/Qwen3-4B-Instruct-2507</td>\n",
       "    </tr>\n",
       "    <tr>\n",
       "      <th>1</th>\n",
       "      <td>Accountancy</td>\n",
       "      <td>Assurance</td>\n",
       "      <td>Audit Manager</td>\n",
       "      <td>The Audit Senior Manager/Audit Manager manages...</td>\n",
       "      <td>In accordance with: Singapore Standards on Aud...</td>\n",
       "      <td>The Audit Senior Manager oversees a diverse ra...</td>\n",
       "      <td>The Junior Auditor supports day-to-day account...</td>\n",
       "      <td>{'raw_input_easy_triplets': [{'content': 'Your...</td>\n",
       "      <td>Qwen/Qwen3-4B-Instruct-2507</td>\n",
       "    </tr>\n",
       "    <tr>\n",
       "      <th>2</th>\n",
       "      <td>Accountancy</td>\n",
       "      <td>Assurance</td>\n",
       "      <td>Audit Partner / Audit Director</td>\n",
       "      <td>The Audit Partner/Audit Director is a transfor...</td>\n",
       "      <td>In accordance with: Singapore Standards on Aud...</td>\n",
       "      <td>The Audit Partner or Audit Director is a visio...</td>\n",
       "      <td>The Junior Auditor is tasked with assisting in...</td>\n",
       "      <td>{'raw_input_easy_triplets': [{'content': 'Your...</td>\n",
       "      <td>Qwen/Qwen3-4B-Instruct-2507</td>\n",
       "    </tr>\n",
       "    <tr>\n",
       "      <th>3</th>\n",
       "      <td>Accountancy</td>\n",
       "      <td>Assurance</td>\n",
       "      <td>Audit Senior</td>\n",
       "      <td>The Audit Senior is expected to team lead vari...</td>\n",
       "      <td>In accordance with: Singapore Standards on Aud...</td>\n",
       "      <td>The Audit Senior leads diverse audit projects ...</td>\n",
       "      <td>The Junior Auditor supports smaller-scale audi...</td>\n",
       "      <td>{'raw_input_easy_triplets': [{'content': 'Your...</td>\n",
       "      <td>Qwen/Qwen3-4B-Instruct-2507</td>\n",
       "    </tr>\n",
       "    <tr>\n",
       "      <th>4</th>\n",
       "      <td>Accountancy</td>\n",
       "      <td>Business Valuation</td>\n",
       "      <td>Business Valuation Associate / Business Valuat...</td>\n",
       "      <td>The Business Valuation Associate/Business Valu...</td>\n",
       "      <td>In accordance with the International Valuation...</td>\n",
       "      <td>The Business Valuation Analyst supports the fu...</td>\n",
       "      <td>The Junior Accountant maintains daily bookkeep...</td>\n",
       "      <td>{'raw_input_easy_triplets': [{'content': 'Your...</td>\n",
       "      <td>Qwen/Qwen3-4B-Instruct-2507</td>\n",
       "    </tr>\n",
       "    <tr>\n",
       "      <th>5</th>\n",
       "      <td>Accountancy</td>\n",
       "      <td>Business Valuation</td>\n",
       "      <td>Business Valuation Manager</td>\n",
       "      <td>The Business Valuation Manager is second in ch...</td>\n",
       "      <td>In accordance with the International Valuation...</td>\n",
       "      <td>The Business Valuation Lead oversees key funct...</td>\n",
       "      <td>The Junior Business Analyst supports the opera...</td>\n",
       "      <td>{'raw_input_easy_triplets': [{'content': 'Your...</td>\n",
       "      <td>Qwen/Qwen3-4B-Instruct-2507</td>\n",
       "    </tr>\n",
       "    <tr>\n",
       "      <th>6</th>\n",
       "      <td>Accountancy</td>\n",
       "      <td>Business Valuation</td>\n",
       "      <td>Business Valuation Partner / Business Valuatio...</td>\n",
       "      <td>The Business Valuation Partner/Business Valuat...</td>\n",
       "      <td>In accordance with the International Valuation...</td>\n",
       "      <td>The Business Valuation Director leads a dynami...</td>\n",
       "      <td>The Junior Financial Analyst supports daily ac...</td>\n",
       "      <td>{'raw_input_easy_triplets': [{'content': 'Your...</td>\n",
       "      <td>Qwen/Qwen3-4B-Instruct-2507</td>\n",
       "    </tr>\n",
       "    <tr>\n",
       "      <th>7</th>\n",
       "      <td>Accountancy</td>\n",
       "      <td>Business Valuation</td>\n",
       "      <td>Business Valuation Senior / Business Valuation...</td>\n",
       "      <td>The Business Valuation Senior/Business Valuati...</td>\n",
       "      <td>In accordance with the International Valuation...</td>\n",
       "      <td>The Business Valuation Specialist is responsib...</td>\n",
       "      <td>The IT Support Technician provides assistance ...</td>\n",
       "      <td>{'raw_input_easy_triplets': [{'content': 'Your...</td>\n",
       "      <td>Qwen/Qwen3-4B-Instruct-2507</td>\n",
       "    </tr>\n",
       "    <tr>\n",
       "      <th>8</th>\n",
       "      <td>Accountancy</td>\n",
       "      <td>Enterprise Risk Management</td>\n",
       "      <td>Chief Risk Officer / Risk Partner / Head of Ri...</td>\n",
       "      <td>The Chief Risk Officer/Risk Partner/Head of Ri...</td>\n",
       "      <td>None</td>\n",
       "      <td>The Enterprise Risk Management Director overse...</td>\n",
       "      <td>The Junior Risk Analyst supports the daily mon...</td>\n",
       "      <td>{'raw_input_easy_triplets': [{'content': 'Your...</td>\n",
       "      <td>Qwen/Qwen3-4B-Instruct-2507</td>\n",
       "    </tr>\n",
       "    <tr>\n",
       "      <th>9</th>\n",
       "      <td>Accountancy</td>\n",
       "      <td>Enterprise Risk Management</td>\n",
       "      <td>Enterprise Risk Management Associate / Enterpr...</td>\n",
       "      <td>The Enterprise Risk Management Associate/Enter...</td>\n",
       "      <td>None</td>\n",
       "      <td>The Enterprise Risk Management Support Special...</td>\n",
       "      <td>The Junior Accounts Payable Clerk is responsib...</td>\n",
       "      <td>{'raw_input_easy_triplets': [{'content': 'Your...</td>\n",
       "      <td>Qwen/Qwen3-4B-Instruct-2507</td>\n",
       "    </tr>\n",
       "  </tbody>\n",
       "</table>\n",
       "</div>"
      ],
      "text/plain": [
       "        Sector                       Track  \\\n",
       "0  Accountancy                   Assurance   \n",
       "1  Accountancy                   Assurance   \n",
       "2  Accountancy                   Assurance   \n",
       "3  Accountancy                   Assurance   \n",
       "4  Accountancy          Business Valuation   \n",
       "5  Accountancy          Business Valuation   \n",
       "6  Accountancy          Business Valuation   \n",
       "7  Accountancy          Business Valuation   \n",
       "8  Accountancy  Enterprise Risk Management   \n",
       "9  Accountancy  Enterprise Risk Management   \n",
       "\n",
       "                                            Job Role  \\\n",
       "0        Audit Associate / Audit Assistant Associate   \n",
       "1                                      Audit Manager   \n",
       "2                     Audit Partner / Audit Director   \n",
       "3                                       Audit Senior   \n",
       "4  Business Valuation Associate / Business Valuat...   \n",
       "5                         Business Valuation Manager   \n",
       "6  Business Valuation Partner / Business Valuatio...   \n",
       "7  Business Valuation Senior / Business Valuation...   \n",
       "8  Chief Risk Officer / Risk Partner / Head of Ri...   \n",
       "9  Enterprise Risk Management Associate / Enterpr...   \n",
       "\n",
       "                                              anchor  \\\n",
       "0  The Audit Associate/Audit Assistant Associate ...   \n",
       "1  The Audit Senior Manager/Audit Manager manages...   \n",
       "2  The Audit Partner/Audit Director is a transfor...   \n",
       "3  The Audit Senior is expected to team lead vari...   \n",
       "4  The Business Valuation Associate/Business Valu...   \n",
       "5  The Business Valuation Manager is second in ch...   \n",
       "6  The Business Valuation Partner/Business Valuat...   \n",
       "7  The Business Valuation Senior/Business Valuati...   \n",
       "8  The Chief Risk Officer/Risk Partner/Head of Ri...   \n",
       "9  The Enterprise Risk Management Associate/Enter...   \n",
       "\n",
       "                             Performance Expectation  \\\n",
       "0  In accordance with: Singapore Standards on Aud...   \n",
       "1  In accordance with: Singapore Standards on Aud...   \n",
       "2  In accordance with: Singapore Standards on Aud...   \n",
       "3  In accordance with: Singapore Standards on Aud...   \n",
       "4  In accordance with the International Valuation...   \n",
       "5  In accordance with the International Valuation...   \n",
       "6  In accordance with the International Valuation...   \n",
       "7  In accordance with the International Valuation...   \n",
       "8                                               None   \n",
       "9                                               None   \n",
       "\n",
       "                                            positive  \\\n",
       "0  The Audit Assistant undertakes hands-on audit ...   \n",
       "1  The Audit Senior Manager oversees a diverse ra...   \n",
       "2  The Audit Partner or Audit Director is a visio...   \n",
       "3  The Audit Senior leads diverse audit projects ...   \n",
       "4  The Business Valuation Analyst supports the fu...   \n",
       "5  The Business Valuation Lead oversees key funct...   \n",
       "6  The Business Valuation Director leads a dynami...   \n",
       "7  The Business Valuation Specialist is responsib...   \n",
       "8  The Enterprise Risk Management Director overse...   \n",
       "9  The Enterprise Risk Management Support Special...   \n",
       "\n",
       "                                            negative  \\\n",
       "0  The Junior Financial Analyst supports daily op...   \n",
       "1  The Junior Auditor supports day-to-day account...   \n",
       "2  The Junior Auditor is tasked with assisting in...   \n",
       "3  The Junior Auditor supports smaller-scale audi...   \n",
       "4  The Junior Accountant maintains daily bookkeep...   \n",
       "5  The Junior Business Analyst supports the opera...   \n",
       "6  The Junior Financial Analyst supports daily ac...   \n",
       "7  The IT Support Technician provides assistance ...   \n",
       "8  The Junior Risk Analyst supports the daily mon...   \n",
       "9  The Junior Accounts Payable Clerk is responsib...   \n",
       "\n",
       "                                 distilabel_metadata  \\\n",
       "0  {'raw_input_easy_triplets': [{'content': 'Your...   \n",
       "1  {'raw_input_easy_triplets': [{'content': 'Your...   \n",
       "2  {'raw_input_easy_triplets': [{'content': 'Your...   \n",
       "3  {'raw_input_easy_triplets': [{'content': 'Your...   \n",
       "4  {'raw_input_easy_triplets': [{'content': 'Your...   \n",
       "5  {'raw_input_easy_triplets': [{'content': 'Your...   \n",
       "6  {'raw_input_easy_triplets': [{'content': 'Your...   \n",
       "7  {'raw_input_easy_triplets': [{'content': 'Your...   \n",
       "8  {'raw_input_easy_triplets': [{'content': 'Your...   \n",
       "9  {'raw_input_easy_triplets': [{'content': 'Your...   \n",
       "\n",
       "                    model_name  \n",
       "0  Qwen/Qwen3-4B-Instruct-2507  \n",
       "1  Qwen/Qwen3-4B-Instruct-2507  \n",
       "2  Qwen/Qwen3-4B-Instruct-2507  \n",
       "3  Qwen/Qwen3-4B-Instruct-2507  \n",
       "4  Qwen/Qwen3-4B-Instruct-2507  \n",
       "5  Qwen/Qwen3-4B-Instruct-2507  \n",
       "6  Qwen/Qwen3-4B-Instruct-2507  \n",
       "7  Qwen/Qwen3-4B-Instruct-2507  \n",
       "8  Qwen/Qwen3-4B-Instruct-2507  \n",
       "9  Qwen/Qwen3-4B-Instruct-2507  "
      ]
     },
     "execution_count": 10,
     "metadata": {},
     "output_type": "execute_result"
    }
   ],
   "source": [
    "distiset[\"default\"][\"train\"].to_pandas()"
   ]
  },
  {
   "cell_type": "markdown",
   "id": "rhj4ara3mn",
   "metadata": {},
   "source": [
    "## Publishing to Hugging Face Hub\n",
    "\n",
    "Finally, we can push our synthetic dataset to Hugging Face Hub for sharing and future use. This makes the dataset easily accessible for training embedding models or other downstream tasks.\n",
    "\n",
    "The dataset will be uploaded with all the generated triplets and metadata, ready for use in embedding training pipelines."
   ]
  },
  {
   "cell_type": "code",
   "execution_count": 11,
   "id": "110757f6",
   "metadata": {},
   "outputs": [
    {
     "data": {
      "application/vnd.jupyter.widget-view+json": {
       "model_id": "229cb6cdd3644534b6f9f615c00ec22d",
       "version_major": 2,
       "version_minor": 0
      },
      "text/plain": [
       "Uploading the dataset shards:   0%|          | 0/1 [00:00<?, ? shards/s]"
      ]
     },
     "metadata": {},
     "output_type": "display_data"
    },
    {
     "data": {
      "application/vnd.jupyter.widget-view+json": {
       "model_id": "927d9e9d87434ad7b443040c11085158",
       "version_major": 2,
       "version_minor": 0
      },
      "text/plain": [
       "Creating parquet from Arrow format:   0%|          | 0/1 [00:00<?, ?ba/s]"
      ]
     },
     "metadata": {},
     "output_type": "display_data"
    },
    {
     "data": {
      "application/vnd.jupyter.widget-view+json": {
       "model_id": "2465e16003d14f239155dc2589dddeba",
       "version_major": 2,
       "version_minor": 0
      },
      "text/plain": [
       "Processing Files (0 / 0)                : |          |  0.00B /  0.00B            "
      ]
     },
     "metadata": {},
     "output_type": "display_data"
    },
    {
     "data": {
      "application/vnd.jupyter.widget-view+json": {
       "model_id": "8b4040d6cf794399b1a0aa9013a3b2f6",
       "version_major": 2,
       "version_minor": 0
      },
      "text/plain": [
       "New Data Upload                         : |          |  0.00B /  0.00B            "
      ]
     },
     "metadata": {},
     "output_type": "display_data"
    },
    {
     "data": {
      "application/vnd.jupyter.widget-view+json": {
       "model_id": "6cb05782ca3241578cf39d595b4c833c",
       "version_major": 2,
       "version_minor": 0
      },
      "text/plain": [
       "                                        : 100%|##########| 56.4kB / 56.4kB            "
      ]
     },
     "metadata": {},
     "output_type": "display_data"
    },
    {
     "data": {
      "application/vnd.jupyter.widget-view+json": {
       "model_id": "f98ea2d3a7224476acb56112c3d82dfa",
       "version_major": 2,
       "version_minor": 0
      },
      "text/plain": [
       "README.md: 0.00B [00:00, ?B/s]"
      ]
     },
     "metadata": {},
     "output_type": "display_data"
    },
    {
     "data": {
      "text/plain": [
       "CommitInfo(commit_url='https://huggingface.co/datasets/dnth/ssf-dataset-synthetic/commit/7b5bbd8fb81244171bf5736d5280972500942798', commit_message='Upload dataset', commit_description='', oid='7b5bbd8fb81244171bf5736d5280972500942798', pr_url=None, repo_url=RepoUrl('https://huggingface.co/datasets/dnth/ssf-dataset-synthetic', endpoint='https://huggingface.co', repo_type='dataset', repo_id='dnth/ssf-dataset-synthetic'), pr_revision=None, pr_num=None)"
      ]
     },
     "execution_count": 11,
     "metadata": {},
     "output_type": "execute_result"
    }
   ],
   "source": [
    "distiset[\"default\"].push_to_hub(repo_id=\"dnth/ssf-dataset-synthetic\", revision=\"main\")"
   ]
  }
 ],
 "metadata": {
  "kernelspec": {
   "display_name": "rag-datakit",
   "language": "python",
   "name": "python3"
  },
  "language_info": {
   "codemirror_mode": {
    "name": "ipython",
    "version": 3
   },
   "file_extension": ".py",
   "mimetype": "text/x-python",
   "name": "python",
   "nbconvert_exporter": "python",
   "pygments_lexer": "ipython3",
   "version": "3.12.8"
  }
 },
 "nbformat": 4,
 "nbformat_minor": 5
}
