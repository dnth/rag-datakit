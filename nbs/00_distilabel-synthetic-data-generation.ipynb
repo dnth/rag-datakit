{
 "cells": [
  {
   "cell_type": "markdown",
   "id": "b4df4e0b",
   "metadata": {},
   "source": [
    "# Synthetic Data Generation for Embedding Training with Distilabel\n",
    "\n",
    "This notebook demonstrates how to use `distilabel` to generate synthetic training data for customized embedding models. We'll work with job descriptions from Singapore's SkillsFuture Framework to create positive and negative query pairs that can be used to train embedding models for better job matching and semantic search capabilities.\n",
    "\n",
    "## What you'll learn:\n",
    "- How to load and prepare datasets for synthetic data generation\n",
    "- Creating positive and negative query pairs using LLMs\n",
    "- Building distilabel pipelines for automated data generation\n",
    "- Publishing synthetic datasets to Hugging Face Hub\n",
    "\n",
    "## Prerequisites\n",
    "Make sure you have the required packages installed. The main dependency is the `rag-datakit` package which includes distilabel and other necessary components."
   ]
  },
  {
   "cell_type": "code",
   "execution_count": 1,
   "id": "56646eed",
   "metadata": {},
   "outputs": [],
   "source": [
    "# !pip install git+https://github.com/dnth/rag-datakit.git"
   ]
  },
  {
   "cell_type": "markdown",
   "id": "g7wlpllxmp",
   "metadata": {},
   "source": [
    "## Installation\n",
    "\n",
    "Install the rag-datakit package which includes all necessary dependencies including distilabel, transformers, and dataset utilities. Uncomment the cell below to install if you haven't already."
   ]
  },
  {
   "cell_type": "markdown",
   "id": "4cbd0d3c",
   "metadata": {},
   "source": [
    "## Dataset Loading and Inspection\n",
    "\n",
    "We'll work with the Singapore Skills Framework (SSF) dataset, which contains job roles and descriptions across various sectors. This dataset is ideal for training embedding models for job matching applications.\n",
    "\n",
    "**Dataset source:** [Skills Frameworks Singapore](https://jobsandskills.skillsfuture.gov.sg/frameworks/skills-frameworks)  \n",
    "**Hugging Face repo:** `dnth/ssf-dataset`\n",
    "\n",
    "The dataset contains structured information about:\n",
    "- **Sector**: Industry sector (e.g., Accountancy, Technology)\n",
    "- **Track**: Specialization within the sector (e.g., Assurance, Business Valuation)\n",
    "- **Job Role**: Specific job title\n",
    "- **Job Role Description**: Detailed description of responsibilities and requirements\n",
    "- **Performance Expectation**: Standards and compliance requirements\n",
    "\n",
    "Let's load and examine the dataset structure:"
   ]
  },
  {
   "cell_type": "code",
   "execution_count": 2,
   "id": "32d8f8c6",
   "metadata": {},
   "outputs": [],
   "source": [
    "from datasets import load_dataset\n",
    "\n",
    "dataset = load_dataset(\"dnth/ssf-dataset\")"
   ]
  },
  {
   "cell_type": "code",
   "execution_count": 3,
   "id": "0f157224",
   "metadata": {},
   "outputs": [
    {
     "data": {
      "text/plain": [
       "DatasetDict({\n",
       "    train: Dataset({\n",
       "        features: ['Sector', 'Track', 'Job Role', 'Job Role Description', 'Performance Expectation'],\n",
       "        num_rows: 1885\n",
       "    })\n",
       "})"
      ]
     },
     "execution_count": 3,
     "metadata": {},
     "output_type": "execute_result"
    }
   ],
   "source": [
    "dataset"
   ]
  },
  {
   "cell_type": "code",
   "execution_count": 4,
   "id": "9823e0d0",
   "metadata": {},
   "outputs": [
    {
     "data": {
      "text/plain": [
       "{'Sector': 'Accountancy',\n",
       " 'Track': 'Assurance',\n",
       " 'Job Role': 'Audit Associate / Audit Assistant Associate',\n",
       " 'Job Role Description': 'The Audit Associate/Audit Assistant Associate undertakes specific stages of audit work under supervision. He/She begins to appreciate the underlying principles behind the tasks assigned to him as part of the audit plan. He is also able to make adjustments to the application of skills to improve the work tasks or solve non-complex issues. The Audit Associate/Audit Assistant Associate operates in a structured work environment. He is able to build relationships, work in a team and identify ethical issues with reference to the code of professional conduct and ethics. He is able to select and apply from a range of known solutions to familiar problems and takes responsibility for his own learning and performance. He is a trustworthy and meticulous individual.',\n",
       " 'Performance Expectation': 'In accordance with: Singapore Standards on Auditing, Ethics Pronouncements in Singapore, Singapore Companies Act, and Singapore Financial Reporting Standards'}"
      ]
     },
     "execution_count": 4,
     "metadata": {},
     "output_type": "execute_result"
    }
   ],
   "source": [
    "dataset['train'][0]"
   ]
  },
  {
   "cell_type": "markdown",
   "id": "f64e5c4b",
   "metadata": {},
   "source": [
    "## Synthetic Data Generation Setup\n",
    "\n",
    "To train effective embedding models, we need to create training triplets consisting of:\n",
    "- **Anchor**: The original job role description\n",
    "- **Positive**: A paraphrased or similar job description (semantically similar)\n",
    "- **Negative**: A different job description (semantically dissimilar)\n",
    "\n",
    "We'll use a Large Language Model (LLM) to generate these positive and negative examples automatically. This approach allows us to:\n",
    "1. Create diverse paraphrases of job descriptions\n",
    "2. Generate realistic negative examples from different roles/industries\n",
    "3. Scale up our training data efficiently\n",
    "\n",
    "### LLM Configuration\n",
    "We support both local models (via Transformers) and API-based models (like OpenAI). For this example, we'll use a local Qwen model, but you can switch to OpenAI by uncommenting the appropriate section.\n",
    "\n",
    "**For OpenAI API**: Make sure you have your API key in a `.env` file:\n",
    "```\n",
    "OPENAI_API_KEY=sk-proj-...\n",
    "```"
   ]
  },
  {
   "cell_type": "code",
   "execution_count": null,
   "id": "c05c3b7c",
   "metadata": {},
   "outputs": [
    {
     "name": "stderr",
     "output_type": "stream",
     "text": [
      "/tmp/ipykernel_263158/4154567482.py:2: DeprecationWarning: Importing from 'distilabel.llms' is deprecated and will be removed in a version 1.7.0. Import from 'distilabel.models' instead.\n",
      "  from distilabel.llms import OpenAILLM, TransformersLLM\n"
     ]
    }
   ],
   "source": [
    "import os\n",
    "from distilabel.models import OpenAILLM, TransformersLLM\n",
    "\n",
    "llm = TransformersLLM(\n",
    "    model=\"Qwen/Qwen3-4B-Instruct-2507\",\n",
    "    device_map=\"auto\",\n",
    "    torch_dtype=\"float16\",\n",
    ")\n",
    "\n",
    "# llm = OpenAILLM(\n",
    "#     model=\"gpt-4o-mini\",\n",
    "#     api_key=os.getenv(\"OPENAI_API_KEY\"),\n",
    "# )\n",
    "\n"
   ]
  },
  {
   "cell_type": "code",
   "execution_count": null,
   "id": "dd5cb418",
   "metadata": {},
   "outputs": [],
   "source": [
    "context = \"\"\"\n",
    "The text is a job description from the Singapore SkillsFuture Framework. Your task is to generate realistic job descriptions from the provided description.\n",
    "\n",
    "For the positive query, generate a realistic description for this role. Focus on creating variations that capture the essence of the role in different words, as if written by different people or organizations posting similar jobs.\n",
    "\n",
    "For negative descriptions you are allowed to choose from the following strategies\n",
    "\n",
    "1. Same industry, different seniority level (Senior → Junior or Vice versa)\n",
    "2. Same industry, different function (Business Valuation → Risk Management)\n",
    "3. Similar skills, different domain (Financial Analysis in Banking vs Healthcare)\n",
    "4. Same title, different industry context\n",
    "\n",
    "The query should always include the job role. Start the description with The <job role>.\n",
    "\n",
    "\"\"\"\n",
    "\n",
    "from distilabel.pipeline import Pipeline\n",
    "from distilabel.steps import LoadDataFromHub\n",
    "from distilabel.steps.tasks import GenerateSentencePair\n",
    "\n",
    "with Pipeline(name=\"generate\") as pipeline:\n",
    "    load_dataset = LoadDataFromHub(\n",
    "        num_examples=10,  # Limit to 10 examples for demo - increase for production datasets\n",
    "        use_cache=False,  # Disable caching to ensure fresh data generation each run\n",
    "        output_mappings={\"Job Role Description\": \"anchor\"},  # Map original column to 'anchor' for triplet generation\n",
    "    )\n",
    "    generate_retrieval_pairs_easy = GenerateSentencePair(\n",
    "        name=\"easy_triplets\",\n",
    "        triplet=True,  # Generate anchor-positive-negative triplets for embedding training\n",
    "        hard_negative=False,  # Use easier negatives rather than hard negatives\n",
    "        action=\"paraphrase\",  # Focus on paraphrasing for positive examples\n",
    "        llm=llm,  # Use the LLM configured above (local Qwen or OpenAI)\n",
    "        input_batch_size=5,  # Process 10 examples at once for efficiency\n",
    "        context=context,  # Provide the context instructions for generation quality\n",
    "    )\n",
    "    generate_retrieval_pairs_hard = GenerateSentencePair(\n",
    "        name=\"hard_triplets\",\n",
    "        triplet=True,  \n",
    "        hard_negative=True,  \n",
    "        action=\"paraphrase\",  \n",
    "        llm=llm,  \n",
    "        input_batch_size=5,  \n",
    "        context=context,  \n",
    "    )\n",
    "\n",
    "    load_dataset.connect(generate_retrieval_pairs_easy, generate_retrieval_pairs_hard)"
   ]
  },
  {
   "cell_type": "markdown",
   "id": "qlj1y6g0cok",
   "metadata": {},
   "source": [
    "## Pipeline Configuration\n",
    "\n",
    "Now we'll set up a distilabel pipeline to automatically generate positive and negative examples. The pipeline consists of:\n",
    "\n",
    "1. **LoadDataFromHub**: Loads our SSF dataset from Hugging Face\n",
    "2. **GenerateSentencePair**: Uses the LLM to create positive/negative pairs\n",
    "\n",
    "### Context for LLM Generation\n",
    "We provide specific instructions to the LLM for generating realistic job descriptions:\n",
    "- **Positive examples**: Paraphrases that maintain the essence of the original role\n",
    "- **Negative examples**: Use strategies like different seniority levels, functions, or industries\n",
    "\n",
    "The pipeline is configured to generate triplets (anchor, positive, negative) for embedding training."
   ]
  },
  {
   "cell_type": "code",
   "execution_count": null,
   "id": "a362d4fc",
   "metadata": {},
   "outputs": [
    {
     "data": {
      "text/html": [
       "<pre style=\"white-space:pre;overflow-x:auto;line-height:normal;font-family:Menlo,'DejaVu Sans Mono',consolas,'Courier New',monospace\"><span style=\"color: #7fbfbf; text-decoration-color: #7fbfbf\">[08/12/25 12:07:17] </span><span style=\"color: #000080; text-decoration-color: #000080\">INFO    </span> <span style=\"font-weight: bold\">[</span><span style=\"color: #008000; text-decoration-color: #008000\">'distilabel.pipeline'</span><span style=\"font-weight: bold\">]</span> 📝 Pipeline data will be written to               <a href=\"file:///home/dnth/Desktop/rag-datakit/.venv/lib/python3.12/site-packages/distilabel/pipeline/base.py\" target=\"_blank\"><span style=\"color: #7f7f7f; text-decoration-color: #7f7f7f\">base.py</span></a><span style=\"color: #7f7f7f; text-decoration-color: #7f7f7f\">:</span><a href=\"file:///home/dnth/Desktop/rag-datakit/.venv/lib/python3.12/site-packages/distilabel/pipeline/base.py#1015\" target=\"_blank\"><span style=\"color: #7f7f7f; text-decoration-color: #7f7f7f\">1015</span></a>\n",
       "<span style=\"color: #7fbfbf; text-decoration-color: #7fbfbf\">                    </span>         <span style=\"color: #008000; text-decoration-color: #008000\">'/home/dnth/.cache/distilabel/pipelines/generate/3969fa9affab4d8b8bf2f804</span> <span style=\"color: #7f7f7f; text-decoration-color: #7f7f7f\">            </span>\n",
       "<span style=\"color: #7fbfbf; text-decoration-color: #7fbfbf\">                    </span>         <span style=\"color: #008000; text-decoration-color: #008000\">bce1882fe95d8fcc/executions/ef9e23128b738a4e9db249c95535eb7f294e65e0/data</span> <span style=\"color: #7f7f7f; text-decoration-color: #7f7f7f\">            </span>\n",
       "<span style=\"color: #7fbfbf; text-decoration-color: #7fbfbf\">                    </span>         <span style=\"color: #008000; text-decoration-color: #008000\">/steps_outputs'</span>                                                           <span style=\"color: #7f7f7f; text-decoration-color: #7f7f7f\">            </span>\n",
       "</pre>\n"
      ],
      "text/plain": [
       "\u001b[2;36m[08/12/25 12:07:17]\u001b[0m\u001b[2;36m \u001b[0m\u001b[34mINFO    \u001b[0m \u001b[1m[\u001b[0m\u001b[32m'distilabel.pipeline'\u001b[0m\u001b[1m]\u001b[0m 📝 Pipeline data will be written to               \u001b]8;id=935588;file:///home/dnth/Desktop/rag-datakit/.venv/lib/python3.12/site-packages/distilabel/pipeline/base.py\u001b\\\u001b[2mbase.py\u001b[0m\u001b]8;;\u001b\\\u001b[2m:\u001b[0m\u001b]8;id=800425;file:///home/dnth/Desktop/rag-datakit/.venv/lib/python3.12/site-packages/distilabel/pipeline/base.py#1015\u001b\\\u001b[2m1015\u001b[0m\u001b]8;;\u001b\\\n",
       "\u001b[2;36m                    \u001b[0m         \u001b[32m'/home/dnth/.cache/distilabel/pipelines/generate/3969fa9affab4d8b8bf2f804\u001b[0m \u001b[2m            \u001b[0m\n",
       "\u001b[2;36m                    \u001b[0m         \u001b[32mbce1882fe95d8fcc/executions/ef9e23128b738a4e9db249c95535eb7f294e65e0/data\u001b[0m \u001b[2m            \u001b[0m\n",
       "\u001b[2;36m                    \u001b[0m         \u001b[32m/steps_outputs'\u001b[0m                                                           \u001b[2m            \u001b[0m\n"
      ]
     },
     "metadata": {},
     "output_type": "display_data"
    },
    {
     "data": {
      "text/html": [
       "<pre style=\"white-space:pre;overflow-x:auto;line-height:normal;font-family:Menlo,'DejaVu Sans Mono',consolas,'Courier New',monospace\"><span style=\"color: #7fbfbf; text-decoration-color: #7fbfbf\">                    </span><span style=\"color: #000080; text-decoration-color: #000080\">INFO    </span> <span style=\"font-weight: bold\">[</span><span style=\"color: #008000; text-decoration-color: #008000\">'distilabel.pipeline'</span><span style=\"font-weight: bold\">]</span> ⌛ The steps of the pipeline will be loaded in    <a href=\"file:///home/dnth/Desktop/rag-datakit/.venv/lib/python3.12/site-packages/distilabel/pipeline/base.py\" target=\"_blank\"><span style=\"color: #7f7f7f; text-decoration-color: #7f7f7f\">base.py</span></a><span style=\"color: #7f7f7f; text-decoration-color: #7f7f7f\">:</span><a href=\"file:///home/dnth/Desktop/rag-datakit/.venv/lib/python3.12/site-packages/distilabel/pipeline/base.py#1046\" target=\"_blank\"><span style=\"color: #7f7f7f; text-decoration-color: #7f7f7f\">1046</span></a>\n",
       "<span style=\"color: #7fbfbf; text-decoration-color: #7fbfbf\">                    </span>         stages:                                                                   <span style=\"color: #7f7f7f; text-decoration-color: #7f7f7f\">            </span>\n",
       "<span style=\"color: #7fbfbf; text-decoration-color: #7fbfbf\">                    </span>          * Legend: 🚰 GeneratorStep 🌐 GlobalStep 🔄 Step                         <span style=\"color: #7f7f7f; text-decoration-color: #7f7f7f\">            </span>\n",
       "<span style=\"color: #7fbfbf; text-decoration-color: #7fbfbf\">                    </span>          * Stage <span style=\"color: #008080; text-decoration-color: #008080; font-weight: bold\">0</span>:                                                               <span style=\"color: #7f7f7f; text-decoration-color: #7f7f7f\">            </span>\n",
       "<span style=\"color: #7fbfbf; text-decoration-color: #7fbfbf\">                    </span>            - 🚰 <span style=\"color: #008000; text-decoration-color: #008000\">'load_data_from_hub_0'</span>                                            <span style=\"color: #7f7f7f; text-decoration-color: #7f7f7f\">            </span>\n",
       "<span style=\"color: #7fbfbf; text-decoration-color: #7fbfbf\">                    </span>            - 🔄 <span style=\"color: #008000; text-decoration-color: #008000\">'easy_triplets'</span>                                                   <span style=\"color: #7f7f7f; text-decoration-color: #7f7f7f\">            </span>\n",
       "<span style=\"color: #7fbfbf; text-decoration-color: #7fbfbf\">                    </span>            - 🔄 <span style=\"color: #008000; text-decoration-color: #008000\">'hard_triplets'</span>                                                   <span style=\"color: #7f7f7f; text-decoration-color: #7f7f7f\">            </span>\n",
       "</pre>\n"
      ],
      "text/plain": [
       "\u001b[2;36m                   \u001b[0m\u001b[2;36m \u001b[0m\u001b[34mINFO    \u001b[0m \u001b[1m[\u001b[0m\u001b[32m'distilabel.pipeline'\u001b[0m\u001b[1m]\u001b[0m ⌛ The steps of the pipeline will be loaded in    \u001b]8;id=295316;file:///home/dnth/Desktop/rag-datakit/.venv/lib/python3.12/site-packages/distilabel/pipeline/base.py\u001b\\\u001b[2mbase.py\u001b[0m\u001b]8;;\u001b\\\u001b[2m:\u001b[0m\u001b]8;id=371205;file:///home/dnth/Desktop/rag-datakit/.venv/lib/python3.12/site-packages/distilabel/pipeline/base.py#1046\u001b\\\u001b[2m1046\u001b[0m\u001b]8;;\u001b\\\n",
       "\u001b[2;36m                    \u001b[0m         stages:                                                                   \u001b[2m            \u001b[0m\n",
       "\u001b[2;36m                    \u001b[0m          * Legend: 🚰 GeneratorStep 🌐 GlobalStep 🔄 Step                         \u001b[2m            \u001b[0m\n",
       "\u001b[2;36m                    \u001b[0m          * Stage \u001b[1;36m0\u001b[0m:                                                               \u001b[2m            \u001b[0m\n",
       "\u001b[2;36m                    \u001b[0m            - 🚰 \u001b[32m'load_data_from_hub_0'\u001b[0m                                            \u001b[2m            \u001b[0m\n",
       "\u001b[2;36m                    \u001b[0m            - 🔄 \u001b[32m'easy_triplets'\u001b[0m                                                   \u001b[2m            \u001b[0m\n",
       "\u001b[2;36m                    \u001b[0m            - 🔄 \u001b[32m'hard_triplets'\u001b[0m                                                   \u001b[2m            \u001b[0m\n"
      ]
     },
     "metadata": {},
     "output_type": "display_data"
    },
    {
     "data": {
      "text/html": [
       "<pre style=\"white-space:pre;overflow-x:auto;line-height:normal;font-family:Menlo,'DejaVu Sans Mono',consolas,'Courier New',monospace\"><span style=\"color: #7fbfbf; text-decoration-color: #7fbfbf\">                    </span><span style=\"color: #000080; text-decoration-color: #000080\">INFO    </span> <span style=\"font-weight: bold\">[</span><span style=\"color: #008000; text-decoration-color: #008000\">'distilabel.pipeline'</span><span style=\"font-weight: bold\">]</span> ⏳ Waiting for all the steps of stage <span style=\"color: #008080; text-decoration-color: #008080; font-weight: bold\">0</span> to        <a href=\"file:///home/dnth/Desktop/rag-datakit/.venv/lib/python3.12/site-packages/distilabel/pipeline/base.py\" target=\"_blank\"><span style=\"color: #7f7f7f; text-decoration-color: #7f7f7f\">base.py</span></a><span style=\"color: #7f7f7f; text-decoration-color: #7f7f7f\">:</span><a href=\"file:///home/dnth/Desktop/rag-datakit/.venv/lib/python3.12/site-packages/distilabel/pipeline/base.py#1382\" target=\"_blank\"><span style=\"color: #7f7f7f; text-decoration-color: #7f7f7f\">1382</span></a>\n",
       "<span style=\"color: #7fbfbf; text-decoration-color: #7fbfbf\">                    </span>         load<span style=\"color: #808000; text-decoration-color: #808000\">...</span>                                                                   <span style=\"color: #7f7f7f; text-decoration-color: #7f7f7f\">            </span>\n",
       "</pre>\n"
      ],
      "text/plain": [
       "\u001b[2;36m                   \u001b[0m\u001b[2;36m \u001b[0m\u001b[34mINFO    \u001b[0m \u001b[1m[\u001b[0m\u001b[32m'distilabel.pipeline'\u001b[0m\u001b[1m]\u001b[0m ⏳ Waiting for all the steps of stage \u001b[1;36m0\u001b[0m to        \u001b]8;id=613431;file:///home/dnth/Desktop/rag-datakit/.venv/lib/python3.12/site-packages/distilabel/pipeline/base.py\u001b\\\u001b[2mbase.py\u001b[0m\u001b]8;;\u001b\\\u001b[2m:\u001b[0m\u001b]8;id=134972;file:///home/dnth/Desktop/rag-datakit/.venv/lib/python3.12/site-packages/distilabel/pipeline/base.py#1382\u001b\\\u001b[2m1382\u001b[0m\u001b]8;;\u001b\\\n",
       "\u001b[2;36m                    \u001b[0m         load\u001b[33m...\u001b[0m                                                                   \u001b[2m            \u001b[0m\n"
      ]
     },
     "metadata": {},
     "output_type": "display_data"
    },
    {
     "data": {
      "text/html": [
       "<pre style=\"white-space:pre;overflow-x:auto;line-height:normal;font-family:Menlo,'DejaVu Sans Mono',consolas,'Courier New',monospace\"><span style=\"color: #7fbfbf; text-decoration-color: #7fbfbf\">[08/12/25 12:07:20] </span><span style=\"color: #000080; text-decoration-color: #000080\">INFO    </span> <span style=\"font-weight: bold\">[</span><span style=\"color: #008000; text-decoration-color: #008000\">'accelerate.utils.modeling'</span><span style=\"font-weight: bold\">]</span> We will use <span style=\"color: #008080; text-decoration-color: #008080; font-weight: bold\">90</span>% of the memory on device <a href=\"file:///home/dnth/Desktop/rag-datakit/.venv/lib/python3.12/site-packages/accelerate/utils/modeling.py\" target=\"_blank\"><span style=\"color: #7f7f7f; text-decoration-color: #7f7f7f\">modeling.py</span></a><span style=\"color: #7f7f7f; text-decoration-color: #7f7f7f\">:</span><a href=\"file:///home/dnth/Desktop/rag-datakit/.venv/lib/python3.12/site-packages/accelerate/utils/modeling.py#1004\" target=\"_blank\"><span style=\"color: #7f7f7f; text-decoration-color: #7f7f7f\">1004</span></a>\n",
       "<span style=\"color: #7fbfbf; text-decoration-color: #7fbfbf\">                    </span>         <span style=\"color: #008080; text-decoration-color: #008080; font-weight: bold\">0</span> for storing the model, and <span style=\"color: #008080; text-decoration-color: #008080; font-weight: bold\">10</span>% for the buffer to avoid OOM. You can <span style=\"color: #7f7f7f; text-decoration-color: #7f7f7f\">                </span>\n",
       "<span style=\"color: #7fbfbf; text-decoration-color: #7fbfbf\">                    </span>         set `max_memory` in to a higher value to use more memory <span style=\"font-weight: bold\">(</span>at your own <span style=\"color: #7f7f7f; text-decoration-color: #7f7f7f\">                </span>\n",
       "<span style=\"color: #7fbfbf; text-decoration-color: #7fbfbf\">                    </span>         risk<span style=\"font-weight: bold\">)</span>.                                                                <span style=\"color: #7f7f7f; text-decoration-color: #7f7f7f\">                </span>\n",
       "</pre>\n"
      ],
      "text/plain": [
       "\u001b[2;36m[08/12/25 12:07:20]\u001b[0m\u001b[2;36m \u001b[0m\u001b[34mINFO    \u001b[0m \u001b[1m[\u001b[0m\u001b[32m'accelerate.utils.modeling'\u001b[0m\u001b[1m]\u001b[0m We will use \u001b[1;36m90\u001b[0m% of the memory on device \u001b]8;id=93329;file:///home/dnth/Desktop/rag-datakit/.venv/lib/python3.12/site-packages/accelerate/utils/modeling.py\u001b\\\u001b[2mmodeling.py\u001b[0m\u001b]8;;\u001b\\\u001b[2m:\u001b[0m\u001b]8;id=987037;file:///home/dnth/Desktop/rag-datakit/.venv/lib/python3.12/site-packages/accelerate/utils/modeling.py#1004\u001b\\\u001b[2m1004\u001b[0m\u001b]8;;\u001b\\\n",
       "\u001b[2;36m                    \u001b[0m         \u001b[1;36m0\u001b[0m for storing the model, and \u001b[1;36m10\u001b[0m% for the buffer to avoid OOM. You can \u001b[2m                \u001b[0m\n",
       "\u001b[2;36m                    \u001b[0m         set `max_memory` in to a higher value to use more memory \u001b[1m(\u001b[0mat your own \u001b[2m                \u001b[0m\n",
       "\u001b[2;36m                    \u001b[0m         risk\u001b[1m)\u001b[0m.                                                                \u001b[2m                \u001b[0m\n"
      ]
     },
     "metadata": {},
     "output_type": "display_data"
    },
    {
     "data": {
      "text/html": [
       "<pre style=\"white-space:pre;overflow-x:auto;line-height:normal;font-family:Menlo,'DejaVu Sans Mono',consolas,'Courier New',monospace\"><span style=\"color: #7fbfbf; text-decoration-color: #7fbfbf\">                    </span><span style=\"color: #000080; text-decoration-color: #000080\">INFO    </span> <span style=\"font-weight: bold\">[</span><span style=\"color: #008000; text-decoration-color: #008000\">'accelerate.utils.modeling'</span><span style=\"font-weight: bold\">]</span> We will use <span style=\"color: #008080; text-decoration-color: #008080; font-weight: bold\">90</span>% of the memory on device <a href=\"file:///home/dnth/Desktop/rag-datakit/.venv/lib/python3.12/site-packages/accelerate/utils/modeling.py\" target=\"_blank\"><span style=\"color: #7f7f7f; text-decoration-color: #7f7f7f\">modeling.py</span></a><span style=\"color: #7f7f7f; text-decoration-color: #7f7f7f\">:</span><a href=\"file:///home/dnth/Desktop/rag-datakit/.venv/lib/python3.12/site-packages/accelerate/utils/modeling.py#1004\" target=\"_blank\"><span style=\"color: #7f7f7f; text-decoration-color: #7f7f7f\">1004</span></a>\n",
       "<span style=\"color: #7fbfbf; text-decoration-color: #7fbfbf\">                    </span>         <span style=\"color: #008080; text-decoration-color: #008080; font-weight: bold\">0</span> for storing the model, and <span style=\"color: #008080; text-decoration-color: #008080; font-weight: bold\">10</span>% for the buffer to avoid OOM. You can <span style=\"color: #7f7f7f; text-decoration-color: #7f7f7f\">                </span>\n",
       "<span style=\"color: #7fbfbf; text-decoration-color: #7fbfbf\">                    </span>         set `max_memory` in to a higher value to use more memory <span style=\"font-weight: bold\">(</span>at your own <span style=\"color: #7f7f7f; text-decoration-color: #7f7f7f\">                </span>\n",
       "<span style=\"color: #7fbfbf; text-decoration-color: #7fbfbf\">                    </span>         risk<span style=\"font-weight: bold\">)</span>.                                                                <span style=\"color: #7f7f7f; text-decoration-color: #7f7f7f\">                </span>\n",
       "</pre>\n"
      ],
      "text/plain": [
       "\u001b[2;36m                   \u001b[0m\u001b[2;36m \u001b[0m\u001b[34mINFO    \u001b[0m \u001b[1m[\u001b[0m\u001b[32m'accelerate.utils.modeling'\u001b[0m\u001b[1m]\u001b[0m We will use \u001b[1;36m90\u001b[0m% of the memory on device \u001b]8;id=864497;file:///home/dnth/Desktop/rag-datakit/.venv/lib/python3.12/site-packages/accelerate/utils/modeling.py\u001b\\\u001b[2mmodeling.py\u001b[0m\u001b]8;;\u001b\\\u001b[2m:\u001b[0m\u001b]8;id=661119;file:///home/dnth/Desktop/rag-datakit/.venv/lib/python3.12/site-packages/accelerate/utils/modeling.py#1004\u001b\\\u001b[2m1004\u001b[0m\u001b]8;;\u001b\\\n",
       "\u001b[2;36m                    \u001b[0m         \u001b[1;36m0\u001b[0m for storing the model, and \u001b[1;36m10\u001b[0m% for the buffer to avoid OOM. You can \u001b[2m                \u001b[0m\n",
       "\u001b[2;36m                    \u001b[0m         set `max_memory` in to a higher value to use more memory \u001b[1m(\u001b[0mat your own \u001b[2m                \u001b[0m\n",
       "\u001b[2;36m                    \u001b[0m         risk\u001b[1m)\u001b[0m.                                                                \u001b[2m                \u001b[0m\n"
      ]
     },
     "metadata": {},
     "output_type": "display_data"
    },
    {
     "data": {
      "text/html": [
       "<pre style=\"white-space:pre;overflow-x:auto;line-height:normal;font-family:Menlo,'DejaVu Sans Mono',consolas,'Courier New',monospace\"><span style=\"color: #7fbfbf; text-decoration-color: #7fbfbf\">[08/12/25 12:07:22] </span><span style=\"color: #000080; text-decoration-color: #000080\">INFO    </span> <span style=\"font-weight: bold\">[</span><span style=\"color: #008000; text-decoration-color: #008000\">'distilabel.pipeline'</span><span style=\"font-weight: bold\">]</span> ⏳ Steps from stage <span style=\"color: #008080; text-decoration-color: #008080; font-weight: bold\">0</span> loaded: <span style=\"color: #008080; text-decoration-color: #008080; font-weight: bold\">1</span>/<span style=\"color: #008080; text-decoration-color: #008080; font-weight: bold\">3</span>                 <a href=\"file:///home/dnth/Desktop/rag-datakit/.venv/lib/python3.12/site-packages/distilabel/pipeline/base.py\" target=\"_blank\"><span style=\"color: #7f7f7f; text-decoration-color: #7f7f7f\">base.py</span></a><span style=\"color: #7f7f7f; text-decoration-color: #7f7f7f\">:</span><a href=\"file:///home/dnth/Desktop/rag-datakit/.venv/lib/python3.12/site-packages/distilabel/pipeline/base.py#1418\" target=\"_blank\"><span style=\"color: #7f7f7f; text-decoration-color: #7f7f7f\">1418</span></a>\n",
       "<span style=\"color: #7fbfbf; text-decoration-color: #7fbfbf\">                    </span>          * <span style=\"color: #008000; text-decoration-color: #008000\">'load_data_from_hub_0'</span> replicas: <span style=\"color: #008080; text-decoration-color: #008080; font-weight: bold\">1</span>/<span style=\"color: #008080; text-decoration-color: #008080; font-weight: bold\">1</span>                                   <span style=\"color: #7f7f7f; text-decoration-color: #7f7f7f\">            </span>\n",
       "<span style=\"color: #7fbfbf; text-decoration-color: #7fbfbf\">                    </span>          * <span style=\"color: #008000; text-decoration-color: #008000\">'easy_triplets'</span> replicas: <span style=\"color: #008080; text-decoration-color: #008080; font-weight: bold\">0</span>/<span style=\"color: #008080; text-decoration-color: #008080; font-weight: bold\">1</span>                                          <span style=\"color: #7f7f7f; text-decoration-color: #7f7f7f\">            </span>\n",
       "<span style=\"color: #7fbfbf; text-decoration-color: #7fbfbf\">                    </span>          * <span style=\"color: #008000; text-decoration-color: #008000\">'hard_triplets'</span> replicas: <span style=\"color: #008080; text-decoration-color: #008080; font-weight: bold\">0</span>/<span style=\"color: #008080; text-decoration-color: #008080; font-weight: bold\">1</span>                                          <span style=\"color: #7f7f7f; text-decoration-color: #7f7f7f\">            </span>\n",
       "</pre>\n"
      ],
      "text/plain": [
       "\u001b[2;36m[08/12/25 12:07:22]\u001b[0m\u001b[2;36m \u001b[0m\u001b[34mINFO    \u001b[0m \u001b[1m[\u001b[0m\u001b[32m'distilabel.pipeline'\u001b[0m\u001b[1m]\u001b[0m ⏳ Steps from stage \u001b[1;36m0\u001b[0m loaded: \u001b[1;36m1\u001b[0m/\u001b[1;36m3\u001b[0m                 \u001b]8;id=810919;file:///home/dnth/Desktop/rag-datakit/.venv/lib/python3.12/site-packages/distilabel/pipeline/base.py\u001b\\\u001b[2mbase.py\u001b[0m\u001b]8;;\u001b\\\u001b[2m:\u001b[0m\u001b]8;id=789654;file:///home/dnth/Desktop/rag-datakit/.venv/lib/python3.12/site-packages/distilabel/pipeline/base.py#1418\u001b\\\u001b[2m1418\u001b[0m\u001b]8;;\u001b\\\n",
       "\u001b[2;36m                    \u001b[0m          * \u001b[32m'load_data_from_hub_0'\u001b[0m replicas: \u001b[1;36m1\u001b[0m/\u001b[1;36m1\u001b[0m                                   \u001b[2m            \u001b[0m\n",
       "\u001b[2;36m                    \u001b[0m          * \u001b[32m'easy_triplets'\u001b[0m replicas: \u001b[1;36m0\u001b[0m/\u001b[1;36m1\u001b[0m                                          \u001b[2m            \u001b[0m\n",
       "\u001b[2;36m                    \u001b[0m          * \u001b[32m'hard_triplets'\u001b[0m replicas: \u001b[1;36m0\u001b[0m/\u001b[1;36m1\u001b[0m                                          \u001b[2m            \u001b[0m\n"
      ]
     },
     "metadata": {},
     "output_type": "display_data"
    },
    {
     "name": "stderr",
     "output_type": "stream",
     "text": [
      "Device set to use cuda:0\n",
      "Device set to use cuda:0\n"
     ]
    },
    {
     "data": {
      "text/html": [
       "<pre style=\"white-space:pre;overflow-x:auto;line-height:normal;font-family:Menlo,'DejaVu Sans Mono',consolas,'Courier New',monospace\"><span style=\"color: #7fbfbf; text-decoration-color: #7fbfbf\">[08/12/25 12:07:27] </span><span style=\"color: #000080; text-decoration-color: #000080\">INFO    </span> <span style=\"font-weight: bold\">[</span><span style=\"color: #008000; text-decoration-color: #008000\">'distilabel.pipeline'</span><span style=\"font-weight: bold\">]</span> ⏳ Steps from stage <span style=\"color: #008080; text-decoration-color: #008080; font-weight: bold\">0</span> loaded: <span style=\"color: #008080; text-decoration-color: #008080; font-weight: bold\">3</span>/<span style=\"color: #008080; text-decoration-color: #008080; font-weight: bold\">3</span>                 <a href=\"file:///home/dnth/Desktop/rag-datakit/.venv/lib/python3.12/site-packages/distilabel/pipeline/base.py\" target=\"_blank\"><span style=\"color: #7f7f7f; text-decoration-color: #7f7f7f\">base.py</span></a><span style=\"color: #7f7f7f; text-decoration-color: #7f7f7f\">:</span><a href=\"file:///home/dnth/Desktop/rag-datakit/.venv/lib/python3.12/site-packages/distilabel/pipeline/base.py#1418\" target=\"_blank\"><span style=\"color: #7f7f7f; text-decoration-color: #7f7f7f\">1418</span></a>\n",
       "<span style=\"color: #7fbfbf; text-decoration-color: #7fbfbf\">                    </span>          * <span style=\"color: #008000; text-decoration-color: #008000\">'load_data_from_hub_0'</span> replicas: <span style=\"color: #008080; text-decoration-color: #008080; font-weight: bold\">1</span>/<span style=\"color: #008080; text-decoration-color: #008080; font-weight: bold\">1</span>                                   <span style=\"color: #7f7f7f; text-decoration-color: #7f7f7f\">            </span>\n",
       "<span style=\"color: #7fbfbf; text-decoration-color: #7fbfbf\">                    </span>          * <span style=\"color: #008000; text-decoration-color: #008000\">'easy_triplets'</span> replicas: <span style=\"color: #008080; text-decoration-color: #008080; font-weight: bold\">1</span>/<span style=\"color: #008080; text-decoration-color: #008080; font-weight: bold\">1</span>                                          <span style=\"color: #7f7f7f; text-decoration-color: #7f7f7f\">            </span>\n",
       "<span style=\"color: #7fbfbf; text-decoration-color: #7fbfbf\">                    </span>          * <span style=\"color: #008000; text-decoration-color: #008000\">'hard_triplets'</span> replicas: <span style=\"color: #008080; text-decoration-color: #008080; font-weight: bold\">1</span>/<span style=\"color: #008080; text-decoration-color: #008080; font-weight: bold\">1</span>                                          <span style=\"color: #7f7f7f; text-decoration-color: #7f7f7f\">            </span>\n",
       "</pre>\n"
      ],
      "text/plain": [
       "\u001b[2;36m[08/12/25 12:07:27]\u001b[0m\u001b[2;36m \u001b[0m\u001b[34mINFO    \u001b[0m \u001b[1m[\u001b[0m\u001b[32m'distilabel.pipeline'\u001b[0m\u001b[1m]\u001b[0m ⏳ Steps from stage \u001b[1;36m0\u001b[0m loaded: \u001b[1;36m3\u001b[0m/\u001b[1;36m3\u001b[0m                 \u001b]8;id=945967;file:///home/dnth/Desktop/rag-datakit/.venv/lib/python3.12/site-packages/distilabel/pipeline/base.py\u001b\\\u001b[2mbase.py\u001b[0m\u001b]8;;\u001b\\\u001b[2m:\u001b[0m\u001b]8;id=122145;file:///home/dnth/Desktop/rag-datakit/.venv/lib/python3.12/site-packages/distilabel/pipeline/base.py#1418\u001b\\\u001b[2m1418\u001b[0m\u001b]8;;\u001b\\\n",
       "\u001b[2;36m                    \u001b[0m          * \u001b[32m'load_data_from_hub_0'\u001b[0m replicas: \u001b[1;36m1\u001b[0m/\u001b[1;36m1\u001b[0m                                   \u001b[2m            \u001b[0m\n",
       "\u001b[2;36m                    \u001b[0m          * \u001b[32m'easy_triplets'\u001b[0m replicas: \u001b[1;36m1\u001b[0m/\u001b[1;36m1\u001b[0m                                          \u001b[2m            \u001b[0m\n",
       "\u001b[2;36m                    \u001b[0m          * \u001b[32m'hard_triplets'\u001b[0m replicas: \u001b[1;36m1\u001b[0m/\u001b[1;36m1\u001b[0m                                          \u001b[2m            \u001b[0m\n"
      ]
     },
     "metadata": {},
     "output_type": "display_data"
    },
    {
     "data": {
      "text/html": [
       "<pre style=\"white-space:pre;overflow-x:auto;line-height:normal;font-family:Menlo,'DejaVu Sans Mono',consolas,'Courier New',monospace\"><span style=\"color: #7fbfbf; text-decoration-color: #7fbfbf\">                    </span><span style=\"color: #000080; text-decoration-color: #000080\">INFO    </span> <span style=\"font-weight: bold\">[</span><span style=\"color: #008000; text-decoration-color: #008000\">'distilabel.pipeline'</span><span style=\"font-weight: bold\">]</span> ✅ All the steps from stage <span style=\"color: #008080; text-decoration-color: #008080; font-weight: bold\">0</span> have been loaded!   <a href=\"file:///home/dnth/Desktop/rag-datakit/.venv/lib/python3.12/site-packages/distilabel/pipeline/base.py\" target=\"_blank\"><span style=\"color: #7f7f7f; text-decoration-color: #7f7f7f\">base.py</span></a><span style=\"color: #7f7f7f; text-decoration-color: #7f7f7f\">:</span><a href=\"file:///home/dnth/Desktop/rag-datakit/.venv/lib/python3.12/site-packages/distilabel/pipeline/base.py#1422\" target=\"_blank\"><span style=\"color: #7f7f7f; text-decoration-color: #7f7f7f\">1422</span></a>\n",
       "</pre>\n"
      ],
      "text/plain": [
       "\u001b[2;36m                   \u001b[0m\u001b[2;36m \u001b[0m\u001b[34mINFO    \u001b[0m \u001b[1m[\u001b[0m\u001b[32m'distilabel.pipeline'\u001b[0m\u001b[1m]\u001b[0m ✅ All the steps from stage \u001b[1;36m0\u001b[0m have been loaded!   \u001b]8;id=537056;file:///home/dnth/Desktop/rag-datakit/.venv/lib/python3.12/site-packages/distilabel/pipeline/base.py\u001b\\\u001b[2mbase.py\u001b[0m\u001b]8;;\u001b\\\u001b[2m:\u001b[0m\u001b]8;id=783262;file:///home/dnth/Desktop/rag-datakit/.venv/lib/python3.12/site-packages/distilabel/pipeline/base.py#1422\u001b\\\u001b[2m1422\u001b[0m\u001b]8;;\u001b\\\n"
      ]
     },
     "metadata": {},
     "output_type": "display_data"
    },
    {
     "data": {
      "text/html": [
       "<pre style=\"white-space:pre;overflow-x:auto;line-height:normal;font-family:Menlo,'DejaVu Sans Mono',consolas,'Courier New',monospace\"><span style=\"color: #7fbfbf; text-decoration-color: #7fbfbf\">                    </span><span style=\"color: #000080; text-decoration-color: #000080\">INFO    </span> <span style=\"font-weight: bold\">[</span><span style=\"color: #008000; text-decoration-color: #008000\">'distilabel.step.load_data_from_hub_0'</span><span style=\"font-weight: bold\">]</span> 🚰 Starting yielding      <a href=\"file:///home/dnth/Desktop/rag-datakit/.venv/lib/python3.12/site-packages/distilabel/pipeline/step_wrapper.py\" target=\"_blank\"><span style=\"color: #7f7f7f; text-decoration-color: #7f7f7f\">step_wrapper.py</span></a><span style=\"color: #7f7f7f; text-decoration-color: #7f7f7f\">:</span><a href=\"file:///home/dnth/Desktop/rag-datakit/.venv/lib/python3.12/site-packages/distilabel/pipeline/step_wrapper.py#179\" target=\"_blank\"><span style=\"color: #7f7f7f; text-decoration-color: #7f7f7f\">179</span></a>\n",
       "<span style=\"color: #7fbfbf; text-decoration-color: #7fbfbf\">                    </span>         batches from generator step <span style=\"color: #008000; text-decoration-color: #008000\">'load_data_from_hub_0'</span>. Offset: <span style=\"color: #008080; text-decoration-color: #008080; font-weight: bold\">0</span>      <span style=\"color: #7f7f7f; text-decoration-color: #7f7f7f\">                   </span>\n",
       "</pre>\n"
      ],
      "text/plain": [
       "\u001b[2;36m                   \u001b[0m\u001b[2;36m \u001b[0m\u001b[34mINFO    \u001b[0m \u001b[1m[\u001b[0m\u001b[32m'distilabel.step.load_data_from_hub_0'\u001b[0m\u001b[1m]\u001b[0m 🚰 Starting yielding      \u001b]8;id=385010;file:///home/dnth/Desktop/rag-datakit/.venv/lib/python3.12/site-packages/distilabel/pipeline/step_wrapper.py\u001b\\\u001b[2mstep_wrapper.py\u001b[0m\u001b]8;;\u001b\\\u001b[2m:\u001b[0m\u001b]8;id=838394;file:///home/dnth/Desktop/rag-datakit/.venv/lib/python3.12/site-packages/distilabel/pipeline/step_wrapper.py#179\u001b\\\u001b[2m179\u001b[0m\u001b]8;;\u001b\\\n",
       "\u001b[2;36m                    \u001b[0m         batches from generator step \u001b[32m'load_data_from_hub_0'\u001b[0m. Offset: \u001b[1;36m0\u001b[0m      \u001b[2m                   \u001b[0m\n"
      ]
     },
     "metadata": {},
     "output_type": "display_data"
    },
    {
     "data": {
      "text/html": [
       "<pre style=\"white-space:pre;overflow-x:auto;line-height:normal;font-family:Menlo,'DejaVu Sans Mono',consolas,'Courier New',monospace\"><span style=\"color: #7fbfbf; text-decoration-color: #7fbfbf\">                    </span><span style=\"color: #000080; text-decoration-color: #000080\">INFO    </span> <span style=\"font-weight: bold\">[</span><span style=\"color: #008000; text-decoration-color: #008000\">'distilabel.step.load_data_from_hub_0'</span><span style=\"font-weight: bold\">]</span> 📨 Step                   <a href=\"file:///home/dnth/Desktop/rag-datakit/.venv/lib/python3.12/site-packages/distilabel/pipeline/step_wrapper.py\" target=\"_blank\"><span style=\"color: #7f7f7f; text-decoration-color: #7f7f7f\">step_wrapper.py</span></a><span style=\"color: #7f7f7f; text-decoration-color: #7f7f7f\">:</span><a href=\"file:///home/dnth/Desktop/rag-datakit/.venv/lib/python3.12/site-packages/distilabel/pipeline/step_wrapper.py#290\" target=\"_blank\"><span style=\"color: #7f7f7f; text-decoration-color: #7f7f7f\">290</span></a>\n",
       "<span style=\"color: #7fbfbf; text-decoration-color: #7fbfbf\">                    </span>         <span style=\"color: #008000; text-decoration-color: #008000\">'load_data_from_hub_0'</span> sending batch <span style=\"color: #008080; text-decoration-color: #008080; font-weight: bold\">0</span> to output queue             <span style=\"color: #7f7f7f; text-decoration-color: #7f7f7f\">                   </span>\n",
       "</pre>\n"
      ],
      "text/plain": [
       "\u001b[2;36m                   \u001b[0m\u001b[2;36m \u001b[0m\u001b[34mINFO    \u001b[0m \u001b[1m[\u001b[0m\u001b[32m'distilabel.step.load_data_from_hub_0'\u001b[0m\u001b[1m]\u001b[0m 📨 Step                   \u001b]8;id=742909;file:///home/dnth/Desktop/rag-datakit/.venv/lib/python3.12/site-packages/distilabel/pipeline/step_wrapper.py\u001b\\\u001b[2mstep_wrapper.py\u001b[0m\u001b]8;;\u001b\\\u001b[2m:\u001b[0m\u001b]8;id=742085;file:///home/dnth/Desktop/rag-datakit/.venv/lib/python3.12/site-packages/distilabel/pipeline/step_wrapper.py#290\u001b\\\u001b[2m290\u001b[0m\u001b]8;;\u001b\\\n",
       "\u001b[2;36m                    \u001b[0m         \u001b[32m'load_data_from_hub_0'\u001b[0m sending batch \u001b[1;36m0\u001b[0m to output queue             \u001b[2m                   \u001b[0m\n"
      ]
     },
     "metadata": {},
     "output_type": "display_data"
    },
    {
     "data": {
      "text/html": [
       "<pre style=\"white-space:pre;overflow-x:auto;line-height:normal;font-family:Menlo,'DejaVu Sans Mono',consolas,'Courier New',monospace\"><span style=\"color: #7fbfbf; text-decoration-color: #7fbfbf\">                    </span><span style=\"color: #000080; text-decoration-color: #000080\">INFO    </span> <span style=\"font-weight: bold\">[</span><span style=\"color: #008000; text-decoration-color: #008000\">'distilabel.step.load_data_from_hub_0'</span><span style=\"font-weight: bold\">]</span> 🏁 Finished running step  <a href=\"file:///home/dnth/Desktop/rag-datakit/.venv/lib/python3.12/site-packages/distilabel/pipeline/step_wrapper.py\" target=\"_blank\"><span style=\"color: #7f7f7f; text-decoration-color: #7f7f7f\">step_wrapper.py</span></a><span style=\"color: #7f7f7f; text-decoration-color: #7f7f7f\">:</span><a href=\"file:///home/dnth/Desktop/rag-datakit/.venv/lib/python3.12/site-packages/distilabel/pipeline/step_wrapper.py#129\" target=\"_blank\"><span style=\"color: #7f7f7f; text-decoration-color: #7f7f7f\">129</span></a>\n",
       "<span style=\"color: #7fbfbf; text-decoration-color: #7fbfbf\">                    </span>         <span style=\"color: #008000; text-decoration-color: #008000\">'load_data_from_hub_0'</span> <span style=\"font-weight: bold\">(</span>replica ID: <span style=\"color: #008080; text-decoration-color: #008080; font-weight: bold\">0</span><span style=\"font-weight: bold\">)</span>                             <span style=\"color: #7f7f7f; text-decoration-color: #7f7f7f\">                   </span>\n",
       "</pre>\n"
      ],
      "text/plain": [
       "\u001b[2;36m                   \u001b[0m\u001b[2;36m \u001b[0m\u001b[34mINFO    \u001b[0m \u001b[1m[\u001b[0m\u001b[32m'distilabel.step.load_data_from_hub_0'\u001b[0m\u001b[1m]\u001b[0m 🏁 Finished running step  \u001b]8;id=850334;file:///home/dnth/Desktop/rag-datakit/.venv/lib/python3.12/site-packages/distilabel/pipeline/step_wrapper.py\u001b\\\u001b[2mstep_wrapper.py\u001b[0m\u001b]8;;\u001b\\\u001b[2m:\u001b[0m\u001b]8;id=696530;file:///home/dnth/Desktop/rag-datakit/.venv/lib/python3.12/site-packages/distilabel/pipeline/step_wrapper.py#129\u001b\\\u001b[2m129\u001b[0m\u001b]8;;\u001b\\\n",
       "\u001b[2;36m                    \u001b[0m         \u001b[32m'load_data_from_hub_0'\u001b[0m \u001b[1m(\u001b[0mreplica ID: \u001b[1;36m0\u001b[0m\u001b[1m)\u001b[0m                             \u001b[2m                   \u001b[0m\n"
      ]
     },
     "metadata": {},
     "output_type": "display_data"
    },
    {
     "data": {
      "text/html": [
       "<pre style=\"white-space:pre;overflow-x:auto;line-height:normal;font-family:Menlo,'DejaVu Sans Mono',consolas,'Courier New',monospace\"><span style=\"color: #7fbfbf; text-decoration-color: #7fbfbf\">                    </span><span style=\"color: #000080; text-decoration-color: #000080\">INFO    </span> <span style=\"font-weight: bold\">[</span><span style=\"color: #008000; text-decoration-color: #008000\">'distilabel.step.hard_triplets'</span><span style=\"font-weight: bold\">]</span> 📦 Processing batch <span style=\"color: #008080; text-decoration-color: #008080; font-weight: bold\">0</span> in         <a href=\"file:///home/dnth/Desktop/rag-datakit/.venv/lib/python3.12/site-packages/distilabel/pipeline/step_wrapper.py\" target=\"_blank\"><span style=\"color: #7f7f7f; text-decoration-color: #7f7f7f\">step_wrapper.py</span></a><span style=\"color: #7f7f7f; text-decoration-color: #7f7f7f\">:</span><a href=\"file:///home/dnth/Desktop/rag-datakit/.venv/lib/python3.12/site-packages/distilabel/pipeline/step_wrapper.py#230\" target=\"_blank\"><span style=\"color: #7f7f7f; text-decoration-color: #7f7f7f\">230</span></a>\n",
       "<span style=\"color: #7fbfbf; text-decoration-color: #7fbfbf\">                    </span>         <span style=\"color: #008000; text-decoration-color: #008000\">'hard_triplets'</span> <span style=\"font-weight: bold\">(</span>replica ID: <span style=\"color: #008080; text-decoration-color: #008080; font-weight: bold\">0</span><span style=\"font-weight: bold\">)</span>                                    <span style=\"color: #7f7f7f; text-decoration-color: #7f7f7f\">                   </span>\n",
       "</pre>\n"
      ],
      "text/plain": [
       "\u001b[2;36m                   \u001b[0m\u001b[2;36m \u001b[0m\u001b[34mINFO    \u001b[0m \u001b[1m[\u001b[0m\u001b[32m'distilabel.step.hard_triplets'\u001b[0m\u001b[1m]\u001b[0m 📦 Processing batch \u001b[1;36m0\u001b[0m in         \u001b]8;id=832471;file:///home/dnth/Desktop/rag-datakit/.venv/lib/python3.12/site-packages/distilabel/pipeline/step_wrapper.py\u001b\\\u001b[2mstep_wrapper.py\u001b[0m\u001b]8;;\u001b\\\u001b[2m:\u001b[0m\u001b]8;id=647569;file:///home/dnth/Desktop/rag-datakit/.venv/lib/python3.12/site-packages/distilabel/pipeline/step_wrapper.py#230\u001b\\\u001b[2m230\u001b[0m\u001b]8;;\u001b\\\n",
       "\u001b[2;36m                    \u001b[0m         \u001b[32m'hard_triplets'\u001b[0m \u001b[1m(\u001b[0mreplica ID: \u001b[1;36m0\u001b[0m\u001b[1m)\u001b[0m                                    \u001b[2m                   \u001b[0m\n"
      ]
     },
     "metadata": {},
     "output_type": "display_data"
    },
    {
     "data": {
      "text/html": [
       "<pre style=\"white-space:pre;overflow-x:auto;line-height:normal;font-family:Menlo,'DejaVu Sans Mono',consolas,'Courier New',monospace\"><span style=\"color: #7fbfbf; text-decoration-color: #7fbfbf\">                    </span><span style=\"color: #000080; text-decoration-color: #000080\">INFO    </span> <span style=\"font-weight: bold\">[</span><span style=\"color: #008000; text-decoration-color: #008000\">'distilabel.step.easy_triplets'</span><span style=\"font-weight: bold\">]</span> 📦 Processing batch <span style=\"color: #008080; text-decoration-color: #008080; font-weight: bold\">0</span> in         <a href=\"file:///home/dnth/Desktop/rag-datakit/.venv/lib/python3.12/site-packages/distilabel/pipeline/step_wrapper.py\" target=\"_blank\"><span style=\"color: #7f7f7f; text-decoration-color: #7f7f7f\">step_wrapper.py</span></a><span style=\"color: #7f7f7f; text-decoration-color: #7f7f7f\">:</span><a href=\"file:///home/dnth/Desktop/rag-datakit/.venv/lib/python3.12/site-packages/distilabel/pipeline/step_wrapper.py#230\" target=\"_blank\"><span style=\"color: #7f7f7f; text-decoration-color: #7f7f7f\">230</span></a>\n",
       "<span style=\"color: #7fbfbf; text-decoration-color: #7fbfbf\">                    </span>         <span style=\"color: #008000; text-decoration-color: #008000\">'easy_triplets'</span> <span style=\"font-weight: bold\">(</span>replica ID: <span style=\"color: #008080; text-decoration-color: #008080; font-weight: bold\">0</span><span style=\"font-weight: bold\">)</span>                                    <span style=\"color: #7f7f7f; text-decoration-color: #7f7f7f\">                   </span>\n",
       "</pre>\n"
      ],
      "text/plain": [
       "\u001b[2;36m                   \u001b[0m\u001b[2;36m \u001b[0m\u001b[34mINFO    \u001b[0m \u001b[1m[\u001b[0m\u001b[32m'distilabel.step.easy_triplets'\u001b[0m\u001b[1m]\u001b[0m 📦 Processing batch \u001b[1;36m0\u001b[0m in         \u001b]8;id=369413;file:///home/dnth/Desktop/rag-datakit/.venv/lib/python3.12/site-packages/distilabel/pipeline/step_wrapper.py\u001b\\\u001b[2mstep_wrapper.py\u001b[0m\u001b]8;;\u001b\\\u001b[2m:\u001b[0m\u001b]8;id=158839;file:///home/dnth/Desktop/rag-datakit/.venv/lib/python3.12/site-packages/distilabel/pipeline/step_wrapper.py#230\u001b\\\u001b[2m230\u001b[0m\u001b]8;;\u001b\\\n",
       "\u001b[2;36m                    \u001b[0m         \u001b[32m'easy_triplets'\u001b[0m \u001b[1m(\u001b[0mreplica ID: \u001b[1;36m0\u001b[0m\u001b[1m)\u001b[0m                                    \u001b[2m                   \u001b[0m\n"
      ]
     },
     "metadata": {},
     "output_type": "display_data"
    },
    {
     "data": {
      "text/html": [
       "<pre style=\"white-space:pre;overflow-x:auto;line-height:normal;font-family:Menlo,'DejaVu Sans Mono',consolas,'Courier New',monospace\"><span style=\"color: #7fbfbf; text-decoration-color: #7fbfbf\">[08/12/25 12:09:02] </span><span style=\"color: #000080; text-decoration-color: #000080\">INFO    </span> <span style=\"font-weight: bold\">[</span><span style=\"color: #008000; text-decoration-color: #008000\">'distilabel.step.easy_triplets'</span><span style=\"font-weight: bold\">]</span> 📨 Step <span style=\"color: #008000; text-decoration-color: #008000\">'easy_triplets'</span> sending  <a href=\"file:///home/dnth/Desktop/rag-datakit/.venv/lib/python3.12/site-packages/distilabel/pipeline/step_wrapper.py\" target=\"_blank\"><span style=\"color: #7f7f7f; text-decoration-color: #7f7f7f\">step_wrapper.py</span></a><span style=\"color: #7f7f7f; text-decoration-color: #7f7f7f\">:</span><a href=\"file:///home/dnth/Desktop/rag-datakit/.venv/lib/python3.12/site-packages/distilabel/pipeline/step_wrapper.py#290\" target=\"_blank\"><span style=\"color: #7f7f7f; text-decoration-color: #7f7f7f\">290</span></a>\n",
       "<span style=\"color: #7fbfbf; text-decoration-color: #7fbfbf\">                    </span>         batch <span style=\"color: #008080; text-decoration-color: #008080; font-weight: bold\">0</span> to output queue                                            <span style=\"color: #7f7f7f; text-decoration-color: #7f7f7f\">                   </span>\n",
       "</pre>\n"
      ],
      "text/plain": [
       "\u001b[2;36m[08/12/25 12:09:02]\u001b[0m\u001b[2;36m \u001b[0m\u001b[34mINFO    \u001b[0m \u001b[1m[\u001b[0m\u001b[32m'distilabel.step.easy_triplets'\u001b[0m\u001b[1m]\u001b[0m 📨 Step \u001b[32m'easy_triplets'\u001b[0m sending  \u001b]8;id=689136;file:///home/dnth/Desktop/rag-datakit/.venv/lib/python3.12/site-packages/distilabel/pipeline/step_wrapper.py\u001b\\\u001b[2mstep_wrapper.py\u001b[0m\u001b]8;;\u001b\\\u001b[2m:\u001b[0m\u001b]8;id=977315;file:///home/dnth/Desktop/rag-datakit/.venv/lib/python3.12/site-packages/distilabel/pipeline/step_wrapper.py#290\u001b\\\u001b[2m290\u001b[0m\u001b]8;;\u001b\\\n",
       "\u001b[2;36m                    \u001b[0m         batch \u001b[1;36m0\u001b[0m to output queue                                            \u001b[2m                   \u001b[0m\n"
      ]
     },
     "metadata": {},
     "output_type": "display_data"
    },
    {
     "data": {
      "text/html": [
       "<pre style=\"white-space:pre;overflow-x:auto;line-height:normal;font-family:Menlo,'DejaVu Sans Mono',consolas,'Courier New',monospace\"><span style=\"color: #7fbfbf; text-decoration-color: #7fbfbf\">                    </span><span style=\"color: #000080; text-decoration-color: #000080\">INFO    </span> <span style=\"font-weight: bold\">[</span><span style=\"color: #008000; text-decoration-color: #008000\">'distilabel.step.easy_triplets'</span><span style=\"font-weight: bold\">]</span> 🏁 Finished running step         <a href=\"file:///home/dnth/Desktop/rag-datakit/.venv/lib/python3.12/site-packages/distilabel/pipeline/step_wrapper.py\" target=\"_blank\"><span style=\"color: #7f7f7f; text-decoration-color: #7f7f7f\">step_wrapper.py</span></a><span style=\"color: #7f7f7f; text-decoration-color: #7f7f7f\">:</span><a href=\"file:///home/dnth/Desktop/rag-datakit/.venv/lib/python3.12/site-packages/distilabel/pipeline/step_wrapper.py#129\" target=\"_blank\"><span style=\"color: #7f7f7f; text-decoration-color: #7f7f7f\">129</span></a>\n",
       "<span style=\"color: #7fbfbf; text-decoration-color: #7fbfbf\">                    </span>         <span style=\"color: #008000; text-decoration-color: #008000\">'easy_triplets'</span> <span style=\"font-weight: bold\">(</span>replica ID: <span style=\"color: #008080; text-decoration-color: #008080; font-weight: bold\">0</span><span style=\"font-weight: bold\">)</span>                                    <span style=\"color: #7f7f7f; text-decoration-color: #7f7f7f\">                   </span>\n",
       "</pre>\n"
      ],
      "text/plain": [
       "\u001b[2;36m                   \u001b[0m\u001b[2;36m \u001b[0m\u001b[34mINFO    \u001b[0m \u001b[1m[\u001b[0m\u001b[32m'distilabel.step.easy_triplets'\u001b[0m\u001b[1m]\u001b[0m 🏁 Finished running step         \u001b]8;id=945060;file:///home/dnth/Desktop/rag-datakit/.venv/lib/python3.12/site-packages/distilabel/pipeline/step_wrapper.py\u001b\\\u001b[2mstep_wrapper.py\u001b[0m\u001b]8;;\u001b\\\u001b[2m:\u001b[0m\u001b]8;id=715512;file:///home/dnth/Desktop/rag-datakit/.venv/lib/python3.12/site-packages/distilabel/pipeline/step_wrapper.py#129\u001b\\\u001b[2m129\u001b[0m\u001b]8;;\u001b\\\n",
       "\u001b[2;36m                    \u001b[0m         \u001b[32m'easy_triplets'\u001b[0m \u001b[1m(\u001b[0mreplica ID: \u001b[1;36m0\u001b[0m\u001b[1m)\u001b[0m                                    \u001b[2m                   \u001b[0m\n"
      ]
     },
     "metadata": {},
     "output_type": "display_data"
    },
    {
     "data": {
      "text/html": [
       "<pre style=\"white-space:pre;overflow-x:auto;line-height:normal;font-family:Menlo,'DejaVu Sans Mono',consolas,'Courier New',monospace\"><span style=\"color: #7fbfbf; text-decoration-color: #7fbfbf\">[08/12/25 12:09:05] </span><span style=\"color: #000080; text-decoration-color: #000080\">INFO    </span> <span style=\"font-weight: bold\">[</span><span style=\"color: #008000; text-decoration-color: #008000\">'distilabel.step.hard_triplets'</span><span style=\"font-weight: bold\">]</span> 📨 Step <span style=\"color: #008000; text-decoration-color: #008000\">'hard_triplets'</span> sending  <a href=\"file:///home/dnth/Desktop/rag-datakit/.venv/lib/python3.12/site-packages/distilabel/pipeline/step_wrapper.py\" target=\"_blank\"><span style=\"color: #7f7f7f; text-decoration-color: #7f7f7f\">step_wrapper.py</span></a><span style=\"color: #7f7f7f; text-decoration-color: #7f7f7f\">:</span><a href=\"file:///home/dnth/Desktop/rag-datakit/.venv/lib/python3.12/site-packages/distilabel/pipeline/step_wrapper.py#290\" target=\"_blank\"><span style=\"color: #7f7f7f; text-decoration-color: #7f7f7f\">290</span></a>\n",
       "<span style=\"color: #7fbfbf; text-decoration-color: #7fbfbf\">                    </span>         batch <span style=\"color: #008080; text-decoration-color: #008080; font-weight: bold\">0</span> to output queue                                            <span style=\"color: #7f7f7f; text-decoration-color: #7f7f7f\">                   </span>\n",
       "</pre>\n"
      ],
      "text/plain": [
       "\u001b[2;36m[08/12/25 12:09:05]\u001b[0m\u001b[2;36m \u001b[0m\u001b[34mINFO    \u001b[0m \u001b[1m[\u001b[0m\u001b[32m'distilabel.step.hard_triplets'\u001b[0m\u001b[1m]\u001b[0m 📨 Step \u001b[32m'hard_triplets'\u001b[0m sending  \u001b]8;id=497990;file:///home/dnth/Desktop/rag-datakit/.venv/lib/python3.12/site-packages/distilabel/pipeline/step_wrapper.py\u001b\\\u001b[2mstep_wrapper.py\u001b[0m\u001b]8;;\u001b\\\u001b[2m:\u001b[0m\u001b]8;id=191296;file:///home/dnth/Desktop/rag-datakit/.venv/lib/python3.12/site-packages/distilabel/pipeline/step_wrapper.py#290\u001b\\\u001b[2m290\u001b[0m\u001b]8;;\u001b\\\n",
       "\u001b[2;36m                    \u001b[0m         batch \u001b[1;36m0\u001b[0m to output queue                                            \u001b[2m                   \u001b[0m\n"
      ]
     },
     "metadata": {},
     "output_type": "display_data"
    },
    {
     "data": {
      "text/html": [
       "<pre style=\"white-space:pre;overflow-x:auto;line-height:normal;font-family:Menlo,'DejaVu Sans Mono',consolas,'Courier New',monospace\"><span style=\"color: #7fbfbf; text-decoration-color: #7fbfbf\">                    </span><span style=\"color: #000080; text-decoration-color: #000080\">INFO    </span> <span style=\"font-weight: bold\">[</span><span style=\"color: #008000; text-decoration-color: #008000\">'distilabel.step.hard_triplets'</span><span style=\"font-weight: bold\">]</span> 🏁 Finished running step         <a href=\"file:///home/dnth/Desktop/rag-datakit/.venv/lib/python3.12/site-packages/distilabel/pipeline/step_wrapper.py\" target=\"_blank\"><span style=\"color: #7f7f7f; text-decoration-color: #7f7f7f\">step_wrapper.py</span></a><span style=\"color: #7f7f7f; text-decoration-color: #7f7f7f\">:</span><a href=\"file:///home/dnth/Desktop/rag-datakit/.venv/lib/python3.12/site-packages/distilabel/pipeline/step_wrapper.py#129\" target=\"_blank\"><span style=\"color: #7f7f7f; text-decoration-color: #7f7f7f\">129</span></a>\n",
       "<span style=\"color: #7fbfbf; text-decoration-color: #7fbfbf\">                    </span>         <span style=\"color: #008000; text-decoration-color: #008000\">'hard_triplets'</span> <span style=\"font-weight: bold\">(</span>replica ID: <span style=\"color: #008080; text-decoration-color: #008080; font-weight: bold\">0</span><span style=\"font-weight: bold\">)</span>                                    <span style=\"color: #7f7f7f; text-decoration-color: #7f7f7f\">                   </span>\n",
       "</pre>\n"
      ],
      "text/plain": [
       "\u001b[2;36m                   \u001b[0m\u001b[2;36m \u001b[0m\u001b[34mINFO    \u001b[0m \u001b[1m[\u001b[0m\u001b[32m'distilabel.step.hard_triplets'\u001b[0m\u001b[1m]\u001b[0m 🏁 Finished running step         \u001b]8;id=803988;file:///home/dnth/Desktop/rag-datakit/.venv/lib/python3.12/site-packages/distilabel/pipeline/step_wrapper.py\u001b\\\u001b[2mstep_wrapper.py\u001b[0m\u001b]8;;\u001b\\\u001b[2m:\u001b[0m\u001b]8;id=205743;file:///home/dnth/Desktop/rag-datakit/.venv/lib/python3.12/site-packages/distilabel/pipeline/step_wrapper.py#129\u001b\\\u001b[2m129\u001b[0m\u001b]8;;\u001b\\\n",
       "\u001b[2;36m                    \u001b[0m         \u001b[32m'hard_triplets'\u001b[0m \u001b[1m(\u001b[0mreplica ID: \u001b[1;36m0\u001b[0m\u001b[1m)\u001b[0m                                    \u001b[2m                   \u001b[0m\n"
      ]
     },
     "metadata": {},
     "output_type": "display_data"
    },
    {
     "data": {
      "application/vnd.jupyter.widget-view+json": {
       "model_id": "9721474877ec4d1db5a4f958688916e5",
       "version_major": 2,
       "version_minor": 0
      },
      "text/plain": [
       "Generating train split: 0 examples [00:00, ? examples/s]"
      ]
     },
     "metadata": {},
     "output_type": "display_data"
    },
    {
     "data": {
      "application/vnd.jupyter.widget-view+json": {
       "model_id": "4eefc610b3544f17b32a77b8da0c29ef",
       "version_major": 2,
       "version_minor": 0
      },
      "text/plain": [
       "Generating train split: 0 examples [00:00, ? examples/s]"
      ]
     },
     "metadata": {},
     "output_type": "display_data"
    }
   ],
   "source": [
    "distiset = pipeline.run(\n",
    "    use_cache=False,\n",
    "    parameters={\n",
    "        load_dataset.name: {\n",
    "            \"repo_id\": \"dnth/ssf-dataset\",\n",
    "            \"split\": \"train\",\n",
    "        },\n",
    "        \"easy_triplets\": {\n",
    "            \"llm\": {\"generation_kwargs\": {\"temperature\": 0.6, \"max_new_tokens\": 256}}\n",
    "        },\n",
    "    }\n",
    ")"
   ]
  },
  {
   "cell_type": "markdown",
   "id": "oxik9sir57r",
   "metadata": {},
   "source": [
    "## Running the Pipeline\n",
    "\n",
    "Execute the pipeline with specific parameters:\n",
    "- **num_examples**: Limit to 10 examples for demonstration (increase for production)\n",
    "- **temperature**: Controls randomness in LLM generation (0.7 for creative but consistent outputs)\n",
    "- **max_new_tokens**: Maximum length of generated text\n",
    "\n",
    "The pipeline will process each job description and generate corresponding positive and negative examples."
   ]
  },
  {
   "cell_type": "code",
   "execution_count": 8,
   "id": "0009e36f",
   "metadata": {},
   "outputs": [
    {
     "data": {
      "text/plain": [
       "Distiset({\n",
       "    easy_triplets: DatasetDict({\n",
       "        train: Dataset({\n",
       "            features: ['Sector', 'Track', 'Job Role', 'anchor', 'Performance Expectation', 'positive', 'negative', 'distilabel_metadata', 'model_name'],\n",
       "            num_rows: 10\n",
       "        })\n",
       "    })\n",
       "    hard_triplets: DatasetDict({\n",
       "        train: Dataset({\n",
       "            features: ['Sector', 'Track', 'Job Role', 'anchor', 'Performance Expectation', 'positive', 'negative', 'distilabel_metadata', 'model_name'],\n",
       "            num_rows: 10\n",
       "        })\n",
       "    })\n",
       "})"
      ]
     },
     "execution_count": 8,
     "metadata": {},
     "output_type": "execute_result"
    }
   ],
   "source": [
    "distiset"
   ]
  },
  {
   "cell_type": "markdown",
   "id": "ahl5lkcx65j",
   "metadata": {},
   "source": [
    "## Results Inspection\n",
    "\n",
    "The pipeline generates a `Distiset` object containing our synthetic dataset. Let's examine the structure and content of the generated data:\n",
    "\n",
    "### Dataset Structure\n",
    "The output includes the original fields plus new generated columns:\n",
    "- **anchor**: Original job role description\n",
    "- **positive**: LLM-generated paraphrase (semantically similar)\n",
    "- **negative**: LLM-generated different job description (semantically dissimilar)\n",
    "- **distilabel_metadata**: Generation metadata and token usage\n",
    "- **model_name**: LLM model used for generation"
   ]
  },
  {
   "cell_type": "code",
   "execution_count": 10,
   "id": "44ca55e0",
   "metadata": {},
   "outputs": [
    {
     "data": {
      "text/plain": [
       "{'Sector': 'Accountancy',\n",
       " 'Track': 'Assurance',\n",
       " 'Job Role': 'Audit Associate / Audit Assistant Associate',\n",
       " 'anchor': 'The Audit Associate/Audit Assistant Associate undertakes specific stages of audit work under supervision. He/She begins to appreciate the underlying principles behind the tasks assigned to him as part of the audit plan. He is also able to make adjustments to the application of skills to improve the work tasks or solve non-complex issues. The Audit Associate/Audit Assistant Associate operates in a structured work environment. He is able to build relationships, work in a team and identify ethical issues with reference to the code of professional conduct and ethics. He is able to select and apply from a range of known solutions to familiar problems and takes responsibility for his own learning and performance. He is a trustworthy and meticulous individual.',\n",
       " 'Performance Expectation': 'In accordance with: Singapore Standards on Auditing, Ethics Pronouncements in Singapore, Singapore Companies Act, and Singapore Financial Reporting Standards',\n",
       " 'positive': 'The Audit Associate undertakes defined phases of audit procedures under the guidance of senior auditors. As part of the audit process, they begin to understand the foundational concepts driving each task within the audit framework. They are able to adapt their approach to refine audit techniques and resolve routine issues effectively. Working within a disciplined and organized structure, the associate develops strong collaboration skills, contributes actively to team efforts, and demonstrates awareness of ethical standards outlined in professional codes. They can draw upon established methodologies to address common audit challenges and take ownership of their personal development and performance. The ideal candidate is reliable, detail-oriented, and committed to maintaining integrity and accuracy throughout all audit activities.',\n",
       " 'negative': 'The IT Support Technician provides basic technical assistance to end-users within a corporate office setting. This role involves troubleshooting common software and hardware issues, responding to user inquiries via ticketing systems, and ensuring daily operations run smoothly. The technician works independently within a standard operational workflow, follows company guidelines for data handling, and maintains records of support requests. While they engage in team-based communication, their responsibilities do not require deep analytical thinking or complex decision-making. They follow predefined procedures to resolve typical problems and participate in periodic training sessions to stay updated on system changes. The role emphasizes reliability and prompt response time rather than',\n",
       " 'distilabel_metadata': {'raw_input_easy_triplets': [{'content': 'Your task is to generate a positive and a negative sentence given an anchor sentence. Take into account the context given. The positive sentence has to paraphrase the anchor sentence, while the negative sentence can use similar words but must not be related to the anchor sentence. You must output only two new sections: `## Positive` and `## Negative`.',\n",
       "    'role': 'system'},\n",
       "   {'content': '## Context\\n\\n\\nThe text is a job description from the Singapore SkillsFuture Framework. Your task is to generate realistic job descriptions from the provided description.\\n\\nFor the positive query, generate a realistic description for this role. Focus on creating variations that capture the essence of the role in different words, as if written by different people or organizations posting similar jobs.\\n\\nFor negative descriptions you are allowed to choose from the following strategies\\n\\n1. Same industry, different seniority level (Senior → Junior or Vice versa)\\n2. Same industry, different function (Business Valuation → Risk Management)\\n3. Similar skills, different domain (Financial Analysis in Banking vs Healthcare)\\n4. Same title, different industry context\\n\\nThe query should always include the job role. Start the description with The <job role>.\\n\\n\\n\\n## Anchor\\n\\nThe Audit Associate/Audit Assistant Associate undertakes specific stages of audit work under supervision. He/She begins to appreciate the underlying principles behind the tasks assigned to him as part of the audit plan. He is also able to make adjustments to the application of skills to improve the work tasks or solve non-complex issues. The Audit Associate/Audit Assistant Associate operates in a structured work environment. He is able to build relationships, work in a team and identify ethical issues with reference to the code of professional conduct and ethics. He is able to select and apply from a range of known solutions to familiar problems and takes responsibility for his own learning and performance. He is a trustworthy and meticulous individual.\\n',\n",
       "    'role': 'user'}],\n",
       "  'raw_output_easy_triplets': '## Positive  \\nThe Audit Associate undertakes defined phases of audit procedures under the guidance of senior auditors. As part of the audit process, they begin to understand the foundational concepts driving each task within the audit framework. They are able to adapt their approach to refine audit techniques and resolve routine issues effectively. Working within a disciplined and organized structure, the associate develops strong collaboration skills, contributes actively to team efforts, and demonstrates awareness of ethical standards outlined in professional codes. They can draw upon established methodologies to address common audit challenges and take ownership of their personal development and performance. The ideal candidate is reliable, detail-oriented, and committed to maintaining integrity and accuracy throughout all audit activities.\\n\\n## Negative  \\nThe IT Support Technician provides basic technical assistance to end-users within a corporate office setting. This role involves troubleshooting common software and hardware issues, responding to user inquiries via ticketing systems, and ensuring daily operations run smoothly. The technician works independently within a standard operational workflow, follows company guidelines for data handling, and maintains records of support requests. While they engage in team-based communication, their responsibilities do not require deep analytical thinking or complex decision-making. They follow predefined procedures to resolve typical problems and participate in periodic training sessions to stay updated on system changes. The role emphasizes reliability and prompt response time rather than',\n",
       "  'statistics_easy_triplets': {'input_tokens': 366, 'output_tokens': 256}},\n",
       " 'model_name': 'Qwen/Qwen3-4B-Instruct-2507'}"
      ]
     },
     "execution_count": 10,
     "metadata": {},
     "output_type": "execute_result"
    }
   ],
   "source": [
    "distiset[\"easy_triplets\"][\"train\"][0]"
   ]
  },
  {
   "cell_type": "code",
   "execution_count": 11,
   "id": "22bdf9f9",
   "metadata": {},
   "outputs": [
    {
     "data": {
      "application/vnd.microsoft.datawrangler.viewer.v0+json": {
       "columns": [
        {
         "name": "index",
         "rawType": "int64",
         "type": "integer"
        },
        {
         "name": "Sector",
         "rawType": "object",
         "type": "string"
        },
        {
         "name": "Track",
         "rawType": "object",
         "type": "string"
        },
        {
         "name": "Job Role",
         "rawType": "object",
         "type": "string"
        },
        {
         "name": "anchor",
         "rawType": "object",
         "type": "string"
        },
        {
         "name": "Performance Expectation",
         "rawType": "object",
         "type": "unknown"
        },
        {
         "name": "positive",
         "rawType": "object",
         "type": "string"
        },
        {
         "name": "negative",
         "rawType": "object",
         "type": "string"
        },
        {
         "name": "distilabel_metadata",
         "rawType": "object",
         "type": "unknown"
        },
        {
         "name": "model_name",
         "rawType": "object",
         "type": "string"
        }
       ],
       "ref": "93e089ce-4ec7-4393-8012-99473a1058ba",
       "rows": [
        [
         "0",
         "Accountancy",
         "Assurance",
         "Audit Associate / Audit Assistant Associate",
         "The Audit Associate/Audit Assistant Associate undertakes specific stages of audit work under supervision. He/She begins to appreciate the underlying principles behind the tasks assigned to him as part of the audit plan. He is also able to make adjustments to the application of skills to improve the work tasks or solve non-complex issues. The Audit Associate/Audit Assistant Associate operates in a structured work environment. He is able to build relationships, work in a team and identify ethical issues with reference to the code of professional conduct and ethics. He is able to select and apply from a range of known solutions to familiar problems and takes responsibility for his own learning and performance. He is a trustworthy and meticulous individual.",
         "In accordance with: Singapore Standards on Auditing, Ethics Pronouncements in Singapore, Singapore Companies Act, and Singapore Financial Reporting Standards",
         "The Audit Associate undertakes defined phases of audit procedures under the guidance of senior auditors. As part of the audit process, they begin to understand the foundational concepts driving each task within the audit framework. They are able to adapt their approach to refine audit techniques and resolve routine issues effectively. Working within a disciplined and organized structure, the associate develops strong collaboration skills, contributes actively to team efforts, and demonstrates awareness of ethical standards outlined in professional codes. They can draw upon established methodologies to address common audit challenges and take ownership of their personal development and performance. The ideal candidate is reliable, detail-oriented, and committed to maintaining integrity and accuracy throughout all audit activities.",
         "The IT Support Technician provides basic technical assistance to end-users within a corporate office setting. This role involves troubleshooting common software and hardware issues, responding to user inquiries via ticketing systems, and ensuring daily operations run smoothly. The technician works independently within a standard operational workflow, follows company guidelines for data handling, and maintains records of support requests. While they engage in team-based communication, their responsibilities do not require deep analytical thinking or complex decision-making. They follow predefined procedures to resolve typical problems and participate in periodic training sessions to stay updated on system changes. The role emphasizes reliability and prompt response time rather than",
         "{'raw_input_easy_triplets': array([{'content': 'Your task is to generate a positive and a negative sentence given an anchor sentence. Take into account the context given. The positive sentence has to paraphrase the anchor sentence, while the negative sentence can use similar words but must not be related to the anchor sentence. You must output only two new sections: `## Positive` and `## Negative`.', 'role': 'system'},\n       {'content': '## Context\\n\\n\\nThe text is a job description from the Singapore SkillsFuture Framework. Your task is to generate realistic job descriptions from the provided description.\\n\\nFor the positive query, generate a realistic description for this role. Focus on creating variations that capture the essence of the role in different words, as if written by different people or organizations posting similar jobs.\\n\\nFor negative descriptions you are allowed to choose from the following strategies\\n\\n1. Same industry, different seniority level (Senior → Junior or Vice versa)\\n2. Same industry, different function (Business Valuation → Risk Management)\\n3. Similar skills, different domain (Financial Analysis in Banking vs Healthcare)\\n4. Same title, different industry context\\n\\nThe query should always include the job role. Start the description with The <job role>.\\n\\n\\n\\n## Anchor\\n\\nThe Audit Associate/Audit Assistant Associate undertakes specific stages of audit work under supervision. He/She begins to appreciate the underlying principles behind the tasks assigned to him as part of the audit plan. He is also able to make adjustments to the application of skills to improve the work tasks or solve non-complex issues. The Audit Associate/Audit Assistant Associate operates in a structured work environment. He is able to build relationships, work in a team and identify ethical issues with reference to the code of professional conduct and ethics. He is able to select and apply from a range of known solutions to familiar problems and takes responsibility for his own learning and performance. He is a trustworthy and meticulous individual.\\n', 'role': 'user'}],\n      dtype=object), 'raw_output_easy_triplets': '## Positive  \\nThe Audit Associate undertakes defined phases of audit procedures under the guidance of senior auditors. As part of the audit process, they begin to understand the foundational concepts driving each task within the audit framework. They are able to adapt their approach to refine audit techniques and resolve routine issues effectively. Working within a disciplined and organized structure, the associate develops strong collaboration skills, contributes actively to team efforts, and demonstrates awareness of ethical standards outlined in professional codes. They can draw upon established methodologies to address common audit challenges and take ownership of their personal development and performance. The ideal candidate is reliable, detail-oriented, and committed to maintaining integrity and accuracy throughout all audit activities.\\n\\n## Negative  \\nThe IT Support Technician provides basic technical assistance to end-users within a corporate office setting. This role involves troubleshooting common software and hardware issues, responding to user inquiries via ticketing systems, and ensuring daily operations run smoothly. The technician works independently within a standard operational workflow, follows company guidelines for data handling, and maintains records of support requests. While they engage in team-based communication, their responsibilities do not require deep analytical thinking or complex decision-making. They follow predefined procedures to resolve typical problems and participate in periodic training sessions to stay updated on system changes. The role emphasizes reliability and prompt response time rather than', 'statistics_easy_triplets': {'input_tokens': 366, 'output_tokens': 256}}",
         "Qwen/Qwen3-4B-Instruct-2507"
        ],
        [
         "1",
         "Accountancy",
         "Assurance",
         "Audit Manager",
         "The Audit Senior Manager/Audit Manager manages a portfolio of engagements to deliver high quality audit services. He/she also provides leadership on audit engagements which includes client acceptance process, engagement planning, execution and finalisation of an audit engagement. He is fully accountable for the audit engagement and ensures that the engagement progress against budget and timeline is closely monitored. He also serves to develop and maintain long-term client relationships and value-add to the audit firm by identifying new business development opportunities. The Audit Senior Manager/Audit Manager reviews and provides key technical expertise to ensure the quality of audit work performed is in compliance with professional standards and requirements. He contributes towards continuous improvement in audit methodology and process. He will also assume a greater role in professional development activities such as training, staff recruitment and resource planning.",
         "In accordance with: Singapore Standards on Auditing, Ethics Pronouncements in Singapore, Singapore Companies Act, and Singapore Financial Reporting Standards",
         "The Audit Senior Manager/Manager leads a diverse portfolio of audit assignments, ensuring consistent delivery of high-quality financial audits across clients. This role involves end-to-end oversight of audit engagements—from initial client acceptance and detailed planning through to execution and final reporting—while maintaining strict adherence to timelines and budgets. The individual holds full accountability for audit outcomes, actively monitors performance metrics, and fosters strong, trust-based relationships with clients to enhance retention and drive sustainable growth. They provide expert-level guidance on audit procedures, ensuring compliance with international auditing standards and contributing to the refinement of internal audit methodologies. Additionally, they play a key role in team capacity building, including mentoring junior staff, leading recruitment initiatives, and shaping future talent development plans within the audit division.",
         "The Junior Auditor supports the day-to-day processing of financial records under supervision, focusing on data entry, reconciliation tasks, and documentation. This role involves assisting with basic audit procedures, preparing preliminary reports, and helping to organize client files according to standard workflows. While the position does not involve independent decision-making or client engagement, it offers exposure to fundamental accounting principles and audit processes. Responsibilities are largely administrative and procedural, with minimal involvement in strategic planning, quality assurance, or business development. The employee receives regular guidance from senior staff",
         "{'raw_input_easy_triplets': array([{'content': 'Your task is to generate a positive and a negative sentence given an anchor sentence. Take into account the context given. The positive sentence has to paraphrase the anchor sentence, while the negative sentence can use similar words but must not be related to the anchor sentence. You must output only two new sections: `## Positive` and `## Negative`.', 'role': 'system'},\n       {'content': '## Context\\n\\n\\nThe text is a job description from the Singapore SkillsFuture Framework. Your task is to generate realistic job descriptions from the provided description.\\n\\nFor the positive query, generate a realistic description for this role. Focus on creating variations that capture the essence of the role in different words, as if written by different people or organizations posting similar jobs.\\n\\nFor negative descriptions you are allowed to choose from the following strategies\\n\\n1. Same industry, different seniority level (Senior → Junior or Vice versa)\\n2. Same industry, different function (Business Valuation → Risk Management)\\n3. Similar skills, different domain (Financial Analysis in Banking vs Healthcare)\\n4. Same title, different industry context\\n\\nThe query should always include the job role. Start the description with The <job role>.\\n\\n\\n\\n## Anchor\\n\\nThe Audit Senior Manager/Audit Manager manages a portfolio of engagements to deliver high quality audit services. He/she also provides leadership on audit engagements which includes client acceptance process, engagement planning, execution and finalisation of an audit engagement. He is fully accountable for the audit engagement and ensures that the engagement progress against budget and timeline is closely monitored. He also serves to develop and maintain long-term client relationships and value-add to the audit firm by identifying new business development opportunities. The Audit Senior Manager/Audit Manager reviews and provides key technical expertise to ensure the quality of audit work performed is in compliance with professional standards and requirements. He contributes towards continuous improvement in audit methodology and process. He will also assume a greater role in professional development activities such as training, staff recruitment and resource planning.\\n', 'role': 'user'}],\n      dtype=object), 'raw_output_easy_triplets': '## Positive  \\nThe Audit Senior Manager/Manager leads a diverse portfolio of audit assignments, ensuring consistent delivery of high-quality financial audits across clients. This role involves end-to-end oversight of audit engagements—from initial client acceptance and detailed planning through to execution and final reporting—while maintaining strict adherence to timelines and budgets. The individual holds full accountability for audit outcomes, actively monitors performance metrics, and fosters strong, trust-based relationships with clients to enhance retention and drive sustainable growth. They provide expert-level guidance on audit procedures, ensuring compliance with international auditing standards and contributing to the refinement of internal audit methodologies. Additionally, they play a key role in team capacity building, including mentoring junior staff, leading recruitment initiatives, and shaping future talent development plans within the audit division.\\n\\n## Negative  \\nThe Junior Auditor supports the day-to-day processing of financial records under supervision, focusing on data entry, reconciliation tasks, and documentation. This role involves assisting with basic audit procedures, preparing preliminary reports, and helping to organize client files according to standard workflows. While the position does not involve independent decision-making or client engagement, it offers exposure to fundamental accounting principles and audit processes. Responsibilities are largely administrative and procedural, with minimal involvement in strategic planning, quality assurance, or business development. The employee receives regular guidance from senior staff', 'statistics_easy_triplets': {'input_tokens': 383, 'output_tokens': 256}}",
         "Qwen/Qwen3-4B-Instruct-2507"
        ],
        [
         "2",
         "Accountancy",
         "Assurance",
         "Audit Partner / Audit Director",
         "The Audit Partner/Audit Director is a transformational leader who steers the organisation to achieve its business goals and objectives by formulating technical and strategic directions to drive change. He/She provides strategic vision and leadership to the organisation in order to develop and strengthen organisational capabilities and culture. The Audit Partner/Audit Director is expected to promote new ideas and business solutions that result in extended services to existing clients. He constantly seeks to expand client base and support business development activities. He also establishes consistent and rigorous quality and risk management processes and procedures. The Audit Partner/Audit Director uses a multitude of controls and procedures consisting professional, regulatory, business, economic, social and environmental conditions to manage risk exposure.",
         "In accordance with: Singapore Standards on Auditing, Ethics Pronouncements in Singapore, Singapore Companies Act, and Singapore Financial Reporting Standards",
         "The Audit Partner/Audit Director is a visionary leader who drives organizational success by setting both technical and strategic priorities to enable sustainable growth. This role involves shaping a forward-thinking audit approach that strengthens internal capabilities, fosters a culture of integrity, and empowers teams to deliver innovative solutions for clients. The individual is responsible for identifying and implementing transformative initiatives that enhance service offerings and open new opportunities for client engagement. With a strong focus on excellence, they ensure robust frameworks for quality assurance, risk governance, and compliance across all operations—applying deep insights from regulatory, financial, economic, social, and environmental factors to proactively mitigate risks and build resilient systems.",
         "The Junior Auditor is responsible for supporting day-to-day accounting and documentation tasks under supervision, including data entry, reconciliations, and assisting in the preparation of internal reports. This role involves maintaining accurate records, ensuring compliance with basic procedural standards, and contributing to periodic audits through fieldwork and document collection. While the position requires attention to detail and adherence to established protocols, it does not involve strategic planning, client expansion, or the formulation of long-term organizational vision. The employee works within defined guidelines and follows standard operating procedures rather than developing independent business solutions or managing complex risk exposures.",
         "{'raw_input_easy_triplets': array([{'content': 'Your task is to generate a positive and a negative sentence given an anchor sentence. Take into account the context given. The positive sentence has to paraphrase the anchor sentence, while the negative sentence can use similar words but must not be related to the anchor sentence. You must output only two new sections: `## Positive` and `## Negative`.', 'role': 'system'},\n       {'content': '## Context\\n\\n\\nThe text is a job description from the Singapore SkillsFuture Framework. Your task is to generate realistic job descriptions from the provided description.\\n\\nFor the positive query, generate a realistic description for this role. Focus on creating variations that capture the essence of the role in different words, as if written by different people or organizations posting similar jobs.\\n\\nFor negative descriptions you are allowed to choose from the following strategies\\n\\n1. Same industry, different seniority level (Senior → Junior or Vice versa)\\n2. Same industry, different function (Business Valuation → Risk Management)\\n3. Similar skills, different domain (Financial Analysis in Banking vs Healthcare)\\n4. Same title, different industry context\\n\\nThe query should always include the job role. Start the description with The <job role>.\\n\\n\\n\\n## Anchor\\n\\nThe Audit Partner/Audit Director is a transformational leader who steers the organisation to achieve its business goals and objectives by formulating technical and strategic directions to drive change. He/She provides strategic vision and leadership to the organisation in order to develop and strengthen organisational capabilities and culture. The Audit Partner/Audit Director is expected to promote new ideas and business solutions that result in extended services to existing clients. He constantly seeks to expand client base and support business development activities. He also establishes consistent and rigorous quality and risk management processes and procedures. The Audit Partner/Audit Director uses a multitude of controls and procedures consisting professional, regulatory, business, economic, social and environmental conditions to manage risk exposure.\\n', 'role': 'user'}],\n      dtype=object), 'raw_output_easy_triplets': '## Positive  \\nThe Audit Partner/Audit Director is a visionary leader who drives organizational success by setting both technical and strategic priorities to enable sustainable growth. This role involves shaping a forward-thinking audit approach that strengthens internal capabilities, fosters a culture of integrity, and empowers teams to deliver innovative solutions for clients. The individual is responsible for identifying and implementing transformative initiatives that enhance service offerings and open new opportunities for client engagement. With a strong focus on excellence, they ensure robust frameworks for quality assurance, risk governance, and compliance across all operations—applying deep insights from regulatory, financial, economic, social, and environmental factors to proactively mitigate risks and build resilient systems.\\n\\n## Negative  \\nThe Junior Auditor is responsible for supporting day-to-day accounting and documentation tasks under supervision, including data entry, reconciliations, and assisting in the preparation of internal reports. This role involves maintaining accurate records, ensuring compliance with basic procedural standards, and contributing to periodic audits through fieldwork and document collection. While the position requires attention to detail and adherence to established protocols, it does not involve strategic planning, client expansion, or the formulation of long-term organizational vision. The employee works within defined guidelines and follows standard operating procedures rather than developing independent business solutions or managing complex risk exposures.', 'statistics_easy_triplets': {'input_tokens': 368, 'output_tokens': 251}}",
         "Qwen/Qwen3-4B-Instruct-2507"
        ],
        [
         "3",
         "Accountancy",
         "Assurance",
         "Audit Senior",
         "The Audit Senior is expected to team lead various sizes of audit engagements which include planning, performing, reviewing of audit work performed by less experienced personnel and concluding the engagement. He/She works closely with team members to execute the audit plan and ensures the timely completion of the audit engagement. He also works closely with clients and manages their expectations to further nurture on-going client relationships. He is able to identify unethical behaviour and react based on the applicable ethical principles. The Audit Senior operates in work contexts that are less standardised and unanticipated changes can be frequent due to changes in the external environment. He is a trustworthy and meticulous individual.",
         "In accordance with: Singapore Standards on Auditing, Ethics Pronouncements in Singapore, Singapore Companies Act, and Singapore Financial Reporting Standards",
         "The Audit Senior is responsible for leading audit teams across diverse engagement scopes, from initial planning through to final review and closure. This role involves guiding junior auditors throughout the audit process, ensuring high-quality work, adherence to standards, and compliance with internal controls. The Audit Senior collaborates directly with both team members and client stakeholders to align deliverables with business needs and maintain strong, ongoing client relationships. They play a key role in detecting potential misconduct and respond promptly using established ethical guidelines. Operating in dynamic environments where regulatory shifts and unexpected changes frequently occur, the Audit Senior must remain adaptable, disciplined, and highly reliable to uphold integrity and accuracy in all audit outcomes.",
         "The Warehouse Supervisor is tasked with overseeing daily inventory operations, including receiving, storing, and dispatching goods within a retail distribution center. This role involves coordinating staff activities, maintaining accurate stock records, and ensuring that operational workflows run efficiently. The supervisor communicates regularly with store managers to meet supply demands and address shortfalls. While they monitor for discrepancies in product counts, they do not apply ethical judgment or professional standards in response to irregularities. The work environment is structured and routine, with minimal variation in daily tasks, and no significant external disruptions affect performance. This position requires attention to detail and reliability, though",
         "{'raw_input_easy_triplets': array([{'content': 'Your task is to generate a positive and a negative sentence given an anchor sentence. Take into account the context given. The positive sentence has to paraphrase the anchor sentence, while the negative sentence can use similar words but must not be related to the anchor sentence. You must output only two new sections: `## Positive` and `## Negative`.', 'role': 'system'},\n       {'content': '## Context\\n\\n\\nThe text is a job description from the Singapore SkillsFuture Framework. Your task is to generate realistic job descriptions from the provided description.\\n\\nFor the positive query, generate a realistic description for this role. Focus on creating variations that capture the essence of the role in different words, as if written by different people or organizations posting similar jobs.\\n\\nFor negative descriptions you are allowed to choose from the following strategies\\n\\n1. Same industry, different seniority level (Senior → Junior or Vice versa)\\n2. Same industry, different function (Business Valuation → Risk Management)\\n3. Similar skills, different domain (Financial Analysis in Banking vs Healthcare)\\n4. Same title, different industry context\\n\\nThe query should always include the job role. Start the description with The <job role>.\\n\\n\\n\\n## Anchor\\n\\nThe Audit Senior is expected to team lead various sizes of audit engagements which include planning, performing, reviewing of audit work performed by less experienced personnel and concluding the engagement. He/She works closely with team members to execute the audit plan and ensures the timely completion of the audit engagement. He also works closely with clients and manages their expectations to further nurture on-going client relationships. He is able to identify unethical behaviour and react based on the applicable ethical principles. The Audit Senior operates in work contexts that are less standardised and unanticipated changes can be frequent due to changes in the external environment. He is a trustworthy and meticulous individual.\\n', 'role': 'user'}],\n      dtype=object), 'raw_output_easy_triplets': '## Positive  \\nThe Audit Senior is responsible for leading audit teams across diverse engagement scopes, from initial planning through to final review and closure. This role involves guiding junior auditors throughout the audit process, ensuring high-quality work, adherence to standards, and compliance with internal controls. The Audit Senior collaborates directly with both team members and client stakeholders to align deliverables with business needs and maintain strong, ongoing client relationships. They play a key role in detecting potential misconduct and respond promptly using established ethical guidelines. Operating in dynamic environments where regulatory shifts and unexpected changes frequently occur, the Audit Senior must remain adaptable, disciplined, and highly reliable to uphold integrity and accuracy in all audit outcomes.\\n\\n## Negative  \\nThe Warehouse Supervisor is tasked with overseeing daily inventory operations, including receiving, storing, and dispatching goods within a retail distribution center. This role involves coordinating staff activities, maintaining accurate stock records, and ensuring that operational workflows run efficiently. The supervisor communicates regularly with store managers to meet supply demands and address shortfalls. While they monitor for discrepancies in product counts, they do not apply ethical judgment or professional standards in response to irregularities. The work environment is structured and routine, with minimal variation in daily tasks, and no significant external disruptions affect performance. This position requires attention to detail and reliability, though', 'statistics_easy_triplets': {'input_tokens': 354, 'output_tokens': 256}}",
         "Qwen/Qwen3-4B-Instruct-2507"
        ],
        [
         "4",
         "Accountancy",
         "Business Valuation",
         "Business Valuation Associate / Business Valuation Executive",
         "The Business Valuation Associate/Business Valuation Executive has significant responsibility for execution of deliverables. He/She needs to work hands-on on the valuation analysis. He is expected to adhere to standards of ethics and maintain quality assurance in processes. The Business Valuation Associate/Business Valuation Executive participates in business development and stakeholder interaction. He has minimal experience and is expected to embark on a steep learning curve to acquire various skills and expertise in business valuation including valuation of intangible assets. He possesses strong time management and communication skills.",
         "In accordance with the International Valuation Standards Council's Code of Ethical Principles for Professional Valuers",
         "The Business Valuation Associate performs key tasks in conducting valuation analyses, working directly on projects under supervision. They ensure compliance with professional ethical standards and uphold high-quality outputs throughout the process. The associate actively engages with clients and stakeholders, contributing to relationship-building and project success. While entry-level, they are expected to rapidly develop expertise in valuation methodologies—especially in assessing intangible assets—and demonstrate solid organizational and interpersonal abilities to manage multiple priorities effectively.",
         "The Junior Marketing Coordinator supports the creative team by assisting in campaign planning, content creation, and social media scheduling. They follow established brand guidelines and contribute to maintaining consistent messaging across platforms. The role involves collaboration with cross-functional teams and requires basic digital tools proficiency. While requiring some creativity and attention to detail, it does not involve financial modeling, client valuations, or analytical forecasting.",
         "{'raw_input_easy_triplets': array([{'content': 'Your task is to generate a positive and a negative sentence given an anchor sentence. Take into account the context given. The positive sentence has to paraphrase the anchor sentence, while the negative sentence can use similar words but must not be related to the anchor sentence. You must output only two new sections: `## Positive` and `## Negative`.', 'role': 'system'},\n       {'content': '## Context\\n\\n\\nThe text is a job description from the Singapore SkillsFuture Framework. Your task is to generate realistic job descriptions from the provided description.\\n\\nFor the positive query, generate a realistic description for this role. Focus on creating variations that capture the essence of the role in different words, as if written by different people or organizations posting similar jobs.\\n\\nFor negative descriptions you are allowed to choose from the following strategies\\n\\n1. Same industry, different seniority level (Senior → Junior or Vice versa)\\n2. Same industry, different function (Business Valuation → Risk Management)\\n3. Similar skills, different domain (Financial Analysis in Banking vs Healthcare)\\n4. Same title, different industry context\\n\\nThe query should always include the job role. Start the description with The <job role>.\\n\\n\\n\\n## Anchor\\n\\nThe Business Valuation Associate/Business Valuation Executive has significant responsibility for execution of deliverables. He/She needs to work hands-on on the valuation analysis. He is expected to adhere to standards of ethics and maintain quality assurance in processes. The Business Valuation Associate/Business Valuation Executive participates in business development and stakeholder interaction. He has minimal experience and is expected to embark on a steep learning curve to acquire various skills and expertise in business valuation including valuation of intangible assets. He possesses strong time management and communication skills.\\n', 'role': 'user'}],\n      dtype=object), 'raw_output_easy_triplets': '## Positive  \\nThe Business Valuation Associate performs key tasks in conducting valuation analyses, working directly on projects under supervision. They ensure compliance with professional ethical standards and uphold high-quality outputs throughout the process. The associate actively engages with clients and stakeholders, contributing to relationship-building and project success. While entry-level, they are expected to rapidly develop expertise in valuation methodologies—especially in assessing intangible assets—and demonstrate solid organizational and interpersonal abilities to manage multiple priorities effectively.\\n\\n## Negative  \\nThe Junior Marketing Coordinator supports the creative team by assisting in campaign planning, content creation, and social media scheduling. They follow established brand guidelines and contribute to maintaining consistent messaging across platforms. The role involves collaboration with cross-functional teams and requires basic digital tools proficiency. While requiring some creativity and attention to detail, it does not involve financial modeling, client valuations, or analytical forecasting.', 'statistics_easy_triplets': {'input_tokens': 335, 'output_tokens': 168}}",
         "Qwen/Qwen3-4B-Instruct-2507"
        ],
        [
         "5",
         "Accountancy",
         "Business Valuation",
         "Business Valuation Manager",
         "The Business Valuation Manager is second in charge of various functions including managing the valuation, generating and supporting the business, quality control, technical leadership as well as sourcing appropriate staff for the team. The Business Valuation Manager is a technical expert in all areas of valuation including valuation of intangible assets. He/She should possess considerable amount of experience in valuation, client, stakeholder and business management, project management and team development.",
         "In accordance with the International Valuation Standards Council's Code of Ethical Principles for Professional Valuers",
         "The Business Valuation Manager leads a dynamic team responsible for conducting comprehensive business valuations, ensuring accuracy and compliance across all valuation methodologies. This role involves driving strategic decision-making through robust financial modeling, particularly in assessing intangible assets such as intellectual property, brand value, and customer relationships. The ideal candidate brings extensive hands-on expertise in valuation practices, strong client engagement, and superior project coordination. They play a key role in mentoring junior staff, maintaining high standards of quality control, and identifying talent to support long-term growth within the valuation function.",
         "The Junior Financial Analyst supports daily accounting tasks, including data entry, reconciliation, and preparing basic financial reports for internal review. This role focuses on processing transactional records and assisting with monthly closing procedures under supervision. While some exposure to financial statements is expected, there is no requirement for valuation techniques, intangible asset analysis, or independent assessment of business worth. The position emphasizes attention to detail and accuracy rather than strategic decision-making or team leadership.",
         "{'raw_input_easy_triplets': array([{'content': 'Your task is to generate a positive and a negative sentence given an anchor sentence. Take into account the context given. The positive sentence has to paraphrase the anchor sentence, while the negative sentence can use similar words but must not be related to the anchor sentence. You must output only two new sections: `## Positive` and `## Negative`.', 'role': 'system'},\n       {'content': '## Context\\n\\n\\nThe text is a job description from the Singapore SkillsFuture Framework. Your task is to generate realistic job descriptions from the provided description.\\n\\nFor the positive query, generate a realistic description for this role. Focus on creating variations that capture the essence of the role in different words, as if written by different people or organizations posting similar jobs.\\n\\nFor negative descriptions you are allowed to choose from the following strategies\\n\\n1. Same industry, different seniority level (Senior → Junior or Vice versa)\\n2. Same industry, different function (Business Valuation → Risk Management)\\n3. Similar skills, different domain (Financial Analysis in Banking vs Healthcare)\\n4. Same title, different industry context\\n\\nThe query should always include the job role. Start the description with The <job role>.\\n\\n\\n\\n## Anchor\\n\\nThe Business Valuation Manager is second in charge of various functions including managing the valuation, generating and supporting the business, quality control, technical leadership as well as sourcing appropriate staff for the team. The Business Valuation Manager is a technical expert in all areas of valuation including valuation of intangible assets. He/She should possess considerable amount of experience in valuation, client, stakeholder and business management, project management and team development.\\n', 'role': 'user'}],\n      dtype=object), 'raw_output_easy_triplets': '## Positive  \\nThe Business Valuation Manager leads a dynamic team responsible for conducting comprehensive business valuations, ensuring accuracy and compliance across all valuation methodologies. This role involves driving strategic decision-making through robust financial modeling, particularly in assessing intangible assets such as intellectual property, brand value, and customer relationships. The ideal candidate brings extensive hands-on expertise in valuation practices, strong client engagement, and superior project coordination. They play a key role in mentoring junior staff, maintaining high standards of quality control, and identifying talent to support long-term growth within the valuation function.\\n\\n## Negative  \\nThe Junior Financial Analyst supports daily accounting tasks, including data entry, reconciliation, and preparing basic financial reports for internal review. This role focuses on processing transactional records and assisting with monthly closing procedures under supervision. While some exposure to financial statements is expected, there is no requirement for valuation techniques, intangible asset analysis, or independent assessment of business worth. The position emphasizes attention to detail and accuracy rather than strategic decision-making or team leadership.', 'statistics_easy_triplets': {'input_tokens': 314, 'output_tokens': 200}}",
         "Qwen/Qwen3-4B-Instruct-2507"
        ],
        [
         "6",
         "Accountancy",
         "Business Valuation",
         "Business Valuation Partner / Business Valuation Director",
         "The Business Valuation Partner/Business Valuation Director is a team leader in charge of various functions including generating business and growing the business, quality control, technical leadership as well as sourcing appropriate staff for the team. He/She is given the signing authority for any client deliverables in a consultancy role, or responsibility for corporate development in-house. He is not only responsible for the quality of technical output, but also for risk management for the business. The Business Valuation Partner/Business Valuation Director is also looked upon as an expert in valuation and should possess considerable amount of valuation experience including valuation of intangible assets. He is responsible for marketing and business development, client and stakeholder relationship management, and making decisions on engagements and client acceptance.",
         "In accordance with the International Valuation Standards Council's Code of Ethical Principles for Professional Valuers",
         "The Business Valuation Director leads a high-performing team, driving strategic growth through robust business valuations, ensuring rigorous quality standards, and providing technical guidance across complex projects. This role involves end-to-end ownership of client engagements—from initial assessment and engagement decision-making to final deliverables—combined with strong oversight of team staffing, performance, and compliance. As a key technical expert, especially in evaluating intangible assets like intellectual property and brand value, the director plays a pivotal role in both advisory services and internal corporate development. With full signing authority over deliverables and direct responsibility for client relationships, they act as a trusted advisor to stakeholders, shaping market positioning and expanding the firm’s service footprint through proactive business development and strategic partnerships.",
         "The Junior Accountant is responsible for recording daily financial transactions, preparing basic reports, and supporting the accounting department with data entry under supervision. This role requires familiarity with standard accounting practices and adherence to financial policies, though it does not involve independent decision-making, client engagement, or technical valuation expertise. While the incumbent may assist in organizing documentation and maintaining records, there is no involvement in business strategy, risk assessment, or personnel hiring. The position focuses solely on operational support within a finance function and does not require knowledge of intangible asset evaluation",
         "{'raw_input_easy_triplets': array([{'content': 'Your task is to generate a positive and a negative sentence given an anchor sentence. Take into account the context given. The positive sentence has to paraphrase the anchor sentence, while the negative sentence can use similar words but must not be related to the anchor sentence. You must output only two new sections: `## Positive` and `## Negative`.', 'role': 'system'},\n       {'content': '## Context\\n\\n\\nThe text is a job description from the Singapore SkillsFuture Framework. Your task is to generate realistic job descriptions from the provided description.\\n\\nFor the positive query, generate a realistic description for this role. Focus on creating variations that capture the essence of the role in different words, as if written by different people or organizations posting similar jobs.\\n\\nFor negative descriptions you are allowed to choose from the following strategies\\n\\n1. Same industry, different seniority level (Senior → Junior or Vice versa)\\n2. Same industry, different function (Business Valuation → Risk Management)\\n3. Similar skills, different domain (Financial Analysis in Banking vs Healthcare)\\n4. Same title, different industry context\\n\\nThe query should always include the job role. Start the description with The <job role>.\\n\\n\\n\\n## Anchor\\n\\nThe Business Valuation Partner/Business Valuation Director is a team leader in charge of various functions including generating business and growing the business, quality control, technical leadership as well as sourcing appropriate staff for the team. He/She is given the signing authority for any client deliverables in a consultancy role, or responsibility for corporate development in-house. He is not only responsible for the quality of technical output, but also for risk management for the business. The Business Valuation Partner/Business Valuation Director is also looked upon as an expert in valuation and should possess considerable amount of valuation experience including valuation of intangible assets. He is responsible for marketing and business development, client and stakeholder relationship management, and making decisions on engagements and client acceptance.\\n', 'role': 'user'}],\n      dtype=object), 'raw_output_easy_triplets': '## Positive  \\nThe Business Valuation Director leads a high-performing team, driving strategic growth through robust business valuations, ensuring rigorous quality standards, and providing technical guidance across complex projects. This role involves end-to-end ownership of client engagements—from initial assessment and engagement decision-making to final deliverables—combined with strong oversight of team staffing, performance, and compliance. As a key technical expert, especially in evaluating intangible assets like intellectual property and brand value, the director plays a pivotal role in both advisory services and internal corporate development. With full signing authority over deliverables and direct responsibility for client relationships, they act as a trusted advisor to stakeholders, shaping market positioning and expanding the firm’s service footprint through proactive business development and strategic partnerships.\\n\\n## Negative  \\nThe Junior Accountant is responsible for recording daily financial transactions, preparing basic reports, and supporting the accounting department with data entry under supervision. This role requires familiarity with standard accounting practices and adherence to financial policies, though it does not involve independent decision-making, client engagement, or technical valuation expertise. While the incumbent may assist in organizing documentation and maintaining records, there is no involvement in business strategy, risk assessment, or personnel hiring. The position focuses solely on operational support within a finance function and does not require knowledge of intangible asset evaluation', 'statistics_easy_triplets': {'input_tokens': 377, 'output_tokens': 256}}",
         "Qwen/Qwen3-4B-Instruct-2507"
        ],
        [
         "7",
         "Accountancy",
         "Business Valuation",
         "Business Valuation Senior / Business Valuation Senior Executive",
         "The Business Valuation Senior/Business Valuation Senior Executive is in charge of day to day operations, from a valuation perspective. He/She manages the valuation exercise for the client engagements that he is responsible for, or the business that he belongs to. He is expected to adhere to standards of ethics and maintain quality assurance in processes. The Business Valuation Senior/Business Valuation Senior Executive participates in business development and is expected to interact with stakeholders to manage project deliverables and timeline. He has a significant level of technical expertise including valuation of intangible assets and is very hands on with the valuation exercise. He possesses strong time management and communication skills.",
         "In accordance with the International Valuation Standards Council's Code of Ethical Principles for Professional Valuers",
         "The Business Valuation Senior executes comprehensive valuation assignments across diverse industries, ensuring accuracy, compliance, and consistency with international valuations standards. This professional leads end-to-end valuation projects, managing client relationships, defining project scopes, and delivering high-quality reports within strict timelines. With deep expertise in assessing intangible assets such as intellectual property, brand value, and customer equity, they apply rigorous methodologies to provide strategic insights. They actively contribute to business development initiatives, collaborate with cross-functional teams, and ensure ethical integrity throughout all stages of the valuation process. Strong organizational, communication, and time-management abilities enable them to handle multiple engagements efficiently and maintain stakeholder trust.",
         "The Junior Accountant supports daily financial record-keeping and ensures accurate reporting within the accounting department. This role involves processing transactions, reconciling accounts, and maintaining general ledgers under supervision. While the individual follows established financial procedures and adheres to internal controls, responsibilities are limited to operational tasks rather than strategic decision-making. No involvement in valuation activities, client engagement, or intangible asset analysis occurs in this position. The role focuses on basic data entry and compliance, with minimal interaction with stakeholders beyond routine inquiries. Technical proficiency in spreadsheets and financial software is required, but no advanced valuation techniques or project leadership are",
         "{'raw_input_easy_triplets': array([{'content': 'Your task is to generate a positive and a negative sentence given an anchor sentence. Take into account the context given. The positive sentence has to paraphrase the anchor sentence, while the negative sentence can use similar words but must not be related to the anchor sentence. You must output only two new sections: `## Positive` and `## Negative`.', 'role': 'system'},\n       {'content': '## Context\\n\\n\\nThe text is a job description from the Singapore SkillsFuture Framework. Your task is to generate realistic job descriptions from the provided description.\\n\\nFor the positive query, generate a realistic description for this role. Focus on creating variations that capture the essence of the role in different words, as if written by different people or organizations posting similar jobs.\\n\\nFor negative descriptions you are allowed to choose from the following strategies\\n\\n1. Same industry, different seniority level (Senior → Junior or Vice versa)\\n2. Same industry, different function (Business Valuation → Risk Management)\\n3. Similar skills, different domain (Financial Analysis in Banking vs Healthcare)\\n4. Same title, different industry context\\n\\nThe query should always include the job role. Start the description with The <job role>.\\n\\n\\n\\n## Anchor\\n\\nThe Business Valuation Senior/Business Valuation Senior Executive is in charge of day to day operations, from a valuation perspective. He/She manages the valuation exercise for the client engagements that he is responsible for, or the business that he belongs to. He is expected to adhere to standards of ethics and maintain quality assurance in processes. The Business Valuation Senior/Business Valuation Senior Executive participates in business development and is expected to interact with stakeholders to manage project deliverables and timeline. He has a significant level of technical expertise including valuation of intangible assets and is very hands on with the valuation exercise. He possesses strong time management and communication skills.\\n', 'role': 'user'}],\n      dtype=object), 'raw_output_easy_triplets': '## Positive  \\nThe Business Valuation Senior executes comprehensive valuation assignments across diverse industries, ensuring accuracy, compliance, and consistency with international valuations standards. This professional leads end-to-end valuation projects, managing client relationships, defining project scopes, and delivering high-quality reports within strict timelines. With deep expertise in assessing intangible assets such as intellectual property, brand value, and customer equity, they apply rigorous methodologies to provide strategic insights. They actively contribute to business development initiatives, collaborate with cross-functional teams, and ensure ethical integrity throughout all stages of the valuation process. Strong organizational, communication, and time-management abilities enable them to handle multiple engagements efficiently and maintain stakeholder trust.\\n\\n## Negative  \\nThe Junior Accountant supports daily financial record-keeping and ensures accurate reporting within the accounting department. This role involves processing transactions, reconciling accounts, and maintaining general ledgers under supervision. While the individual follows established financial procedures and adheres to internal controls, responsibilities are limited to operational tasks rather than strategic decision-making. No involvement in valuation activities, client engagement, or intangible asset analysis occurs in this position. The role focuses on basic data entry and compliance, with minimal interaction with stakeholders beyond routine inquiries. Technical proficiency in spreadsheets and financial software is required, but no advanced valuation techniques or project leadership are', 'statistics_easy_triplets': {'input_tokens': 358, 'output_tokens': 256}}",
         "Qwen/Qwen3-4B-Instruct-2507"
        ],
        [
         "8",
         "Accountancy",
         "Enterprise Risk Management",
         "Chief Risk Officer / Risk Partner / Head of Risk / Enterprise Risk Management Director",
         "The Chief Risk Officer/Risk Partner/Head of Risk/Enterprise Risk Management Director manages the overall risk exposure across the organisation in collaboration with relevant business units and senior stakeholders. He/She develops and defines enterprise-level policies and frameworks which establishes acceptable risk appetite and strategies to maintain the organisation's collective risk exposure. He reviews the monitoring and management of enterprise risk exposure, including identifying and measuring risks from an organisational level, and implementing appropriate risk controls across the organisation. He also leads planning for recovery and resolution activities after high-risk incidents in collaboration with business units. The Chief Risk Officer/Risk Partner/Head of Risk/Enterprise Risk Management Director is strategically oriented, well-versed with all aspects of the business including decision-making processes and able to connect the dots to achieve outcomes. He is conceptual, highly experienced in various risk disciplines and takes a big picture approach. He is an influential leader, leading and developing the team, and works well with a wide range of senior stakeholders. He has strong interpersonal skills and the ability to change undesirable behaviours with more desirable ones.",
         null,
         "The Enterprise Risk Management Director oversees the organisation’s comprehensive risk profile by working closely with key business leaders and senior executives. This role is responsible for designing and implementing enterprise-wide risk policies, setting clear risk tolerances, and aligning risk strategies with business objectives. The director evaluates current risk exposures at an organisational level, identifies emerging threats, and ensures robust risk mitigation controls are embedded across functions. They lead post-incident recovery and resilience planning in coordination with business teams. A strategic thinker with deep business acumen, the individual understands how decisions impact risk and performance, enabling proactive risk governance. Highly analytical and visionary, they drive a culture of risk awareness, influence cross-functional strategy, and mentor a high-performing risk team—ensuring sustainable growth through sound governance and proactive oversight.",
         "The Junior Data Analyst supports daily data collection and reporting tasks within the retail operations department, focusing on sales trends, customer behaviour, and inventory levels. This role involves cleaning datasets, generating visual dashboards, and assisting senior analysts in preparing reports for operational managers. While the position requires solid Excel and basic SQL skills, it does not involve policy development, risk assessment, or strategic planning. The analyst collaborates with field staff and regional supervisors to ensure data accuracy and timeliness, but",
         "{'raw_input_easy_triplets': array([{'content': 'Your task is to generate a positive and a negative sentence given an anchor sentence. Take into account the context given. The positive sentence has to paraphrase the anchor sentence, while the negative sentence can use similar words but must not be related to the anchor sentence. You must output only two new sections: `## Positive` and `## Negative`.', 'role': 'system'},\n       {'content': \"## Context\\n\\n\\nThe text is a job description from the Singapore SkillsFuture Framework. Your task is to generate realistic job descriptions from the provided description.\\n\\nFor the positive query, generate a realistic description for this role. Focus on creating variations that capture the essence of the role in different words, as if written by different people or organizations posting similar jobs.\\n\\nFor negative descriptions you are allowed to choose from the following strategies\\n\\n1. Same industry, different seniority level (Senior → Junior or Vice versa)\\n2. Same industry, different function (Business Valuation → Risk Management)\\n3. Similar skills, different domain (Financial Analysis in Banking vs Healthcare)\\n4. Same title, different industry context\\n\\nThe query should always include the job role. Start the description with The <job role>.\\n\\n\\n\\n## Anchor\\n\\nThe Chief Risk Officer/Risk Partner/Head of Risk/Enterprise Risk Management Director manages the overall risk exposure across the organisation in collaboration with relevant business units and senior stakeholders. He/She develops and defines enterprise-level policies and frameworks which establishes acceptable risk appetite and strategies to maintain the organisation's collective risk exposure. He reviews the monitoring and management of enterprise risk exposure, including identifying and measuring risks from an organisational level, and implementing appropriate risk controls across the organisation. He also leads planning for recovery and resolution activities after high-risk incidents in collaboration with business units. The Chief Risk Officer/Risk Partner/Head of Risk/Enterprise Risk Management Director is strategically oriented, well-versed with all aspects of the business including decision-making processes and able to connect the dots to achieve outcomes. He is conceptual, highly experienced in various risk disciplines and takes a big picture approach. He is an influential leader, leading and developing the team, and works well with a wide range of senior stakeholders. He has strong interpersonal skills and the ability to change undesirable behaviours with more desirable ones.\\n\", 'role': 'user'}],\n      dtype=object), 'raw_output_easy_triplets': '## Positive  \\nThe Enterprise Risk Management Director oversees the organisation’s comprehensive risk profile by working closely with key business leaders and senior executives. This role is responsible for designing and implementing enterprise-wide risk policies, setting clear risk tolerances, and aligning risk strategies with business objectives. The director evaluates current risk exposures at an organisational level, identifies emerging threats, and ensures robust risk mitigation controls are embedded across functions. They lead post-incident recovery and resilience planning in coordination with business teams. A strategic thinker with deep business acumen, the individual understands how decisions impact risk and performance, enabling proactive risk governance. Highly analytical and visionary, they drive a culture of risk awareness, influence cross-functional strategy, and mentor a high-performing risk team—ensuring sustainable growth through sound governance and proactive oversight.\\n\\n## Negative  \\nThe Junior Data Analyst supports daily data collection and reporting tasks within the retail operations department, focusing on sales trends, customer behaviour, and inventory levels. This role involves cleaning datasets, generating visual dashboards, and assisting senior analysts in preparing reports for operational managers. While the position requires solid Excel and basic SQL skills, it does not involve policy development, risk assessment, or strategic planning. The analyst collaborates with field staff and regional supervisors to ensure data accuracy and timeliness, but', 'statistics_easy_triplets': {'input_tokens': 440, 'output_tokens': 256}}",
         "Qwen/Qwen3-4B-Instruct-2507"
        ],
        [
         "9",
         "Accountancy",
         "Enterprise Risk Management",
         "Enterprise Risk Management Associate / Enterprise Risk Management Executive",
         "The Enterprise Risk Management Associate/Enterprise Risk Management Executive is responsible for supporting the implementation of enterprise risk management (ERM) activities, as well as policy and process maintenance. He/She gathers information, monitors and flags issues within ERM systems. He assists in preparing documents and reports for management review. He monitors adherence to risk policy and guidelines, supporting overall communication and risk reporting mechanisms. He also supports identification of resolution activities after high-risk incidents. The Enterprise Risk Management Associate/Enterprise Risk Management Executive is inquisitive, adaptable, a quick learner and is able to execute work independently. He is highly motivated, takes initiative and able to deliver outcomes as required. He is also analytical, and process and task-oriented in carrying out required procedures. He possesses strong time management, interpersonal and communication skills. The Enterprise Risk Management Associate/Enterprise Risk Management Executive would typically have had prior exposure to other accounting and advisory functions, and is expected to embark on a steep learning curve to acquire ERM skills and expertise. He has basic knowledge of organisations' business model and culture.",
         null,
         "The Enterprise Risk Management Associate supports the seamless integration of enterprise risk management practices across organisational functions. This role involves collecting and analysing data from various departments, identifying potential risks, and flagging critical issues within existing ERM frameworks. The candidate assists in drafting key risk reports and presentations for senior leadership, ensuring transparency and timely decision-making. They monitor compliance with established risk policies and contribute to improving internal communication channels around risk exposure. Following significant risk events, they help identify root causes and support the development of actionable mitigation plans. A successful candidate demonstrates curiosity, resilience, and a proactive attitude, thrives in fast-paced environments, and consistently delivers accurate, well-structured outputs. Strong analytical thinking, attention to detail, and solid organisational abilities are essential. Familiarity with organisational operations and cultural dynamics enhances performance, though formal ERM training is expected during the early stages of employment.",
         "The Junior Accountant is responsible for processing daily financial transactions, reconciling bank statements, and maintaining general ledger entries under supervision. This role includes assisting with payroll calculations, preparing monthly expense reports, and supporting budget tracking for departmental teams. The junior accountant ensures accuracy in financial records and follows standard operating procedures set by finance personnel. They also assist in completing end-of-month",
         "{'raw_input_easy_triplets': array([{'content': 'Your task is to generate a positive and a negative sentence given an anchor sentence. Take into account the context given. The positive sentence has to paraphrase the anchor sentence, while the negative sentence can use similar words but must not be related to the anchor sentence. You must output only two new sections: `## Positive` and `## Negative`.', 'role': 'system'},\n       {'content': \"## Context\\n\\n\\nThe text is a job description from the Singapore SkillsFuture Framework. Your task is to generate realistic job descriptions from the provided description.\\n\\nFor the positive query, generate a realistic description for this role. Focus on creating variations that capture the essence of the role in different words, as if written by different people or organizations posting similar jobs.\\n\\nFor negative descriptions you are allowed to choose from the following strategies\\n\\n1. Same industry, different seniority level (Senior → Junior or Vice versa)\\n2. Same industry, different function (Business Valuation → Risk Management)\\n3. Similar skills, different domain (Financial Analysis in Banking vs Healthcare)\\n4. Same title, different industry context\\n\\nThe query should always include the job role. Start the description with The <job role>.\\n\\n\\n\\n## Anchor\\n\\nThe Enterprise Risk Management Associate/Enterprise Risk Management Executive is responsible for supporting the implementation of enterprise risk management (ERM) activities, as well as policy and process maintenance. He/She gathers information, monitors and flags issues within ERM systems. He assists in preparing documents and reports for management review. He monitors adherence to risk policy and guidelines, supporting overall communication and risk reporting mechanisms. He also supports identification of resolution activities after high-risk incidents. The Enterprise Risk Management Associate/Enterprise Risk Management Executive is inquisitive, adaptable, a quick learner and is able to execute work independently. He is highly motivated, takes initiative and able to deliver outcomes as required. He is also analytical, and process and task-oriented in carrying out required procedures. He possesses strong time management, interpersonal and communication skills. The Enterprise Risk Management Associate/Enterprise Risk Management Executive would typically have had prior exposure to other accounting and advisory functions, and is expected to embark on a steep learning curve to acquire ERM skills and expertise. He has basic knowledge of organisations' business model and culture.\\n\", 'role': 'user'}],\n      dtype=object), 'raw_output_easy_triplets': '## Positive  \\nThe Enterprise Risk Management Associate supports the seamless integration of enterprise risk management practices across organisational functions. This role involves collecting and analysing data from various departments, identifying potential risks, and flagging critical issues within existing ERM frameworks. The candidate assists in drafting key risk reports and presentations for senior leadership, ensuring transparency and timely decision-making. They monitor compliance with established risk policies and contribute to improving internal communication channels around risk exposure. Following significant risk events, they help identify root causes and support the development of actionable mitigation plans. A successful candidate demonstrates curiosity, resilience, and a proactive attitude, thrives in fast-paced environments, and consistently delivers accurate, well-structured outputs. Strong analytical thinking, attention to detail, and solid organisational abilities are essential. Familiarity with organisational operations and cultural dynamics enhances performance, though formal ERM training is expected during the early stages of employment.\\n\\n## Negative  \\nThe Junior Accountant is responsible for processing daily financial transactions, reconciling bank statements, and maintaining general ledger entries under supervision. This role includes assisting with payroll calculations, preparing monthly expense reports, and supporting budget tracking for departmental teams. The junior accountant ensures accuracy in financial records and follows standard operating procedures set by finance personnel. They also assist in completing end-of-month', 'statistics_easy_triplets': {'input_tokens': 440, 'output_tokens': 256}}",
         "Qwen/Qwen3-4B-Instruct-2507"
        ]
       ],
       "shape": {
        "columns": 9,
        "rows": 10
       }
      },
      "text/html": [
       "<div>\n",
       "<style scoped>\n",
       "    .dataframe tbody tr th:only-of-type {\n",
       "        vertical-align: middle;\n",
       "    }\n",
       "\n",
       "    .dataframe tbody tr th {\n",
       "        vertical-align: top;\n",
       "    }\n",
       "\n",
       "    .dataframe thead th {\n",
       "        text-align: right;\n",
       "    }\n",
       "</style>\n",
       "<table border=\"1\" class=\"dataframe\">\n",
       "  <thead>\n",
       "    <tr style=\"text-align: right;\">\n",
       "      <th></th>\n",
       "      <th>Sector</th>\n",
       "      <th>Track</th>\n",
       "      <th>Job Role</th>\n",
       "      <th>anchor</th>\n",
       "      <th>Performance Expectation</th>\n",
       "      <th>positive</th>\n",
       "      <th>negative</th>\n",
       "      <th>distilabel_metadata</th>\n",
       "      <th>model_name</th>\n",
       "    </tr>\n",
       "  </thead>\n",
       "  <tbody>\n",
       "    <tr>\n",
       "      <th>0</th>\n",
       "      <td>Accountancy</td>\n",
       "      <td>Assurance</td>\n",
       "      <td>Audit Associate / Audit Assistant Associate</td>\n",
       "      <td>The Audit Associate/Audit Assistant Associate ...</td>\n",
       "      <td>In accordance with: Singapore Standards on Aud...</td>\n",
       "      <td>The Audit Associate undertakes defined phases ...</td>\n",
       "      <td>The IT Support Technician provides basic techn...</td>\n",
       "      <td>{'raw_input_easy_triplets': [{'content': 'Your...</td>\n",
       "      <td>Qwen/Qwen3-4B-Instruct-2507</td>\n",
       "    </tr>\n",
       "    <tr>\n",
       "      <th>1</th>\n",
       "      <td>Accountancy</td>\n",
       "      <td>Assurance</td>\n",
       "      <td>Audit Manager</td>\n",
       "      <td>The Audit Senior Manager/Audit Manager manages...</td>\n",
       "      <td>In accordance with: Singapore Standards on Aud...</td>\n",
       "      <td>The Audit Senior Manager/Manager leads a diver...</td>\n",
       "      <td>The Junior Auditor supports the day-to-day pro...</td>\n",
       "      <td>{'raw_input_easy_triplets': [{'content': 'Your...</td>\n",
       "      <td>Qwen/Qwen3-4B-Instruct-2507</td>\n",
       "    </tr>\n",
       "    <tr>\n",
       "      <th>2</th>\n",
       "      <td>Accountancy</td>\n",
       "      <td>Assurance</td>\n",
       "      <td>Audit Partner / Audit Director</td>\n",
       "      <td>The Audit Partner/Audit Director is a transfor...</td>\n",
       "      <td>In accordance with: Singapore Standards on Aud...</td>\n",
       "      <td>The Audit Partner/Audit Director is a visionar...</td>\n",
       "      <td>The Junior Auditor is responsible for supporti...</td>\n",
       "      <td>{'raw_input_easy_triplets': [{'content': 'Your...</td>\n",
       "      <td>Qwen/Qwen3-4B-Instruct-2507</td>\n",
       "    </tr>\n",
       "    <tr>\n",
       "      <th>3</th>\n",
       "      <td>Accountancy</td>\n",
       "      <td>Assurance</td>\n",
       "      <td>Audit Senior</td>\n",
       "      <td>The Audit Senior is expected to team lead vari...</td>\n",
       "      <td>In accordance with: Singapore Standards on Aud...</td>\n",
       "      <td>The Audit Senior is responsible for leading au...</td>\n",
       "      <td>The Warehouse Supervisor is tasked with overse...</td>\n",
       "      <td>{'raw_input_easy_triplets': [{'content': 'Your...</td>\n",
       "      <td>Qwen/Qwen3-4B-Instruct-2507</td>\n",
       "    </tr>\n",
       "    <tr>\n",
       "      <th>4</th>\n",
       "      <td>Accountancy</td>\n",
       "      <td>Business Valuation</td>\n",
       "      <td>Business Valuation Associate / Business Valuat...</td>\n",
       "      <td>The Business Valuation Associate/Business Valu...</td>\n",
       "      <td>In accordance with the International Valuation...</td>\n",
       "      <td>The Business Valuation Associate performs key ...</td>\n",
       "      <td>The Junior Marketing Coordinator supports the ...</td>\n",
       "      <td>{'raw_input_easy_triplets': [{'content': 'Your...</td>\n",
       "      <td>Qwen/Qwen3-4B-Instruct-2507</td>\n",
       "    </tr>\n",
       "    <tr>\n",
       "      <th>5</th>\n",
       "      <td>Accountancy</td>\n",
       "      <td>Business Valuation</td>\n",
       "      <td>Business Valuation Manager</td>\n",
       "      <td>The Business Valuation Manager is second in ch...</td>\n",
       "      <td>In accordance with the International Valuation...</td>\n",
       "      <td>The Business Valuation Manager leads a dynamic...</td>\n",
       "      <td>The Junior Financial Analyst supports daily ac...</td>\n",
       "      <td>{'raw_input_easy_triplets': [{'content': 'Your...</td>\n",
       "      <td>Qwen/Qwen3-4B-Instruct-2507</td>\n",
       "    </tr>\n",
       "    <tr>\n",
       "      <th>6</th>\n",
       "      <td>Accountancy</td>\n",
       "      <td>Business Valuation</td>\n",
       "      <td>Business Valuation Partner / Business Valuatio...</td>\n",
       "      <td>The Business Valuation Partner/Business Valuat...</td>\n",
       "      <td>In accordance with the International Valuation...</td>\n",
       "      <td>The Business Valuation Director leads a high-p...</td>\n",
       "      <td>The Junior Accountant is responsible for recor...</td>\n",
       "      <td>{'raw_input_easy_triplets': [{'content': 'Your...</td>\n",
       "      <td>Qwen/Qwen3-4B-Instruct-2507</td>\n",
       "    </tr>\n",
       "    <tr>\n",
       "      <th>7</th>\n",
       "      <td>Accountancy</td>\n",
       "      <td>Business Valuation</td>\n",
       "      <td>Business Valuation Senior / Business Valuation...</td>\n",
       "      <td>The Business Valuation Senior/Business Valuati...</td>\n",
       "      <td>In accordance with the International Valuation...</td>\n",
       "      <td>The Business Valuation Senior executes compreh...</td>\n",
       "      <td>The Junior Accountant supports daily financial...</td>\n",
       "      <td>{'raw_input_easy_triplets': [{'content': 'Your...</td>\n",
       "      <td>Qwen/Qwen3-4B-Instruct-2507</td>\n",
       "    </tr>\n",
       "    <tr>\n",
       "      <th>8</th>\n",
       "      <td>Accountancy</td>\n",
       "      <td>Enterprise Risk Management</td>\n",
       "      <td>Chief Risk Officer / Risk Partner / Head of Ri...</td>\n",
       "      <td>The Chief Risk Officer/Risk Partner/Head of Ri...</td>\n",
       "      <td>None</td>\n",
       "      <td>The Enterprise Risk Management Director overse...</td>\n",
       "      <td>The Junior Data Analyst supports daily data co...</td>\n",
       "      <td>{'raw_input_easy_triplets': [{'content': 'Your...</td>\n",
       "      <td>Qwen/Qwen3-4B-Instruct-2507</td>\n",
       "    </tr>\n",
       "    <tr>\n",
       "      <th>9</th>\n",
       "      <td>Accountancy</td>\n",
       "      <td>Enterprise Risk Management</td>\n",
       "      <td>Enterprise Risk Management Associate / Enterpr...</td>\n",
       "      <td>The Enterprise Risk Management Associate/Enter...</td>\n",
       "      <td>None</td>\n",
       "      <td>The Enterprise Risk Management Associate suppo...</td>\n",
       "      <td>The Junior Accountant is responsible for proce...</td>\n",
       "      <td>{'raw_input_easy_triplets': [{'content': 'Your...</td>\n",
       "      <td>Qwen/Qwen3-4B-Instruct-2507</td>\n",
       "    </tr>\n",
       "  </tbody>\n",
       "</table>\n",
       "</div>"
      ],
      "text/plain": [
       "        Sector                       Track  \\\n",
       "0  Accountancy                   Assurance   \n",
       "1  Accountancy                   Assurance   \n",
       "2  Accountancy                   Assurance   \n",
       "3  Accountancy                   Assurance   \n",
       "4  Accountancy          Business Valuation   \n",
       "5  Accountancy          Business Valuation   \n",
       "6  Accountancy          Business Valuation   \n",
       "7  Accountancy          Business Valuation   \n",
       "8  Accountancy  Enterprise Risk Management   \n",
       "9  Accountancy  Enterprise Risk Management   \n",
       "\n",
       "                                            Job Role  \\\n",
       "0        Audit Associate / Audit Assistant Associate   \n",
       "1                                      Audit Manager   \n",
       "2                     Audit Partner / Audit Director   \n",
       "3                                       Audit Senior   \n",
       "4  Business Valuation Associate / Business Valuat...   \n",
       "5                         Business Valuation Manager   \n",
       "6  Business Valuation Partner / Business Valuatio...   \n",
       "7  Business Valuation Senior / Business Valuation...   \n",
       "8  Chief Risk Officer / Risk Partner / Head of Ri...   \n",
       "9  Enterprise Risk Management Associate / Enterpr...   \n",
       "\n",
       "                                              anchor  \\\n",
       "0  The Audit Associate/Audit Assistant Associate ...   \n",
       "1  The Audit Senior Manager/Audit Manager manages...   \n",
       "2  The Audit Partner/Audit Director is a transfor...   \n",
       "3  The Audit Senior is expected to team lead vari...   \n",
       "4  The Business Valuation Associate/Business Valu...   \n",
       "5  The Business Valuation Manager is second in ch...   \n",
       "6  The Business Valuation Partner/Business Valuat...   \n",
       "7  The Business Valuation Senior/Business Valuati...   \n",
       "8  The Chief Risk Officer/Risk Partner/Head of Ri...   \n",
       "9  The Enterprise Risk Management Associate/Enter...   \n",
       "\n",
       "                             Performance Expectation  \\\n",
       "0  In accordance with: Singapore Standards on Aud...   \n",
       "1  In accordance with: Singapore Standards on Aud...   \n",
       "2  In accordance with: Singapore Standards on Aud...   \n",
       "3  In accordance with: Singapore Standards on Aud...   \n",
       "4  In accordance with the International Valuation...   \n",
       "5  In accordance with the International Valuation...   \n",
       "6  In accordance with the International Valuation...   \n",
       "7  In accordance with the International Valuation...   \n",
       "8                                               None   \n",
       "9                                               None   \n",
       "\n",
       "                                            positive  \\\n",
       "0  The Audit Associate undertakes defined phases ...   \n",
       "1  The Audit Senior Manager/Manager leads a diver...   \n",
       "2  The Audit Partner/Audit Director is a visionar...   \n",
       "3  The Audit Senior is responsible for leading au...   \n",
       "4  The Business Valuation Associate performs key ...   \n",
       "5  The Business Valuation Manager leads a dynamic...   \n",
       "6  The Business Valuation Director leads a high-p...   \n",
       "7  The Business Valuation Senior executes compreh...   \n",
       "8  The Enterprise Risk Management Director overse...   \n",
       "9  The Enterprise Risk Management Associate suppo...   \n",
       "\n",
       "                                            negative  \\\n",
       "0  The IT Support Technician provides basic techn...   \n",
       "1  The Junior Auditor supports the day-to-day pro...   \n",
       "2  The Junior Auditor is responsible for supporti...   \n",
       "3  The Warehouse Supervisor is tasked with overse...   \n",
       "4  The Junior Marketing Coordinator supports the ...   \n",
       "5  The Junior Financial Analyst supports daily ac...   \n",
       "6  The Junior Accountant is responsible for recor...   \n",
       "7  The Junior Accountant supports daily financial...   \n",
       "8  The Junior Data Analyst supports daily data co...   \n",
       "9  The Junior Accountant is responsible for proce...   \n",
       "\n",
       "                                 distilabel_metadata  \\\n",
       "0  {'raw_input_easy_triplets': [{'content': 'Your...   \n",
       "1  {'raw_input_easy_triplets': [{'content': 'Your...   \n",
       "2  {'raw_input_easy_triplets': [{'content': 'Your...   \n",
       "3  {'raw_input_easy_triplets': [{'content': 'Your...   \n",
       "4  {'raw_input_easy_triplets': [{'content': 'Your...   \n",
       "5  {'raw_input_easy_triplets': [{'content': 'Your...   \n",
       "6  {'raw_input_easy_triplets': [{'content': 'Your...   \n",
       "7  {'raw_input_easy_triplets': [{'content': 'Your...   \n",
       "8  {'raw_input_easy_triplets': [{'content': 'Your...   \n",
       "9  {'raw_input_easy_triplets': [{'content': 'Your...   \n",
       "\n",
       "                    model_name  \n",
       "0  Qwen/Qwen3-4B-Instruct-2507  \n",
       "1  Qwen/Qwen3-4B-Instruct-2507  \n",
       "2  Qwen/Qwen3-4B-Instruct-2507  \n",
       "3  Qwen/Qwen3-4B-Instruct-2507  \n",
       "4  Qwen/Qwen3-4B-Instruct-2507  \n",
       "5  Qwen/Qwen3-4B-Instruct-2507  \n",
       "6  Qwen/Qwen3-4B-Instruct-2507  \n",
       "7  Qwen/Qwen3-4B-Instruct-2507  \n",
       "8  Qwen/Qwen3-4B-Instruct-2507  \n",
       "9  Qwen/Qwen3-4B-Instruct-2507  "
      ]
     },
     "execution_count": 11,
     "metadata": {},
     "output_type": "execute_result"
    }
   ],
   "source": [
    "distiset[\"easy_triplets\"][\"train\"].to_pandas()"
   ]
  },
  {
   "cell_type": "markdown",
   "id": "rhj4ara3mn",
   "metadata": {},
   "source": [
    "## Publishing to Hugging Face Hub\n",
    "\n",
    "Finally, we can push our synthetic dataset to Hugging Face Hub for sharing and future use. This makes the dataset easily accessible for training embedding models or other downstream tasks.\n",
    "\n",
    "The dataset will be uploaded with all the generated triplets and metadata, ready for use in embedding training pipelines."
   ]
  },
  {
   "cell_type": "code",
   "execution_count": 12,
   "id": "110757f6",
   "metadata": {},
   "outputs": [
    {
     "data": {
      "application/vnd.jupyter.widget-view+json": {
       "model_id": "a1982575864f466fb56d14d1dd710433",
       "version_major": 2,
       "version_minor": 0
      },
      "text/plain": [
       "Uploading the dataset shards:   0%|          | 0/1 [00:00<?, ? shards/s]"
      ]
     },
     "metadata": {},
     "output_type": "display_data"
    },
    {
     "data": {
      "application/vnd.jupyter.widget-view+json": {
       "model_id": "c631c8bb11464192b43bbb7088dd264a",
       "version_major": 2,
       "version_minor": 0
      },
      "text/plain": [
       "Creating parquet from Arrow format:   0%|          | 0/1 [00:00<?, ?ba/s]"
      ]
     },
     "metadata": {},
     "output_type": "display_data"
    },
    {
     "data": {
      "application/vnd.jupyter.widget-view+json": {
       "model_id": "5dcf8202d816421193b27461e50adb06",
       "version_major": 2,
       "version_minor": 0
      },
      "text/plain": [
       "Processing Files (0 / 0)                : |          |  0.00B /  0.00B            "
      ]
     },
     "metadata": {},
     "output_type": "display_data"
    },
    {
     "data": {
      "application/vnd.jupyter.widget-view+json": {
       "model_id": "25430c2258e74fe7a4a8bcbd63b634c6",
       "version_major": 2,
       "version_minor": 0
      },
      "text/plain": [
       "New Data Upload                         : |          |  0.00B /  0.00B            "
      ]
     },
     "metadata": {},
     "output_type": "display_data"
    },
    {
     "data": {
      "application/vnd.jupyter.widget-view+json": {
       "model_id": "c19691d27fea4f658dccf9940f7bc733",
       "version_major": 2,
       "version_minor": 0
      },
      "text/plain": [
       "                                        : 100%|##########| 56.0kB / 56.0kB            "
      ]
     },
     "metadata": {},
     "output_type": "display_data"
    },
    {
     "data": {
      "application/vnd.jupyter.widget-view+json": {
       "model_id": "cb847eba853440ed98c2a3321b13844e",
       "version_major": 2,
       "version_minor": 0
      },
      "text/plain": [
       "README.md: 0.00B [00:00, ?B/s]"
      ]
     },
     "metadata": {},
     "output_type": "display_data"
    },
    {
     "data": {
      "application/vnd.jupyter.widget-view+json": {
       "model_id": "0f3b75c82c2a44168fe0467f389338f8",
       "version_major": 2,
       "version_minor": 0
      },
      "text/plain": [
       "Uploading the dataset shards:   0%|          | 0/1 [00:00<?, ? shards/s]"
      ]
     },
     "metadata": {},
     "output_type": "display_data"
    },
    {
     "data": {
      "application/vnd.jupyter.widget-view+json": {
       "model_id": "93c7f34af5df470799c6a0e09095d2f3",
       "version_major": 2,
       "version_minor": 0
      },
      "text/plain": [
       "Creating parquet from Arrow format:   0%|          | 0/1 [00:00<?, ?ba/s]"
      ]
     },
     "metadata": {},
     "output_type": "display_data"
    },
    {
     "data": {
      "application/vnd.jupyter.widget-view+json": {
       "model_id": "f900a02624e4404fa03fd1633f633480",
       "version_major": 2,
       "version_minor": 0
      },
      "text/plain": [
       "Processing Files (0 / 0)                : |          |  0.00B /  0.00B            "
      ]
     },
     "metadata": {},
     "output_type": "display_data"
    },
    {
     "data": {
      "application/vnd.jupyter.widget-view+json": {
       "model_id": "79a26488fef7439f88e08fa7c60a2ff6",
       "version_major": 2,
       "version_minor": 0
      },
      "text/plain": [
       "New Data Upload                         : |          |  0.00B /  0.00B            "
      ]
     },
     "metadata": {},
     "output_type": "display_data"
    },
    {
     "data": {
      "application/vnd.jupyter.widget-view+json": {
       "model_id": "ec21c30baf404cdbba4d14700c4d5931",
       "version_major": 2,
       "version_minor": 0
      },
      "text/plain": [
       "                                        : 100%|##########| 57.0kB / 57.0kB            "
      ]
     },
     "metadata": {},
     "output_type": "display_data"
    },
    {
     "data": {
      "application/vnd.jupyter.widget-view+json": {
       "model_id": "da4c601c9db64455bad84bb25a5c7de9",
       "version_major": 2,
       "version_minor": 0
      },
      "text/plain": [
       "README.md: 0.00B [00:00, ?B/s]"
      ]
     },
     "metadata": {},
     "output_type": "display_data"
    },
    {
     "data": {
      "application/vnd.jupyter.widget-view+json": {
       "model_id": "d59ef4b9cc0545a4afb02e90c0d70e2d",
       "version_major": 2,
       "version_minor": 0
      },
      "text/plain": [
       "README.md: 0.00B [00:00, ?B/s]"
      ]
     },
     "metadata": {},
     "output_type": "display_data"
    }
   ],
   "source": [
    "distiset.push_to_hub(\"dnth/ssf-dataset-synthetic\")"
   ]
  },
  {
   "cell_type": "markdown",
   "id": "whzstau59xc",
   "metadata": {},
   "source": [
    "## Customization Options\n",
    "\n",
    "This notebook provides several parameters that can be modified to customize the synthetic data generation process for your specific use case:\n",
    "\n",
    "### 1. Large Language Model (LLM) Selection\n",
    "- **Local Models**: Use `TransformersLLM` with different models:\n",
    "  - `Qwen/Qwen3-4B-Instruct-2507` (current)\n",
    "  - `microsoft/DialoGPT-medium`\n",
    "  - `meta-llama/Llama-2-7b-chat-hf`\n",
    "- **API Models**: Switch to `OpenAILLM` with models like:\n",
    "  - `gpt-4o-mini` (cost-effective)\n",
    "  - `gpt-4o` (higher quality)\n",
    "  - `gpt-3.5-turbo` (faster, cheaper)\n",
    "\n",
    "### 2. LLM Generation Parameters\n",
    "- **temperature**: Controls randomness (0.1 = conservative, 1.0 = creative)\n",
    "- **max_new_tokens**: Maximum length of generated text (128-512 typical)\n",
    "- **top_p**: Nucleus sampling parameter for diversity control\n",
    "- **repetition_penalty**: Prevents repetitive text generation\n",
    "\n",
    "### 3. GenerateSentencePair Configuration\n",
    "- **hard_negative**: \n",
    "  - `False`: Generates easier negatives for stable training\n",
    "  - `True` (current): Creates harder negatives that are more challenging to distinguish\n",
    "- **action**: \n",
    "  - `\"paraphrase\"` (current): Focus on paraphrasing\n",
    "  - `\"semantically-similar\"`: More creative generation\n",
    "- **input_batch_size**: Adjust based on your hardware capabilities (1-50)\n",
    "\n",
    "### 4. Context Prompt Engineering\n",
    "The `context` variable can be modified to:\n",
    "- Add industry-specific instructions\n",
    "- Include different negative generation strategies\n",
    "- Specify output format requirements\n",
    "- Add quality control guidelines\n",
    "- Target specific job domains or levels\n",
    "\n",
    "### 5. Dataset Parameters\n",
    "- **num_examples**: Scale from 10 (demo) to thousands (production)\n",
    "- Chain multiple generations.\n",
    "\n",
    "\n",
    "\n",
    "These parameters allow you to fine-tune the generation process for different domains, quality requirements, and training objectives."
   ]
  }
 ],
 "metadata": {
  "kernelspec": {
   "display_name": "rag-datakit",
   "language": "python",
   "name": "python3"
  },
  "language_info": {
   "codemirror_mode": {
    "name": "ipython",
    "version": 3
   },
   "file_extension": ".py",
   "mimetype": "text/x-python",
   "name": "python",
   "nbconvert_exporter": "python",
   "pygments_lexer": "ipython3",
   "version": "3.12.8"
  }
 },
 "nbformat": 4,
 "nbformat_minor": 5
}
