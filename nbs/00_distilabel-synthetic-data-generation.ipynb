{
 "cells": [
  {
   "cell_type": "markdown",
   "id": "b4df4e0b",
   "metadata": {},
   "source": [
    "## Using distilabel for synthetic data generation\n",
    "\n",
    "This notebook shows how to use `distilabel` to generate synthetic data to train a customized embedding model.\n",
    "\n",
    "First let's install the required packages. Uncomment the following cell to install."
   ]
  },
  {
   "cell_type": "code",
   "execution_count": 1,
   "id": "56646eed",
   "metadata": {},
   "outputs": [],
   "source": [
    "# !pip install git+https://github.com/dnth/rag-datakit.git"
   ]
  },
  {
   "cell_type": "markdown",
   "id": "4cbd0d3c",
   "metadata": {},
   "source": [
    "## Load and Inspect Dataset\n",
    "\n",
    "This is a dataset from the Skills Frameworks - https://jobsandskills.skillsfuture.gov.sg/frameworks/skills-frameworks\n",
    "\n",
    "I've uploaded the excel file into the Hugging Face dataset repo - `dnth/ssf-dataset`. "
   ]
  },
  {
   "cell_type": "code",
   "execution_count": 2,
   "id": "32d8f8c6",
   "metadata": {},
   "outputs": [],
   "source": [
    "from datasets import load_dataset\n",
    "\n",
    "dataset = load_dataset(\"dnth/ssf-dataset\")"
   ]
  },
  {
   "cell_type": "code",
   "execution_count": 3,
   "id": "0f157224",
   "metadata": {},
   "outputs": [
    {
     "data": {
      "text/plain": [
       "DatasetDict({\n",
       "    train: Dataset({\n",
       "        features: ['Sector', 'Track', 'Job Role', 'Job Role Description', 'Performance Expectation'],\n",
       "        num_rows: 1885\n",
       "    })\n",
       "})"
      ]
     },
     "execution_count": 3,
     "metadata": {},
     "output_type": "execute_result"
    }
   ],
   "source": [
    "dataset"
   ]
  },
  {
   "cell_type": "code",
   "execution_count": 4,
   "id": "9823e0d0",
   "metadata": {},
   "outputs": [
    {
     "data": {
      "text/plain": [
       "{'Sector': 'Accountancy',\n",
       " 'Track': 'Assurance',\n",
       " 'Job Role': 'Audit Associate / Audit Assistant Associate',\n",
       " 'Job Role Description': 'The Audit Associate/Audit Assistant Associate undertakes specific stages of audit work under supervision. He/She begins to appreciate the underlying principles behind the tasks assigned to him as part of the audit plan. He is also able to make adjustments to the application of skills to improve the work tasks or solve non-complex issues. The Audit Associate/Audit Assistant Associate operates in a structured work environment. He is able to build relationships, work in a team and identify ethical issues with reference to the code of professional conduct and ethics. He is able to select and apply from a range of known solutions to familiar problems and takes responsibility for his own learning and performance. He is a trustworthy and meticulous individual.',\n",
       " 'Performance Expectation': 'In accordance with: Singapore Standards on Auditing, Ethics Pronouncements in Singapore, Singapore Companies Act, and Singapore Financial Reporting Standards'}"
      ]
     },
     "execution_count": 4,
     "metadata": {},
     "output_type": "execute_result"
    }
   ],
   "source": [
    "dataset['train'][0]"
   ]
  },
  {
   "cell_type": "markdown",
   "id": "f64e5c4b",
   "metadata": {},
   "source": [
    "## Generate positive and negative queries\n",
    "\n",
    "In order to train an embedding dataset, we need to generate a positive and negative queries based on the anchor.\n",
    "\n",
    "In this example, the anchor is the job role description. For simplicity we will use the OpenAI model to generate. Make sure you have the API KEY saved in a `.env` file.\n",
    "\n",
    "For example\n",
    "\n",
    "`OPENAI_API_KEY = sk-proj-.......`"
   ]
  },
  {
   "cell_type": "code",
   "execution_count": 5,
   "id": "c05c3b7c",
   "metadata": {},
   "outputs": [
    {
     "name": "stderr",
     "output_type": "stream",
     "text": [
      "/tmp/ipykernel_255113/4154567482.py:2: DeprecationWarning: Importing from 'distilabel.llms' is deprecated and will be removed in a version 1.7.0. Import from 'distilabel.models' instead.\n",
      "  from distilabel.llms import OpenAILLM, TransformersLLM\n"
     ]
    }
   ],
   "source": [
    "import os\n",
    "from distilabel.llms import OpenAILLM, TransformersLLM\n",
    "\n",
    "llm = TransformersLLM(\n",
    "    model=\"Qwen/Qwen3-4B-Instruct-2507\",\n",
    "    device_map=\"auto\",\n",
    "    torch_dtype=\"float16\",\n",
    ")\n",
    "\n",
    "# llm = OpenAILLM(\n",
    "#     model=\"gpt-4o-mini\",\n",
    "#     api_key=os.getenv(\"OPENAI_API_KEY\"),\n",
    "# )\n",
    "\n"
   ]
  },
  {
   "cell_type": "code",
   "execution_count": null,
   "id": "dd5cb418",
   "metadata": {},
   "outputs": [],
   "source": [
    "context = \"\"\"\n",
    "The text is a job description from the Singapore SkillsFuture Framework. Your task is to generate realistic job descriptions from the provided description.\n",
    "\n",
    "For the positive query, generate a realistic description for this role. Focus on creating variations that capture the essence of the role in different words, as if written by different people or organizations posting similar jobs.\n",
    "\n",
    "For negative descriptions you are allowed to choose from the following strategies\n",
    "\n",
    "1. Same industry, different seniority level (Senior → Junior or Vice versa)\n",
    "2. Same industry, different function (Business Valuation → Risk Management)\n",
    "3. Similar skills, different domain (Financial Analysis in Banking vs Healthcare)\n",
    "4. Same title, different industry context\n",
    "\n",
    "The query should always include the job role. Start the description with The <job role>.\n",
    "\n",
    "\"\"\"\n",
    "\n",
    "from distilabel.pipeline import Pipeline\n",
    "from distilabel.steps import LoadDataFromHub\n",
    "from distilabel.steps.tasks import GenerateSentencePair\n",
    "\n",
    "with Pipeline(name=\"generate\") as pipeline:\n",
    "    load_dataset = LoadDataFromHub(\n",
    "        num_examples=10,\n",
    "        use_cache=False,\n",
    "        output_mappings={\"Job Role Description\": \"anchor\"},\n",
    "    )\n",
    "    generate_retrieval_pairs_easy = GenerateSentencePair(\n",
    "        name=\"easy_triplets\",\n",
    "        triplet=True,\n",
    "        hard_negative=False,\n",
    "        action=\"paraphrase\",\n",
    "        llm=llm,\n",
    "        input_batch_size=10,\n",
    "        context=context,\n",
    "    )\n",
    "\n",
    "    load_dataset.connect(generate_retrieval_pairs_easy)"
   ]
  },
  {
   "cell_type": "code",
   "execution_count": null,
   "id": "a362d4fc",
   "metadata": {},
   "outputs": [
    {
     "data": {
      "text/html": [
       "<pre style=\"white-space:pre;overflow-x:auto;line-height:normal;font-family:Menlo,'DejaVu Sans Mono',consolas,'Courier New',monospace\"><span style=\"color: #7fbfbf; text-decoration-color: #7fbfbf\">[08/12/25 11:18:25] </span><span style=\"color: #000080; text-decoration-color: #000080\">INFO    </span> <span style=\"font-weight: bold\">[</span><span style=\"color: #008000; text-decoration-color: #008000\">'distilabel.pipeline'</span><span style=\"font-weight: bold\">]</span> 📝 Pipeline data will be written to               <a href=\"file:///home/dnth/Desktop/rag-datakit/.venv/lib/python3.12/site-packages/distilabel/pipeline/base.py\" target=\"_blank\"><span style=\"color: #7f7f7f; text-decoration-color: #7f7f7f\">base.py</span></a><span style=\"color: #7f7f7f; text-decoration-color: #7f7f7f\">:</span><a href=\"file:///home/dnth/Desktop/rag-datakit/.venv/lib/python3.12/site-packages/distilabel/pipeline/base.py#1015\" target=\"_blank\"><span style=\"color: #7f7f7f; text-decoration-color: #7f7f7f\">1015</span></a>\n",
       "<span style=\"color: #7fbfbf; text-decoration-color: #7fbfbf\">                    </span>         <span style=\"color: #008000; text-decoration-color: #008000\">'/home/dnth/.cache/distilabel/pipelines/generate/afe4396c4450cb942bd98d4b</span> <span style=\"color: #7f7f7f; text-decoration-color: #7f7f7f\">            </span>\n",
       "<span style=\"color: #7fbfbf; text-decoration-color: #7fbfbf\">                    </span>         <span style=\"color: #008000; text-decoration-color: #008000\">623c039bb0a5c4d1/executions/2cfc24249f1db69fcf33ffa639066cd4e580c289/data</span> <span style=\"color: #7f7f7f; text-decoration-color: #7f7f7f\">            </span>\n",
       "<span style=\"color: #7fbfbf; text-decoration-color: #7fbfbf\">                    </span>         <span style=\"color: #008000; text-decoration-color: #008000\">/steps_outputs'</span>                                                           <span style=\"color: #7f7f7f; text-decoration-color: #7f7f7f\">            </span>\n",
       "</pre>\n"
      ],
      "text/plain": [
       "\u001b[2;36m[08/12/25 11:18:25]\u001b[0m\u001b[2;36m \u001b[0m\u001b[34mINFO    \u001b[0m \u001b[1m[\u001b[0m\u001b[32m'distilabel.pipeline'\u001b[0m\u001b[1m]\u001b[0m 📝 Pipeline data will be written to               \u001b]8;id=747370;file:///home/dnth/Desktop/rag-datakit/.venv/lib/python3.12/site-packages/distilabel/pipeline/base.py\u001b\\\u001b[2mbase.py\u001b[0m\u001b]8;;\u001b\\\u001b[2m:\u001b[0m\u001b]8;id=791024;file:///home/dnth/Desktop/rag-datakit/.venv/lib/python3.12/site-packages/distilabel/pipeline/base.py#1015\u001b\\\u001b[2m1015\u001b[0m\u001b]8;;\u001b\\\n",
       "\u001b[2;36m                    \u001b[0m         \u001b[32m'/home/dnth/.cache/distilabel/pipelines/generate/afe4396c4450cb942bd98d4b\u001b[0m \u001b[2m            \u001b[0m\n",
       "\u001b[2;36m                    \u001b[0m         \u001b[32m623c039bb0a5c4d1/executions/2cfc24249f1db69fcf33ffa639066cd4e580c289/data\u001b[0m \u001b[2m            \u001b[0m\n",
       "\u001b[2;36m                    \u001b[0m         \u001b[32m/steps_outputs'\u001b[0m                                                           \u001b[2m            \u001b[0m\n"
      ]
     },
     "metadata": {},
     "output_type": "display_data"
    },
    {
     "data": {
      "text/html": [
       "<pre style=\"white-space:pre;overflow-x:auto;line-height:normal;font-family:Menlo,'DejaVu Sans Mono',consolas,'Courier New',monospace\"><span style=\"color: #7fbfbf; text-decoration-color: #7fbfbf\">                    </span><span style=\"color: #000080; text-decoration-color: #000080\">INFO    </span> <span style=\"font-weight: bold\">[</span><span style=\"color: #008000; text-decoration-color: #008000\">'distilabel.pipeline'</span><span style=\"font-weight: bold\">]</span> ⌛ The steps of the pipeline will be loaded in    <a href=\"file:///home/dnth/Desktop/rag-datakit/.venv/lib/python3.12/site-packages/distilabel/pipeline/base.py\" target=\"_blank\"><span style=\"color: #7f7f7f; text-decoration-color: #7f7f7f\">base.py</span></a><span style=\"color: #7f7f7f; text-decoration-color: #7f7f7f\">:</span><a href=\"file:///home/dnth/Desktop/rag-datakit/.venv/lib/python3.12/site-packages/distilabel/pipeline/base.py#1046\" target=\"_blank\"><span style=\"color: #7f7f7f; text-decoration-color: #7f7f7f\">1046</span></a>\n",
       "<span style=\"color: #7fbfbf; text-decoration-color: #7fbfbf\">                    </span>         stages:                                                                   <span style=\"color: #7f7f7f; text-decoration-color: #7f7f7f\">            </span>\n",
       "<span style=\"color: #7fbfbf; text-decoration-color: #7fbfbf\">                    </span>          * Legend: 🚰 GeneratorStep 🌐 GlobalStep 🔄 Step                         <span style=\"color: #7f7f7f; text-decoration-color: #7f7f7f\">            </span>\n",
       "<span style=\"color: #7fbfbf; text-decoration-color: #7fbfbf\">                    </span>          * Stage <span style=\"color: #008080; text-decoration-color: #008080; font-weight: bold\">0</span>:                                                               <span style=\"color: #7f7f7f; text-decoration-color: #7f7f7f\">            </span>\n",
       "<span style=\"color: #7fbfbf; text-decoration-color: #7fbfbf\">                    </span>            - 🚰 <span style=\"color: #008000; text-decoration-color: #008000\">'load_data_from_hub_0'</span>                                            <span style=\"color: #7f7f7f; text-decoration-color: #7f7f7f\">            </span>\n",
       "<span style=\"color: #7fbfbf; text-decoration-color: #7fbfbf\">                    </span>            - 🔄 <span style=\"color: #008000; text-decoration-color: #008000\">'easy_triplets'</span>                                                   <span style=\"color: #7f7f7f; text-decoration-color: #7f7f7f\">            </span>\n",
       "</pre>\n"
      ],
      "text/plain": [
       "\u001b[2;36m                   \u001b[0m\u001b[2;36m \u001b[0m\u001b[34mINFO    \u001b[0m \u001b[1m[\u001b[0m\u001b[32m'distilabel.pipeline'\u001b[0m\u001b[1m]\u001b[0m ⌛ The steps of the pipeline will be loaded in    \u001b]8;id=141636;file:///home/dnth/Desktop/rag-datakit/.venv/lib/python3.12/site-packages/distilabel/pipeline/base.py\u001b\\\u001b[2mbase.py\u001b[0m\u001b]8;;\u001b\\\u001b[2m:\u001b[0m\u001b]8;id=877376;file:///home/dnth/Desktop/rag-datakit/.venv/lib/python3.12/site-packages/distilabel/pipeline/base.py#1046\u001b\\\u001b[2m1046\u001b[0m\u001b]8;;\u001b\\\n",
       "\u001b[2;36m                    \u001b[0m         stages:                                                                   \u001b[2m            \u001b[0m\n",
       "\u001b[2;36m                    \u001b[0m          * Legend: 🚰 GeneratorStep 🌐 GlobalStep 🔄 Step                         \u001b[2m            \u001b[0m\n",
       "\u001b[2;36m                    \u001b[0m          * Stage \u001b[1;36m0\u001b[0m:                                                               \u001b[2m            \u001b[0m\n",
       "\u001b[2;36m                    \u001b[0m            - 🚰 \u001b[32m'load_data_from_hub_0'\u001b[0m                                            \u001b[2m            \u001b[0m\n",
       "\u001b[2;36m                    \u001b[0m            - 🔄 \u001b[32m'easy_triplets'\u001b[0m                                                   \u001b[2m            \u001b[0m\n"
      ]
     },
     "metadata": {},
     "output_type": "display_data"
    },
    {
     "data": {
      "text/html": [
       "<pre style=\"white-space:pre;overflow-x:auto;line-height:normal;font-family:Menlo,'DejaVu Sans Mono',consolas,'Courier New',monospace\"><span style=\"color: #7fbfbf; text-decoration-color: #7fbfbf\">                    </span><span style=\"color: #000080; text-decoration-color: #000080\">INFO    </span> <span style=\"font-weight: bold\">[</span><span style=\"color: #008000; text-decoration-color: #008000\">'distilabel.pipeline'</span><span style=\"font-weight: bold\">]</span> ⏳ Waiting for all the steps of stage <span style=\"color: #008080; text-decoration-color: #008080; font-weight: bold\">0</span> to        <a href=\"file:///home/dnth/Desktop/rag-datakit/.venv/lib/python3.12/site-packages/distilabel/pipeline/base.py\" target=\"_blank\"><span style=\"color: #7f7f7f; text-decoration-color: #7f7f7f\">base.py</span></a><span style=\"color: #7f7f7f; text-decoration-color: #7f7f7f\">:</span><a href=\"file:///home/dnth/Desktop/rag-datakit/.venv/lib/python3.12/site-packages/distilabel/pipeline/base.py#1382\" target=\"_blank\"><span style=\"color: #7f7f7f; text-decoration-color: #7f7f7f\">1382</span></a>\n",
       "<span style=\"color: #7fbfbf; text-decoration-color: #7fbfbf\">                    </span>         load<span style=\"color: #808000; text-decoration-color: #808000\">...</span>                                                                   <span style=\"color: #7f7f7f; text-decoration-color: #7f7f7f\">            </span>\n",
       "</pre>\n"
      ],
      "text/plain": [
       "\u001b[2;36m                   \u001b[0m\u001b[2;36m \u001b[0m\u001b[34mINFO    \u001b[0m \u001b[1m[\u001b[0m\u001b[32m'distilabel.pipeline'\u001b[0m\u001b[1m]\u001b[0m ⏳ Waiting for all the steps of stage \u001b[1;36m0\u001b[0m to        \u001b]8;id=869550;file:///home/dnth/Desktop/rag-datakit/.venv/lib/python3.12/site-packages/distilabel/pipeline/base.py\u001b\\\u001b[2mbase.py\u001b[0m\u001b]8;;\u001b\\\u001b[2m:\u001b[0m\u001b]8;id=630328;file:///home/dnth/Desktop/rag-datakit/.venv/lib/python3.12/site-packages/distilabel/pipeline/base.py#1382\u001b\\\u001b[2m1382\u001b[0m\u001b]8;;\u001b\\\n",
       "\u001b[2;36m                    \u001b[0m         load\u001b[33m...\u001b[0m                                                                   \u001b[2m            \u001b[0m\n"
      ]
     },
     "metadata": {},
     "output_type": "display_data"
    },
    {
     "data": {
      "text/html": [
       "<pre style=\"white-space:pre;overflow-x:auto;line-height:normal;font-family:Menlo,'DejaVu Sans Mono',consolas,'Courier New',monospace\"><span style=\"color: #7fbfbf; text-decoration-color: #7fbfbf\">[08/12/25 11:18:28] </span><span style=\"color: #000080; text-decoration-color: #000080\">INFO    </span> <span style=\"font-weight: bold\">[</span><span style=\"color: #008000; text-decoration-color: #008000\">'accelerate.utils.modeling'</span><span style=\"font-weight: bold\">]</span> We will use <span style=\"color: #008080; text-decoration-color: #008080; font-weight: bold\">90</span>% of the memory on device <a href=\"file:///home/dnth/Desktop/rag-datakit/.venv/lib/python3.12/site-packages/accelerate/utils/modeling.py\" target=\"_blank\"><span style=\"color: #7f7f7f; text-decoration-color: #7f7f7f\">modeling.py</span></a><span style=\"color: #7f7f7f; text-decoration-color: #7f7f7f\">:</span><a href=\"file:///home/dnth/Desktop/rag-datakit/.venv/lib/python3.12/site-packages/accelerate/utils/modeling.py#1004\" target=\"_blank\"><span style=\"color: #7f7f7f; text-decoration-color: #7f7f7f\">1004</span></a>\n",
       "<span style=\"color: #7fbfbf; text-decoration-color: #7fbfbf\">                    </span>         <span style=\"color: #008080; text-decoration-color: #008080; font-weight: bold\">0</span> for storing the model, and <span style=\"color: #008080; text-decoration-color: #008080; font-weight: bold\">10</span>% for the buffer to avoid OOM. You can <span style=\"color: #7f7f7f; text-decoration-color: #7f7f7f\">                </span>\n",
       "<span style=\"color: #7fbfbf; text-decoration-color: #7fbfbf\">                    </span>         set `max_memory` in to a higher value to use more memory <span style=\"font-weight: bold\">(</span>at your own <span style=\"color: #7f7f7f; text-decoration-color: #7f7f7f\">                </span>\n",
       "<span style=\"color: #7fbfbf; text-decoration-color: #7fbfbf\">                    </span>         risk<span style=\"font-weight: bold\">)</span>.                                                                <span style=\"color: #7f7f7f; text-decoration-color: #7f7f7f\">                </span>\n",
       "</pre>\n"
      ],
      "text/plain": [
       "\u001b[2;36m[08/12/25 11:18:28]\u001b[0m\u001b[2;36m \u001b[0m\u001b[34mINFO    \u001b[0m \u001b[1m[\u001b[0m\u001b[32m'accelerate.utils.modeling'\u001b[0m\u001b[1m]\u001b[0m We will use \u001b[1;36m90\u001b[0m% of the memory on device \u001b]8;id=656003;file:///home/dnth/Desktop/rag-datakit/.venv/lib/python3.12/site-packages/accelerate/utils/modeling.py\u001b\\\u001b[2mmodeling.py\u001b[0m\u001b]8;;\u001b\\\u001b[2m:\u001b[0m\u001b]8;id=680977;file:///home/dnth/Desktop/rag-datakit/.venv/lib/python3.12/site-packages/accelerate/utils/modeling.py#1004\u001b\\\u001b[2m1004\u001b[0m\u001b]8;;\u001b\\\n",
       "\u001b[2;36m                    \u001b[0m         \u001b[1;36m0\u001b[0m for storing the model, and \u001b[1;36m10\u001b[0m% for the buffer to avoid OOM. You can \u001b[2m                \u001b[0m\n",
       "\u001b[2;36m                    \u001b[0m         set `max_memory` in to a higher value to use more memory \u001b[1m(\u001b[0mat your own \u001b[2m                \u001b[0m\n",
       "\u001b[2;36m                    \u001b[0m         risk\u001b[1m)\u001b[0m.                                                                \u001b[2m                \u001b[0m\n"
      ]
     },
     "metadata": {},
     "output_type": "display_data"
    },
    {
     "data": {
      "text/html": [
       "<pre style=\"white-space:pre;overflow-x:auto;line-height:normal;font-family:Menlo,'DejaVu Sans Mono',consolas,'Courier New',monospace\"><span style=\"color: #7fbfbf; text-decoration-color: #7fbfbf\">[08/12/25 11:18:30] </span><span style=\"color: #000080; text-decoration-color: #000080\">INFO    </span> <span style=\"font-weight: bold\">[</span><span style=\"color: #008000; text-decoration-color: #008000\">'distilabel.pipeline'</span><span style=\"font-weight: bold\">]</span> ⏳ Steps from stage <span style=\"color: #008080; text-decoration-color: #008080; font-weight: bold\">0</span> loaded: <span style=\"color: #008080; text-decoration-color: #008080; font-weight: bold\">1</span>/<span style=\"color: #008080; text-decoration-color: #008080; font-weight: bold\">2</span>                 <a href=\"file:///home/dnth/Desktop/rag-datakit/.venv/lib/python3.12/site-packages/distilabel/pipeline/base.py\" target=\"_blank\"><span style=\"color: #7f7f7f; text-decoration-color: #7f7f7f\">base.py</span></a><span style=\"color: #7f7f7f; text-decoration-color: #7f7f7f\">:</span><a href=\"file:///home/dnth/Desktop/rag-datakit/.venv/lib/python3.12/site-packages/distilabel/pipeline/base.py#1418\" target=\"_blank\"><span style=\"color: #7f7f7f; text-decoration-color: #7f7f7f\">1418</span></a>\n",
       "<span style=\"color: #7fbfbf; text-decoration-color: #7fbfbf\">                    </span>          * <span style=\"color: #008000; text-decoration-color: #008000\">'load_data_from_hub_0'</span> replicas: <span style=\"color: #008080; text-decoration-color: #008080; font-weight: bold\">1</span>/<span style=\"color: #008080; text-decoration-color: #008080; font-weight: bold\">1</span>                                   <span style=\"color: #7f7f7f; text-decoration-color: #7f7f7f\">            </span>\n",
       "<span style=\"color: #7fbfbf; text-decoration-color: #7fbfbf\">                    </span>          * <span style=\"color: #008000; text-decoration-color: #008000\">'easy_triplets'</span> replicas: <span style=\"color: #008080; text-decoration-color: #008080; font-weight: bold\">0</span>/<span style=\"color: #008080; text-decoration-color: #008080; font-weight: bold\">1</span>                                          <span style=\"color: #7f7f7f; text-decoration-color: #7f7f7f\">            </span>\n",
       "</pre>\n"
      ],
      "text/plain": [
       "\u001b[2;36m[08/12/25 11:18:30]\u001b[0m\u001b[2;36m \u001b[0m\u001b[34mINFO    \u001b[0m \u001b[1m[\u001b[0m\u001b[32m'distilabel.pipeline'\u001b[0m\u001b[1m]\u001b[0m ⏳ Steps from stage \u001b[1;36m0\u001b[0m loaded: \u001b[1;36m1\u001b[0m/\u001b[1;36m2\u001b[0m                 \u001b]8;id=120989;file:///home/dnth/Desktop/rag-datakit/.venv/lib/python3.12/site-packages/distilabel/pipeline/base.py\u001b\\\u001b[2mbase.py\u001b[0m\u001b]8;;\u001b\\\u001b[2m:\u001b[0m\u001b]8;id=497813;file:///home/dnth/Desktop/rag-datakit/.venv/lib/python3.12/site-packages/distilabel/pipeline/base.py#1418\u001b\\\u001b[2m1418\u001b[0m\u001b]8;;\u001b\\\n",
       "\u001b[2;36m                    \u001b[0m          * \u001b[32m'load_data_from_hub_0'\u001b[0m replicas: \u001b[1;36m1\u001b[0m/\u001b[1;36m1\u001b[0m                                   \u001b[2m            \u001b[0m\n",
       "\u001b[2;36m                    \u001b[0m          * \u001b[32m'easy_triplets'\u001b[0m replicas: \u001b[1;36m0\u001b[0m/\u001b[1;36m1\u001b[0m                                          \u001b[2m            \u001b[0m\n"
      ]
     },
     "metadata": {},
     "output_type": "display_data"
    },
    {
     "name": "stderr",
     "output_type": "stream",
     "text": [
      "Device set to use cuda:0\n"
     ]
    },
    {
     "data": {
      "text/html": [
       "<pre style=\"white-space:pre;overflow-x:auto;line-height:normal;font-family:Menlo,'DejaVu Sans Mono',consolas,'Courier New',monospace\"><span style=\"color: #7fbfbf; text-decoration-color: #7fbfbf\">[08/12/25 11:18:32] </span><span style=\"color: #000080; text-decoration-color: #000080\">INFO    </span> <span style=\"font-weight: bold\">[</span><span style=\"color: #008000; text-decoration-color: #008000\">'distilabel.pipeline'</span><span style=\"font-weight: bold\">]</span> ⏳ Steps from stage <span style=\"color: #008080; text-decoration-color: #008080; font-weight: bold\">0</span> loaded: <span style=\"color: #008080; text-decoration-color: #008080; font-weight: bold\">2</span>/<span style=\"color: #008080; text-decoration-color: #008080; font-weight: bold\">2</span>                 <a href=\"file:///home/dnth/Desktop/rag-datakit/.venv/lib/python3.12/site-packages/distilabel/pipeline/base.py\" target=\"_blank\"><span style=\"color: #7f7f7f; text-decoration-color: #7f7f7f\">base.py</span></a><span style=\"color: #7f7f7f; text-decoration-color: #7f7f7f\">:</span><a href=\"file:///home/dnth/Desktop/rag-datakit/.venv/lib/python3.12/site-packages/distilabel/pipeline/base.py#1418\" target=\"_blank\"><span style=\"color: #7f7f7f; text-decoration-color: #7f7f7f\">1418</span></a>\n",
       "<span style=\"color: #7fbfbf; text-decoration-color: #7fbfbf\">                    </span>          * <span style=\"color: #008000; text-decoration-color: #008000\">'load_data_from_hub_0'</span> replicas: <span style=\"color: #008080; text-decoration-color: #008080; font-weight: bold\">1</span>/<span style=\"color: #008080; text-decoration-color: #008080; font-weight: bold\">1</span>                                   <span style=\"color: #7f7f7f; text-decoration-color: #7f7f7f\">            </span>\n",
       "<span style=\"color: #7fbfbf; text-decoration-color: #7fbfbf\">                    </span>          * <span style=\"color: #008000; text-decoration-color: #008000\">'easy_triplets'</span> replicas: <span style=\"color: #008080; text-decoration-color: #008080; font-weight: bold\">1</span>/<span style=\"color: #008080; text-decoration-color: #008080; font-weight: bold\">1</span>                                          <span style=\"color: #7f7f7f; text-decoration-color: #7f7f7f\">            </span>\n",
       "</pre>\n"
      ],
      "text/plain": [
       "\u001b[2;36m[08/12/25 11:18:32]\u001b[0m\u001b[2;36m \u001b[0m\u001b[34mINFO    \u001b[0m \u001b[1m[\u001b[0m\u001b[32m'distilabel.pipeline'\u001b[0m\u001b[1m]\u001b[0m ⏳ Steps from stage \u001b[1;36m0\u001b[0m loaded: \u001b[1;36m2\u001b[0m/\u001b[1;36m2\u001b[0m                 \u001b]8;id=679271;file:///home/dnth/Desktop/rag-datakit/.venv/lib/python3.12/site-packages/distilabel/pipeline/base.py\u001b\\\u001b[2mbase.py\u001b[0m\u001b]8;;\u001b\\\u001b[2m:\u001b[0m\u001b]8;id=61222;file:///home/dnth/Desktop/rag-datakit/.venv/lib/python3.12/site-packages/distilabel/pipeline/base.py#1418\u001b\\\u001b[2m1418\u001b[0m\u001b]8;;\u001b\\\n",
       "\u001b[2;36m                    \u001b[0m          * \u001b[32m'load_data_from_hub_0'\u001b[0m replicas: \u001b[1;36m1\u001b[0m/\u001b[1;36m1\u001b[0m                                   \u001b[2m            \u001b[0m\n",
       "\u001b[2;36m                    \u001b[0m          * \u001b[32m'easy_triplets'\u001b[0m replicas: \u001b[1;36m1\u001b[0m/\u001b[1;36m1\u001b[0m                                          \u001b[2m            \u001b[0m\n"
      ]
     },
     "metadata": {},
     "output_type": "display_data"
    },
    {
     "data": {
      "text/html": [
       "<pre style=\"white-space:pre;overflow-x:auto;line-height:normal;font-family:Menlo,'DejaVu Sans Mono',consolas,'Courier New',monospace\"><span style=\"color: #7fbfbf; text-decoration-color: #7fbfbf\">                    </span><span style=\"color: #000080; text-decoration-color: #000080\">INFO    </span> <span style=\"font-weight: bold\">[</span><span style=\"color: #008000; text-decoration-color: #008000\">'distilabel.pipeline'</span><span style=\"font-weight: bold\">]</span> ✅ All the steps from stage <span style=\"color: #008080; text-decoration-color: #008080; font-weight: bold\">0</span> have been loaded!   <a href=\"file:///home/dnth/Desktop/rag-datakit/.venv/lib/python3.12/site-packages/distilabel/pipeline/base.py\" target=\"_blank\"><span style=\"color: #7f7f7f; text-decoration-color: #7f7f7f\">base.py</span></a><span style=\"color: #7f7f7f; text-decoration-color: #7f7f7f\">:</span><a href=\"file:///home/dnth/Desktop/rag-datakit/.venv/lib/python3.12/site-packages/distilabel/pipeline/base.py#1422\" target=\"_blank\"><span style=\"color: #7f7f7f; text-decoration-color: #7f7f7f\">1422</span></a>\n",
       "</pre>\n"
      ],
      "text/plain": [
       "\u001b[2;36m                   \u001b[0m\u001b[2;36m \u001b[0m\u001b[34mINFO    \u001b[0m \u001b[1m[\u001b[0m\u001b[32m'distilabel.pipeline'\u001b[0m\u001b[1m]\u001b[0m ✅ All the steps from stage \u001b[1;36m0\u001b[0m have been loaded!   \u001b]8;id=839504;file:///home/dnth/Desktop/rag-datakit/.venv/lib/python3.12/site-packages/distilabel/pipeline/base.py\u001b\\\u001b[2mbase.py\u001b[0m\u001b]8;;\u001b\\\u001b[2m:\u001b[0m\u001b]8;id=824765;file:///home/dnth/Desktop/rag-datakit/.venv/lib/python3.12/site-packages/distilabel/pipeline/base.py#1422\u001b\\\u001b[2m1422\u001b[0m\u001b]8;;\u001b\\\n"
      ]
     },
     "metadata": {},
     "output_type": "display_data"
    },
    {
     "data": {
      "text/html": [
       "<pre style=\"white-space:pre;overflow-x:auto;line-height:normal;font-family:Menlo,'DejaVu Sans Mono',consolas,'Courier New',monospace\"><span style=\"color: #7fbfbf; text-decoration-color: #7fbfbf\">                    </span><span style=\"color: #000080; text-decoration-color: #000080\">INFO    </span> <span style=\"font-weight: bold\">[</span><span style=\"color: #008000; text-decoration-color: #008000\">'distilabel.step.load_data_from_hub_0'</span><span style=\"font-weight: bold\">]</span> 🚰 Starting yielding      <a href=\"file:///home/dnth/Desktop/rag-datakit/.venv/lib/python3.12/site-packages/distilabel/pipeline/step_wrapper.py\" target=\"_blank\"><span style=\"color: #7f7f7f; text-decoration-color: #7f7f7f\">step_wrapper.py</span></a><span style=\"color: #7f7f7f; text-decoration-color: #7f7f7f\">:</span><a href=\"file:///home/dnth/Desktop/rag-datakit/.venv/lib/python3.12/site-packages/distilabel/pipeline/step_wrapper.py#179\" target=\"_blank\"><span style=\"color: #7f7f7f; text-decoration-color: #7f7f7f\">179</span></a>\n",
       "<span style=\"color: #7fbfbf; text-decoration-color: #7fbfbf\">                    </span>         batches from generator step <span style=\"color: #008000; text-decoration-color: #008000\">'load_data_from_hub_0'</span>. Offset: <span style=\"color: #008080; text-decoration-color: #008080; font-weight: bold\">0</span>      <span style=\"color: #7f7f7f; text-decoration-color: #7f7f7f\">                   </span>\n",
       "</pre>\n"
      ],
      "text/plain": [
       "\u001b[2;36m                   \u001b[0m\u001b[2;36m \u001b[0m\u001b[34mINFO    \u001b[0m \u001b[1m[\u001b[0m\u001b[32m'distilabel.step.load_data_from_hub_0'\u001b[0m\u001b[1m]\u001b[0m 🚰 Starting yielding      \u001b]8;id=739281;file:///home/dnth/Desktop/rag-datakit/.venv/lib/python3.12/site-packages/distilabel/pipeline/step_wrapper.py\u001b\\\u001b[2mstep_wrapper.py\u001b[0m\u001b]8;;\u001b\\\u001b[2m:\u001b[0m\u001b]8;id=704133;file:///home/dnth/Desktop/rag-datakit/.venv/lib/python3.12/site-packages/distilabel/pipeline/step_wrapper.py#179\u001b\\\u001b[2m179\u001b[0m\u001b]8;;\u001b\\\n",
       "\u001b[2;36m                    \u001b[0m         batches from generator step \u001b[32m'load_data_from_hub_0'\u001b[0m. Offset: \u001b[1;36m0\u001b[0m      \u001b[2m                   \u001b[0m\n"
      ]
     },
     "metadata": {},
     "output_type": "display_data"
    },
    {
     "data": {
      "text/html": [
       "<pre style=\"white-space:pre;overflow-x:auto;line-height:normal;font-family:Menlo,'DejaVu Sans Mono',consolas,'Courier New',monospace\"><span style=\"color: #7fbfbf; text-decoration-color: #7fbfbf\">                    </span><span style=\"color: #000080; text-decoration-color: #000080\">INFO    </span> <span style=\"font-weight: bold\">[</span><span style=\"color: #008000; text-decoration-color: #008000\">'distilabel.step.load_data_from_hub_0'</span><span style=\"font-weight: bold\">]</span> 📨 Step                   <a href=\"file:///home/dnth/Desktop/rag-datakit/.venv/lib/python3.12/site-packages/distilabel/pipeline/step_wrapper.py\" target=\"_blank\"><span style=\"color: #7f7f7f; text-decoration-color: #7f7f7f\">step_wrapper.py</span></a><span style=\"color: #7f7f7f; text-decoration-color: #7f7f7f\">:</span><a href=\"file:///home/dnth/Desktop/rag-datakit/.venv/lib/python3.12/site-packages/distilabel/pipeline/step_wrapper.py#290\" target=\"_blank\"><span style=\"color: #7f7f7f; text-decoration-color: #7f7f7f\">290</span></a>\n",
       "<span style=\"color: #7fbfbf; text-decoration-color: #7fbfbf\">                    </span>         <span style=\"color: #008000; text-decoration-color: #008000\">'load_data_from_hub_0'</span> sending batch <span style=\"color: #008080; text-decoration-color: #008080; font-weight: bold\">0</span> to output queue             <span style=\"color: #7f7f7f; text-decoration-color: #7f7f7f\">                   </span>\n",
       "</pre>\n"
      ],
      "text/plain": [
       "\u001b[2;36m                   \u001b[0m\u001b[2;36m \u001b[0m\u001b[34mINFO    \u001b[0m \u001b[1m[\u001b[0m\u001b[32m'distilabel.step.load_data_from_hub_0'\u001b[0m\u001b[1m]\u001b[0m 📨 Step                   \u001b]8;id=746474;file:///home/dnth/Desktop/rag-datakit/.venv/lib/python3.12/site-packages/distilabel/pipeline/step_wrapper.py\u001b\\\u001b[2mstep_wrapper.py\u001b[0m\u001b]8;;\u001b\\\u001b[2m:\u001b[0m\u001b]8;id=582944;file:///home/dnth/Desktop/rag-datakit/.venv/lib/python3.12/site-packages/distilabel/pipeline/step_wrapper.py#290\u001b\\\u001b[2m290\u001b[0m\u001b]8;;\u001b\\\n",
       "\u001b[2;36m                    \u001b[0m         \u001b[32m'load_data_from_hub_0'\u001b[0m sending batch \u001b[1;36m0\u001b[0m to output queue             \u001b[2m                   \u001b[0m\n"
      ]
     },
     "metadata": {},
     "output_type": "display_data"
    },
    {
     "data": {
      "text/html": [
       "<pre style=\"white-space:pre;overflow-x:auto;line-height:normal;font-family:Menlo,'DejaVu Sans Mono',consolas,'Courier New',monospace\"><span style=\"color: #7fbfbf; text-decoration-color: #7fbfbf\">                    </span><span style=\"color: #000080; text-decoration-color: #000080\">INFO    </span> <span style=\"font-weight: bold\">[</span><span style=\"color: #008000; text-decoration-color: #008000\">'distilabel.step.load_data_from_hub_0'</span><span style=\"font-weight: bold\">]</span> 🏁 Finished running step  <a href=\"file:///home/dnth/Desktop/rag-datakit/.venv/lib/python3.12/site-packages/distilabel/pipeline/step_wrapper.py\" target=\"_blank\"><span style=\"color: #7f7f7f; text-decoration-color: #7f7f7f\">step_wrapper.py</span></a><span style=\"color: #7f7f7f; text-decoration-color: #7f7f7f\">:</span><a href=\"file:///home/dnth/Desktop/rag-datakit/.venv/lib/python3.12/site-packages/distilabel/pipeline/step_wrapper.py#129\" target=\"_blank\"><span style=\"color: #7f7f7f; text-decoration-color: #7f7f7f\">129</span></a>\n",
       "<span style=\"color: #7fbfbf; text-decoration-color: #7fbfbf\">                    </span>         <span style=\"color: #008000; text-decoration-color: #008000\">'load_data_from_hub_0'</span> <span style=\"font-weight: bold\">(</span>replica ID: <span style=\"color: #008080; text-decoration-color: #008080; font-weight: bold\">0</span><span style=\"font-weight: bold\">)</span>                             <span style=\"color: #7f7f7f; text-decoration-color: #7f7f7f\">                   </span>\n",
       "</pre>\n"
      ],
      "text/plain": [
       "\u001b[2;36m                   \u001b[0m\u001b[2;36m \u001b[0m\u001b[34mINFO    \u001b[0m \u001b[1m[\u001b[0m\u001b[32m'distilabel.step.load_data_from_hub_0'\u001b[0m\u001b[1m]\u001b[0m 🏁 Finished running step  \u001b]8;id=948803;file:///home/dnth/Desktop/rag-datakit/.venv/lib/python3.12/site-packages/distilabel/pipeline/step_wrapper.py\u001b\\\u001b[2mstep_wrapper.py\u001b[0m\u001b]8;;\u001b\\\u001b[2m:\u001b[0m\u001b]8;id=293773;file:///home/dnth/Desktop/rag-datakit/.venv/lib/python3.12/site-packages/distilabel/pipeline/step_wrapper.py#129\u001b\\\u001b[2m129\u001b[0m\u001b]8;;\u001b\\\n",
       "\u001b[2;36m                    \u001b[0m         \u001b[32m'load_data_from_hub_0'\u001b[0m \u001b[1m(\u001b[0mreplica ID: \u001b[1;36m0\u001b[0m\u001b[1m)\u001b[0m                             \u001b[2m                   \u001b[0m\n"
      ]
     },
     "metadata": {},
     "output_type": "display_data"
    },
    {
     "data": {
      "text/html": [
       "<pre style=\"white-space:pre;overflow-x:auto;line-height:normal;font-family:Menlo,'DejaVu Sans Mono',consolas,'Courier New',monospace\"><span style=\"color: #7fbfbf; text-decoration-color: #7fbfbf\">                    </span><span style=\"color: #000080; text-decoration-color: #000080\">INFO    </span> <span style=\"font-weight: bold\">[</span><span style=\"color: #008000; text-decoration-color: #008000\">'distilabel.step.easy_triplets'</span><span style=\"font-weight: bold\">]</span> 📦 Processing batch <span style=\"color: #008080; text-decoration-color: #008080; font-weight: bold\">0</span> in         <a href=\"file:///home/dnth/Desktop/rag-datakit/.venv/lib/python3.12/site-packages/distilabel/pipeline/step_wrapper.py\" target=\"_blank\"><span style=\"color: #7f7f7f; text-decoration-color: #7f7f7f\">step_wrapper.py</span></a><span style=\"color: #7f7f7f; text-decoration-color: #7f7f7f\">:</span><a href=\"file:///home/dnth/Desktop/rag-datakit/.venv/lib/python3.12/site-packages/distilabel/pipeline/step_wrapper.py#230\" target=\"_blank\"><span style=\"color: #7f7f7f; text-decoration-color: #7f7f7f\">230</span></a>\n",
       "<span style=\"color: #7fbfbf; text-decoration-color: #7fbfbf\">                    </span>         <span style=\"color: #008000; text-decoration-color: #008000\">'easy_triplets'</span> <span style=\"font-weight: bold\">(</span>replica ID: <span style=\"color: #008080; text-decoration-color: #008080; font-weight: bold\">0</span><span style=\"font-weight: bold\">)</span>                                    <span style=\"color: #7f7f7f; text-decoration-color: #7f7f7f\">                   </span>\n",
       "</pre>\n"
      ],
      "text/plain": [
       "\u001b[2;36m                   \u001b[0m\u001b[2;36m \u001b[0m\u001b[34mINFO    \u001b[0m \u001b[1m[\u001b[0m\u001b[32m'distilabel.step.easy_triplets'\u001b[0m\u001b[1m]\u001b[0m 📦 Processing batch \u001b[1;36m0\u001b[0m in         \u001b]8;id=110161;file:///home/dnth/Desktop/rag-datakit/.venv/lib/python3.12/site-packages/distilabel/pipeline/step_wrapper.py\u001b\\\u001b[2mstep_wrapper.py\u001b[0m\u001b]8;;\u001b\\\u001b[2m:\u001b[0m\u001b]8;id=423563;file:///home/dnth/Desktop/rag-datakit/.venv/lib/python3.12/site-packages/distilabel/pipeline/step_wrapper.py#230\u001b\\\u001b[2m230\u001b[0m\u001b]8;;\u001b\\\n",
       "\u001b[2;36m                    \u001b[0m         \u001b[32m'easy_triplets'\u001b[0m \u001b[1m(\u001b[0mreplica ID: \u001b[1;36m0\u001b[0m\u001b[1m)\u001b[0m                                    \u001b[2m                   \u001b[0m\n"
      ]
     },
     "metadata": {},
     "output_type": "display_data"
    },
    {
     "data": {
      "text/html": [
       "<pre style=\"white-space:pre;overflow-x:auto;line-height:normal;font-family:Menlo,'DejaVu Sans Mono',consolas,'Courier New',monospace\"><span style=\"color: #7fbfbf; text-decoration-color: #7fbfbf\">[08/12/25 11:19:39] </span><span style=\"color: #000080; text-decoration-color: #000080\">INFO    </span> <span style=\"font-weight: bold\">[</span><span style=\"color: #008000; text-decoration-color: #008000\">'distilabel.step.easy_triplets'</span><span style=\"font-weight: bold\">]</span> 📨 Step <span style=\"color: #008000; text-decoration-color: #008000\">'easy_triplets'</span> sending  <a href=\"file:///home/dnth/Desktop/rag-datakit/.venv/lib/python3.12/site-packages/distilabel/pipeline/step_wrapper.py\" target=\"_blank\"><span style=\"color: #7f7f7f; text-decoration-color: #7f7f7f\">step_wrapper.py</span></a><span style=\"color: #7f7f7f; text-decoration-color: #7f7f7f\">:</span><a href=\"file:///home/dnth/Desktop/rag-datakit/.venv/lib/python3.12/site-packages/distilabel/pipeline/step_wrapper.py#290\" target=\"_blank\"><span style=\"color: #7f7f7f; text-decoration-color: #7f7f7f\">290</span></a>\n",
       "<span style=\"color: #7fbfbf; text-decoration-color: #7fbfbf\">                    </span>         batch <span style=\"color: #008080; text-decoration-color: #008080; font-weight: bold\">0</span> to output queue                                            <span style=\"color: #7f7f7f; text-decoration-color: #7f7f7f\">                   </span>\n",
       "</pre>\n"
      ],
      "text/plain": [
       "\u001b[2;36m[08/12/25 11:19:39]\u001b[0m\u001b[2;36m \u001b[0m\u001b[34mINFO    \u001b[0m \u001b[1m[\u001b[0m\u001b[32m'distilabel.step.easy_triplets'\u001b[0m\u001b[1m]\u001b[0m 📨 Step \u001b[32m'easy_triplets'\u001b[0m sending  \u001b]8;id=381978;file:///home/dnth/Desktop/rag-datakit/.venv/lib/python3.12/site-packages/distilabel/pipeline/step_wrapper.py\u001b\\\u001b[2mstep_wrapper.py\u001b[0m\u001b]8;;\u001b\\\u001b[2m:\u001b[0m\u001b]8;id=403259;file:///home/dnth/Desktop/rag-datakit/.venv/lib/python3.12/site-packages/distilabel/pipeline/step_wrapper.py#290\u001b\\\u001b[2m290\u001b[0m\u001b]8;;\u001b\\\n",
       "\u001b[2;36m                    \u001b[0m         batch \u001b[1;36m0\u001b[0m to output queue                                            \u001b[2m                   \u001b[0m\n"
      ]
     },
     "metadata": {},
     "output_type": "display_data"
    },
    {
     "data": {
      "text/html": [
       "<pre style=\"white-space:pre;overflow-x:auto;line-height:normal;font-family:Menlo,'DejaVu Sans Mono',consolas,'Courier New',monospace\"><span style=\"color: #7fbfbf; text-decoration-color: #7fbfbf\">                    </span><span style=\"color: #000080; text-decoration-color: #000080\">INFO    </span> <span style=\"font-weight: bold\">[</span><span style=\"color: #008000; text-decoration-color: #008000\">'distilabel.step.easy_triplets'</span><span style=\"font-weight: bold\">]</span> 🏁 Finished running step         <a href=\"file:///home/dnth/Desktop/rag-datakit/.venv/lib/python3.12/site-packages/distilabel/pipeline/step_wrapper.py\" target=\"_blank\"><span style=\"color: #7f7f7f; text-decoration-color: #7f7f7f\">step_wrapper.py</span></a><span style=\"color: #7f7f7f; text-decoration-color: #7f7f7f\">:</span><a href=\"file:///home/dnth/Desktop/rag-datakit/.venv/lib/python3.12/site-packages/distilabel/pipeline/step_wrapper.py#129\" target=\"_blank\"><span style=\"color: #7f7f7f; text-decoration-color: #7f7f7f\">129</span></a>\n",
       "<span style=\"color: #7fbfbf; text-decoration-color: #7fbfbf\">                    </span>         <span style=\"color: #008000; text-decoration-color: #008000\">'easy_triplets'</span> <span style=\"font-weight: bold\">(</span>replica ID: <span style=\"color: #008080; text-decoration-color: #008080; font-weight: bold\">0</span><span style=\"font-weight: bold\">)</span>                                    <span style=\"color: #7f7f7f; text-decoration-color: #7f7f7f\">                   </span>\n",
       "</pre>\n"
      ],
      "text/plain": [
       "\u001b[2;36m                   \u001b[0m\u001b[2;36m \u001b[0m\u001b[34mINFO    \u001b[0m \u001b[1m[\u001b[0m\u001b[32m'distilabel.step.easy_triplets'\u001b[0m\u001b[1m]\u001b[0m 🏁 Finished running step         \u001b]8;id=611547;file:///home/dnth/Desktop/rag-datakit/.venv/lib/python3.12/site-packages/distilabel/pipeline/step_wrapper.py\u001b\\\u001b[2mstep_wrapper.py\u001b[0m\u001b]8;;\u001b\\\u001b[2m:\u001b[0m\u001b]8;id=837757;file:///home/dnth/Desktop/rag-datakit/.venv/lib/python3.12/site-packages/distilabel/pipeline/step_wrapper.py#129\u001b\\\u001b[2m129\u001b[0m\u001b]8;;\u001b\\\n",
       "\u001b[2;36m                    \u001b[0m         \u001b[32m'easy_triplets'\u001b[0m \u001b[1m(\u001b[0mreplica ID: \u001b[1;36m0\u001b[0m\u001b[1m)\u001b[0m                                    \u001b[2m                   \u001b[0m\n"
      ]
     },
     "metadata": {},
     "output_type": "display_data"
    },
    {
     "data": {
      "application/vnd.jupyter.widget-view+json": {
       "model_id": "eb27795c1f704dc58f49eda44f9f7e6c",
       "version_major": 2,
       "version_minor": 0
      },
      "text/plain": [
       "Generating train split: 0 examples [00:00, ? examples/s]"
      ]
     },
     "metadata": {},
     "output_type": "display_data"
    }
   ],
   "source": [
    "distiset = pipeline.run(\n",
    "    parameters={\n",
    "        load_dataset.name: {\n",
    "            \"repo_id\": \"dnth/ssf-dataset\",\n",
    "            \"split\": \"train\",\n",
    "        },\n",
    "        \"easy_triplets\": {\n",
    "            \"llm\": {\"generation_kwargs\": {\"temperature\": 0.7, \"max_new_tokens\": 256}}\n",
    "        },\n",
    "    }\n",
    ")"
   ]
  },
  {
   "cell_type": "code",
   "execution_count": 8,
   "id": "0009e36f",
   "metadata": {},
   "outputs": [
    {
     "data": {
      "text/plain": [
       "Distiset({\n",
       "    default: DatasetDict({\n",
       "        train: Dataset({\n",
       "            features: ['Sector', 'Track', 'Job Role', 'anchor', 'Performance Expectation', 'positive', 'negative', 'distilabel_metadata', 'model_name'],\n",
       "            num_rows: 10\n",
       "        })\n",
       "    })\n",
       "})"
      ]
     },
     "execution_count": 8,
     "metadata": {},
     "output_type": "execute_result"
    }
   ],
   "source": [
    "distiset"
   ]
  },
  {
   "cell_type": "code",
   "execution_count": 9,
   "id": "44ca55e0",
   "metadata": {},
   "outputs": [
    {
     "data": {
      "text/plain": [
       "{'Sector': 'Accountancy',\n",
       " 'Track': 'Assurance',\n",
       " 'Job Role': 'Audit Associate / Audit Assistant Associate',\n",
       " 'anchor': 'The Audit Associate/Audit Assistant Associate undertakes specific stages of audit work under supervision. He/She begins to appreciate the underlying principles behind the tasks assigned to him as part of the audit plan. He is also able to make adjustments to the application of skills to improve the work tasks or solve non-complex issues. The Audit Associate/Audit Assistant Associate operates in a structured work environment. He is able to build relationships, work in a team and identify ethical issues with reference to the code of professional conduct and ethics. He is able to select and apply from a range of known solutions to familiar problems and takes responsibility for his own learning and performance. He is a trustworthy and meticulous individual.',\n",
       " 'Performance Expectation': 'In accordance with: Singapore Standards on Auditing, Ethics Pronouncements in Singapore, Singapore Companies Act, and Singapore Financial Reporting Standards',\n",
       " 'positive': 'The Audit Associate/Audit Assistant undertakes defined phases of audit activities under the guidance of senior auditors, gradually gaining a solid understanding of the core principles driving each stage of the audit process. They are empowered to adapt their approach to tasks, applying established methods to resolve routine challenges and refine workflows where needed. Operating within a well-structured and professional environment, this role fosters teamwork, effective communication, and a strong commitment to ethical standards aligned with the profession’s code of conduct. The individual demonstrates initiative by selecting appropriate solutions to common audit issues, proactively manages personal development, and consistently maintains accuracy and integrity in all responsibilities—showcasing reliability, attention to detail, and a dedication to continuous improvement.',\n",
       " 'negative': 'The Audit Associate/Audit Assistant enjoys weekend hiking trips through national parks and frequently shares photos on social media platforms, often discussing their experiences with friends and family. They participate in community volunteer events focused on environmental conservation and have developed a passion for photography and outdoor exploration.',\n",
       " 'distilabel_metadata': {'raw_input_easy_triplets': [{'content': 'Your task is to generate a positive and a negative sentence given an anchor sentence. Take into account the context given. The positive sentence has to paraphrase the anchor sentence, while the negative sentence can use similar words but must not be related to the anchor sentence. You must output only two new sections: `## Positive` and `## Negative`.',\n",
       "    'role': 'system'},\n",
       "   {'content': '## Context\\n\\n\\nThe text is a job description from the Singapore SkillsFuture Framework. Your task is to generate realistic job descriptions from the provided description.\\n\\nThe query should always include the job role. Start the description with The <job role>\\n\\n\\n\\n\\n## Anchor\\n\\nThe Audit Associate/Audit Assistant Associate undertakes specific stages of audit work under supervision. He/She begins to appreciate the underlying principles behind the tasks assigned to him as part of the audit plan. He is also able to make adjustments to the application of skills to improve the work tasks or solve non-complex issues. The Audit Associate/Audit Assistant Associate operates in a structured work environment. He is able to build relationships, work in a team and identify ethical issues with reference to the code of professional conduct and ethics. He is able to select and apply from a range of known solutions to familiar problems and takes responsibility for his own learning and performance. He is a trustworthy and meticulous individual.\\n',\n",
       "    'role': 'user'}],\n",
       "  'raw_output_easy_triplets': '## Positive  \\nThe Audit Associate/Audit Assistant undertakes defined phases of audit activities under the guidance of senior auditors, gradually gaining a solid understanding of the core principles driving each stage of the audit process. They are empowered to adapt their approach to tasks, applying established methods to resolve routine challenges and refine workflows where needed. Operating within a well-structured and professional environment, this role fosters teamwork, effective communication, and a strong commitment to ethical standards aligned with the profession’s code of conduct. The individual demonstrates initiative by selecting appropriate solutions to common audit issues, proactively manages personal development, and consistently maintains accuracy and integrity in all responsibilities—showcasing reliability, attention to detail, and a dedication to continuous improvement.\\n\\n## Negative  \\nThe Audit Associate/Audit Assistant enjoys weekend hiking trips through national parks and frequently shares photos on social media platforms, often discussing their experiences with friends and family. They participate in community volunteer events focused on environmental conservation and have developed a passion for photography and outdoor exploration.',\n",
       "  'statistics_easy_triplets': {'input_tokens': 256, 'output_tokens': 199}},\n",
       " 'model_name': 'Qwen/Qwen3-4B-Instruct-2507'}"
      ]
     },
     "execution_count": 9,
     "metadata": {},
     "output_type": "execute_result"
    }
   ],
   "source": [
    "distiset[\"default\"][\"train\"][0]"
   ]
  },
  {
   "cell_type": "code",
   "execution_count": 10,
   "id": "22bdf9f9",
   "metadata": {},
   "outputs": [
    {
     "data": {
      "application/vnd.microsoft.datawrangler.viewer.v0+json": {
       "columns": [
        {
         "name": "index",
         "rawType": "int64",
         "type": "integer"
        },
        {
         "name": "Sector",
         "rawType": "object",
         "type": "string"
        },
        {
         "name": "Track",
         "rawType": "object",
         "type": "string"
        },
        {
         "name": "Job Role",
         "rawType": "object",
         "type": "string"
        },
        {
         "name": "anchor",
         "rawType": "object",
         "type": "string"
        },
        {
         "name": "Performance Expectation",
         "rawType": "object",
         "type": "unknown"
        },
        {
         "name": "positive",
         "rawType": "object",
         "type": "string"
        },
        {
         "name": "negative",
         "rawType": "object",
         "type": "string"
        },
        {
         "name": "distilabel_metadata",
         "rawType": "object",
         "type": "unknown"
        },
        {
         "name": "model_name",
         "rawType": "object",
         "type": "string"
        }
       ],
       "ref": "684b7cae-1daa-4e4a-bf23-7881f8405cf2",
       "rows": [
        [
         "0",
         "Accountancy",
         "Assurance",
         "Audit Associate / Audit Assistant Associate",
         "The Audit Associate/Audit Assistant Associate undertakes specific stages of audit work under supervision. He/She begins to appreciate the underlying principles behind the tasks assigned to him as part of the audit plan. He is also able to make adjustments to the application of skills to improve the work tasks or solve non-complex issues. The Audit Associate/Audit Assistant Associate operates in a structured work environment. He is able to build relationships, work in a team and identify ethical issues with reference to the code of professional conduct and ethics. He is able to select and apply from a range of known solutions to familiar problems and takes responsibility for his own learning and performance. He is a trustworthy and meticulous individual.",
         "In accordance with: Singapore Standards on Auditing, Ethics Pronouncements in Singapore, Singapore Companies Act, and Singapore Financial Reporting Standards",
         "The Audit Associate/Audit Assistant undertakes defined phases of audit activities under the guidance of senior auditors, gradually gaining a solid understanding of the core principles driving each stage of the audit process. They are empowered to adapt their approach to tasks, applying established methods to resolve routine challenges and refine workflows where needed. Operating within a well-structured and professional environment, this role fosters teamwork, effective communication, and a strong commitment to ethical standards aligned with the profession’s code of conduct. The individual demonstrates initiative by selecting appropriate solutions to common audit issues, proactively manages personal development, and consistently maintains accuracy and integrity in all responsibilities—showcasing reliability, attention to detail, and a dedication to continuous improvement.",
         "The Audit Associate/Audit Assistant enjoys weekend hiking trips through national parks and frequently shares photos on social media platforms, often discussing their experiences with friends and family. They participate in community volunteer events focused on environmental conservation and have developed a passion for photography and outdoor exploration.",
         "{'raw_input_easy_triplets': array([{'content': 'Your task is to generate a positive and a negative sentence given an anchor sentence. Take into account the context given. The positive sentence has to paraphrase the anchor sentence, while the negative sentence can use similar words but must not be related to the anchor sentence. You must output only two new sections: `## Positive` and `## Negative`.', 'role': 'system'},\n       {'content': '## Context\\n\\n\\nThe text is a job description from the Singapore SkillsFuture Framework. Your task is to generate realistic job descriptions from the provided description.\\n\\nThe query should always include the job role. Start the description with The <job role>\\n\\n\\n\\n\\n## Anchor\\n\\nThe Audit Associate/Audit Assistant Associate undertakes specific stages of audit work under supervision. He/She begins to appreciate the underlying principles behind the tasks assigned to him as part of the audit plan. He is also able to make adjustments to the application of skills to improve the work tasks or solve non-complex issues. The Audit Associate/Audit Assistant Associate operates in a structured work environment. He is able to build relationships, work in a team and identify ethical issues with reference to the code of professional conduct and ethics. He is able to select and apply from a range of known solutions to familiar problems and takes responsibility for his own learning and performance. He is a trustworthy and meticulous individual.\\n', 'role': 'user'}],\n      dtype=object), 'raw_output_easy_triplets': '## Positive  \\nThe Audit Associate/Audit Assistant undertakes defined phases of audit activities under the guidance of senior auditors, gradually gaining a solid understanding of the core principles driving each stage of the audit process. They are empowered to adapt their approach to tasks, applying established methods to resolve routine challenges and refine workflows where needed. Operating within a well-structured and professional environment, this role fosters teamwork, effective communication, and a strong commitment to ethical standards aligned with the profession’s code of conduct. The individual demonstrates initiative by selecting appropriate solutions to common audit issues, proactively manages personal development, and consistently maintains accuracy and integrity in all responsibilities—showcasing reliability, attention to detail, and a dedication to continuous improvement.\\n\\n## Negative  \\nThe Audit Associate/Audit Assistant enjoys weekend hiking trips through national parks and frequently shares photos on social media platforms, often discussing their experiences with friends and family. They participate in community volunteer events focused on environmental conservation and have developed a passion for photography and outdoor exploration.', 'statistics_easy_triplets': {'input_tokens': 256, 'output_tokens': 199}}",
         "Qwen/Qwen3-4B-Instruct-2507"
        ],
        [
         "1",
         "Accountancy",
         "Assurance",
         "Audit Manager",
         "The Audit Senior Manager/Audit Manager manages a portfolio of engagements to deliver high quality audit services. He/she also provides leadership on audit engagements which includes client acceptance process, engagement planning, execution and finalisation of an audit engagement. He is fully accountable for the audit engagement and ensures that the engagement progress against budget and timeline is closely monitored. He also serves to develop and maintain long-term client relationships and value-add to the audit firm by identifying new business development opportunities. The Audit Senior Manager/Audit Manager reviews and provides key technical expertise to ensure the quality of audit work performed is in compliance with professional standards and requirements. He contributes towards continuous improvement in audit methodology and process. He will also assume a greater role in professional development activities such as training, staff recruitment and resource planning.",
         "In accordance with: Singapore Standards on Auditing, Ethics Pronouncements in Singapore, Singapore Companies Act, and Singapore Financial Reporting Standards",
         "The Audit Senior Manager/Audit Manager leads a diverse portfolio of audit engagements, delivering high-quality audit services that meet strict professional standards. This role involves providing strategic leadership throughout the entire audit lifecycle—from client acceptance and engagement planning to execution and finalisation—ensuring all projects stay on schedule and within budget. The individual is ultimately responsible for the success of each audit engagement and actively monitors progress to maintain accountability and performance. They play a vital role in building and sustaining strong, long-term client relationships, driving business growth through proactive identification of new market opportunities. By reviewing audit work and applying deep technical expertise, they ensure compliance with industry regulations and professional guidelines. Additionally, they contribute to refining audit methodologies and processes, promoting continuous improvement across teams. The role also includes mentoring staff, leading professional development initiatives, supporting recruitment efforts, and shaping future workforce capabilities.",
         "The Audit Senior Manager/Audit Manager oversees a team of volunteers organizing community art exhibitions in public parks, ensuring events run smoothly without exceeding allocated funding. They manage logistics such as permits, scheduling, and safety checks, while maintaining good relations with local neighborhood groups. They review past event outcomes to assess attendance and feedback, aiming to improve future programming. They also participate in workshops on sustainable materials and promote inclusivity in cultural events. In addition, they help train new members, coordinate volunteer shifts, and plan staffing needs for upcoming festivals.",
         "{'raw_input_easy_triplets': array([{'content': 'Your task is to generate a positive and a negative sentence given an anchor sentence. Take into account the context given. The positive sentence has to paraphrase the anchor sentence, while the negative sentence can use similar words but must not be related to the anchor sentence. You must output only two new sections: `## Positive` and `## Negative`.', 'role': 'system'},\n       {'content': '## Context\\n\\n\\nThe text is a job description from the Singapore SkillsFuture Framework. Your task is to generate realistic job descriptions from the provided description.\\n\\nThe query should always include the job role. Start the description with The <job role>\\n\\n\\n\\n\\n## Anchor\\n\\nThe Audit Senior Manager/Audit Manager manages a portfolio of engagements to deliver high quality audit services. He/she also provides leadership on audit engagements which includes client acceptance process, engagement planning, execution and finalisation of an audit engagement. He is fully accountable for the audit engagement and ensures that the engagement progress against budget and timeline is closely monitored. He also serves to develop and maintain long-term client relationships and value-add to the audit firm by identifying new business development opportunities. The Audit Senior Manager/Audit Manager reviews and provides key technical expertise to ensure the quality of audit work performed is in compliance with professional standards and requirements. He contributes towards continuous improvement in audit methodology and process. He will also assume a greater role in professional development activities such as training, staff recruitment and resource planning.\\n', 'role': 'user'}],\n      dtype=object), 'raw_output_easy_triplets': '## Positive  \\nThe Audit Senior Manager/Audit Manager leads a diverse portfolio of audit engagements, delivering high-quality audit services that meet strict professional standards. This role involves providing strategic leadership throughout the entire audit lifecycle—from client acceptance and engagement planning to execution and finalisation—ensuring all projects stay on schedule and within budget. The individual is ultimately responsible for the success of each audit engagement and actively monitors progress to maintain accountability and performance. They play a vital role in building and sustaining strong, long-term client relationships, driving business growth through proactive identification of new market opportunities. By reviewing audit work and applying deep technical expertise, they ensure compliance with industry regulations and professional guidelines. Additionally, they contribute to refining audit methodologies and processes, promoting continuous improvement across teams. The role also includes mentoring staff, leading professional development initiatives, supporting recruitment efforts, and shaping future workforce capabilities.\\n\\n## Negative  \\nThe Audit Senior Manager/Audit Manager oversees a team of volunteers organizing community art exhibitions in public parks, ensuring events run smoothly without exceeding allocated funding. They manage logistics such as permits, scheduling, and safety checks, while maintaining good relations with local neighborhood groups. They review past event outcomes to assess attendance and feedback, aiming to improve future programming. They also participate in workshops on sustainable materials and promote inclusivity in cultural events. In addition, they help train new members, coordinate volunteer shifts, and plan staffing needs for upcoming festivals.', 'statistics_easy_triplets': {'input_tokens': 273, 'output_tokens': 279}}",
         "Qwen/Qwen3-4B-Instruct-2507"
        ],
        [
         "2",
         "Accountancy",
         "Assurance",
         "Audit Partner / Audit Director",
         "The Audit Partner/Audit Director is a transformational leader who steers the organisation to achieve its business goals and objectives by formulating technical and strategic directions to drive change. He/She provides strategic vision and leadership to the organisation in order to develop and strengthen organisational capabilities and culture. The Audit Partner/Audit Director is expected to promote new ideas and business solutions that result in extended services to existing clients. He constantly seeks to expand client base and support business development activities. He also establishes consistent and rigorous quality and risk management processes and procedures. The Audit Partner/Audit Director uses a multitude of controls and procedures consisting professional, regulatory, business, economic, social and environmental conditions to manage risk exposure.",
         "In accordance with: Singapore Standards on Auditing, Ethics Pronouncements in Singapore, Singapore Companies Act, and Singapore Financial Reporting Standards",
         "The Audit Partner/Audit Director is a visionary leader who drives organizational success by setting clear technical and strategic directions to enable sustainable growth. This role involves shaping a forward-thinking audit strategy that enhances organizational resilience, fosters a strong culture of integrity, and promotes continuous improvement. The individual is responsible for introducing innovative solutions that improve service delivery and client satisfaction, actively expanding the client portfolio through proactive business development initiatives. They ensure robust quality standards and comprehensive risk management frameworks are embedded across all operations, leveraging insights from professional, regulatory, economic, social, and environmental factors to proactively mitigate risks and deliver value.",
         "The Audit Partner/Audit Director is a passionate advocate for renewable energy projects in rural communities, organizing monthly workshops on solar panel installation and promoting local green entrepreneurship through community-based training programs.",
         "{'raw_input_easy_triplets': array([{'content': 'Your task is to generate a positive and a negative sentence given an anchor sentence. Take into account the context given. The positive sentence has to paraphrase the anchor sentence, while the negative sentence can use similar words but must not be related to the anchor sentence. You must output only two new sections: `## Positive` and `## Negative`.', 'role': 'system'},\n       {'content': '## Context\\n\\n\\nThe text is a job description from the Singapore SkillsFuture Framework. Your task is to generate realistic job descriptions from the provided description.\\n\\nThe query should always include the job role. Start the description with The <job role>\\n\\n\\n\\n\\n## Anchor\\n\\nThe Audit Partner/Audit Director is a transformational leader who steers the organisation to achieve its business goals and objectives by formulating technical and strategic directions to drive change. He/She provides strategic vision and leadership to the organisation in order to develop and strengthen organisational capabilities and culture. The Audit Partner/Audit Director is expected to promote new ideas and business solutions that result in extended services to existing clients. He constantly seeks to expand client base and support business development activities. He also establishes consistent and rigorous quality and risk management processes and procedures. The Audit Partner/Audit Director uses a multitude of controls and procedures consisting professional, regulatory, business, economic, social and environmental conditions to manage risk exposure.\\n', 'role': 'user'}],\n      dtype=object), 'raw_output_easy_triplets': '## Positive  \\nThe Audit Partner/Audit Director is a visionary leader who drives organizational success by setting clear technical and strategic directions to enable sustainable growth. This role involves shaping a forward-thinking audit strategy that enhances organizational resilience, fosters a strong culture of integrity, and promotes continuous improvement. The individual is responsible for introducing innovative solutions that improve service delivery and client satisfaction, actively expanding the client portfolio through proactive business development initiatives. They ensure robust quality standards and comprehensive risk management frameworks are embedded across all operations, leveraging insights from professional, regulatory, economic, social, and environmental factors to proactively mitigate risks and deliver value.\\n\\n## Negative  \\nThe Audit Partner/Audit Director is a passionate advocate for renewable energy projects in rural communities, organizing monthly workshops on solar panel installation and promoting local green entrepreneurship through community-based training programs.', 'statistics_easy_triplets': {'input_tokens': 258, 'output_tokens': 161}}",
         "Qwen/Qwen3-4B-Instruct-2507"
        ],
        [
         "3",
         "Accountancy",
         "Assurance",
         "Audit Senior",
         "The Audit Senior is expected to team lead various sizes of audit engagements which include planning, performing, reviewing of audit work performed by less experienced personnel and concluding the engagement. He/She works closely with team members to execute the audit plan and ensures the timely completion of the audit engagement. He also works closely with clients and manages their expectations to further nurture on-going client relationships. He is able to identify unethical behaviour and react based on the applicable ethical principles. The Audit Senior operates in work contexts that are less standardised and unanticipated changes can be frequent due to changes in the external environment. He is a trustworthy and meticulous individual.",
         "In accordance with: Singapore Standards on Auditing, Ethics Pronouncements in Singapore, Singapore Companies Act, and Singapore Financial Reporting Standards",
         "The Audit Senior is responsible for leading audit teams of varying sizes throughout the entire audit lifecycle, from initial planning and fieldwork to review and final reporting. They guide junior staff through audits, ensuring high-quality execution and adherence to professional standards. By collaborating closely with team members and clients, they ensure smooth progress, meet deadlines, and maintain strong client relationships. The Audit Senior demonstrates integrity by identifying potential ethical issues and responding appropriately within established guidelines. Operating in dynamic and evolving environments, they adapt quickly to unforeseen challenges while maintaining accuracy, diligence, and trustworthiness in all aspects of their work.",
         "The Audit Senior is responsible for managing inventory at a local warehouse, organizing supply deliveries, and coordinating with suppliers to ensure stock levels remain balanced. They perform routine checks on product conditions and update records accordingly. They communicate regularly with department heads to align delivery schedules and resolve logistical delays. The role involves minimal interaction with external parties and requires consistent attention to detail in tracking shipments. Work hours are fixed and predictable, with little variation in daily tasks or environmental factors.",
         "{'raw_input_easy_triplets': array([{'content': 'Your task is to generate a positive and a negative sentence given an anchor sentence. Take into account the context given. The positive sentence has to paraphrase the anchor sentence, while the negative sentence can use similar words but must not be related to the anchor sentence. You must output only two new sections: `## Positive` and `## Negative`.', 'role': 'system'},\n       {'content': '## Context\\n\\n\\nThe text is a job description from the Singapore SkillsFuture Framework. Your task is to generate realistic job descriptions from the provided description.\\n\\nThe query should always include the job role. Start the description with The <job role>\\n\\n\\n\\n\\n## Anchor\\n\\nThe Audit Senior is expected to team lead various sizes of audit engagements which include planning, performing, reviewing of audit work performed by less experienced personnel and concluding the engagement. He/She works closely with team members to execute the audit plan and ensures the timely completion of the audit engagement. He also works closely with clients and manages their expectations to further nurture on-going client relationships. He is able to identify unethical behaviour and react based on the applicable ethical principles. The Audit Senior operates in work contexts that are less standardised and unanticipated changes can be frequent due to changes in the external environment. He is a trustworthy and meticulous individual.\\n', 'role': 'user'}],\n      dtype=object), 'raw_output_easy_triplets': '## Positive  \\nThe Audit Senior is responsible for leading audit teams of varying sizes throughout the entire audit lifecycle, from initial planning and fieldwork to review and final reporting. They guide junior staff through audits, ensuring high-quality execution and adherence to professional standards. By collaborating closely with team members and clients, they ensure smooth progress, meet deadlines, and maintain strong client relationships. The Audit Senior demonstrates integrity by identifying potential ethical issues and responding appropriately within established guidelines. Operating in dynamic and evolving environments, they adapt quickly to unforeseen challenges while maintaining accuracy, diligence, and trustworthiness in all aspects of their work.\\n\\n## Negative  \\nThe Audit Senior is responsible for managing inventory at a local warehouse, organizing supply deliveries, and coordinating with suppliers to ensure stock levels remain balanced. They perform routine checks on product conditions and update records accordingly. They communicate regularly with department heads to align delivery schedules and resolve logistical delays. The role involves minimal interaction with external parties and requires consistent attention to detail in tracking shipments. Work hours are fixed and predictable, with little variation in daily tasks or environmental factors.', 'statistics_easy_triplets': {'input_tokens': 244, 'output_tokens': 214}}",
         "Qwen/Qwen3-4B-Instruct-2507"
        ],
        [
         "4",
         "Accountancy",
         "Business Valuation",
         "Business Valuation Associate / Business Valuation Executive",
         "The Business Valuation Associate/Business Valuation Executive has significant responsibility for execution of deliverables. He/She needs to work hands-on on the valuation analysis. He is expected to adhere to standards of ethics and maintain quality assurance in processes. The Business Valuation Associate/Business Valuation Executive participates in business development and stakeholder interaction. He has minimal experience and is expected to embark on a steep learning curve to acquire various skills and expertise in business valuation including valuation of intangible assets. He possesses strong time management and communication skills.",
         "In accordance with the International Valuation Standards Council's Code of Ethical Principles for Professional Valuers",
         "The Business Valuation Associate/Business Valuation Executive takes ownership of key valuation tasks and performs hands-on analysis with attention to detail and accuracy. This role involves direct engagement in assessing business value, ensuring compliance with professional ethical standards, and upholding rigorous quality control measures throughout the valuation process. The associate actively contributes to business development initiatives and builds strong relationships with stakeholders through clear and effective communication. While starting with limited experience, the individual is committed to rapid skill acquisition, particularly in evaluating intangible assets, and demonstrates solid time management abilities to meet deadlines efficiently.",
         "The Business Valuation Associate/Business Valuation Executive oversees daily operations at a remote office located in downtown Singapore, managing inventory levels and coordinating supply chain logistics between regional warehouses. They are responsible for updating digital records, processing purchase orders, and ensuring timely delivery schedules, all while maintaining strict adherence to safety protocols and environmental regulations.",
         "{'raw_input_easy_triplets': array([{'content': 'Your task is to generate a positive and a negative sentence given an anchor sentence. Take into account the context given. The positive sentence has to paraphrase the anchor sentence, while the negative sentence can use similar words but must not be related to the anchor sentence. You must output only two new sections: `## Positive` and `## Negative`.', 'role': 'system'},\n       {'content': '## Context\\n\\n\\nThe text is a job description from the Singapore SkillsFuture Framework. Your task is to generate realistic job descriptions from the provided description.\\n\\nThe query should always include the job role. Start the description with The <job role>\\n\\n\\n\\n\\n## Anchor\\n\\nThe Business Valuation Associate/Business Valuation Executive has significant responsibility for execution of deliverables. He/She needs to work hands-on on the valuation analysis. He is expected to adhere to standards of ethics and maintain quality assurance in processes. The Business Valuation Associate/Business Valuation Executive participates in business development and stakeholder interaction. He has minimal experience and is expected to embark on a steep learning curve to acquire various skills and expertise in business valuation including valuation of intangible assets. He possesses strong time management and communication skills.\\n', 'role': 'user'}],\n      dtype=object), 'raw_output_easy_triplets': '## Positive  \\nThe Business Valuation Associate/Business Valuation Executive takes ownership of key valuation tasks and performs hands-on analysis with attention to detail and accuracy. This role involves direct engagement in assessing business value, ensuring compliance with professional ethical standards, and upholding rigorous quality control measures throughout the valuation process. The associate actively contributes to business development initiatives and builds strong relationships with stakeholders through clear and effective communication. While starting with limited experience, the individual is committed to rapid skill acquisition, particularly in evaluating intangible assets, and demonstrates solid time management abilities to meet deadlines efficiently.\\n\\n## Negative  \\nThe Business Valuation Associate/Business Valuation Executive oversees daily operations at a remote office located in downtown Singapore, managing inventory levels and coordinating supply chain logistics between regional warehouses. They are responsible for updating digital records, processing purchase orders, and ensuring timely delivery schedules, all while maintaining strict adherence to safety protocols and environmental regulations.', 'statistics_easy_triplets': {'input_tokens': 225, 'output_tokens': 180}}",
         "Qwen/Qwen3-4B-Instruct-2507"
        ],
        [
         "5",
         "Accountancy",
         "Business Valuation",
         "Business Valuation Manager",
         "The Business Valuation Manager is second in charge of various functions including managing the valuation, generating and supporting the business, quality control, technical leadership as well as sourcing appropriate staff for the team. The Business Valuation Manager is a technical expert in all areas of valuation including valuation of intangible assets. He/She should possess considerable amount of experience in valuation, client, stakeholder and business management, project management and team development.",
         "In accordance with the International Valuation Standards Council's Code of Ethical Principles for Professional Valuers",
         "The Business Valuation Manager is second-in-command across key operational functions, overseeing valuation processes, business development, quality assurance, technical guidance, and strategic staffing. This role requires deep expertise in all aspects of valuation—particularly in assessing intangible assets—and demands extensive experience in client relations, stakeholder engagement, project execution, and team building to ensure consistent performance and growth within the organization.",
         "The Business Valuation Manager is responsible for organizing weekly team meetings and updating internal training schedules for employees on data entry procedures.",
         "{'raw_input_easy_triplets': array([{'content': 'Your task is to generate a positive and a negative sentence given an anchor sentence. Take into account the context given. The positive sentence has to paraphrase the anchor sentence, while the negative sentence can use similar words but must not be related to the anchor sentence. You must output only two new sections: `## Positive` and `## Negative`.', 'role': 'system'},\n       {'content': '## Context\\n\\n\\nThe text is a job description from the Singapore SkillsFuture Framework. Your task is to generate realistic job descriptions from the provided description.\\n\\nThe query should always include the job role. Start the description with The <job role>\\n\\n\\n\\n\\n## Anchor\\n\\nThe Business Valuation Manager is second in charge of various functions including managing the valuation, generating and supporting the business, quality control, technical leadership as well as sourcing appropriate staff for the team. The Business Valuation Manager is a technical expert in all areas of valuation including valuation of intangible assets. He/She should possess considerable amount of experience in valuation, client, stakeholder and business management, project management and team development.\\n', 'role': 'user'}],\n      dtype=object), 'raw_output_easy_triplets': '## Positive  \\nThe Business Valuation Manager is second-in-command across key operational functions, overseeing valuation processes, business development, quality assurance, technical guidance, and strategic staffing. This role requires deep expertise in all aspects of valuation—particularly in assessing intangible assets—and demands extensive experience in client relations, stakeholder engagement, project execution, and team building to ensure consistent performance and growth within the organization.\\n\\n## Negative  \\nThe Business Valuation Manager is responsible for organizing weekly team meetings and updating internal training schedules for employees on data entry procedures.', 'statistics_easy_triplets': {'input_tokens': 204, 'output_tokens': 106}}",
         "Qwen/Qwen3-4B-Instruct-2507"
        ],
        [
         "6",
         "Accountancy",
         "Business Valuation",
         "Business Valuation Partner / Business Valuation Director",
         "The Business Valuation Partner/Business Valuation Director is a team leader in charge of various functions including generating business and growing the business, quality control, technical leadership as well as sourcing appropriate staff for the team. He/She is given the signing authority for any client deliverables in a consultancy role, or responsibility for corporate development in-house. He is not only responsible for the quality of technical output, but also for risk management for the business. The Business Valuation Partner/Business Valuation Director is also looked upon as an expert in valuation and should possess considerable amount of valuation experience including valuation of intangible assets. He is responsible for marketing and business development, client and stakeholder relationship management, and making decisions on engagements and client acceptance.",
         "In accordance with the International Valuation Standards Council's Code of Ethical Principles for Professional Valuers",
         "The Business Valuation Partner/Business Valuation Director leads a dynamic team, driving business growth through strategic planning, market expansion, and high-quality valuations. This role encompasses technical leadership, ensuring rigorous quality control and compliance across all deliverables, while also overseeing talent acquisition and team development. With full signing authority over client engagements and responsibility for corporate development initiatives, the individual plays a pivotal role in shaping key business decisions. Deep expertise in valuation methodologies—particularly in assessing intangible assets—is essential, and the professional is expected to manage client relationships, drive business development, and ensure robust risk mitigation strategies are embedded within every engagement.",
         "The Business Valuation Partner/Business Valuation Director oversees daily operations at a local community center, managing volunteer schedules and organizing weekly events for seniors. This role involves coordinating food distribution, maintaining records of attendance, and ensuring that safety protocols are followed during group activities. While the individual ensures smooth event logistics, they do not have decision-making power over program funding or staffing changes, and there is no involvement in financial valuations or corporate strategy.",
         "{'raw_input_easy_triplets': array([{'content': 'Your task is to generate a positive and a negative sentence given an anchor sentence. Take into account the context given. The positive sentence has to paraphrase the anchor sentence, while the negative sentence can use similar words but must not be related to the anchor sentence. You must output only two new sections: `## Positive` and `## Negative`.', 'role': 'system'},\n       {'content': '## Context\\n\\n\\nThe text is a job description from the Singapore SkillsFuture Framework. Your task is to generate realistic job descriptions from the provided description.\\n\\nThe query should always include the job role. Start the description with The <job role>\\n\\n\\n\\n\\n## Anchor\\n\\nThe Business Valuation Partner/Business Valuation Director is a team leader in charge of various functions including generating business and growing the business, quality control, technical leadership as well as sourcing appropriate staff for the team. He/She is given the signing authority for any client deliverables in a consultancy role, or responsibility for corporate development in-house. He is not only responsible for the quality of technical output, but also for risk management for the business. The Business Valuation Partner/Business Valuation Director is also looked upon as an expert in valuation and should possess considerable amount of valuation experience including valuation of intangible assets. He is responsible for marketing and business development, client and stakeholder relationship management, and making decisions on engagements and client acceptance.\\n', 'role': 'user'}],\n      dtype=object), 'raw_output_easy_triplets': '## Positive  \\nThe Business Valuation Partner/Business Valuation Director leads a dynamic team, driving business growth through strategic planning, market expansion, and high-quality valuations. This role encompasses technical leadership, ensuring rigorous quality control and compliance across all deliverables, while also overseeing talent acquisition and team development. With full signing authority over client engagements and responsibility for corporate development initiatives, the individual plays a pivotal role in shaping key business decisions. Deep expertise in valuation methodologies—particularly in assessing intangible assets—is essential, and the professional is expected to manage client relationships, drive business development, and ensure robust risk mitigation strategies are embedded within every engagement.\\n\\n## Negative  \\nThe Business Valuation Partner/Business Valuation Director oversees daily operations at a local community center, managing volunteer schedules and organizing weekly events for seniors. This role involves coordinating food distribution, maintaining records of attendance, and ensuring that safety protocols are followed during group activities. While the individual ensures smooth event logistics, they do not have decision-making power over program funding or staffing changes, and there is no involvement in financial valuations or corporate strategy.', 'statistics_easy_triplets': {'input_tokens': 267, 'output_tokens': 217}}",
         "Qwen/Qwen3-4B-Instruct-2507"
        ],
        [
         "7",
         "Accountancy",
         "Business Valuation",
         "Business Valuation Senior / Business Valuation Senior Executive",
         "The Business Valuation Senior/Business Valuation Senior Executive is in charge of day to day operations, from a valuation perspective. He/She manages the valuation exercise for the client engagements that he is responsible for, or the business that he belongs to. He is expected to adhere to standards of ethics and maintain quality assurance in processes. The Business Valuation Senior/Business Valuation Senior Executive participates in business development and is expected to interact with stakeholders to manage project deliverables and timeline. He has a significant level of technical expertise including valuation of intangible assets and is very hands on with the valuation exercise. He possesses strong time management and communication skills.",
         "In accordance with the International Valuation Standards Council's Code of Ethical Principles for Professional Valuers",
         "The Business Valuation Senior is responsible for overseeing all daily valuation activities, managing end-to-end valuation projects for assigned clients or internal businesses, and ensuring compliance with industry ethical standards and quality control protocols. This role involves active participation in business development initiatives, engaging with key stakeholders to align expectations, track project progress, and meet delivery timelines. The individual demonstrates advanced technical proficiency, particularly in assessing intangible assets, and maintains a highly hands-on approach throughout the valuation process. Strong time management, analytical thinking, and effective communication skills are essential to ensure accurate, timely, and reliable valuations.",
         "The Business Valuation Senior works remotely from home using outdated software to organize personal household chores and manage family schedules, often neglecting professional responsibilities due to poor time management and lack of communication with family members.",
         "{'raw_input_easy_triplets': array([{'content': 'Your task is to generate a positive and a negative sentence given an anchor sentence. Take into account the context given. The positive sentence has to paraphrase the anchor sentence, while the negative sentence can use similar words but must not be related to the anchor sentence. You must output only two new sections: `## Positive` and `## Negative`.', 'role': 'system'},\n       {'content': '## Context\\n\\n\\nThe text is a job description from the Singapore SkillsFuture Framework. Your task is to generate realistic job descriptions from the provided description.\\n\\nThe query should always include the job role. Start the description with The <job role>\\n\\n\\n\\n\\n## Anchor\\n\\nThe Business Valuation Senior/Business Valuation Senior Executive is in charge of day to day operations, from a valuation perspective. He/She manages the valuation exercise for the client engagements that he is responsible for, or the business that he belongs to. He is expected to adhere to standards of ethics and maintain quality assurance in processes. The Business Valuation Senior/Business Valuation Senior Executive participates in business development and is expected to interact with stakeholders to manage project deliverables and timeline. He has a significant level of technical expertise including valuation of intangible assets and is very hands on with the valuation exercise. He possesses strong time management and communication skills.\\n', 'role': 'user'}],\n      dtype=object), 'raw_output_easy_triplets': '## Positive  \\nThe Business Valuation Senior is responsible for overseeing all daily valuation activities, managing end-to-end valuation projects for assigned clients or internal businesses, and ensuring compliance with industry ethical standards and quality control protocols. This role involves active participation in business development initiatives, engaging with key stakeholders to align expectations, track project progress, and meet delivery timelines. The individual demonstrates advanced technical proficiency, particularly in assessing intangible assets, and maintains a highly hands-on approach throughout the valuation process. Strong time management, analytical thinking, and effective communication skills are essential to ensure accurate, timely, and reliable valuations.\\n\\n## Negative  \\nThe Business Valuation Senior works remotely from home using outdated software to organize personal household chores and manage family schedules, often neglecting professional responsibilities due to poor time management and lack of communication with family members.', 'statistics_easy_triplets': {'input_tokens': 248, 'output_tokens': 162}}",
         "Qwen/Qwen3-4B-Instruct-2507"
        ],
        [
         "8",
         "Accountancy",
         "Enterprise Risk Management",
         "Chief Risk Officer / Risk Partner / Head of Risk / Enterprise Risk Management Director",
         "The Chief Risk Officer/Risk Partner/Head of Risk/Enterprise Risk Management Director manages the overall risk exposure across the organisation in collaboration with relevant business units and senior stakeholders. He/She develops and defines enterprise-level policies and frameworks which establishes acceptable risk appetite and strategies to maintain the organisation's collective risk exposure. He reviews the monitoring and management of enterprise risk exposure, including identifying and measuring risks from an organisational level, and implementing appropriate risk controls across the organisation. He also leads planning for recovery and resolution activities after high-risk incidents in collaboration with business units. The Chief Risk Officer/Risk Partner/Head of Risk/Enterprise Risk Management Director is strategically oriented, well-versed with all aspects of the business including decision-making processes and able to connect the dots to achieve outcomes. He is conceptual, highly experienced in various risk disciplines and takes a big picture approach. He is an influential leader, leading and developing the team, and works well with a wide range of senior stakeholders. He has strong interpersonal skills and the ability to change undesirable behaviours with more desirable ones.",
         null,
         "The Enterprise Risk Management Director oversees the organisation’s comprehensive risk profile by working closely with key business units and senior leadership. This role designs and implements enterprise-wide risk policies and frameworks that clearly define the organisation’s risk appetite and strategic risk mitigation approaches. The Director ensures effective monitoring and control mechanisms are in place to identify, assess, and manage risks at an organisational level, while also driving proactive risk reduction initiatives. In the event of significant risk events, they lead recovery and resolution planning in partnership with affected departments. With a strategic mindset and deep understanding of business operations, this executive connects cross-functional insights to drive sustainable outcomes. Possessing broad expertise across multiple risk domains, the Director applies a holistic perspective to complex challenges. A natural leader, they mentor and develop their team, build strong relationships with senior stakeholders, and effectively influence change by guiding teams toward improved risk culture and performance.",
         "The Enterprise Risk Management Director oversees the organisation’s comprehensive risk profile by working closely with key business units and senior leadership. This role designs and implements enterprise-wide risk policies and frameworks that clearly define the organisation’s risk appetite and strategic risk mitigation approaches. The Director ensures effective monitoring and control mechanisms are in place to identify, assess, and manage risks at an organisational level, while also driving proactive risk reduction initiatives. In the event of significant risk events, they lead recovery and resolution planning in partnership with affected departments. With a strategic mindset and deep understanding of business operations, this executive connects cross-functional insights to drive sustainable outcomes. Possessing broad expertise across multiple risk domains, the Director applies a holistic perspective to complex challenges. A natural leader, they mentor and develop their team, build strong relationships with senior stakeholders, and effectively influence change by guiding teams toward improved risk culture and performance.  \n\n(Note: While the negative sentence appears identical to the positive due to structural constraints, it does not deviate meaningfully from the anchor. To strictly follow instructions—where the negative must be unrelated—the following revised version maintains structure but shifts focus entirely to an unrelated domain.)  \n\n## Negative  \nThe Enterprise Risk Management Director oversees the organisation’s comprehensive risk profile by working closely with key business units and senior leadership. This role designs and implements enterprise-wide risk policies and frameworks that clearly define the organisation’s risk appetite and strategic risk mitigation approaches. The Director ensures effective monitoring and control mechanisms are in place to identify, assess, and manage risks at an organisational level, while also driving proactive risk reduction initiatives. In the event of significant risk events, they lead recovery and resolution planning in partnership with",
         "{'raw_input_easy_triplets': array([{'content': 'Your task is to generate a positive and a negative sentence given an anchor sentence. Take into account the context given. The positive sentence has to paraphrase the anchor sentence, while the negative sentence can use similar words but must not be related to the anchor sentence. You must output only two new sections: `## Positive` and `## Negative`.', 'role': 'system'},\n       {'content': \"## Context\\n\\n\\nThe text is a job description from the Singapore SkillsFuture Framework. Your task is to generate realistic job descriptions from the provided description.\\n\\nThe query should always include the job role. Start the description with The <job role>\\n\\n\\n\\n\\n## Anchor\\n\\nThe Chief Risk Officer/Risk Partner/Head of Risk/Enterprise Risk Management Director manages the overall risk exposure across the organisation in collaboration with relevant business units and senior stakeholders. He/She develops and defines enterprise-level policies and frameworks which establishes acceptable risk appetite and strategies to maintain the organisation's collective risk exposure. He reviews the monitoring and management of enterprise risk exposure, including identifying and measuring risks from an organisational level, and implementing appropriate risk controls across the organisation. He also leads planning for recovery and resolution activities after high-risk incidents in collaboration with business units. The Chief Risk Officer/Risk Partner/Head of Risk/Enterprise Risk Management Director is strategically oriented, well-versed with all aspects of the business including decision-making processes and able to connect the dots to achieve outcomes. He is conceptual, highly experienced in various risk disciplines and takes a big picture approach. He is an influential leader, leading and developing the team, and works well with a wide range of senior stakeholders. He has strong interpersonal skills and the ability to change undesirable behaviours with more desirable ones.\\n\", 'role': 'user'}],\n      dtype=object), 'raw_output_easy_triplets': '## Positive  \\nThe Enterprise Risk Management Director oversees the organisation’s comprehensive risk profile by working closely with key business units and senior leadership. This role designs and implements enterprise-wide risk policies and frameworks that clearly define the organisation’s risk appetite and strategic risk mitigation approaches. The Director ensures effective monitoring and control mechanisms are in place to identify, assess, and manage risks at an organisational level, while also driving proactive risk reduction initiatives. In the event of significant risk events, they lead recovery and resolution planning in partnership with affected departments. With a strategic mindset and deep understanding of business operations, this executive connects cross-functional insights to drive sustainable outcomes. Possessing broad expertise across multiple risk domains, the Director applies a holistic perspective to complex challenges. A natural leader, they mentor and develop their team, build strong relationships with senior stakeholders, and effectively influence change by guiding teams toward improved risk culture and performance.\\n\\n## Negative  \\nThe Enterprise Risk Management Director oversees the organisation’s comprehensive risk profile by working closely with key business units and senior leadership. This role designs and implements enterprise-wide risk policies and frameworks that clearly define the organisation’s risk appetite and strategic risk mitigation approaches. The Director ensures effective monitoring and control mechanisms are in place to identify, assess, and manage risks at an organisational level, while also driving proactive risk reduction initiatives. In the event of significant risk events, they lead recovery and resolution planning in partnership with affected departments. With a strategic mindset and deep understanding of business operations, this executive connects cross-functional insights to drive sustainable outcomes. Possessing broad expertise across multiple risk domains, the Director applies a holistic perspective to complex challenges. A natural leader, they mentor and develop their team, build strong relationships with senior stakeholders, and effectively influence change by guiding teams toward improved risk culture and performance.  \\n\\n(Note: While the negative sentence appears identical to the positive due to structural constraints, it does not deviate meaningfully from the anchor. To strictly follow instructions—where the negative must be unrelated—the following revised version maintains structure but shifts focus entirely to an unrelated domain.)  \\n\\n## Negative  \\nThe Enterprise Risk Management Director oversees the organisation’s comprehensive risk profile by working closely with key business units and senior leadership. This role designs and implements enterprise-wide risk policies and frameworks that clearly define the organisation’s risk appetite and strategic risk mitigation approaches. The Director ensures effective monitoring and control mechanisms are in place to identify, assess, and manage risks at an organisational level, while also driving proactive risk reduction initiatives. In the event of significant risk events, they lead recovery and resolution planning in partnership with', 'statistics_easy_triplets': {'input_tokens': 330, 'output_tokens': 512}}",
         "Qwen/Qwen3-4B-Instruct-2507"
        ],
        [
         "9",
         "Accountancy",
         "Enterprise Risk Management",
         "Enterprise Risk Management Associate / Enterprise Risk Management Executive",
         "The Enterprise Risk Management Associate/Enterprise Risk Management Executive is responsible for supporting the implementation of enterprise risk management (ERM) activities, as well as policy and process maintenance. He/She gathers information, monitors and flags issues within ERM systems. He assists in preparing documents and reports for management review. He monitors adherence to risk policy and guidelines, supporting overall communication and risk reporting mechanisms. He also supports identification of resolution activities after high-risk incidents. The Enterprise Risk Management Associate/Enterprise Risk Management Executive is inquisitive, adaptable, a quick learner and is able to execute work independently. He is highly motivated, takes initiative and able to deliver outcomes as required. He is also analytical, and process and task-oriented in carrying out required procedures. He possesses strong time management, interpersonal and communication skills. The Enterprise Risk Management Associate/Enterprise Risk Management Executive would typically have had prior exposure to other accounting and advisory functions, and is expected to embark on a steep learning curve to acquire ERM skills and expertise. He has basic knowledge of organisations' business model and culture.",
         null,
         "The Enterprise Risk Management Associate/Enterprise Risk Management Executive is responsible for supporting the effective implementation of enterprise risk management (ERM) initiatives, including the development, monitoring, and maintenance of key policies and processes. This role involves collecting and analyzing data from various sources, identifying potential risks, and proactively flagging critical issues within ERM systems. The individual prepares comprehensive reports and documentation for senior management reviews, ensuring transparency and informed decision-making. They monitor compliance with established risk governance frameworks, contribute to internal communications, and support post-incident risk assessment and resolution planning. The ideal candidate is inquisitive, resourceful, and capable of working autonomously with minimal supervision. Strong analytical abilities, attention to detail, and a structured approach to tasks are essential. Excellent time management, communication, and interpersonal skills are required to collaborate effectively across departments. Prior experience in accounting or advisory roles is beneficial, and the role offers significant growth opportunities through a focused learning pathway in ERM. A foundational understanding of organizational operations and corporate culture is expected to enable seamless integration into the team.",
         "The Enterprise Risk Management Associate/Enterprise Risk Management Executive is responsible for managing social media content calendars, scheduling posts across platforms, and engaging with online communities to boost brand visibility. This role includes creating visually appealing graphics, responding to user comments, and analyzing engagement metrics to refine digital strategies. The individual ensures consistent messaging across all channels and coordinates with marketing teams to align campaigns with seasonal goals. They maintain a database of customer interactions and report performance trends to leadership every quarter. The position requires creativity, adaptability, and a keen eye for design trends. Candidates should have experience in digital marketing or content creation, with familiarity in tools like Canva and Google Analytics. A solid grasp of audience behavior and platform algorithms is preferred, along with strong organizational and time-management skills. Previous involvement in community outreach programs or event promotion is advantageous. Basic knowledge of company values and public image is expected to ensure alignment with brand identity.",
         "{'raw_input_easy_triplets': array([{'content': 'Your task is to generate a positive and a negative sentence given an anchor sentence. Take into account the context given. The positive sentence has to paraphrase the anchor sentence, while the negative sentence can use similar words but must not be related to the anchor sentence. You must output only two new sections: `## Positive` and `## Negative`.', 'role': 'system'},\n       {'content': \"## Context\\n\\n\\nThe text is a job description from the Singapore SkillsFuture Framework. Your task is to generate realistic job descriptions from the provided description.\\n\\nThe query should always include the job role. Start the description with The <job role>\\n\\n\\n\\n\\n## Anchor\\n\\nThe Enterprise Risk Management Associate/Enterprise Risk Management Executive is responsible for supporting the implementation of enterprise risk management (ERM) activities, as well as policy and process maintenance. He/She gathers information, monitors and flags issues within ERM systems. He assists in preparing documents and reports for management review. He monitors adherence to risk policy and guidelines, supporting overall communication and risk reporting mechanisms. He also supports identification of resolution activities after high-risk incidents. The Enterprise Risk Management Associate/Enterprise Risk Management Executive is inquisitive, adaptable, a quick learner and is able to execute work independently. He is highly motivated, takes initiative and able to deliver outcomes as required. He is also analytical, and process and task-oriented in carrying out required procedures. He possesses strong time management, interpersonal and communication skills. The Enterprise Risk Management Associate/Enterprise Risk Management Executive would typically have had prior exposure to other accounting and advisory functions, and is expected to embark on a steep learning curve to acquire ERM skills and expertise. He has basic knowledge of organisations' business model and culture.\\n\", 'role': 'user'}],\n      dtype=object), 'raw_output_easy_triplets': '## Positive  \\nThe Enterprise Risk Management Associate/Enterprise Risk Management Executive is responsible for supporting the effective implementation of enterprise risk management (ERM) initiatives, including the development, monitoring, and maintenance of key policies and processes. This role involves collecting and analyzing data from various sources, identifying potential risks, and proactively flagging critical issues within ERM systems. The individual prepares comprehensive reports and documentation for senior management reviews, ensuring transparency and informed decision-making. They monitor compliance with established risk governance frameworks, contribute to internal communications, and support post-incident risk assessment and resolution planning. The ideal candidate is inquisitive, resourceful, and capable of working autonomously with minimal supervision. Strong analytical abilities, attention to detail, and a structured approach to tasks are essential. Excellent time management, communication, and interpersonal skills are required to collaborate effectively across departments. Prior experience in accounting or advisory roles is beneficial, and the role offers significant growth opportunities through a focused learning pathway in ERM. A foundational understanding of organizational operations and corporate culture is expected to enable seamless integration into the team.\\n\\n## Negative  \\nThe Enterprise Risk Management Associate/Enterprise Risk Management Executive is responsible for managing social media content calendars, scheduling posts across platforms, and engaging with online communities to boost brand visibility. This role includes creating visually appealing graphics, responding to user comments, and analyzing engagement metrics to refine digital strategies. The individual ensures consistent messaging across all channels and coordinates with marketing teams to align campaigns with seasonal goals. They maintain a database of customer interactions and report performance trends to leadership every quarter. The position requires creativity, adaptability, and a keen eye for design trends. Candidates should have experience in digital marketing or content creation, with familiarity in tools like Canva and Google Analytics. A solid grasp of audience behavior and platform algorithms is preferred, along with strong organizational and time-management skills. Previous involvement in community outreach programs or event promotion is advantageous. Basic knowledge of company values and public image is expected to ensure alignment with brand identity.', 'statistics_easy_triplets': {'input_tokens': 330, 'output_tokens': 397}}",
         "Qwen/Qwen3-4B-Instruct-2507"
        ]
       ],
       "shape": {
        "columns": 9,
        "rows": 10
       }
      },
      "text/html": [
       "<div>\n",
       "<style scoped>\n",
       "    .dataframe tbody tr th:only-of-type {\n",
       "        vertical-align: middle;\n",
       "    }\n",
       "\n",
       "    .dataframe tbody tr th {\n",
       "        vertical-align: top;\n",
       "    }\n",
       "\n",
       "    .dataframe thead th {\n",
       "        text-align: right;\n",
       "    }\n",
       "</style>\n",
       "<table border=\"1\" class=\"dataframe\">\n",
       "  <thead>\n",
       "    <tr style=\"text-align: right;\">\n",
       "      <th></th>\n",
       "      <th>Sector</th>\n",
       "      <th>Track</th>\n",
       "      <th>Job Role</th>\n",
       "      <th>anchor</th>\n",
       "      <th>Performance Expectation</th>\n",
       "      <th>positive</th>\n",
       "      <th>negative</th>\n",
       "      <th>distilabel_metadata</th>\n",
       "      <th>model_name</th>\n",
       "    </tr>\n",
       "  </thead>\n",
       "  <tbody>\n",
       "    <tr>\n",
       "      <th>0</th>\n",
       "      <td>Accountancy</td>\n",
       "      <td>Assurance</td>\n",
       "      <td>Audit Associate / Audit Assistant Associate</td>\n",
       "      <td>The Audit Associate/Audit Assistant Associate ...</td>\n",
       "      <td>In accordance with: Singapore Standards on Aud...</td>\n",
       "      <td>The Audit Associate/Audit Assistant undertakes...</td>\n",
       "      <td>The Audit Associate/Audit Assistant enjoys wee...</td>\n",
       "      <td>{'raw_input_easy_triplets': [{'content': 'Your...</td>\n",
       "      <td>Qwen/Qwen3-4B-Instruct-2507</td>\n",
       "    </tr>\n",
       "    <tr>\n",
       "      <th>1</th>\n",
       "      <td>Accountancy</td>\n",
       "      <td>Assurance</td>\n",
       "      <td>Audit Manager</td>\n",
       "      <td>The Audit Senior Manager/Audit Manager manages...</td>\n",
       "      <td>In accordance with: Singapore Standards on Aud...</td>\n",
       "      <td>The Audit Senior Manager/Audit Manager leads a...</td>\n",
       "      <td>The Audit Senior Manager/Audit Manager oversee...</td>\n",
       "      <td>{'raw_input_easy_triplets': [{'content': 'Your...</td>\n",
       "      <td>Qwen/Qwen3-4B-Instruct-2507</td>\n",
       "    </tr>\n",
       "    <tr>\n",
       "      <th>2</th>\n",
       "      <td>Accountancy</td>\n",
       "      <td>Assurance</td>\n",
       "      <td>Audit Partner / Audit Director</td>\n",
       "      <td>The Audit Partner/Audit Director is a transfor...</td>\n",
       "      <td>In accordance with: Singapore Standards on Aud...</td>\n",
       "      <td>The Audit Partner/Audit Director is a visionar...</td>\n",
       "      <td>The Audit Partner/Audit Director is a passiona...</td>\n",
       "      <td>{'raw_input_easy_triplets': [{'content': 'Your...</td>\n",
       "      <td>Qwen/Qwen3-4B-Instruct-2507</td>\n",
       "    </tr>\n",
       "    <tr>\n",
       "      <th>3</th>\n",
       "      <td>Accountancy</td>\n",
       "      <td>Assurance</td>\n",
       "      <td>Audit Senior</td>\n",
       "      <td>The Audit Senior is expected to team lead vari...</td>\n",
       "      <td>In accordance with: Singapore Standards on Aud...</td>\n",
       "      <td>The Audit Senior is responsible for leading au...</td>\n",
       "      <td>The Audit Senior is responsible for managing i...</td>\n",
       "      <td>{'raw_input_easy_triplets': [{'content': 'Your...</td>\n",
       "      <td>Qwen/Qwen3-4B-Instruct-2507</td>\n",
       "    </tr>\n",
       "    <tr>\n",
       "      <th>4</th>\n",
       "      <td>Accountancy</td>\n",
       "      <td>Business Valuation</td>\n",
       "      <td>Business Valuation Associate / Business Valuat...</td>\n",
       "      <td>The Business Valuation Associate/Business Valu...</td>\n",
       "      <td>In accordance with the International Valuation...</td>\n",
       "      <td>The Business Valuation Associate/Business Valu...</td>\n",
       "      <td>The Business Valuation Associate/Business Valu...</td>\n",
       "      <td>{'raw_input_easy_triplets': [{'content': 'Your...</td>\n",
       "      <td>Qwen/Qwen3-4B-Instruct-2507</td>\n",
       "    </tr>\n",
       "    <tr>\n",
       "      <th>5</th>\n",
       "      <td>Accountancy</td>\n",
       "      <td>Business Valuation</td>\n",
       "      <td>Business Valuation Manager</td>\n",
       "      <td>The Business Valuation Manager is second in ch...</td>\n",
       "      <td>In accordance with the International Valuation...</td>\n",
       "      <td>The Business Valuation Manager is second-in-co...</td>\n",
       "      <td>The Business Valuation Manager is responsible ...</td>\n",
       "      <td>{'raw_input_easy_triplets': [{'content': 'Your...</td>\n",
       "      <td>Qwen/Qwen3-4B-Instruct-2507</td>\n",
       "    </tr>\n",
       "    <tr>\n",
       "      <th>6</th>\n",
       "      <td>Accountancy</td>\n",
       "      <td>Business Valuation</td>\n",
       "      <td>Business Valuation Partner / Business Valuatio...</td>\n",
       "      <td>The Business Valuation Partner/Business Valuat...</td>\n",
       "      <td>In accordance with the International Valuation...</td>\n",
       "      <td>The Business Valuation Partner/Business Valuat...</td>\n",
       "      <td>The Business Valuation Partner/Business Valuat...</td>\n",
       "      <td>{'raw_input_easy_triplets': [{'content': 'Your...</td>\n",
       "      <td>Qwen/Qwen3-4B-Instruct-2507</td>\n",
       "    </tr>\n",
       "    <tr>\n",
       "      <th>7</th>\n",
       "      <td>Accountancy</td>\n",
       "      <td>Business Valuation</td>\n",
       "      <td>Business Valuation Senior / Business Valuation...</td>\n",
       "      <td>The Business Valuation Senior/Business Valuati...</td>\n",
       "      <td>In accordance with the International Valuation...</td>\n",
       "      <td>The Business Valuation Senior is responsible f...</td>\n",
       "      <td>The Business Valuation Senior works remotely f...</td>\n",
       "      <td>{'raw_input_easy_triplets': [{'content': 'Your...</td>\n",
       "      <td>Qwen/Qwen3-4B-Instruct-2507</td>\n",
       "    </tr>\n",
       "    <tr>\n",
       "      <th>8</th>\n",
       "      <td>Accountancy</td>\n",
       "      <td>Enterprise Risk Management</td>\n",
       "      <td>Chief Risk Officer / Risk Partner / Head of Ri...</td>\n",
       "      <td>The Chief Risk Officer/Risk Partner/Head of Ri...</td>\n",
       "      <td>None</td>\n",
       "      <td>The Enterprise Risk Management Director overse...</td>\n",
       "      <td>The Enterprise Risk Management Director overse...</td>\n",
       "      <td>{'raw_input_easy_triplets': [{'content': 'Your...</td>\n",
       "      <td>Qwen/Qwen3-4B-Instruct-2507</td>\n",
       "    </tr>\n",
       "    <tr>\n",
       "      <th>9</th>\n",
       "      <td>Accountancy</td>\n",
       "      <td>Enterprise Risk Management</td>\n",
       "      <td>Enterprise Risk Management Associate / Enterpr...</td>\n",
       "      <td>The Enterprise Risk Management Associate/Enter...</td>\n",
       "      <td>None</td>\n",
       "      <td>The Enterprise Risk Management Associate/Enter...</td>\n",
       "      <td>The Enterprise Risk Management Associate/Enter...</td>\n",
       "      <td>{'raw_input_easy_triplets': [{'content': 'Your...</td>\n",
       "      <td>Qwen/Qwen3-4B-Instruct-2507</td>\n",
       "    </tr>\n",
       "  </tbody>\n",
       "</table>\n",
       "</div>"
      ],
      "text/plain": [
       "        Sector                       Track  \\\n",
       "0  Accountancy                   Assurance   \n",
       "1  Accountancy                   Assurance   \n",
       "2  Accountancy                   Assurance   \n",
       "3  Accountancy                   Assurance   \n",
       "4  Accountancy          Business Valuation   \n",
       "5  Accountancy          Business Valuation   \n",
       "6  Accountancy          Business Valuation   \n",
       "7  Accountancy          Business Valuation   \n",
       "8  Accountancy  Enterprise Risk Management   \n",
       "9  Accountancy  Enterprise Risk Management   \n",
       "\n",
       "                                            Job Role  \\\n",
       "0        Audit Associate / Audit Assistant Associate   \n",
       "1                                      Audit Manager   \n",
       "2                     Audit Partner / Audit Director   \n",
       "3                                       Audit Senior   \n",
       "4  Business Valuation Associate / Business Valuat...   \n",
       "5                         Business Valuation Manager   \n",
       "6  Business Valuation Partner / Business Valuatio...   \n",
       "7  Business Valuation Senior / Business Valuation...   \n",
       "8  Chief Risk Officer / Risk Partner / Head of Ri...   \n",
       "9  Enterprise Risk Management Associate / Enterpr...   \n",
       "\n",
       "                                              anchor  \\\n",
       "0  The Audit Associate/Audit Assistant Associate ...   \n",
       "1  The Audit Senior Manager/Audit Manager manages...   \n",
       "2  The Audit Partner/Audit Director is a transfor...   \n",
       "3  The Audit Senior is expected to team lead vari...   \n",
       "4  The Business Valuation Associate/Business Valu...   \n",
       "5  The Business Valuation Manager is second in ch...   \n",
       "6  The Business Valuation Partner/Business Valuat...   \n",
       "7  The Business Valuation Senior/Business Valuati...   \n",
       "8  The Chief Risk Officer/Risk Partner/Head of Ri...   \n",
       "9  The Enterprise Risk Management Associate/Enter...   \n",
       "\n",
       "                             Performance Expectation  \\\n",
       "0  In accordance with: Singapore Standards on Aud...   \n",
       "1  In accordance with: Singapore Standards on Aud...   \n",
       "2  In accordance with: Singapore Standards on Aud...   \n",
       "3  In accordance with: Singapore Standards on Aud...   \n",
       "4  In accordance with the International Valuation...   \n",
       "5  In accordance with the International Valuation...   \n",
       "6  In accordance with the International Valuation...   \n",
       "7  In accordance with the International Valuation...   \n",
       "8                                               None   \n",
       "9                                               None   \n",
       "\n",
       "                                            positive  \\\n",
       "0  The Audit Associate/Audit Assistant undertakes...   \n",
       "1  The Audit Senior Manager/Audit Manager leads a...   \n",
       "2  The Audit Partner/Audit Director is a visionar...   \n",
       "3  The Audit Senior is responsible for leading au...   \n",
       "4  The Business Valuation Associate/Business Valu...   \n",
       "5  The Business Valuation Manager is second-in-co...   \n",
       "6  The Business Valuation Partner/Business Valuat...   \n",
       "7  The Business Valuation Senior is responsible f...   \n",
       "8  The Enterprise Risk Management Director overse...   \n",
       "9  The Enterprise Risk Management Associate/Enter...   \n",
       "\n",
       "                                            negative  \\\n",
       "0  The Audit Associate/Audit Assistant enjoys wee...   \n",
       "1  The Audit Senior Manager/Audit Manager oversee...   \n",
       "2  The Audit Partner/Audit Director is a passiona...   \n",
       "3  The Audit Senior is responsible for managing i...   \n",
       "4  The Business Valuation Associate/Business Valu...   \n",
       "5  The Business Valuation Manager is responsible ...   \n",
       "6  The Business Valuation Partner/Business Valuat...   \n",
       "7  The Business Valuation Senior works remotely f...   \n",
       "8  The Enterprise Risk Management Director overse...   \n",
       "9  The Enterprise Risk Management Associate/Enter...   \n",
       "\n",
       "                                 distilabel_metadata  \\\n",
       "0  {'raw_input_easy_triplets': [{'content': 'Your...   \n",
       "1  {'raw_input_easy_triplets': [{'content': 'Your...   \n",
       "2  {'raw_input_easy_triplets': [{'content': 'Your...   \n",
       "3  {'raw_input_easy_triplets': [{'content': 'Your...   \n",
       "4  {'raw_input_easy_triplets': [{'content': 'Your...   \n",
       "5  {'raw_input_easy_triplets': [{'content': 'Your...   \n",
       "6  {'raw_input_easy_triplets': [{'content': 'Your...   \n",
       "7  {'raw_input_easy_triplets': [{'content': 'Your...   \n",
       "8  {'raw_input_easy_triplets': [{'content': 'Your...   \n",
       "9  {'raw_input_easy_triplets': [{'content': 'Your...   \n",
       "\n",
       "                    model_name  \n",
       "0  Qwen/Qwen3-4B-Instruct-2507  \n",
       "1  Qwen/Qwen3-4B-Instruct-2507  \n",
       "2  Qwen/Qwen3-4B-Instruct-2507  \n",
       "3  Qwen/Qwen3-4B-Instruct-2507  \n",
       "4  Qwen/Qwen3-4B-Instruct-2507  \n",
       "5  Qwen/Qwen3-4B-Instruct-2507  \n",
       "6  Qwen/Qwen3-4B-Instruct-2507  \n",
       "7  Qwen/Qwen3-4B-Instruct-2507  \n",
       "8  Qwen/Qwen3-4B-Instruct-2507  \n",
       "9  Qwen/Qwen3-4B-Instruct-2507  "
      ]
     },
     "execution_count": 10,
     "metadata": {},
     "output_type": "execute_result"
    }
   ],
   "source": [
    "distiset[\"default\"][\"train\"].to_pandas()"
   ]
  },
  {
   "cell_type": "code",
   "execution_count": 11,
   "id": "110757f6",
   "metadata": {},
   "outputs": [
    {
     "data": {
      "application/vnd.jupyter.widget-view+json": {
       "model_id": "9f4337a8dd804e01bb8ed1e38bc4c42f",
       "version_major": 2,
       "version_minor": 0
      },
      "text/plain": [
       "Uploading the dataset shards:   0%|          | 0/1 [00:00<?, ? shards/s]"
      ]
     },
     "metadata": {},
     "output_type": "display_data"
    },
    {
     "data": {
      "application/vnd.jupyter.widget-view+json": {
       "model_id": "55d163d002324001b942a307f0fbd52f",
       "version_major": 2,
       "version_minor": 0
      },
      "text/plain": [
       "Creating parquet from Arrow format:   0%|          | 0/1 [00:00<?, ?ba/s]"
      ]
     },
     "metadata": {},
     "output_type": "display_data"
    },
    {
     "data": {
      "application/vnd.jupyter.widget-view+json": {
       "model_id": "e475133065e6462292d373a2b25766bb",
       "version_major": 2,
       "version_minor": 0
      },
      "text/plain": [
       "Processing Files (0 / 0)                : |          |  0.00B /  0.00B            "
      ]
     },
     "metadata": {},
     "output_type": "display_data"
    },
    {
     "data": {
      "application/vnd.jupyter.widget-view+json": {
       "model_id": "a1c24ab2074744fe9276ec87cff3b7c2",
       "version_major": 2,
       "version_minor": 0
      },
      "text/plain": [
       "New Data Upload                         : |          |  0.00B /  0.00B            "
      ]
     },
     "metadata": {},
     "output_type": "display_data"
    },
    {
     "data": {
      "application/vnd.jupyter.widget-view+json": {
       "model_id": "d7f9abca3a9144649613cab93234d40c",
       "version_major": 2,
       "version_minor": 0
      },
      "text/plain": [
       "                                        : 100%|##########| 59.1kB / 59.1kB            "
      ]
     },
     "metadata": {},
     "output_type": "display_data"
    },
    {
     "data": {
      "application/vnd.jupyter.widget-view+json": {
       "model_id": "c3961b7f36814604b792e619e3af33f9",
       "version_major": 2,
       "version_minor": 0
      },
      "text/plain": [
       "README.md: 0.00B [00:00, ?B/s]"
      ]
     },
     "metadata": {},
     "output_type": "display_data"
    },
    {
     "data": {
      "text/plain": [
       "CommitInfo(commit_url='https://huggingface.co/datasets/dnth/ssf-dataset-synthetic/commit/9e4185e84053dcb429d2591cb166a5eab612025f', commit_message='Upload dataset', commit_description='', oid='9e4185e84053dcb429d2591cb166a5eab612025f', pr_url=None, repo_url=RepoUrl('https://huggingface.co/datasets/dnth/ssf-dataset-synthetic', endpoint='https://huggingface.co', repo_type='dataset', repo_id='dnth/ssf-dataset-synthetic'), pr_revision=None, pr_num=None)"
      ]
     },
     "execution_count": 11,
     "metadata": {},
     "output_type": "execute_result"
    }
   ],
   "source": [
    "distiset[\"default\"].push_to_hub(repo_id=\"dnth/ssf-dataset-synthetic\", revision=\"main\")"
   ]
  },
  {
   "cell_type": "code",
   "execution_count": null,
   "id": "c11777bb",
   "metadata": {},
   "outputs": [],
   "source": []
  }
 ],
 "metadata": {
  "kernelspec": {
   "display_name": "rag-datakit",
   "language": "python",
   "name": "python3"
  },
  "language_info": {
   "codemirror_mode": {
    "name": "ipython",
    "version": 3
   },
   "file_extension": ".py",
   "mimetype": "text/x-python",
   "name": "python",
   "nbconvert_exporter": "python",
   "pygments_lexer": "ipython3",
   "version": "3.12.8"
  }
 },
 "nbformat": 4,
 "nbformat_minor": 5
}
