{
 "cells": [
  {
   "cell_type": "markdown",
   "id": "b4df4e0b",
   "metadata": {},
   "source": [
    "# Synthetic Data Generation for Embedding Training with Distilabel\n",
    "\n",
    "This notebook demonstrates how to use `distilabel` to generate synthetic training data for customized embedding models. We'll work with job descriptions from Singapore's SkillsFuture Framework to create positive and negative query pairs that can be used to train embedding models for better job matching and semantic search capabilities.\n",
    "\n",
    "## What you'll learn:\n",
    "- How to load and prepare datasets for synthetic data generation\n",
    "- Creating positive and negative query pairs using LLMs\n",
    "- Building distilabel pipelines for automated data generation\n",
    "- Publishing synthetic datasets to Hugging Face Hub\n",
    "\n",
    "## Prerequisites\n",
    "Make sure you have the required packages installed. The main dependency is the `rag-datakit` package which includes distilabel and other necessary components."
   ]
  },
  {
   "cell_type": "code",
   "execution_count": 1,
   "id": "56646eed",
   "metadata": {},
   "outputs": [],
   "source": [
    "# !pip install git+https://github.com/dnth/rag-datakit.git"
   ]
  },
  {
   "cell_type": "markdown",
   "id": "g7wlpllxmp",
   "metadata": {},
   "source": [
    "## Installation\n",
    "\n",
    "Install the rag-datakit package which includes all necessary dependencies including distilabel, transformers, and dataset utilities. Uncomment the cell below to install if you haven't already."
   ]
  },
  {
   "cell_type": "markdown",
   "id": "4cbd0d3c",
   "metadata": {},
   "source": [
    "## Dataset Loading and Inspection\n",
    "\n",
    "We'll work with the Singapore Skills Framework (SSF) dataset, which contains job roles and descriptions across various sectors. This dataset is ideal for training embedding models for job matching applications.\n",
    "\n",
    "**Dataset source:** [Skills Frameworks Singapore](https://jobsandskills.skillsfuture.gov.sg/frameworks/skills-frameworks)  \n",
    "**Hugging Face repo:** `dnth/ssf-dataset`\n",
    "\n",
    "The dataset contains structured information about:\n",
    "- **Sector**: Industry sector (e.g., Accountancy, Technology)\n",
    "- **Track**: Specialization within the sector (e.g., Assurance, Business Valuation)\n",
    "- **Job Role**: Specific job title\n",
    "- **Job Role Description**: Detailed description of responsibilities and requirements\n",
    "- **Performance Expectation**: Standards and compliance requirements\n",
    "\n",
    "Let's load and examine the dataset structure:"
   ]
  },
  {
   "cell_type": "code",
   "execution_count": 2,
   "id": "32d8f8c6",
   "metadata": {},
   "outputs": [],
   "source": [
    "from datasets import load_dataset\n",
    "\n",
    "dataset = load_dataset(\"dnth/ssf-dataset\")"
   ]
  },
  {
   "cell_type": "code",
   "execution_count": 3,
   "id": "0f157224",
   "metadata": {},
   "outputs": [
    {
     "data": {
      "text/plain": [
       "DatasetDict({\n",
       "    train: Dataset({\n",
       "        features: ['Sector', 'Track', 'Job Role', 'Job Role Description', 'Performance Expectation'],\n",
       "        num_rows: 1885\n",
       "    })\n",
       "})"
      ]
     },
     "execution_count": 3,
     "metadata": {},
     "output_type": "execute_result"
    }
   ],
   "source": [
    "dataset"
   ]
  },
  {
   "cell_type": "code",
   "execution_count": 4,
   "id": "9823e0d0",
   "metadata": {},
   "outputs": [
    {
     "data": {
      "text/plain": [
       "{'Sector': 'Accountancy',\n",
       " 'Track': 'Assurance',\n",
       " 'Job Role': 'Audit Associate / Audit Assistant Associate',\n",
       " 'Job Role Description': 'The Audit Associate/Audit Assistant Associate undertakes specific stages of audit work under supervision. He/She begins to appreciate the underlying principles behind the tasks assigned to him as part of the audit plan. He is also able to make adjustments to the application of skills to improve the work tasks or solve non-complex issues. The Audit Associate/Audit Assistant Associate operates in a structured work environment. He is able to build relationships, work in a team and identify ethical issues with reference to the code of professional conduct and ethics. He is able to select and apply from a range of known solutions to familiar problems and takes responsibility for his own learning and performance. He is a trustworthy and meticulous individual.',\n",
       " 'Performance Expectation': 'In accordance with: Singapore Standards on Auditing, Ethics Pronouncements in Singapore, Singapore Companies Act, and Singapore Financial Reporting Standards'}"
      ]
     },
     "execution_count": 4,
     "metadata": {},
     "output_type": "execute_result"
    }
   ],
   "source": [
    "dataset['train'][0]"
   ]
  },
  {
   "cell_type": "markdown",
   "id": "f64e5c4b",
   "metadata": {},
   "source": [
    "## Synthetic Data Generation Setup\n",
    "\n",
    "To train effective embedding models, we need to create training triplets consisting of:\n",
    "- **Anchor**: The original job role description\n",
    "- **Positive**: A paraphrased or similar job description (semantically similar)\n",
    "- **Negative**: A different job description (semantically dissimilar)\n",
    "\n",
    "We'll use a Large Language Model (LLM) to generate these positive and negative examples automatically. This approach allows us to:\n",
    "1. Create diverse paraphrases of job descriptions\n",
    "2. Generate realistic negative examples from different roles/industries\n",
    "3. Scale up our training data efficiently\n",
    "\n",
    "### LLM Configuration\n",
    "We support both local models (via Transformers) and API-based models (like OpenAI). For this example, we'll use a local Qwen model, but you can switch to OpenAI by uncommenting the appropriate section.\n",
    "\n",
    "**For OpenAI API**: Make sure you have your API key in a `.env` file:\n",
    "```\n",
    "OPENAI_API_KEY=sk-proj-...\n",
    "```"
   ]
  },
  {
   "cell_type": "code",
   "execution_count": 5,
   "id": "c05c3b7c",
   "metadata": {},
   "outputs": [],
   "source": [
    "import os\n",
    "from distilabel.models import OpenAILLM, TransformersLLM\n",
    "\n",
    "llm = TransformersLLM(\n",
    "    model=\"Qwen/Qwen3-4B-Instruct-2507\",\n",
    "    device_map=\"auto\",\n",
    "    torch_dtype=\"float16\",\n",
    ")\n",
    "\n",
    "# llm = OpenAILLM(\n",
    "#     model=\"gpt-4o-mini\",\n",
    "#     api_key=os.getenv(\"OPENAI_API_KEY\"),\n",
    "# )\n",
    "\n"
   ]
  },
  {
   "cell_type": "code",
   "execution_count": 6,
   "id": "dd5cb418",
   "metadata": {},
   "outputs": [],
   "source": [
    "context = \"\"\"\n",
    "The text is a job description from the Singapore SkillsFuture Framework. Your task is to generate realistic job descriptions from the provided description.\n",
    "\n",
    "For the positive query, generate a realistic description for this role. Focus on creating variations that capture the essence of the role in different words, as if written by different people or organizations posting similar jobs.\n",
    "\n",
    "For negative descriptions you are allowed to choose from the following strategies\n",
    "\n",
    "1. Same industry, different seniority level (Senior → Junior or Vice versa)\n",
    "2. Same industry, different function (Business Valuation → Risk Management)\n",
    "3. Similar skills, different domain (Financial Analysis in Banking vs Healthcare)\n",
    "4. Same title, different industry context\n",
    "\n",
    "The query should always include the job role. Start the description with The <job role>.\n",
    "\n",
    "\"\"\"\n",
    "\n",
    "from distilabel.pipeline import Pipeline\n",
    "from distilabel.steps import LoadDataFromHub\n",
    "from distilabel.steps.tasks import GenerateSentencePair\n",
    "\n",
    "with Pipeline(name=\"generate\") as pipeline:\n",
    "    load_dataset = LoadDataFromHub(\n",
    "        num_examples=10,  # Limit to 10 examples for demo - increase for production datasets\n",
    "        use_cache=False,  # Disable caching to ensure fresh data generation each run\n",
    "        output_mappings={\"Job Role Description\": \"anchor\"},  # Map original column to 'anchor' for triplet generation\n",
    "    )\n",
    "    generate_retrieval_pairs_easy = GenerateSentencePair(\n",
    "        name=\"easy_triplets\",\n",
    "        triplet=True,  # Generate anchor-positive-negative triplets for embedding training\n",
    "        hard_negative=False,  # Use easier negatives rather than hard negatives\n",
    "        action=\"paraphrase\",  # Focus on paraphrasing for positive examples\n",
    "        llm=llm,  # Use the LLM configured above (local Qwen or OpenAI)\n",
    "        input_batch_size=5,  # Process 10 examples at once for efficiency\n",
    "        context=context,  # Provide the context instructions for generation quality\n",
    "    )\n",
    "    generate_retrieval_pairs_hard = GenerateSentencePair(\n",
    "        name=\"hard_triplets\",\n",
    "        triplet=True,  \n",
    "        hard_negative=True,  \n",
    "        action=\"paraphrase\",  \n",
    "        llm=llm,  \n",
    "        input_batch_size=5,  \n",
    "        context=context,  \n",
    "    )\n",
    "\n",
    "    load_dataset.connect(generate_retrieval_pairs_easy, generate_retrieval_pairs_hard)"
   ]
  },
  {
   "cell_type": "markdown",
   "id": "qlj1y6g0cok",
   "metadata": {},
   "source": [
    "## Pipeline Configuration\n",
    "\n",
    "Now we'll set up a distilabel pipeline to automatically generate positive and negative examples. The pipeline consists of:\n",
    "\n",
    "1. **LoadDataFromHub**: Loads our SSF dataset from Hugging Face\n",
    "2. **GenerateSentencePair**: Uses the LLM to create positive/negative pairs\n",
    "\n",
    "### Context for LLM Generation\n",
    "We provide specific instructions to the LLM for generating realistic job descriptions:\n",
    "- **Positive examples**: Paraphrases that maintain the essence of the original role\n",
    "- **Negative examples**: Use strategies like different seniority levels, functions, or industries\n",
    "\n",
    "The pipeline is configured to generate triplets (anchor, positive, negative) for embedding training."
   ]
  },
  {
   "cell_type": "code",
   "execution_count": 7,
   "id": "a362d4fc",
   "metadata": {},
   "outputs": [
    {
     "data": {
      "text/html": [
       "<pre style=\"white-space:pre;overflow-x:auto;line-height:normal;font-family:Menlo,'DejaVu Sans Mono',consolas,'Courier New',monospace\"><span style=\"color: #7fbfbf; text-decoration-color: #7fbfbf\">[08/12/25 12:16:29] </span><span style=\"color: #000080; text-decoration-color: #000080\">INFO    </span> <span style=\"font-weight: bold\">[</span><span style=\"color: #008000; text-decoration-color: #008000\">'distilabel.pipeline'</span><span style=\"font-weight: bold\">]</span> 📝 Pipeline data will be written to               <a href=\"file:///home/dnth/Desktop/rag-datakit/.venv/lib/python3.12/site-packages/distilabel/pipeline/base.py\" target=\"_blank\"><span style=\"color: #7f7f7f; text-decoration-color: #7f7f7f\">base.py</span></a><span style=\"color: #7f7f7f; text-decoration-color: #7f7f7f\">:</span><a href=\"file:///home/dnth/Desktop/rag-datakit/.venv/lib/python3.12/site-packages/distilabel/pipeline/base.py#1015\" target=\"_blank\"><span style=\"color: #7f7f7f; text-decoration-color: #7f7f7f\">1015</span></a>\n",
       "<span style=\"color: #7fbfbf; text-decoration-color: #7fbfbf\">                    </span>         <span style=\"color: #008000; text-decoration-color: #008000\">'/home/dnth/.cache/distilabel/pipelines/generate/3969fa9affab4d8b8bf2f804</span> <span style=\"color: #7f7f7f; text-decoration-color: #7f7f7f\">            </span>\n",
       "<span style=\"color: #7fbfbf; text-decoration-color: #7fbfbf\">                    </span>         <span style=\"color: #008000; text-decoration-color: #008000\">bce1882fe95d8fcc/executions/ef9e23128b738a4e9db249c95535eb7f294e65e0/data</span> <span style=\"color: #7f7f7f; text-decoration-color: #7f7f7f\">            </span>\n",
       "<span style=\"color: #7fbfbf; text-decoration-color: #7fbfbf\">                    </span>         <span style=\"color: #008000; text-decoration-color: #008000\">/steps_outputs'</span>                                                           <span style=\"color: #7f7f7f; text-decoration-color: #7f7f7f\">            </span>\n",
       "</pre>\n"
      ],
      "text/plain": [
       "\u001b[2;36m[08/12/25 12:16:29]\u001b[0m\u001b[2;36m \u001b[0m\u001b[34mINFO    \u001b[0m \u001b[1m[\u001b[0m\u001b[32m'distilabel.pipeline'\u001b[0m\u001b[1m]\u001b[0m 📝 Pipeline data will be written to               \u001b]8;id=505601;file:///home/dnth/Desktop/rag-datakit/.venv/lib/python3.12/site-packages/distilabel/pipeline/base.py\u001b\\\u001b[2mbase.py\u001b[0m\u001b]8;;\u001b\\\u001b[2m:\u001b[0m\u001b]8;id=666261;file:///home/dnth/Desktop/rag-datakit/.venv/lib/python3.12/site-packages/distilabel/pipeline/base.py#1015\u001b\\\u001b[2m1015\u001b[0m\u001b]8;;\u001b\\\n",
       "\u001b[2;36m                    \u001b[0m         \u001b[32m'/home/dnth/.cache/distilabel/pipelines/generate/3969fa9affab4d8b8bf2f804\u001b[0m \u001b[2m            \u001b[0m\n",
       "\u001b[2;36m                    \u001b[0m         \u001b[32mbce1882fe95d8fcc/executions/ef9e23128b738a4e9db249c95535eb7f294e65e0/data\u001b[0m \u001b[2m            \u001b[0m\n",
       "\u001b[2;36m                    \u001b[0m         \u001b[32m/steps_outputs'\u001b[0m                                                           \u001b[2m            \u001b[0m\n"
      ]
     },
     "metadata": {},
     "output_type": "display_data"
    },
    {
     "data": {
      "text/html": [
       "<pre style=\"white-space:pre;overflow-x:auto;line-height:normal;font-family:Menlo,'DejaVu Sans Mono',consolas,'Courier New',monospace\"><span style=\"color: #7fbfbf; text-decoration-color: #7fbfbf\">                    </span><span style=\"color: #000080; text-decoration-color: #000080\">INFO    </span> <span style=\"font-weight: bold\">[</span><span style=\"color: #008000; text-decoration-color: #008000\">'distilabel.pipeline'</span><span style=\"font-weight: bold\">]</span> ⌛ The steps of the pipeline will be loaded in    <a href=\"file:///home/dnth/Desktop/rag-datakit/.venv/lib/python3.12/site-packages/distilabel/pipeline/base.py\" target=\"_blank\"><span style=\"color: #7f7f7f; text-decoration-color: #7f7f7f\">base.py</span></a><span style=\"color: #7f7f7f; text-decoration-color: #7f7f7f\">:</span><a href=\"file:///home/dnth/Desktop/rag-datakit/.venv/lib/python3.12/site-packages/distilabel/pipeline/base.py#1046\" target=\"_blank\"><span style=\"color: #7f7f7f; text-decoration-color: #7f7f7f\">1046</span></a>\n",
       "<span style=\"color: #7fbfbf; text-decoration-color: #7fbfbf\">                    </span>         stages:                                                                   <span style=\"color: #7f7f7f; text-decoration-color: #7f7f7f\">            </span>\n",
       "<span style=\"color: #7fbfbf; text-decoration-color: #7fbfbf\">                    </span>          * Legend: 🚰 GeneratorStep 🌐 GlobalStep 🔄 Step                         <span style=\"color: #7f7f7f; text-decoration-color: #7f7f7f\">            </span>\n",
       "<span style=\"color: #7fbfbf; text-decoration-color: #7fbfbf\">                    </span>          * Stage <span style=\"color: #008080; text-decoration-color: #008080; font-weight: bold\">0</span>:                                                               <span style=\"color: #7f7f7f; text-decoration-color: #7f7f7f\">            </span>\n",
       "<span style=\"color: #7fbfbf; text-decoration-color: #7fbfbf\">                    </span>            - 🚰 <span style=\"color: #008000; text-decoration-color: #008000\">'load_data_from_hub_0'</span>                                            <span style=\"color: #7f7f7f; text-decoration-color: #7f7f7f\">            </span>\n",
       "<span style=\"color: #7fbfbf; text-decoration-color: #7fbfbf\">                    </span>            - 🔄 <span style=\"color: #008000; text-decoration-color: #008000\">'easy_triplets'</span>                                                   <span style=\"color: #7f7f7f; text-decoration-color: #7f7f7f\">            </span>\n",
       "<span style=\"color: #7fbfbf; text-decoration-color: #7fbfbf\">                    </span>            - 🔄 <span style=\"color: #008000; text-decoration-color: #008000\">'hard_triplets'</span>                                                   <span style=\"color: #7f7f7f; text-decoration-color: #7f7f7f\">            </span>\n",
       "</pre>\n"
      ],
      "text/plain": [
       "\u001b[2;36m                   \u001b[0m\u001b[2;36m \u001b[0m\u001b[34mINFO    \u001b[0m \u001b[1m[\u001b[0m\u001b[32m'distilabel.pipeline'\u001b[0m\u001b[1m]\u001b[0m ⌛ The steps of the pipeline will be loaded in    \u001b]8;id=129077;file:///home/dnth/Desktop/rag-datakit/.venv/lib/python3.12/site-packages/distilabel/pipeline/base.py\u001b\\\u001b[2mbase.py\u001b[0m\u001b]8;;\u001b\\\u001b[2m:\u001b[0m\u001b]8;id=451744;file:///home/dnth/Desktop/rag-datakit/.venv/lib/python3.12/site-packages/distilabel/pipeline/base.py#1046\u001b\\\u001b[2m1046\u001b[0m\u001b]8;;\u001b\\\n",
       "\u001b[2;36m                    \u001b[0m         stages:                                                                   \u001b[2m            \u001b[0m\n",
       "\u001b[2;36m                    \u001b[0m          * Legend: 🚰 GeneratorStep 🌐 GlobalStep 🔄 Step                         \u001b[2m            \u001b[0m\n",
       "\u001b[2;36m                    \u001b[0m          * Stage \u001b[1;36m0\u001b[0m:                                                               \u001b[2m            \u001b[0m\n",
       "\u001b[2;36m                    \u001b[0m            - 🚰 \u001b[32m'load_data_from_hub_0'\u001b[0m                                            \u001b[2m            \u001b[0m\n",
       "\u001b[2;36m                    \u001b[0m            - 🔄 \u001b[32m'easy_triplets'\u001b[0m                                                   \u001b[2m            \u001b[0m\n",
       "\u001b[2;36m                    \u001b[0m            - 🔄 \u001b[32m'hard_triplets'\u001b[0m                                                   \u001b[2m            \u001b[0m\n"
      ]
     },
     "metadata": {},
     "output_type": "display_data"
    },
    {
     "data": {
      "text/html": [
       "<pre style=\"white-space:pre;overflow-x:auto;line-height:normal;font-family:Menlo,'DejaVu Sans Mono',consolas,'Courier New',monospace\"><span style=\"color: #7fbfbf; text-decoration-color: #7fbfbf\">                    </span><span style=\"color: #000080; text-decoration-color: #000080\">INFO    </span> <span style=\"font-weight: bold\">[</span><span style=\"color: #008000; text-decoration-color: #008000\">'distilabel.pipeline'</span><span style=\"font-weight: bold\">]</span> ⏳ Waiting for all the steps of stage <span style=\"color: #008080; text-decoration-color: #008080; font-weight: bold\">0</span> to        <a href=\"file:///home/dnth/Desktop/rag-datakit/.venv/lib/python3.12/site-packages/distilabel/pipeline/base.py\" target=\"_blank\"><span style=\"color: #7f7f7f; text-decoration-color: #7f7f7f\">base.py</span></a><span style=\"color: #7f7f7f; text-decoration-color: #7f7f7f\">:</span><a href=\"file:///home/dnth/Desktop/rag-datakit/.venv/lib/python3.12/site-packages/distilabel/pipeline/base.py#1382\" target=\"_blank\"><span style=\"color: #7f7f7f; text-decoration-color: #7f7f7f\">1382</span></a>\n",
       "<span style=\"color: #7fbfbf; text-decoration-color: #7fbfbf\">                    </span>         load<span style=\"color: #808000; text-decoration-color: #808000\">...</span>                                                                   <span style=\"color: #7f7f7f; text-decoration-color: #7f7f7f\">            </span>\n",
       "</pre>\n"
      ],
      "text/plain": [
       "\u001b[2;36m                   \u001b[0m\u001b[2;36m \u001b[0m\u001b[34mINFO    \u001b[0m \u001b[1m[\u001b[0m\u001b[32m'distilabel.pipeline'\u001b[0m\u001b[1m]\u001b[0m ⏳ Waiting for all the steps of stage \u001b[1;36m0\u001b[0m to        \u001b]8;id=388728;file:///home/dnth/Desktop/rag-datakit/.venv/lib/python3.12/site-packages/distilabel/pipeline/base.py\u001b\\\u001b[2mbase.py\u001b[0m\u001b]8;;\u001b\\\u001b[2m:\u001b[0m\u001b]8;id=847544;file:///home/dnth/Desktop/rag-datakit/.venv/lib/python3.12/site-packages/distilabel/pipeline/base.py#1382\u001b\\\u001b[2m1382\u001b[0m\u001b]8;;\u001b\\\n",
       "\u001b[2;36m                    \u001b[0m         load\u001b[33m...\u001b[0m                                                                   \u001b[2m            \u001b[0m\n"
      ]
     },
     "metadata": {},
     "output_type": "display_data"
    },
    {
     "data": {
      "text/html": [
       "<pre style=\"white-space:pre;overflow-x:auto;line-height:normal;font-family:Menlo,'DejaVu Sans Mono',consolas,'Courier New',monospace\"><span style=\"color: #7fbfbf; text-decoration-color: #7fbfbf\">[08/12/25 12:16:32] </span><span style=\"color: #000080; text-decoration-color: #000080\">INFO    </span> <span style=\"font-weight: bold\">[</span><span style=\"color: #008000; text-decoration-color: #008000\">'accelerate.utils.modeling'</span><span style=\"font-weight: bold\">]</span> We will use <span style=\"color: #008080; text-decoration-color: #008080; font-weight: bold\">90</span>% of the memory on device <a href=\"file:///home/dnth/Desktop/rag-datakit/.venv/lib/python3.12/site-packages/accelerate/utils/modeling.py\" target=\"_blank\"><span style=\"color: #7f7f7f; text-decoration-color: #7f7f7f\">modeling.py</span></a><span style=\"color: #7f7f7f; text-decoration-color: #7f7f7f\">:</span><a href=\"file:///home/dnth/Desktop/rag-datakit/.venv/lib/python3.12/site-packages/accelerate/utils/modeling.py#1004\" target=\"_blank\"><span style=\"color: #7f7f7f; text-decoration-color: #7f7f7f\">1004</span></a>\n",
       "<span style=\"color: #7fbfbf; text-decoration-color: #7fbfbf\">                    </span>         <span style=\"color: #008080; text-decoration-color: #008080; font-weight: bold\">0</span> for storing the model, and <span style=\"color: #008080; text-decoration-color: #008080; font-weight: bold\">10</span>% for the buffer to avoid OOM. You can <span style=\"color: #7f7f7f; text-decoration-color: #7f7f7f\">                </span>\n",
       "<span style=\"color: #7fbfbf; text-decoration-color: #7fbfbf\">                    </span>         set `max_memory` in to a higher value to use more memory <span style=\"font-weight: bold\">(</span>at your own <span style=\"color: #7f7f7f; text-decoration-color: #7f7f7f\">                </span>\n",
       "<span style=\"color: #7fbfbf; text-decoration-color: #7fbfbf\">                    </span>         risk<span style=\"font-weight: bold\">)</span>.                                                                <span style=\"color: #7f7f7f; text-decoration-color: #7f7f7f\">                </span>\n",
       "</pre>\n"
      ],
      "text/plain": [
       "\u001b[2;36m[08/12/25 12:16:32]\u001b[0m\u001b[2;36m \u001b[0m\u001b[34mINFO    \u001b[0m \u001b[1m[\u001b[0m\u001b[32m'accelerate.utils.modeling'\u001b[0m\u001b[1m]\u001b[0m We will use \u001b[1;36m90\u001b[0m% of the memory on device \u001b]8;id=180729;file:///home/dnth/Desktop/rag-datakit/.venv/lib/python3.12/site-packages/accelerate/utils/modeling.py\u001b\\\u001b[2mmodeling.py\u001b[0m\u001b]8;;\u001b\\\u001b[2m:\u001b[0m\u001b]8;id=316036;file:///home/dnth/Desktop/rag-datakit/.venv/lib/python3.12/site-packages/accelerate/utils/modeling.py#1004\u001b\\\u001b[2m1004\u001b[0m\u001b]8;;\u001b\\\n",
       "\u001b[2;36m                    \u001b[0m         \u001b[1;36m0\u001b[0m for storing the model, and \u001b[1;36m10\u001b[0m% for the buffer to avoid OOM. You can \u001b[2m                \u001b[0m\n",
       "\u001b[2;36m                    \u001b[0m         set `max_memory` in to a higher value to use more memory \u001b[1m(\u001b[0mat your own \u001b[2m                \u001b[0m\n",
       "\u001b[2;36m                    \u001b[0m         risk\u001b[1m)\u001b[0m.                                                                \u001b[2m                \u001b[0m\n"
      ]
     },
     "metadata": {},
     "output_type": "display_data"
    },
    {
     "data": {
      "text/html": [
       "<pre style=\"white-space:pre;overflow-x:auto;line-height:normal;font-family:Menlo,'DejaVu Sans Mono',consolas,'Courier New',monospace\"><span style=\"color: #7fbfbf; text-decoration-color: #7fbfbf\">[08/12/25 12:16:33] </span><span style=\"color: #000080; text-decoration-color: #000080\">INFO    </span> <span style=\"font-weight: bold\">[</span><span style=\"color: #008000; text-decoration-color: #008000\">'accelerate.utils.modeling'</span><span style=\"font-weight: bold\">]</span> We will use <span style=\"color: #008080; text-decoration-color: #008080; font-weight: bold\">90</span>% of the memory on device <a href=\"file:///home/dnth/Desktop/rag-datakit/.venv/lib/python3.12/site-packages/accelerate/utils/modeling.py\" target=\"_blank\"><span style=\"color: #7f7f7f; text-decoration-color: #7f7f7f\">modeling.py</span></a><span style=\"color: #7f7f7f; text-decoration-color: #7f7f7f\">:</span><a href=\"file:///home/dnth/Desktop/rag-datakit/.venv/lib/python3.12/site-packages/accelerate/utils/modeling.py#1004\" target=\"_blank\"><span style=\"color: #7f7f7f; text-decoration-color: #7f7f7f\">1004</span></a>\n",
       "<span style=\"color: #7fbfbf; text-decoration-color: #7fbfbf\">                    </span>         <span style=\"color: #008080; text-decoration-color: #008080; font-weight: bold\">0</span> for storing the model, and <span style=\"color: #008080; text-decoration-color: #008080; font-weight: bold\">10</span>% for the buffer to avoid OOM. You can <span style=\"color: #7f7f7f; text-decoration-color: #7f7f7f\">                </span>\n",
       "<span style=\"color: #7fbfbf; text-decoration-color: #7fbfbf\">                    </span>         set `max_memory` in to a higher value to use more memory <span style=\"font-weight: bold\">(</span>at your own <span style=\"color: #7f7f7f; text-decoration-color: #7f7f7f\">                </span>\n",
       "<span style=\"color: #7fbfbf; text-decoration-color: #7fbfbf\">                    </span>         risk<span style=\"font-weight: bold\">)</span>.                                                                <span style=\"color: #7f7f7f; text-decoration-color: #7f7f7f\">                </span>\n",
       "</pre>\n"
      ],
      "text/plain": [
       "\u001b[2;36m[08/12/25 12:16:33]\u001b[0m\u001b[2;36m \u001b[0m\u001b[34mINFO    \u001b[0m \u001b[1m[\u001b[0m\u001b[32m'accelerate.utils.modeling'\u001b[0m\u001b[1m]\u001b[0m We will use \u001b[1;36m90\u001b[0m% of the memory on device \u001b]8;id=729674;file:///home/dnth/Desktop/rag-datakit/.venv/lib/python3.12/site-packages/accelerate/utils/modeling.py\u001b\\\u001b[2mmodeling.py\u001b[0m\u001b]8;;\u001b\\\u001b[2m:\u001b[0m\u001b]8;id=227524;file:///home/dnth/Desktop/rag-datakit/.venv/lib/python3.12/site-packages/accelerate/utils/modeling.py#1004\u001b\\\u001b[2m1004\u001b[0m\u001b]8;;\u001b\\\n",
       "\u001b[2;36m                    \u001b[0m         \u001b[1;36m0\u001b[0m for storing the model, and \u001b[1;36m10\u001b[0m% for the buffer to avoid OOM. You can \u001b[2m                \u001b[0m\n",
       "\u001b[2;36m                    \u001b[0m         set `max_memory` in to a higher value to use more memory \u001b[1m(\u001b[0mat your own \u001b[2m                \u001b[0m\n",
       "\u001b[2;36m                    \u001b[0m         risk\u001b[1m)\u001b[0m.                                                                \u001b[2m                \u001b[0m\n"
      ]
     },
     "metadata": {},
     "output_type": "display_data"
    },
    {
     "data": {
      "text/html": [
       "<pre style=\"white-space:pre;overflow-x:auto;line-height:normal;font-family:Menlo,'DejaVu Sans Mono',consolas,'Courier New',monospace\"><span style=\"color: #7fbfbf; text-decoration-color: #7fbfbf\">[08/12/25 12:16:34] </span><span style=\"color: #000080; text-decoration-color: #000080\">INFO    </span> <span style=\"font-weight: bold\">[</span><span style=\"color: #008000; text-decoration-color: #008000\">'distilabel.pipeline'</span><span style=\"font-weight: bold\">]</span> ⏳ Steps from stage <span style=\"color: #008080; text-decoration-color: #008080; font-weight: bold\">0</span> loaded: <span style=\"color: #008080; text-decoration-color: #008080; font-weight: bold\">1</span>/<span style=\"color: #008080; text-decoration-color: #008080; font-weight: bold\">3</span>                 <a href=\"file:///home/dnth/Desktop/rag-datakit/.venv/lib/python3.12/site-packages/distilabel/pipeline/base.py\" target=\"_blank\"><span style=\"color: #7f7f7f; text-decoration-color: #7f7f7f\">base.py</span></a><span style=\"color: #7f7f7f; text-decoration-color: #7f7f7f\">:</span><a href=\"file:///home/dnth/Desktop/rag-datakit/.venv/lib/python3.12/site-packages/distilabel/pipeline/base.py#1418\" target=\"_blank\"><span style=\"color: #7f7f7f; text-decoration-color: #7f7f7f\">1418</span></a>\n",
       "<span style=\"color: #7fbfbf; text-decoration-color: #7fbfbf\">                    </span>          * <span style=\"color: #008000; text-decoration-color: #008000\">'load_data_from_hub_0'</span> replicas: <span style=\"color: #008080; text-decoration-color: #008080; font-weight: bold\">1</span>/<span style=\"color: #008080; text-decoration-color: #008080; font-weight: bold\">1</span>                                   <span style=\"color: #7f7f7f; text-decoration-color: #7f7f7f\">            </span>\n",
       "<span style=\"color: #7fbfbf; text-decoration-color: #7fbfbf\">                    </span>          * <span style=\"color: #008000; text-decoration-color: #008000\">'easy_triplets'</span> replicas: <span style=\"color: #008080; text-decoration-color: #008080; font-weight: bold\">0</span>/<span style=\"color: #008080; text-decoration-color: #008080; font-weight: bold\">1</span>                                          <span style=\"color: #7f7f7f; text-decoration-color: #7f7f7f\">            </span>\n",
       "<span style=\"color: #7fbfbf; text-decoration-color: #7fbfbf\">                    </span>          * <span style=\"color: #008000; text-decoration-color: #008000\">'hard_triplets'</span> replicas: <span style=\"color: #008080; text-decoration-color: #008080; font-weight: bold\">0</span>/<span style=\"color: #008080; text-decoration-color: #008080; font-weight: bold\">1</span>                                          <span style=\"color: #7f7f7f; text-decoration-color: #7f7f7f\">            </span>\n",
       "</pre>\n"
      ],
      "text/plain": [
       "\u001b[2;36m[08/12/25 12:16:34]\u001b[0m\u001b[2;36m \u001b[0m\u001b[34mINFO    \u001b[0m \u001b[1m[\u001b[0m\u001b[32m'distilabel.pipeline'\u001b[0m\u001b[1m]\u001b[0m ⏳ Steps from stage \u001b[1;36m0\u001b[0m loaded: \u001b[1;36m1\u001b[0m/\u001b[1;36m3\u001b[0m                 \u001b]8;id=52995;file:///home/dnth/Desktop/rag-datakit/.venv/lib/python3.12/site-packages/distilabel/pipeline/base.py\u001b\\\u001b[2mbase.py\u001b[0m\u001b]8;;\u001b\\\u001b[2m:\u001b[0m\u001b]8;id=963783;file:///home/dnth/Desktop/rag-datakit/.venv/lib/python3.12/site-packages/distilabel/pipeline/base.py#1418\u001b\\\u001b[2m1418\u001b[0m\u001b]8;;\u001b\\\n",
       "\u001b[2;36m                    \u001b[0m          * \u001b[32m'load_data_from_hub_0'\u001b[0m replicas: \u001b[1;36m1\u001b[0m/\u001b[1;36m1\u001b[0m                                   \u001b[2m            \u001b[0m\n",
       "\u001b[2;36m                    \u001b[0m          * \u001b[32m'easy_triplets'\u001b[0m replicas: \u001b[1;36m0\u001b[0m/\u001b[1;36m1\u001b[0m                                          \u001b[2m            \u001b[0m\n",
       "\u001b[2;36m                    \u001b[0m          * \u001b[32m'hard_triplets'\u001b[0m replicas: \u001b[1;36m0\u001b[0m/\u001b[1;36m1\u001b[0m                                          \u001b[2m            \u001b[0m\n"
      ]
     },
     "metadata": {},
     "output_type": "display_data"
    },
    {
     "name": "stderr",
     "output_type": "stream",
     "text": [
      "Device set to use cuda:0\n",
      "Device set to use cuda:0\n"
     ]
    },
    {
     "data": {
      "text/html": [
       "<pre style=\"white-space:pre;overflow-x:auto;line-height:normal;font-family:Menlo,'DejaVu Sans Mono',consolas,'Courier New',monospace\"><span style=\"color: #7fbfbf; text-decoration-color: #7fbfbf\">[08/12/25 12:16:39] </span><span style=\"color: #000080; text-decoration-color: #000080\">INFO    </span> <span style=\"font-weight: bold\">[</span><span style=\"color: #008000; text-decoration-color: #008000\">'distilabel.pipeline'</span><span style=\"font-weight: bold\">]</span> ⏳ Steps from stage <span style=\"color: #008080; text-decoration-color: #008080; font-weight: bold\">0</span> loaded: <span style=\"color: #008080; text-decoration-color: #008080; font-weight: bold\">3</span>/<span style=\"color: #008080; text-decoration-color: #008080; font-weight: bold\">3</span>                 <a href=\"file:///home/dnth/Desktop/rag-datakit/.venv/lib/python3.12/site-packages/distilabel/pipeline/base.py\" target=\"_blank\"><span style=\"color: #7f7f7f; text-decoration-color: #7f7f7f\">base.py</span></a><span style=\"color: #7f7f7f; text-decoration-color: #7f7f7f\">:</span><a href=\"file:///home/dnth/Desktop/rag-datakit/.venv/lib/python3.12/site-packages/distilabel/pipeline/base.py#1418\" target=\"_blank\"><span style=\"color: #7f7f7f; text-decoration-color: #7f7f7f\">1418</span></a>\n",
       "<span style=\"color: #7fbfbf; text-decoration-color: #7fbfbf\">                    </span>          * <span style=\"color: #008000; text-decoration-color: #008000\">'load_data_from_hub_0'</span> replicas: <span style=\"color: #008080; text-decoration-color: #008080; font-weight: bold\">1</span>/<span style=\"color: #008080; text-decoration-color: #008080; font-weight: bold\">1</span>                                   <span style=\"color: #7f7f7f; text-decoration-color: #7f7f7f\">            </span>\n",
       "<span style=\"color: #7fbfbf; text-decoration-color: #7fbfbf\">                    </span>          * <span style=\"color: #008000; text-decoration-color: #008000\">'easy_triplets'</span> replicas: <span style=\"color: #008080; text-decoration-color: #008080; font-weight: bold\">1</span>/<span style=\"color: #008080; text-decoration-color: #008080; font-weight: bold\">1</span>                                          <span style=\"color: #7f7f7f; text-decoration-color: #7f7f7f\">            </span>\n",
       "<span style=\"color: #7fbfbf; text-decoration-color: #7fbfbf\">                    </span>          * <span style=\"color: #008000; text-decoration-color: #008000\">'hard_triplets'</span> replicas: <span style=\"color: #008080; text-decoration-color: #008080; font-weight: bold\">1</span>/<span style=\"color: #008080; text-decoration-color: #008080; font-weight: bold\">1</span>                                          <span style=\"color: #7f7f7f; text-decoration-color: #7f7f7f\">            </span>\n",
       "</pre>\n"
      ],
      "text/plain": [
       "\u001b[2;36m[08/12/25 12:16:39]\u001b[0m\u001b[2;36m \u001b[0m\u001b[34mINFO    \u001b[0m \u001b[1m[\u001b[0m\u001b[32m'distilabel.pipeline'\u001b[0m\u001b[1m]\u001b[0m ⏳ Steps from stage \u001b[1;36m0\u001b[0m loaded: \u001b[1;36m3\u001b[0m/\u001b[1;36m3\u001b[0m                 \u001b]8;id=867007;file:///home/dnth/Desktop/rag-datakit/.venv/lib/python3.12/site-packages/distilabel/pipeline/base.py\u001b\\\u001b[2mbase.py\u001b[0m\u001b]8;;\u001b\\\u001b[2m:\u001b[0m\u001b]8;id=393707;file:///home/dnth/Desktop/rag-datakit/.venv/lib/python3.12/site-packages/distilabel/pipeline/base.py#1418\u001b\\\u001b[2m1418\u001b[0m\u001b]8;;\u001b\\\n",
       "\u001b[2;36m                    \u001b[0m          * \u001b[32m'load_data_from_hub_0'\u001b[0m replicas: \u001b[1;36m1\u001b[0m/\u001b[1;36m1\u001b[0m                                   \u001b[2m            \u001b[0m\n",
       "\u001b[2;36m                    \u001b[0m          * \u001b[32m'easy_triplets'\u001b[0m replicas: \u001b[1;36m1\u001b[0m/\u001b[1;36m1\u001b[0m                                          \u001b[2m            \u001b[0m\n",
       "\u001b[2;36m                    \u001b[0m          * \u001b[32m'hard_triplets'\u001b[0m replicas: \u001b[1;36m1\u001b[0m/\u001b[1;36m1\u001b[0m                                          \u001b[2m            \u001b[0m\n"
      ]
     },
     "metadata": {},
     "output_type": "display_data"
    },
    {
     "data": {
      "text/html": [
       "<pre style=\"white-space:pre;overflow-x:auto;line-height:normal;font-family:Menlo,'DejaVu Sans Mono',consolas,'Courier New',monospace\"><span style=\"color: #7fbfbf; text-decoration-color: #7fbfbf\">                    </span><span style=\"color: #000080; text-decoration-color: #000080\">INFO    </span> <span style=\"font-weight: bold\">[</span><span style=\"color: #008000; text-decoration-color: #008000\">'distilabel.pipeline'</span><span style=\"font-weight: bold\">]</span> ✅ All the steps from stage <span style=\"color: #008080; text-decoration-color: #008080; font-weight: bold\">0</span> have been loaded!   <a href=\"file:///home/dnth/Desktop/rag-datakit/.venv/lib/python3.12/site-packages/distilabel/pipeline/base.py\" target=\"_blank\"><span style=\"color: #7f7f7f; text-decoration-color: #7f7f7f\">base.py</span></a><span style=\"color: #7f7f7f; text-decoration-color: #7f7f7f\">:</span><a href=\"file:///home/dnth/Desktop/rag-datakit/.venv/lib/python3.12/site-packages/distilabel/pipeline/base.py#1422\" target=\"_blank\"><span style=\"color: #7f7f7f; text-decoration-color: #7f7f7f\">1422</span></a>\n",
       "</pre>\n"
      ],
      "text/plain": [
       "\u001b[2;36m                   \u001b[0m\u001b[2;36m \u001b[0m\u001b[34mINFO    \u001b[0m \u001b[1m[\u001b[0m\u001b[32m'distilabel.pipeline'\u001b[0m\u001b[1m]\u001b[0m ✅ All the steps from stage \u001b[1;36m0\u001b[0m have been loaded!   \u001b]8;id=495729;file:///home/dnth/Desktop/rag-datakit/.venv/lib/python3.12/site-packages/distilabel/pipeline/base.py\u001b\\\u001b[2mbase.py\u001b[0m\u001b]8;;\u001b\\\u001b[2m:\u001b[0m\u001b]8;id=490179;file:///home/dnth/Desktop/rag-datakit/.venv/lib/python3.12/site-packages/distilabel/pipeline/base.py#1422\u001b\\\u001b[2m1422\u001b[0m\u001b]8;;\u001b\\\n"
      ]
     },
     "metadata": {},
     "output_type": "display_data"
    },
    {
     "data": {
      "text/html": [
       "<pre style=\"white-space:pre;overflow-x:auto;line-height:normal;font-family:Menlo,'DejaVu Sans Mono',consolas,'Courier New',monospace\"><span style=\"color: #7fbfbf; text-decoration-color: #7fbfbf\">                    </span><span style=\"color: #000080; text-decoration-color: #000080\">INFO    </span> <span style=\"font-weight: bold\">[</span><span style=\"color: #008000; text-decoration-color: #008000\">'distilabel.step.load_data_from_hub_0'</span><span style=\"font-weight: bold\">]</span> 🚰 Starting yielding      <a href=\"file:///home/dnth/Desktop/rag-datakit/.venv/lib/python3.12/site-packages/distilabel/pipeline/step_wrapper.py\" target=\"_blank\"><span style=\"color: #7f7f7f; text-decoration-color: #7f7f7f\">step_wrapper.py</span></a><span style=\"color: #7f7f7f; text-decoration-color: #7f7f7f\">:</span><a href=\"file:///home/dnth/Desktop/rag-datakit/.venv/lib/python3.12/site-packages/distilabel/pipeline/step_wrapper.py#179\" target=\"_blank\"><span style=\"color: #7f7f7f; text-decoration-color: #7f7f7f\">179</span></a>\n",
       "<span style=\"color: #7fbfbf; text-decoration-color: #7fbfbf\">                    </span>         batches from generator step <span style=\"color: #008000; text-decoration-color: #008000\">'load_data_from_hub_0'</span>. Offset: <span style=\"color: #008080; text-decoration-color: #008080; font-weight: bold\">0</span>      <span style=\"color: #7f7f7f; text-decoration-color: #7f7f7f\">                   </span>\n",
       "</pre>\n"
      ],
      "text/plain": [
       "\u001b[2;36m                   \u001b[0m\u001b[2;36m \u001b[0m\u001b[34mINFO    \u001b[0m \u001b[1m[\u001b[0m\u001b[32m'distilabel.step.load_data_from_hub_0'\u001b[0m\u001b[1m]\u001b[0m 🚰 Starting yielding      \u001b]8;id=700378;file:///home/dnth/Desktop/rag-datakit/.venv/lib/python3.12/site-packages/distilabel/pipeline/step_wrapper.py\u001b\\\u001b[2mstep_wrapper.py\u001b[0m\u001b]8;;\u001b\\\u001b[2m:\u001b[0m\u001b]8;id=953906;file:///home/dnth/Desktop/rag-datakit/.venv/lib/python3.12/site-packages/distilabel/pipeline/step_wrapper.py#179\u001b\\\u001b[2m179\u001b[0m\u001b]8;;\u001b\\\n",
       "\u001b[2;36m                    \u001b[0m         batches from generator step \u001b[32m'load_data_from_hub_0'\u001b[0m. Offset: \u001b[1;36m0\u001b[0m      \u001b[2m                   \u001b[0m\n"
      ]
     },
     "metadata": {},
     "output_type": "display_data"
    },
    {
     "data": {
      "text/html": [
       "<pre style=\"white-space:pre;overflow-x:auto;line-height:normal;font-family:Menlo,'DejaVu Sans Mono',consolas,'Courier New',monospace\"><span style=\"color: #7fbfbf; text-decoration-color: #7fbfbf\">                    </span><span style=\"color: #000080; text-decoration-color: #000080\">INFO    </span> <span style=\"font-weight: bold\">[</span><span style=\"color: #008000; text-decoration-color: #008000\">'distilabel.step.load_data_from_hub_0'</span><span style=\"font-weight: bold\">]</span> 📨 Step                   <a href=\"file:///home/dnth/Desktop/rag-datakit/.venv/lib/python3.12/site-packages/distilabel/pipeline/step_wrapper.py\" target=\"_blank\"><span style=\"color: #7f7f7f; text-decoration-color: #7f7f7f\">step_wrapper.py</span></a><span style=\"color: #7f7f7f; text-decoration-color: #7f7f7f\">:</span><a href=\"file:///home/dnth/Desktop/rag-datakit/.venv/lib/python3.12/site-packages/distilabel/pipeline/step_wrapper.py#290\" target=\"_blank\"><span style=\"color: #7f7f7f; text-decoration-color: #7f7f7f\">290</span></a>\n",
       "<span style=\"color: #7fbfbf; text-decoration-color: #7fbfbf\">                    </span>         <span style=\"color: #008000; text-decoration-color: #008000\">'load_data_from_hub_0'</span> sending batch <span style=\"color: #008080; text-decoration-color: #008080; font-weight: bold\">0</span> to output queue             <span style=\"color: #7f7f7f; text-decoration-color: #7f7f7f\">                   </span>\n",
       "</pre>\n"
      ],
      "text/plain": [
       "\u001b[2;36m                   \u001b[0m\u001b[2;36m \u001b[0m\u001b[34mINFO    \u001b[0m \u001b[1m[\u001b[0m\u001b[32m'distilabel.step.load_data_from_hub_0'\u001b[0m\u001b[1m]\u001b[0m 📨 Step                   \u001b]8;id=666147;file:///home/dnth/Desktop/rag-datakit/.venv/lib/python3.12/site-packages/distilabel/pipeline/step_wrapper.py\u001b\\\u001b[2mstep_wrapper.py\u001b[0m\u001b]8;;\u001b\\\u001b[2m:\u001b[0m\u001b]8;id=233316;file:///home/dnth/Desktop/rag-datakit/.venv/lib/python3.12/site-packages/distilabel/pipeline/step_wrapper.py#290\u001b\\\u001b[2m290\u001b[0m\u001b]8;;\u001b\\\n",
       "\u001b[2;36m                    \u001b[0m         \u001b[32m'load_data_from_hub_0'\u001b[0m sending batch \u001b[1;36m0\u001b[0m to output queue             \u001b[2m                   \u001b[0m\n"
      ]
     },
     "metadata": {},
     "output_type": "display_data"
    },
    {
     "data": {
      "text/html": [
       "<pre style=\"white-space:pre;overflow-x:auto;line-height:normal;font-family:Menlo,'DejaVu Sans Mono',consolas,'Courier New',monospace\"><span style=\"color: #7fbfbf; text-decoration-color: #7fbfbf\">                    </span><span style=\"color: #000080; text-decoration-color: #000080\">INFO    </span> <span style=\"font-weight: bold\">[</span><span style=\"color: #008000; text-decoration-color: #008000\">'distilabel.step.load_data_from_hub_0'</span><span style=\"font-weight: bold\">]</span> 🏁 Finished running step  <a href=\"file:///home/dnth/Desktop/rag-datakit/.venv/lib/python3.12/site-packages/distilabel/pipeline/step_wrapper.py\" target=\"_blank\"><span style=\"color: #7f7f7f; text-decoration-color: #7f7f7f\">step_wrapper.py</span></a><span style=\"color: #7f7f7f; text-decoration-color: #7f7f7f\">:</span><a href=\"file:///home/dnth/Desktop/rag-datakit/.venv/lib/python3.12/site-packages/distilabel/pipeline/step_wrapper.py#129\" target=\"_blank\"><span style=\"color: #7f7f7f; text-decoration-color: #7f7f7f\">129</span></a>\n",
       "<span style=\"color: #7fbfbf; text-decoration-color: #7fbfbf\">                    </span>         <span style=\"color: #008000; text-decoration-color: #008000\">'load_data_from_hub_0'</span> <span style=\"font-weight: bold\">(</span>replica ID: <span style=\"color: #008080; text-decoration-color: #008080; font-weight: bold\">0</span><span style=\"font-weight: bold\">)</span>                             <span style=\"color: #7f7f7f; text-decoration-color: #7f7f7f\">                   </span>\n",
       "</pre>\n"
      ],
      "text/plain": [
       "\u001b[2;36m                   \u001b[0m\u001b[2;36m \u001b[0m\u001b[34mINFO    \u001b[0m \u001b[1m[\u001b[0m\u001b[32m'distilabel.step.load_data_from_hub_0'\u001b[0m\u001b[1m]\u001b[0m 🏁 Finished running step  \u001b]8;id=509504;file:///home/dnth/Desktop/rag-datakit/.venv/lib/python3.12/site-packages/distilabel/pipeline/step_wrapper.py\u001b\\\u001b[2mstep_wrapper.py\u001b[0m\u001b]8;;\u001b\\\u001b[2m:\u001b[0m\u001b]8;id=328758;file:///home/dnth/Desktop/rag-datakit/.venv/lib/python3.12/site-packages/distilabel/pipeline/step_wrapper.py#129\u001b\\\u001b[2m129\u001b[0m\u001b]8;;\u001b\\\n",
       "\u001b[2;36m                    \u001b[0m         \u001b[32m'load_data_from_hub_0'\u001b[0m \u001b[1m(\u001b[0mreplica ID: \u001b[1;36m0\u001b[0m\u001b[1m)\u001b[0m                             \u001b[2m                   \u001b[0m\n"
      ]
     },
     "metadata": {},
     "output_type": "display_data"
    },
    {
     "data": {
      "text/html": [
       "<pre style=\"white-space:pre;overflow-x:auto;line-height:normal;font-family:Menlo,'DejaVu Sans Mono',consolas,'Courier New',monospace\"><span style=\"color: #7fbfbf; text-decoration-color: #7fbfbf\">                    </span><span style=\"color: #000080; text-decoration-color: #000080\">INFO    </span> <span style=\"font-weight: bold\">[</span><span style=\"color: #008000; text-decoration-color: #008000\">'distilabel.step.easy_triplets'</span><span style=\"font-weight: bold\">]</span> 📦 Processing batch <span style=\"color: #008080; text-decoration-color: #008080; font-weight: bold\">0</span> in         <a href=\"file:///home/dnth/Desktop/rag-datakit/.venv/lib/python3.12/site-packages/distilabel/pipeline/step_wrapper.py\" target=\"_blank\"><span style=\"color: #7f7f7f; text-decoration-color: #7f7f7f\">step_wrapper.py</span></a><span style=\"color: #7f7f7f; text-decoration-color: #7f7f7f\">:</span><a href=\"file:///home/dnth/Desktop/rag-datakit/.venv/lib/python3.12/site-packages/distilabel/pipeline/step_wrapper.py#230\" target=\"_blank\"><span style=\"color: #7f7f7f; text-decoration-color: #7f7f7f\">230</span></a>\n",
       "<span style=\"color: #7fbfbf; text-decoration-color: #7fbfbf\">                    </span>         <span style=\"color: #008000; text-decoration-color: #008000\">'easy_triplets'</span> <span style=\"font-weight: bold\">(</span>replica ID: <span style=\"color: #008080; text-decoration-color: #008080; font-weight: bold\">0</span><span style=\"font-weight: bold\">)</span>                                    <span style=\"color: #7f7f7f; text-decoration-color: #7f7f7f\">                   </span>\n",
       "</pre>\n"
      ],
      "text/plain": [
       "\u001b[2;36m                   \u001b[0m\u001b[2;36m \u001b[0m\u001b[34mINFO    \u001b[0m \u001b[1m[\u001b[0m\u001b[32m'distilabel.step.easy_triplets'\u001b[0m\u001b[1m]\u001b[0m 📦 Processing batch \u001b[1;36m0\u001b[0m in         \u001b]8;id=325017;file:///home/dnth/Desktop/rag-datakit/.venv/lib/python3.12/site-packages/distilabel/pipeline/step_wrapper.py\u001b\\\u001b[2mstep_wrapper.py\u001b[0m\u001b]8;;\u001b\\\u001b[2m:\u001b[0m\u001b]8;id=57505;file:///home/dnth/Desktop/rag-datakit/.venv/lib/python3.12/site-packages/distilabel/pipeline/step_wrapper.py#230\u001b\\\u001b[2m230\u001b[0m\u001b]8;;\u001b\\\n",
       "\u001b[2;36m                    \u001b[0m         \u001b[32m'easy_triplets'\u001b[0m \u001b[1m(\u001b[0mreplica ID: \u001b[1;36m0\u001b[0m\u001b[1m)\u001b[0m                                    \u001b[2m                   \u001b[0m\n"
      ]
     },
     "metadata": {},
     "output_type": "display_data"
    },
    {
     "data": {
      "text/html": [
       "<pre style=\"white-space:pre;overflow-x:auto;line-height:normal;font-family:Menlo,'DejaVu Sans Mono',consolas,'Courier New',monospace\"><span style=\"color: #7fbfbf; text-decoration-color: #7fbfbf\">                    </span><span style=\"color: #000080; text-decoration-color: #000080\">INFO    </span> <span style=\"font-weight: bold\">[</span><span style=\"color: #008000; text-decoration-color: #008000\">'distilabel.step.hard_triplets'</span><span style=\"font-weight: bold\">]</span> 📦 Processing batch <span style=\"color: #008080; text-decoration-color: #008080; font-weight: bold\">0</span> in         <a href=\"file:///home/dnth/Desktop/rag-datakit/.venv/lib/python3.12/site-packages/distilabel/pipeline/step_wrapper.py\" target=\"_blank\"><span style=\"color: #7f7f7f; text-decoration-color: #7f7f7f\">step_wrapper.py</span></a><span style=\"color: #7f7f7f; text-decoration-color: #7f7f7f\">:</span><a href=\"file:///home/dnth/Desktop/rag-datakit/.venv/lib/python3.12/site-packages/distilabel/pipeline/step_wrapper.py#230\" target=\"_blank\"><span style=\"color: #7f7f7f; text-decoration-color: #7f7f7f\">230</span></a>\n",
       "<span style=\"color: #7fbfbf; text-decoration-color: #7fbfbf\">                    </span>         <span style=\"color: #008000; text-decoration-color: #008000\">'hard_triplets'</span> <span style=\"font-weight: bold\">(</span>replica ID: <span style=\"color: #008080; text-decoration-color: #008080; font-weight: bold\">0</span><span style=\"font-weight: bold\">)</span>                                    <span style=\"color: #7f7f7f; text-decoration-color: #7f7f7f\">                   </span>\n",
       "</pre>\n"
      ],
      "text/plain": [
       "\u001b[2;36m                   \u001b[0m\u001b[2;36m \u001b[0m\u001b[34mINFO    \u001b[0m \u001b[1m[\u001b[0m\u001b[32m'distilabel.step.hard_triplets'\u001b[0m\u001b[1m]\u001b[0m 📦 Processing batch \u001b[1;36m0\u001b[0m in         \u001b]8;id=443424;file:///home/dnth/Desktop/rag-datakit/.venv/lib/python3.12/site-packages/distilabel/pipeline/step_wrapper.py\u001b\\\u001b[2mstep_wrapper.py\u001b[0m\u001b]8;;\u001b\\\u001b[2m:\u001b[0m\u001b]8;id=570817;file:///home/dnth/Desktop/rag-datakit/.venv/lib/python3.12/site-packages/distilabel/pipeline/step_wrapper.py#230\u001b\\\u001b[2m230\u001b[0m\u001b]8;;\u001b\\\n",
       "\u001b[2;36m                    \u001b[0m         \u001b[32m'hard_triplets'\u001b[0m \u001b[1m(\u001b[0mreplica ID: \u001b[1;36m0\u001b[0m\u001b[1m)\u001b[0m                                    \u001b[2m                   \u001b[0m\n"
      ]
     },
     "metadata": {},
     "output_type": "display_data"
    },
    {
     "data": {
      "text/html": [
       "<pre style=\"white-space:pre;overflow-x:auto;line-height:normal;font-family:Menlo,'DejaVu Sans Mono',consolas,'Courier New',monospace\"><span style=\"color: #7fbfbf; text-decoration-color: #7fbfbf\">[08/12/25 12:18:14] </span><span style=\"color: #000080; text-decoration-color: #000080\">INFO    </span> <span style=\"font-weight: bold\">[</span><span style=\"color: #008000; text-decoration-color: #008000\">'distilabel.step.hard_triplets'</span><span style=\"font-weight: bold\">]</span> 📨 Step <span style=\"color: #008000; text-decoration-color: #008000\">'hard_triplets'</span> sending  <a href=\"file:///home/dnth/Desktop/rag-datakit/.venv/lib/python3.12/site-packages/distilabel/pipeline/step_wrapper.py\" target=\"_blank\"><span style=\"color: #7f7f7f; text-decoration-color: #7f7f7f\">step_wrapper.py</span></a><span style=\"color: #7f7f7f; text-decoration-color: #7f7f7f\">:</span><a href=\"file:///home/dnth/Desktop/rag-datakit/.venv/lib/python3.12/site-packages/distilabel/pipeline/step_wrapper.py#290\" target=\"_blank\"><span style=\"color: #7f7f7f; text-decoration-color: #7f7f7f\">290</span></a>\n",
       "<span style=\"color: #7fbfbf; text-decoration-color: #7fbfbf\">                    </span>         batch <span style=\"color: #008080; text-decoration-color: #008080; font-weight: bold\">0</span> to output queue                                            <span style=\"color: #7f7f7f; text-decoration-color: #7f7f7f\">                   </span>\n",
       "</pre>\n"
      ],
      "text/plain": [
       "\u001b[2;36m[08/12/25 12:18:14]\u001b[0m\u001b[2;36m \u001b[0m\u001b[34mINFO    \u001b[0m \u001b[1m[\u001b[0m\u001b[32m'distilabel.step.hard_triplets'\u001b[0m\u001b[1m]\u001b[0m 📨 Step \u001b[32m'hard_triplets'\u001b[0m sending  \u001b]8;id=455852;file:///home/dnth/Desktop/rag-datakit/.venv/lib/python3.12/site-packages/distilabel/pipeline/step_wrapper.py\u001b\\\u001b[2mstep_wrapper.py\u001b[0m\u001b]8;;\u001b\\\u001b[2m:\u001b[0m\u001b]8;id=96549;file:///home/dnth/Desktop/rag-datakit/.venv/lib/python3.12/site-packages/distilabel/pipeline/step_wrapper.py#290\u001b\\\u001b[2m290\u001b[0m\u001b]8;;\u001b\\\n",
       "\u001b[2;36m                    \u001b[0m         batch \u001b[1;36m0\u001b[0m to output queue                                            \u001b[2m                   \u001b[0m\n"
      ]
     },
     "metadata": {},
     "output_type": "display_data"
    },
    {
     "data": {
      "text/html": [
       "<pre style=\"white-space:pre;overflow-x:auto;line-height:normal;font-family:Menlo,'DejaVu Sans Mono',consolas,'Courier New',monospace\"><span style=\"color: #7fbfbf; text-decoration-color: #7fbfbf\">                    </span><span style=\"color: #000080; text-decoration-color: #000080\">INFO    </span> <span style=\"font-weight: bold\">[</span><span style=\"color: #008000; text-decoration-color: #008000\">'distilabel.step.hard_triplets'</span><span style=\"font-weight: bold\">]</span> 🏁 Finished running step         <a href=\"file:///home/dnth/Desktop/rag-datakit/.venv/lib/python3.12/site-packages/distilabel/pipeline/step_wrapper.py\" target=\"_blank\"><span style=\"color: #7f7f7f; text-decoration-color: #7f7f7f\">step_wrapper.py</span></a><span style=\"color: #7f7f7f; text-decoration-color: #7f7f7f\">:</span><a href=\"file:///home/dnth/Desktop/rag-datakit/.venv/lib/python3.12/site-packages/distilabel/pipeline/step_wrapper.py#129\" target=\"_blank\"><span style=\"color: #7f7f7f; text-decoration-color: #7f7f7f\">129</span></a>\n",
       "<span style=\"color: #7fbfbf; text-decoration-color: #7fbfbf\">                    </span>         <span style=\"color: #008000; text-decoration-color: #008000\">'hard_triplets'</span> <span style=\"font-weight: bold\">(</span>replica ID: <span style=\"color: #008080; text-decoration-color: #008080; font-weight: bold\">0</span><span style=\"font-weight: bold\">)</span>                                    <span style=\"color: #7f7f7f; text-decoration-color: #7f7f7f\">                   </span>\n",
       "</pre>\n"
      ],
      "text/plain": [
       "\u001b[2;36m                   \u001b[0m\u001b[2;36m \u001b[0m\u001b[34mINFO    \u001b[0m \u001b[1m[\u001b[0m\u001b[32m'distilabel.step.hard_triplets'\u001b[0m\u001b[1m]\u001b[0m 🏁 Finished running step         \u001b]8;id=787723;file:///home/dnth/Desktop/rag-datakit/.venv/lib/python3.12/site-packages/distilabel/pipeline/step_wrapper.py\u001b\\\u001b[2mstep_wrapper.py\u001b[0m\u001b]8;;\u001b\\\u001b[2m:\u001b[0m\u001b]8;id=604226;file:///home/dnth/Desktop/rag-datakit/.venv/lib/python3.12/site-packages/distilabel/pipeline/step_wrapper.py#129\u001b\\\u001b[2m129\u001b[0m\u001b]8;;\u001b\\\n",
       "\u001b[2;36m                    \u001b[0m         \u001b[32m'hard_triplets'\u001b[0m \u001b[1m(\u001b[0mreplica ID: \u001b[1;36m0\u001b[0m\u001b[1m)\u001b[0m                                    \u001b[2m                   \u001b[0m\n"
      ]
     },
     "metadata": {},
     "output_type": "display_data"
    },
    {
     "data": {
      "text/html": [
       "<pre style=\"white-space:pre;overflow-x:auto;line-height:normal;font-family:Menlo,'DejaVu Sans Mono',consolas,'Courier New',monospace\"><span style=\"color: #7fbfbf; text-decoration-color: #7fbfbf\">[08/12/25 12:18:17] </span><span style=\"color: #000080; text-decoration-color: #000080\">INFO    </span> <span style=\"font-weight: bold\">[</span><span style=\"color: #008000; text-decoration-color: #008000\">'distilabel.step.easy_triplets'</span><span style=\"font-weight: bold\">]</span> 📨 Step <span style=\"color: #008000; text-decoration-color: #008000\">'easy_triplets'</span> sending  <a href=\"file:///home/dnth/Desktop/rag-datakit/.venv/lib/python3.12/site-packages/distilabel/pipeline/step_wrapper.py\" target=\"_blank\"><span style=\"color: #7f7f7f; text-decoration-color: #7f7f7f\">step_wrapper.py</span></a><span style=\"color: #7f7f7f; text-decoration-color: #7f7f7f\">:</span><a href=\"file:///home/dnth/Desktop/rag-datakit/.venv/lib/python3.12/site-packages/distilabel/pipeline/step_wrapper.py#290\" target=\"_blank\"><span style=\"color: #7f7f7f; text-decoration-color: #7f7f7f\">290</span></a>\n",
       "<span style=\"color: #7fbfbf; text-decoration-color: #7fbfbf\">                    </span>         batch <span style=\"color: #008080; text-decoration-color: #008080; font-weight: bold\">0</span> to output queue                                            <span style=\"color: #7f7f7f; text-decoration-color: #7f7f7f\">                   </span>\n",
       "</pre>\n"
      ],
      "text/plain": [
       "\u001b[2;36m[08/12/25 12:18:17]\u001b[0m\u001b[2;36m \u001b[0m\u001b[34mINFO    \u001b[0m \u001b[1m[\u001b[0m\u001b[32m'distilabel.step.easy_triplets'\u001b[0m\u001b[1m]\u001b[0m 📨 Step \u001b[32m'easy_triplets'\u001b[0m sending  \u001b]8;id=287167;file:///home/dnth/Desktop/rag-datakit/.venv/lib/python3.12/site-packages/distilabel/pipeline/step_wrapper.py\u001b\\\u001b[2mstep_wrapper.py\u001b[0m\u001b]8;;\u001b\\\u001b[2m:\u001b[0m\u001b]8;id=382583;file:///home/dnth/Desktop/rag-datakit/.venv/lib/python3.12/site-packages/distilabel/pipeline/step_wrapper.py#290\u001b\\\u001b[2m290\u001b[0m\u001b]8;;\u001b\\\n",
       "\u001b[2;36m                    \u001b[0m         batch \u001b[1;36m0\u001b[0m to output queue                                            \u001b[2m                   \u001b[0m\n"
      ]
     },
     "metadata": {},
     "output_type": "display_data"
    },
    {
     "data": {
      "text/html": [
       "<pre style=\"white-space:pre;overflow-x:auto;line-height:normal;font-family:Menlo,'DejaVu Sans Mono',consolas,'Courier New',monospace\"><span style=\"color: #7fbfbf; text-decoration-color: #7fbfbf\">                    </span><span style=\"color: #000080; text-decoration-color: #000080\">INFO    </span> <span style=\"font-weight: bold\">[</span><span style=\"color: #008000; text-decoration-color: #008000\">'distilabel.step.easy_triplets'</span><span style=\"font-weight: bold\">]</span> 🏁 Finished running step         <a href=\"file:///home/dnth/Desktop/rag-datakit/.venv/lib/python3.12/site-packages/distilabel/pipeline/step_wrapper.py\" target=\"_blank\"><span style=\"color: #7f7f7f; text-decoration-color: #7f7f7f\">step_wrapper.py</span></a><span style=\"color: #7f7f7f; text-decoration-color: #7f7f7f\">:</span><a href=\"file:///home/dnth/Desktop/rag-datakit/.venv/lib/python3.12/site-packages/distilabel/pipeline/step_wrapper.py#129\" target=\"_blank\"><span style=\"color: #7f7f7f; text-decoration-color: #7f7f7f\">129</span></a>\n",
       "<span style=\"color: #7fbfbf; text-decoration-color: #7fbfbf\">                    </span>         <span style=\"color: #008000; text-decoration-color: #008000\">'easy_triplets'</span> <span style=\"font-weight: bold\">(</span>replica ID: <span style=\"color: #008080; text-decoration-color: #008080; font-weight: bold\">0</span><span style=\"font-weight: bold\">)</span>                                    <span style=\"color: #7f7f7f; text-decoration-color: #7f7f7f\">                   </span>\n",
       "</pre>\n"
      ],
      "text/plain": [
       "\u001b[2;36m                   \u001b[0m\u001b[2;36m \u001b[0m\u001b[34mINFO    \u001b[0m \u001b[1m[\u001b[0m\u001b[32m'distilabel.step.easy_triplets'\u001b[0m\u001b[1m]\u001b[0m 🏁 Finished running step         \u001b]8;id=35677;file:///home/dnth/Desktop/rag-datakit/.venv/lib/python3.12/site-packages/distilabel/pipeline/step_wrapper.py\u001b\\\u001b[2mstep_wrapper.py\u001b[0m\u001b]8;;\u001b\\\u001b[2m:\u001b[0m\u001b]8;id=832947;file:///home/dnth/Desktop/rag-datakit/.venv/lib/python3.12/site-packages/distilabel/pipeline/step_wrapper.py#129\u001b\\\u001b[2m129\u001b[0m\u001b]8;;\u001b\\\n",
       "\u001b[2;36m                    \u001b[0m         \u001b[32m'easy_triplets'\u001b[0m \u001b[1m(\u001b[0mreplica ID: \u001b[1;36m0\u001b[0m\u001b[1m)\u001b[0m                                    \u001b[2m                   \u001b[0m\n"
      ]
     },
     "metadata": {},
     "output_type": "display_data"
    },
    {
     "data": {
      "application/vnd.jupyter.widget-view+json": {
       "model_id": "eed44b62117f4177bb0549b7f5b2bdb5",
       "version_major": 2,
       "version_minor": 0
      },
      "text/plain": [
       "Generating train split: 0 examples [00:00, ? examples/s]"
      ]
     },
     "metadata": {},
     "output_type": "display_data"
    },
    {
     "data": {
      "application/vnd.jupyter.widget-view+json": {
       "model_id": "16ab12315ef9402381eb6a497ae7866c",
       "version_major": 2,
       "version_minor": 0
      },
      "text/plain": [
       "Generating train split: 0 examples [00:00, ? examples/s]"
      ]
     },
     "metadata": {},
     "output_type": "display_data"
    }
   ],
   "source": [
    "distiset = pipeline.run(\n",
    "    use_cache=False,\n",
    "    parameters={\n",
    "        load_dataset.name: {\n",
    "            \"repo_id\": \"dnth/ssf-dataset\",\n",
    "            \"split\": \"train\",\n",
    "        },\n",
    "        \"easy_triplets\": {\n",
    "            \"llm\": {\"generation_kwargs\": {\"temperature\": 0.6, \"max_new_tokens\": 256}}\n",
    "        },\n",
    "    }\n",
    ")"
   ]
  },
  {
   "cell_type": "markdown",
   "id": "oxik9sir57r",
   "metadata": {},
   "source": [
    "## Running the Pipeline\n",
    "\n",
    "Execute the pipeline with specific parameters:\n",
    "- **num_examples**: Limit to 10 examples for demonstration (increase for production)\n",
    "- **temperature**: Controls randomness in LLM generation (0.7 for creative but consistent outputs)\n",
    "- **max_new_tokens**: Maximum length of generated text\n",
    "\n",
    "The pipeline will process each job description and generate corresponding positive and negative examples."
   ]
  },
  {
   "cell_type": "code",
   "execution_count": 8,
   "id": "0009e36f",
   "metadata": {},
   "outputs": [
    {
     "data": {
      "text/plain": [
       "Distiset({\n",
       "    easy_triplets: DatasetDict({\n",
       "        train: Dataset({\n",
       "            features: ['Sector', 'Track', 'Job Role', 'anchor', 'Performance Expectation', 'positive', 'negative', 'distilabel_metadata', 'model_name'],\n",
       "            num_rows: 10\n",
       "        })\n",
       "    })\n",
       "    hard_triplets: DatasetDict({\n",
       "        train: Dataset({\n",
       "            features: ['Sector', 'Track', 'Job Role', 'anchor', 'Performance Expectation', 'positive', 'negative', 'distilabel_metadata', 'model_name'],\n",
       "            num_rows: 10\n",
       "        })\n",
       "    })\n",
       "})"
      ]
     },
     "execution_count": 8,
     "metadata": {},
     "output_type": "execute_result"
    }
   ],
   "source": [
    "distiset"
   ]
  },
  {
   "cell_type": "markdown",
   "id": "ahl5lkcx65j",
   "metadata": {},
   "source": [
    "## Results Inspection\n",
    "\n",
    "The pipeline generates a `Distiset` object containing our synthetic dataset. Let's examine the structure and content of the generated data:\n",
    "\n",
    "### Dataset Structure\n",
    "The output includes the original fields plus new generated columns:\n",
    "- **anchor**: Original job role description\n",
    "- **positive**: LLM-generated paraphrase (semantically similar)\n",
    "- **negative**: LLM-generated different job description (semantically dissimilar)\n",
    "- **distilabel_metadata**: Generation metadata and token usage\n",
    "- **model_name**: LLM model used for generation"
   ]
  },
  {
   "cell_type": "code",
   "execution_count": 9,
   "id": "44ca55e0",
   "metadata": {},
   "outputs": [
    {
     "data": {
      "text/plain": [
       "{'Sector': 'Accountancy',\n",
       " 'Track': 'Assurance',\n",
       " 'Job Role': 'Audit Associate / Audit Assistant Associate',\n",
       " 'anchor': 'The Audit Associate/Audit Assistant Associate undertakes specific stages of audit work under supervision. He/She begins to appreciate the underlying principles behind the tasks assigned to him as part of the audit plan. He is also able to make adjustments to the application of skills to improve the work tasks or solve non-complex issues. The Audit Associate/Audit Assistant Associate operates in a structured work environment. He is able to build relationships, work in a team and identify ethical issues with reference to the code of professional conduct and ethics. He is able to select and apply from a range of known solutions to familiar problems and takes responsibility for his own learning and performance. He is a trustworthy and meticulous individual.',\n",
       " 'Performance Expectation': 'In accordance with: Singapore Standards on Auditing, Ethics Pronouncements in Singapore, Singapore Companies Act, and Singapore Financial Reporting Standards',\n",
       " 'positive': 'The Audit Associate undertakes defined phases of audit procedures under the guidance of senior auditors. They begin to understand the core principles driving each audit activity and gradually develop the ability to adapt their approach to enhance efficiency and accuracy in routine tasks. Working within a well-structured and regulated environment, the associate contributes to team-based audits, fosters collaboration, and identifies potential ethical concerns aligned with professional standards. They apply established methodologies to common audit challenges, demonstrate initiative in improving processes, and take ownership of their development through continuous self-assessment and feedback. This role requires attention to detail, integrity, and a commitment to upholding high ethical practices.',\n",
       " 'negative': 'The Food Service Manager oversees daily operations in a restaurant chain, ensuring compliance with health regulations, managing staff schedules, and maintaining inventory levels. They lead team meetings, coordinate supply orders, and ensure customer satisfaction, all while adhering to local food safety guidelines. The manager implements standard operating procedures to maintain consistency across locations and supports staff training programs to improve service quality. A strong sense of accountability and organizational discipline is required to manage multiple responsibilities effectively in a fast-paced environment.',\n",
       " 'distilabel_metadata': {'raw_input_easy_triplets': [{'content': 'Your task is to generate a positive and a negative sentence given an anchor sentence. Take into account the context given. The positive sentence has to paraphrase the anchor sentence, while the negative sentence can use similar words but must not be related to the anchor sentence. You must output only two new sections: `## Positive` and `## Negative`.',\n",
       "    'role': 'system'},\n",
       "   {'content': '## Context\\n\\n\\nThe text is a job description from the Singapore SkillsFuture Framework. Your task is to generate realistic job descriptions from the provided description.\\n\\nFor the positive query, generate a realistic description for this role. Focus on creating variations that capture the essence of the role in different words, as if written by different people or organizations posting similar jobs.\\n\\nFor negative descriptions you are allowed to choose from the following strategies\\n\\n1. Same industry, different seniority level (Senior → Junior or Vice versa)\\n2. Same industry, different function (Business Valuation → Risk Management)\\n3. Similar skills, different domain (Financial Analysis in Banking vs Healthcare)\\n4. Same title, different industry context\\n\\nThe query should always include the job role. Start the description with The <job role>.\\n\\n\\n\\n## Anchor\\n\\nThe Audit Associate/Audit Assistant Associate undertakes specific stages of audit work under supervision. He/She begins to appreciate the underlying principles behind the tasks assigned to him as part of the audit plan. He is also able to make adjustments to the application of skills to improve the work tasks or solve non-complex issues. The Audit Associate/Audit Assistant Associate operates in a structured work environment. He is able to build relationships, work in a team and identify ethical issues with reference to the code of professional conduct and ethics. He is able to select and apply from a range of known solutions to familiar problems and takes responsibility for his own learning and performance. He is a trustworthy and meticulous individual.\\n',\n",
       "    'role': 'user'}],\n",
       "  'raw_output_easy_triplets': '## Positive  \\nThe Audit Associate undertakes defined phases of audit procedures under the guidance of senior auditors. They begin to understand the core principles driving each audit activity and gradually develop the ability to adapt their approach to enhance efficiency and accuracy in routine tasks. Working within a well-structured and regulated environment, the associate contributes to team-based audits, fosters collaboration, and identifies potential ethical concerns aligned with professional standards. They apply established methodologies to common audit challenges, demonstrate initiative in improving processes, and take ownership of their development through continuous self-assessment and feedback. This role requires attention to detail, integrity, and a commitment to upholding high ethical practices.\\n\\n## Negative  \\nThe Food Service Manager oversees daily operations in a restaurant chain, ensuring compliance with health regulations, managing staff schedules, and maintaining inventory levels. They lead team meetings, coordinate supply orders, and ensure customer satisfaction, all while adhering to local food safety guidelines. The manager implements standard operating procedures to maintain consistency across locations and supports staff training programs to improve service quality. A strong sense of accountability and organizational discipline is required to manage multiple responsibilities effectively in a fast-paced environment.',\n",
       "  'statistics_easy_triplets': {'input_tokens': 366, 'output_tokens': 226}},\n",
       " 'model_name': 'Qwen/Qwen3-4B-Instruct-2507'}"
      ]
     },
     "execution_count": 9,
     "metadata": {},
     "output_type": "execute_result"
    }
   ],
   "source": [
    "distiset[\"easy_triplets\"][\"train\"][0]"
   ]
  },
  {
   "cell_type": "code",
   "execution_count": 10,
   "id": "22bdf9f9",
   "metadata": {},
   "outputs": [
    {
     "data": {
      "application/vnd.microsoft.datawrangler.viewer.v0+json": {
       "columns": [
        {
         "name": "index",
         "rawType": "int64",
         "type": "integer"
        },
        {
         "name": "Sector",
         "rawType": "object",
         "type": "string"
        },
        {
         "name": "Track",
         "rawType": "object",
         "type": "string"
        },
        {
         "name": "Job Role",
         "rawType": "object",
         "type": "string"
        },
        {
         "name": "anchor",
         "rawType": "object",
         "type": "string"
        },
        {
         "name": "Performance Expectation",
         "rawType": "object",
         "type": "unknown"
        },
        {
         "name": "positive",
         "rawType": "object",
         "type": "string"
        },
        {
         "name": "negative",
         "rawType": "object",
         "type": "string"
        },
        {
         "name": "distilabel_metadata",
         "rawType": "object",
         "type": "unknown"
        },
        {
         "name": "model_name",
         "rawType": "object",
         "type": "string"
        }
       ],
       "ref": "ee30651e-248b-468d-bd00-848a1fda3368",
       "rows": [
        [
         "0",
         "Accountancy",
         "Assurance",
         "Audit Associate / Audit Assistant Associate",
         "The Audit Associate/Audit Assistant Associate undertakes specific stages of audit work under supervision. He/She begins to appreciate the underlying principles behind the tasks assigned to him as part of the audit plan. He is also able to make adjustments to the application of skills to improve the work tasks or solve non-complex issues. The Audit Associate/Audit Assistant Associate operates in a structured work environment. He is able to build relationships, work in a team and identify ethical issues with reference to the code of professional conduct and ethics. He is able to select and apply from a range of known solutions to familiar problems and takes responsibility for his own learning and performance. He is a trustworthy and meticulous individual.",
         "In accordance with: Singapore Standards on Auditing, Ethics Pronouncements in Singapore, Singapore Companies Act, and Singapore Financial Reporting Standards",
         "The Audit Associate undertakes defined phases of audit procedures under the guidance of senior auditors. They begin to understand the core principles driving each audit activity and gradually develop the ability to adapt their approach to enhance efficiency and accuracy in routine tasks. Working within a well-structured and regulated environment, the associate contributes to team-based audits, fosters collaboration, and identifies potential ethical concerns aligned with professional standards. They apply established methodologies to common audit challenges, demonstrate initiative in improving processes, and take ownership of their development through continuous self-assessment and feedback. This role requires attention to detail, integrity, and a commitment to upholding high ethical practices.",
         "The Food Service Manager oversees daily operations in a restaurant chain, ensuring compliance with health regulations, managing staff schedules, and maintaining inventory levels. They lead team meetings, coordinate supply orders, and ensure customer satisfaction, all while adhering to local food safety guidelines. The manager implements standard operating procedures to maintain consistency across locations and supports staff training programs to improve service quality. A strong sense of accountability and organizational discipline is required to manage multiple responsibilities effectively in a fast-paced environment.",
         "{'raw_input_easy_triplets': array([{'content': 'Your task is to generate a positive and a negative sentence given an anchor sentence. Take into account the context given. The positive sentence has to paraphrase the anchor sentence, while the negative sentence can use similar words but must not be related to the anchor sentence. You must output only two new sections: `## Positive` and `## Negative`.', 'role': 'system'},\n       {'content': '## Context\\n\\n\\nThe text is a job description from the Singapore SkillsFuture Framework. Your task is to generate realistic job descriptions from the provided description.\\n\\nFor the positive query, generate a realistic description for this role. Focus on creating variations that capture the essence of the role in different words, as if written by different people or organizations posting similar jobs.\\n\\nFor negative descriptions you are allowed to choose from the following strategies\\n\\n1. Same industry, different seniority level (Senior → Junior or Vice versa)\\n2. Same industry, different function (Business Valuation → Risk Management)\\n3. Similar skills, different domain (Financial Analysis in Banking vs Healthcare)\\n4. Same title, different industry context\\n\\nThe query should always include the job role. Start the description with The <job role>.\\n\\n\\n\\n## Anchor\\n\\nThe Audit Associate/Audit Assistant Associate undertakes specific stages of audit work under supervision. He/She begins to appreciate the underlying principles behind the tasks assigned to him as part of the audit plan. He is also able to make adjustments to the application of skills to improve the work tasks or solve non-complex issues. The Audit Associate/Audit Assistant Associate operates in a structured work environment. He is able to build relationships, work in a team and identify ethical issues with reference to the code of professional conduct and ethics. He is able to select and apply from a range of known solutions to familiar problems and takes responsibility for his own learning and performance. He is a trustworthy and meticulous individual.\\n', 'role': 'user'}],\n      dtype=object), 'raw_output_easy_triplets': '## Positive  \\nThe Audit Associate undertakes defined phases of audit procedures under the guidance of senior auditors. They begin to understand the core principles driving each audit activity and gradually develop the ability to adapt their approach to enhance efficiency and accuracy in routine tasks. Working within a well-structured and regulated environment, the associate contributes to team-based audits, fosters collaboration, and identifies potential ethical concerns aligned with professional standards. They apply established methodologies to common audit challenges, demonstrate initiative in improving processes, and take ownership of their development through continuous self-assessment and feedback. This role requires attention to detail, integrity, and a commitment to upholding high ethical practices.\\n\\n## Negative  \\nThe Food Service Manager oversees daily operations in a restaurant chain, ensuring compliance with health regulations, managing staff schedules, and maintaining inventory levels. They lead team meetings, coordinate supply orders, and ensure customer satisfaction, all while adhering to local food safety guidelines. The manager implements standard operating procedures to maintain consistency across locations and supports staff training programs to improve service quality. A strong sense of accountability and organizational discipline is required to manage multiple responsibilities effectively in a fast-paced environment.', 'statistics_easy_triplets': {'input_tokens': 366, 'output_tokens': 226}}",
         "Qwen/Qwen3-4B-Instruct-2507"
        ],
        [
         "1",
         "Accountancy",
         "Assurance",
         "Audit Manager",
         "The Audit Senior Manager/Audit Manager manages a portfolio of engagements to deliver high quality audit services. He/she also provides leadership on audit engagements which includes client acceptance process, engagement planning, execution and finalisation of an audit engagement. He is fully accountable for the audit engagement and ensures that the engagement progress against budget and timeline is closely monitored. He also serves to develop and maintain long-term client relationships and value-add to the audit firm by identifying new business development opportunities. The Audit Senior Manager/Audit Manager reviews and provides key technical expertise to ensure the quality of audit work performed is in compliance with professional standards and requirements. He contributes towards continuous improvement in audit methodology and process. He will also assume a greater role in professional development activities such as training, staff recruitment and resource planning.",
         "In accordance with: Singapore Standards on Auditing, Ethics Pronouncements in Singapore, Singapore Companies Act, and Singapore Financial Reporting Standards",
         "The Audit Senior Manager oversees a diverse range of audit assignments, ensuring consistent delivery of high-quality audit outcomes. This role involves leading end-to-end audit processes—from initial client onboarding and detailed planning through to execution and final reporting—while maintaining strict adherence to timelines and budgets. The individual is directly responsible for the success of each engagement, providing strategic oversight and ensuring all work meets rigorous professional standards. They actively engage with clients to build trust and foster long-term partnerships, identifying opportunities for growth and expansion within the client base. Additionally, they play a pivotal role in upholding audit quality by reviewing work products, mentoring team members, and contributing to ongoing enhancements in audit methodologies and internal controls. The position also supports talent development through staff training, succession planning, and recruitment initiatives.",
         "The Junior Auditor performs basic data collection and documentation tasks under supervision, supporting audit teams with routine fieldwork and report preparation. Responsibilities include gathering financial records, verifying transactions, and assisting in the compilation of preliminary findings. While they follow established procedures, they do not lead client engagements or participate in engagement planning or decision-making. Their role focuses on executing assigned tasks efficiently without accountability for overall project outcomes or budget management. There is no involvement in client relationship building or business development efforts. Technical review or",
         "{'raw_input_easy_triplets': array([{'content': 'Your task is to generate a positive and a negative sentence given an anchor sentence. Take into account the context given. The positive sentence has to paraphrase the anchor sentence, while the negative sentence can use similar words but must not be related to the anchor sentence. You must output only two new sections: `## Positive` and `## Negative`.', 'role': 'system'},\n       {'content': '## Context\\n\\n\\nThe text is a job description from the Singapore SkillsFuture Framework. Your task is to generate realistic job descriptions from the provided description.\\n\\nFor the positive query, generate a realistic description for this role. Focus on creating variations that capture the essence of the role in different words, as if written by different people or organizations posting similar jobs.\\n\\nFor negative descriptions you are allowed to choose from the following strategies\\n\\n1. Same industry, different seniority level (Senior → Junior or Vice versa)\\n2. Same industry, different function (Business Valuation → Risk Management)\\n3. Similar skills, different domain (Financial Analysis in Banking vs Healthcare)\\n4. Same title, different industry context\\n\\nThe query should always include the job role. Start the description with The <job role>.\\n\\n\\n\\n## Anchor\\n\\nThe Audit Senior Manager/Audit Manager manages a portfolio of engagements to deliver high quality audit services. He/she also provides leadership on audit engagements which includes client acceptance process, engagement planning, execution and finalisation of an audit engagement. He is fully accountable for the audit engagement and ensures that the engagement progress against budget and timeline is closely monitored. He also serves to develop and maintain long-term client relationships and value-add to the audit firm by identifying new business development opportunities. The Audit Senior Manager/Audit Manager reviews and provides key technical expertise to ensure the quality of audit work performed is in compliance with professional standards and requirements. He contributes towards continuous improvement in audit methodology and process. He will also assume a greater role in professional development activities such as training, staff recruitment and resource planning.\\n', 'role': 'user'}],\n      dtype=object), 'raw_output_easy_triplets': '## Positive  \\nThe Audit Senior Manager oversees a diverse range of audit assignments, ensuring consistent delivery of high-quality audit outcomes. This role involves leading end-to-end audit processes—from initial client onboarding and detailed planning through to execution and final reporting—while maintaining strict adherence to timelines and budgets. The individual is directly responsible for the success of each engagement, providing strategic oversight and ensuring all work meets rigorous professional standards. They actively engage with clients to build trust and foster long-term partnerships, identifying opportunities for growth and expansion within the client base. Additionally, they play a pivotal role in upholding audit quality by reviewing work products, mentoring team members, and contributing to ongoing enhancements in audit methodologies and internal controls. The position also supports talent development through staff training, succession planning, and recruitment initiatives.\\n\\n## Negative  \\nThe Junior Auditor performs basic data collection and documentation tasks under supervision, supporting audit teams with routine fieldwork and report preparation. Responsibilities include gathering financial records, verifying transactions, and assisting in the compilation of preliminary findings. While they follow established procedures, they do not lead client engagements or participate in engagement planning or decision-making. Their role focuses on executing assigned tasks efficiently without accountability for overall project outcomes or budget management. There is no involvement in client relationship building or business development efforts. Technical review or', 'statistics_easy_triplets': {'input_tokens': 383, 'output_tokens': 256}}",
         "Qwen/Qwen3-4B-Instruct-2507"
        ],
        [
         "2",
         "Accountancy",
         "Assurance",
         "Audit Partner / Audit Director",
         "The Audit Partner/Audit Director is a transformational leader who steers the organisation to achieve its business goals and objectives by formulating technical and strategic directions to drive change. He/She provides strategic vision and leadership to the organisation in order to develop and strengthen organisational capabilities and culture. The Audit Partner/Audit Director is expected to promote new ideas and business solutions that result in extended services to existing clients. He constantly seeks to expand client base and support business development activities. He also establishes consistent and rigorous quality and risk management processes and procedures. The Audit Partner/Audit Director uses a multitude of controls and procedures consisting professional, regulatory, business, economic, social and environmental conditions to manage risk exposure.",
         "In accordance with: Singapore Standards on Auditing, Ethics Pronouncements in Singapore, Singapore Companies Act, and Singapore Financial Reporting Standards",
         "The Audit Partner/Audit Director is a visionary leader who drives organizational success by shaping both technical and strategic initiatives that foster sustainable growth. This role involves setting a clear direction for audit operations, building strong internal capabilities, and cultivating a culture of excellence and accountability. The individual is expected to pioneer innovative approaches and value-added solutions that enhance client experiences and open new service opportunities. They actively contribute to expanding the client portfolio and supporting broader business development efforts. A key responsibility includes establishing robust frameworks for quality assurance and risk governance, integrating insights from financial, regulatory, operational, social, and environmental dimensions to proactively mitigate risks across all business functions.",
         "The Junior Auditor is responsible for assisting in the preparation of financial statements and conducting basic compliance checks under supervision. This role involves collecting data, verifying records, and ensuring adherence to standard accounting practices. While the junior auditor supports day-to-day audit tasks, they do not formulate long-term strategy, lead teams, or define organizational culture. Their work focuses primarily on transaction-level validation and does not involve client expansion or innovation in service delivery. Quality control and risk assessments are performed according to predefined guidelines, with minimal input from higher-level decision-making processes.",
         "{'raw_input_easy_triplets': array([{'content': 'Your task is to generate a positive and a negative sentence given an anchor sentence. Take into account the context given. The positive sentence has to paraphrase the anchor sentence, while the negative sentence can use similar words but must not be related to the anchor sentence. You must output only two new sections: `## Positive` and `## Negative`.', 'role': 'system'},\n       {'content': '## Context\\n\\n\\nThe text is a job description from the Singapore SkillsFuture Framework. Your task is to generate realistic job descriptions from the provided description.\\n\\nFor the positive query, generate a realistic description for this role. Focus on creating variations that capture the essence of the role in different words, as if written by different people or organizations posting similar jobs.\\n\\nFor negative descriptions you are allowed to choose from the following strategies\\n\\n1. Same industry, different seniority level (Senior → Junior or Vice versa)\\n2. Same industry, different function (Business Valuation → Risk Management)\\n3. Similar skills, different domain (Financial Analysis in Banking vs Healthcare)\\n4. Same title, different industry context\\n\\nThe query should always include the job role. Start the description with The <job role>.\\n\\n\\n\\n## Anchor\\n\\nThe Audit Partner/Audit Director is a transformational leader who steers the organisation to achieve its business goals and objectives by formulating technical and strategic directions to drive change. He/She provides strategic vision and leadership to the organisation in order to develop and strengthen organisational capabilities and culture. The Audit Partner/Audit Director is expected to promote new ideas and business solutions that result in extended services to existing clients. He constantly seeks to expand client base and support business development activities. He also establishes consistent and rigorous quality and risk management processes and procedures. The Audit Partner/Audit Director uses a multitude of controls and procedures consisting professional, regulatory, business, economic, social and environmental conditions to manage risk exposure.\\n', 'role': 'user'}],\n      dtype=object), 'raw_output_easy_triplets': '## Positive  \\nThe Audit Partner/Audit Director is a visionary leader who drives organizational success by shaping both technical and strategic initiatives that foster sustainable growth. This role involves setting a clear direction for audit operations, building strong internal capabilities, and cultivating a culture of excellence and accountability. The individual is expected to pioneer innovative approaches and value-added solutions that enhance client experiences and open new service opportunities. They actively contribute to expanding the client portfolio and supporting broader business development efforts. A key responsibility includes establishing robust frameworks for quality assurance and risk governance, integrating insights from financial, regulatory, operational, social, and environmental dimensions to proactively mitigate risks across all business functions.\\n\\n## Negative  \\nThe Junior Auditor is responsible for assisting in the preparation of financial statements and conducting basic compliance checks under supervision. This role involves collecting data, verifying records, and ensuring adherence to standard accounting practices. While the junior auditor supports day-to-day audit tasks, they do not formulate long-term strategy, lead teams, or define organizational culture. Their work focuses primarily on transaction-level validation and does not involve client expansion or innovation in service delivery. Quality control and risk assessments are performed according to predefined guidelines, with minimal input from higher-level decision-making processes.', 'statistics_easy_triplets': {'input_tokens': 368, 'output_tokens': 239}}",
         "Qwen/Qwen3-4B-Instruct-2507"
        ],
        [
         "3",
         "Accountancy",
         "Assurance",
         "Audit Senior",
         "The Audit Senior is expected to team lead various sizes of audit engagements which include planning, performing, reviewing of audit work performed by less experienced personnel and concluding the engagement. He/She works closely with team members to execute the audit plan and ensures the timely completion of the audit engagement. He also works closely with clients and manages their expectations to further nurture on-going client relationships. He is able to identify unethical behaviour and react based on the applicable ethical principles. The Audit Senior operates in work contexts that are less standardised and unanticipated changes can be frequent due to changes in the external environment. He is a trustworthy and meticulous individual.",
         "In accordance with: Singapore Standards on Auditing, Ethics Pronouncements in Singapore, Singapore Companies Act, and Singapore Financial Reporting Standards",
         "The Audit Senior is responsible for leading mid-to-large-scale audit assignments from inception to closure, overseeing key phases such as planning, fieldwork execution, review of junior staff deliverables, and final reporting. They collaborate directly with team members to ensure audits are completed efficiently and in alignment with quality standards. The role involves proactive communication with clients to manage expectations, build trust, and strengthen long-term business relationships. A strong sense of professional integrity is required—this includes identifying potential ethical lapses and responding appropriately within established governance frameworks. Working environments are dynamic and often unpredictable, driven by evolving regulatory requirements or market shifts, requiring adaptability, judgment, and resilience. Success in this position relies heavily on attention to detail, sound decision-making, and a commitment to transparency and accountability.",
         "The Audit Junior supports audit teams by assisting with data collection, documentation, and preliminary reviews under supervision. Responsibilities include preparing audit working papers, verifying transactions, and participating in walkthroughs conducted by senior auditors. While they may attend meetings and gain exposure to client interactions, they do not lead engagements or make independent judgments about audit findings or ethical concerns. Their role is primarily focused on executing routine tasks and ensuring compliance with internal procedures rather than managing client expectations or driving strategic decisions. The work environment",
         "{'raw_input_easy_triplets': array([{'content': 'Your task is to generate a positive and a negative sentence given an anchor sentence. Take into account the context given. The positive sentence has to paraphrase the anchor sentence, while the negative sentence can use similar words but must not be related to the anchor sentence. You must output only two new sections: `## Positive` and `## Negative`.', 'role': 'system'},\n       {'content': '## Context\\n\\n\\nThe text is a job description from the Singapore SkillsFuture Framework. Your task is to generate realistic job descriptions from the provided description.\\n\\nFor the positive query, generate a realistic description for this role. Focus on creating variations that capture the essence of the role in different words, as if written by different people or organizations posting similar jobs.\\n\\nFor negative descriptions you are allowed to choose from the following strategies\\n\\n1. Same industry, different seniority level (Senior → Junior or Vice versa)\\n2. Same industry, different function (Business Valuation → Risk Management)\\n3. Similar skills, different domain (Financial Analysis in Banking vs Healthcare)\\n4. Same title, different industry context\\n\\nThe query should always include the job role. Start the description with The <job role>.\\n\\n\\n\\n## Anchor\\n\\nThe Audit Senior is expected to team lead various sizes of audit engagements which include planning, performing, reviewing of audit work performed by less experienced personnel and concluding the engagement. He/She works closely with team members to execute the audit plan and ensures the timely completion of the audit engagement. He also works closely with clients and manages their expectations to further nurture on-going client relationships. He is able to identify unethical behaviour and react based on the applicable ethical principles. The Audit Senior operates in work contexts that are less standardised and unanticipated changes can be frequent due to changes in the external environment. He is a trustworthy and meticulous individual.\\n', 'role': 'user'}],\n      dtype=object), 'raw_output_easy_triplets': '## Positive  \\nThe Audit Senior is responsible for leading mid-to-large-scale audit assignments from inception to closure, overseeing key phases such as planning, fieldwork execution, review of junior staff deliverables, and final reporting. They collaborate directly with team members to ensure audits are completed efficiently and in alignment with quality standards. The role involves proactive communication with clients to manage expectations, build trust, and strengthen long-term business relationships. A strong sense of professional integrity is required—this includes identifying potential ethical lapses and responding appropriately within established governance frameworks. Working environments are dynamic and often unpredictable, driven by evolving regulatory requirements or market shifts, requiring adaptability, judgment, and resilience. Success in this position relies heavily on attention to detail, sound decision-making, and a commitment to transparency and accountability.\\n\\n## Negative  \\nThe Audit Junior supports audit teams by assisting with data collection, documentation, and preliminary reviews under supervision. Responsibilities include preparing audit working papers, verifying transactions, and participating in walkthroughs conducted by senior auditors. While they may attend meetings and gain exposure to client interactions, they do not lead engagements or make independent judgments about audit findings or ethical concerns. Their role is primarily focused on executing routine tasks and ensuring compliance with internal procedures rather than managing client expectations or driving strategic decisions. The work environment', 'statistics_easy_triplets': {'input_tokens': 354, 'output_tokens': 256}}",
         "Qwen/Qwen3-4B-Instruct-2507"
        ],
        [
         "4",
         "Accountancy",
         "Business Valuation",
         "Business Valuation Associate / Business Valuation Executive",
         "The Business Valuation Associate/Business Valuation Executive has significant responsibility for execution of deliverables. He/She needs to work hands-on on the valuation analysis. He is expected to adhere to standards of ethics and maintain quality assurance in processes. The Business Valuation Associate/Business Valuation Executive participates in business development and stakeholder interaction. He has minimal experience and is expected to embark on a steep learning curve to acquire various skills and expertise in business valuation including valuation of intangible assets. He possesses strong time management and communication skills.",
         "In accordance with the International Valuation Standards Council's Code of Ethical Principles for Professional Valuers",
         "The Business Valuation Associate performs hands-on valuation assignments under supervision, conducting detailed financial and market-based analyses to determine enterprise value. They ensure compliance with professional valuations standards and uphold integrity in all reporting and process documentation. This role includes active engagement with clients and internal stakeholders to gather requirements, present findings, and support strategic decision-making. While entry-level, the associate is expected to quickly develop proficiency in assessing tangible and intangible assets such as brand value, customer relationships, and intellectual property. Strong organizational abilities, clear communication, and adaptability are essential to thrive in a fast-paced, evolving environment.",
         "The Junior IT Support Specialist provides basic technical assistance to end-users within a corporate network, handling routine software issues, device troubleshooting, and helpdesk tickets. They follow standard operating procedures to resolve common technical problems and maintain system logs, ensuring smooth daily operations. The role requires reliable problem-solving skills, attention to detail, and the ability to communicate clearly with non-technical staff. While the position offers exposure to technology infrastructure, it does not involve complex system evaluations or data-driven assessments, and there is no requirement to engage in business strategy or valuation activities.",
         "{'raw_input_easy_triplets': array([{'content': 'Your task is to generate a positive and a negative sentence given an anchor sentence. Take into account the context given. The positive sentence has to paraphrase the anchor sentence, while the negative sentence can use similar words but must not be related to the anchor sentence. You must output only two new sections: `## Positive` and `## Negative`.', 'role': 'system'},\n       {'content': '## Context\\n\\n\\nThe text is a job description from the Singapore SkillsFuture Framework. Your task is to generate realistic job descriptions from the provided description.\\n\\nFor the positive query, generate a realistic description for this role. Focus on creating variations that capture the essence of the role in different words, as if written by different people or organizations posting similar jobs.\\n\\nFor negative descriptions you are allowed to choose from the following strategies\\n\\n1. Same industry, different seniority level (Senior → Junior or Vice versa)\\n2. Same industry, different function (Business Valuation → Risk Management)\\n3. Similar skills, different domain (Financial Analysis in Banking vs Healthcare)\\n4. Same title, different industry context\\n\\nThe query should always include the job role. Start the description with The <job role>.\\n\\n\\n\\n## Anchor\\n\\nThe Business Valuation Associate/Business Valuation Executive has significant responsibility for execution of deliverables. He/She needs to work hands-on on the valuation analysis. He is expected to adhere to standards of ethics and maintain quality assurance in processes. The Business Valuation Associate/Business Valuation Executive participates in business development and stakeholder interaction. He has minimal experience and is expected to embark on a steep learning curve to acquire various skills and expertise in business valuation including valuation of intangible assets. He possesses strong time management and communication skills.\\n', 'role': 'user'}],\n      dtype=object), 'raw_output_easy_triplets': '## Positive  \\nThe Business Valuation Associate performs hands-on valuation assignments under supervision, conducting detailed financial and market-based analyses to determine enterprise value. They ensure compliance with professional valuations standards and uphold integrity in all reporting and process documentation. This role includes active engagement with clients and internal stakeholders to gather requirements, present findings, and support strategic decision-making. While entry-level, the associate is expected to quickly develop proficiency in assessing tangible and intangible assets such as brand value, customer relationships, and intellectual property. Strong organizational abilities, clear communication, and adaptability are essential to thrive in a fast-paced, evolving environment.\\n\\n## Negative  \\nThe Junior IT Support Specialist provides basic technical assistance to end-users within a corporate network, handling routine software issues, device troubleshooting, and helpdesk tickets. They follow standard operating procedures to resolve common technical problems and maintain system logs, ensuring smooth daily operations. The role requires reliable problem-solving skills, attention to detail, and the ability to communicate clearly with non-technical staff. While the position offers exposure to technology infrastructure, it does not involve complex system evaluations or data-driven assessments, and there is no requirement to engage in business strategy or valuation activities.', 'statistics_easy_triplets': {'input_tokens': 335, 'output_tokens': 234}}",
         "Qwen/Qwen3-4B-Instruct-2507"
        ],
        [
         "5",
         "Accountancy",
         "Business Valuation",
         "Business Valuation Manager",
         "The Business Valuation Manager is second in charge of various functions including managing the valuation, generating and supporting the business, quality control, technical leadership as well as sourcing appropriate staff for the team. The Business Valuation Manager is a technical expert in all areas of valuation including valuation of intangible assets. He/She should possess considerable amount of experience in valuation, client, stakeholder and business management, project management and team development.",
         "In accordance with the International Valuation Standards Council's Code of Ethical Principles for Professional Valuers",
         "The Business Valuation Manager leads a dynamic team responsible for conducting comprehensive business valuations, ensuring accuracy and compliance across complex financial scenarios. This role involves overseeing valuation methodologies, particularly in intangible assets such as intellectual property, brand value, and customer relationships. The manager provides strategic guidance on valuation approaches, supports decision-making at executive levels, ensures robust quality controls, and drives team growth through mentorship and talent acquisition. With deep expertise in valuation frameworks and extensive experience in client engagement, project coordination, and cross-functional collaboration, the ideal candidate will serve as both a technical leader and operational backbone within the valuation function.",
         "The Junior Valuation Analyst assists in compiling basic financial data and performs initial assessments under supervision, focusing on straightforward asset valuations using standard models. This entry-level position involves supporting senior analysts in preparing reports, entering data into valuation systems, and verifying documentation. While familiarity with fundamental valuation principles is required, there is no responsibility for quality control, technical leadership, or team development. The role operates within a structured environment and does not require direct client interaction or strategic decision input—making it ideal for individuals building foundational knowledge in financial analysis.",
         "{'raw_input_easy_triplets': array([{'content': 'Your task is to generate a positive and a negative sentence given an anchor sentence. Take into account the context given. The positive sentence has to paraphrase the anchor sentence, while the negative sentence can use similar words but must not be related to the anchor sentence. You must output only two new sections: `## Positive` and `## Negative`.', 'role': 'system'},\n       {'content': '## Context\\n\\n\\nThe text is a job description from the Singapore SkillsFuture Framework. Your task is to generate realistic job descriptions from the provided description.\\n\\nFor the positive query, generate a realistic description for this role. Focus on creating variations that capture the essence of the role in different words, as if written by different people or organizations posting similar jobs.\\n\\nFor negative descriptions you are allowed to choose from the following strategies\\n\\n1. Same industry, different seniority level (Senior → Junior or Vice versa)\\n2. Same industry, different function (Business Valuation → Risk Management)\\n3. Similar skills, different domain (Financial Analysis in Banking vs Healthcare)\\n4. Same title, different industry context\\n\\nThe query should always include the job role. Start the description with The <job role>.\\n\\n\\n\\n## Anchor\\n\\nThe Business Valuation Manager is second in charge of various functions including managing the valuation, generating and supporting the business, quality control, technical leadership as well as sourcing appropriate staff for the team. The Business Valuation Manager is a technical expert in all areas of valuation including valuation of intangible assets. He/She should possess considerable amount of experience in valuation, client, stakeholder and business management, project management and team development.\\n', 'role': 'user'}],\n      dtype=object), 'raw_output_easy_triplets': '## Positive  \\nThe Business Valuation Manager leads a dynamic team responsible for conducting comprehensive business valuations, ensuring accuracy and compliance across complex financial scenarios. This role involves overseeing valuation methodologies, particularly in intangible assets such as intellectual property, brand value, and customer relationships. The manager provides strategic guidance on valuation approaches, supports decision-making at executive levels, ensures robust quality controls, and drives team growth through mentorship and talent acquisition. With deep expertise in valuation frameworks and extensive experience in client engagement, project coordination, and cross-functional collaboration, the ideal candidate will serve as both a technical leader and operational backbone within the valuation function.\\n\\n## Negative  \\nThe Junior Valuation Analyst assists in compiling basic financial data and performs initial assessments under supervision, focusing on straightforward asset valuations using standard models. This entry-level position involves supporting senior analysts in preparing reports, entering data into valuation systems, and verifying documentation. While familiarity with fundamental valuation principles is required, there is no responsibility for quality control, technical leadership, or team development. The role operates within a structured environment and does not require direct client interaction or strategic decision input—making it ideal for individuals building foundational knowledge in financial analysis.', 'statistics_easy_triplets': {'input_tokens': 314, 'output_tokens': 232}}",
         "Qwen/Qwen3-4B-Instruct-2507"
        ],
        [
         "6",
         "Accountancy",
         "Business Valuation",
         "Business Valuation Partner / Business Valuation Director",
         "The Business Valuation Partner/Business Valuation Director is a team leader in charge of various functions including generating business and growing the business, quality control, technical leadership as well as sourcing appropriate staff for the team. He/She is given the signing authority for any client deliverables in a consultancy role, or responsibility for corporate development in-house. He is not only responsible for the quality of technical output, but also for risk management for the business. The Business Valuation Partner/Business Valuation Director is also looked upon as an expert in valuation and should possess considerable amount of valuation experience including valuation of intangible assets. He is responsible for marketing and business development, client and stakeholder relationship management, and making decisions on engagements and client acceptance.",
         "In accordance with the International Valuation Standards Council's Code of Ethical Principles for Professional Valuers",
         "The Business Valuation Director leads a high-performing valuation team, driving business growth through strategic client acquisition, market expansion, and robust engagement management. This role involves overseeing the entire lifecycle of valuation projects—from initial scoping to final reporting—ensuring precision, compliance, and consistency in technical outputs. The director provides expert guidance on complex valuations, especially those involving intangible assets such as intellectual property, brand value, and digital platforms. With full authority over client deliverables and engagement approvals, they play a key role in both delivering high-quality advisory services and shaping long-term corporate strategy. Responsibilities also extend to talent recruitment, mentoring junior professionals, maintaining strong relationships with clients and stakeholders, and proactively managing risks across all valuation activities.",
         "The Junior Financial Analyst supports the accounting department by preparing monthly financial reports, conducting basic data entry, and assisting in budget tracking. This role involves monitoring income statements and balance sheets under supervision, ensuring accuracy in ledger entries, and providing input for internal audits. While the analyst may review financial data trends, they do not have decision-making power or approval rights over financial outputs. No client-facing responsibilities exist, and there is no involvement in project leadership, risk assessment, or strategic planning. The position focuses on operational support rather than valuation",
         "{'raw_input_easy_triplets': array([{'content': 'Your task is to generate a positive and a negative sentence given an anchor sentence. Take into account the context given. The positive sentence has to paraphrase the anchor sentence, while the negative sentence can use similar words but must not be related to the anchor sentence. You must output only two new sections: `## Positive` and `## Negative`.', 'role': 'system'},\n       {'content': '## Context\\n\\n\\nThe text is a job description from the Singapore SkillsFuture Framework. Your task is to generate realistic job descriptions from the provided description.\\n\\nFor the positive query, generate a realistic description for this role. Focus on creating variations that capture the essence of the role in different words, as if written by different people or organizations posting similar jobs.\\n\\nFor negative descriptions you are allowed to choose from the following strategies\\n\\n1. Same industry, different seniority level (Senior → Junior or Vice versa)\\n2. Same industry, different function (Business Valuation → Risk Management)\\n3. Similar skills, different domain (Financial Analysis in Banking vs Healthcare)\\n4. Same title, different industry context\\n\\nThe query should always include the job role. Start the description with The <job role>.\\n\\n\\n\\n## Anchor\\n\\nThe Business Valuation Partner/Business Valuation Director is a team leader in charge of various functions including generating business and growing the business, quality control, technical leadership as well as sourcing appropriate staff for the team. He/She is given the signing authority for any client deliverables in a consultancy role, or responsibility for corporate development in-house. He is not only responsible for the quality of technical output, but also for risk management for the business. The Business Valuation Partner/Business Valuation Director is also looked upon as an expert in valuation and should possess considerable amount of valuation experience including valuation of intangible assets. He is responsible for marketing and business development, client and stakeholder relationship management, and making decisions on engagements and client acceptance.\\n', 'role': 'user'}],\n      dtype=object), 'raw_output_easy_triplets': '## Positive  \\nThe Business Valuation Director leads a high-performing valuation team, driving business growth through strategic client acquisition, market expansion, and robust engagement management. This role involves overseeing the entire lifecycle of valuation projects—from initial scoping to final reporting—ensuring precision, compliance, and consistency in technical outputs. The director provides expert guidance on complex valuations, especially those involving intangible assets such as intellectual property, brand value, and digital platforms. With full authority over client deliverables and engagement approvals, they play a key role in both delivering high-quality advisory services and shaping long-term corporate strategy. Responsibilities also extend to talent recruitment, mentoring junior professionals, maintaining strong relationships with clients and stakeholders, and proactively managing risks across all valuation activities.\\n\\n## Negative  \\nThe Junior Financial Analyst supports the accounting department by preparing monthly financial reports, conducting basic data entry, and assisting in budget tracking. This role involves monitoring income statements and balance sheets under supervision, ensuring accuracy in ledger entries, and providing input for internal audits. While the analyst may review financial data trends, they do not have decision-making power or approval rights over financial outputs. No client-facing responsibilities exist, and there is no involvement in project leadership, risk assessment, or strategic planning. The position focuses on operational support rather than valuation', 'statistics_easy_triplets': {'input_tokens': 377, 'output_tokens': 256}}",
         "Qwen/Qwen3-4B-Instruct-2507"
        ],
        [
         "7",
         "Accountancy",
         "Business Valuation",
         "Business Valuation Senior / Business Valuation Senior Executive",
         "The Business Valuation Senior/Business Valuation Senior Executive is in charge of day to day operations, from a valuation perspective. He/She manages the valuation exercise for the client engagements that he is responsible for, or the business that he belongs to. He is expected to adhere to standards of ethics and maintain quality assurance in processes. The Business Valuation Senior/Business Valuation Senior Executive participates in business development and is expected to interact with stakeholders to manage project deliverables and timeline. He has a significant level of technical expertise including valuation of intangible assets and is very hands on with the valuation exercise. He possesses strong time management and communication skills.",
         "In accordance with the International Valuation Standards Council's Code of Ethical Principles for Professional Valuers",
         "The Business Valuation Senior Executive leads all valuation activities for key client engagements, ensuring accuracy, compliance, and consistency across complex financial assessments. This role involves end-to-end ownership of valuation projects—from initial scoping to final reporting—while maintaining strict adherence to international valuation standards and internal quality controls. The professional conducts detailed analyses of intangible assets such as intellectual property, customer relationships, and brand value, applying advanced methodologies and tools. They actively contribute to business growth by engaging with clients, stakeholders, and cross-functional teams to align deliverables with strategic objectives. Strong analytical, communication, and time-management abilities are essential to meet tight deadlines and ensure high-quality outcomes in dynamic environments.",
         "The Junior Accountant supports daily financial record-keeping and prepares basic financial statements under supervision. Responsibilities include entering transactions into accounting systems, reconciling bank accounts, and assisting with monthly closing procedures. While the role requires attention to detail and familiarity with standard financial practices, it does not involve complex analysis, forecasting, or independent decision-making. The position operates within a structured environment focused on transactional accuracy rather than strategic assessment or stakeholder engagement. No experience in valuing intangible assets or managing full-cycle valuation projects is required. Communication skills are used primarily in routine team interactions and reporting to",
         "{'raw_input_easy_triplets': array([{'content': 'Your task is to generate a positive and a negative sentence given an anchor sentence. Take into account the context given. The positive sentence has to paraphrase the anchor sentence, while the negative sentence can use similar words but must not be related to the anchor sentence. You must output only two new sections: `## Positive` and `## Negative`.', 'role': 'system'},\n       {'content': '## Context\\n\\n\\nThe text is a job description from the Singapore SkillsFuture Framework. Your task is to generate realistic job descriptions from the provided description.\\n\\nFor the positive query, generate a realistic description for this role. Focus on creating variations that capture the essence of the role in different words, as if written by different people or organizations posting similar jobs.\\n\\nFor negative descriptions you are allowed to choose from the following strategies\\n\\n1. Same industry, different seniority level (Senior → Junior or Vice versa)\\n2. Same industry, different function (Business Valuation → Risk Management)\\n3. Similar skills, different domain (Financial Analysis in Banking vs Healthcare)\\n4. Same title, different industry context\\n\\nThe query should always include the job role. Start the description with The <job role>.\\n\\n\\n\\n## Anchor\\n\\nThe Business Valuation Senior/Business Valuation Senior Executive is in charge of day to day operations, from a valuation perspective. He/She manages the valuation exercise for the client engagements that he is responsible for, or the business that he belongs to. He is expected to adhere to standards of ethics and maintain quality assurance in processes. The Business Valuation Senior/Business Valuation Senior Executive participates in business development and is expected to interact with stakeholders to manage project deliverables and timeline. He has a significant level of technical expertise including valuation of intangible assets and is very hands on with the valuation exercise. He possesses strong time management and communication skills.\\n', 'role': 'user'}],\n      dtype=object), 'raw_output_easy_triplets': '## Positive  \\nThe Business Valuation Senior Executive leads all valuation activities for key client engagements, ensuring accuracy, compliance, and consistency across complex financial assessments. This role involves end-to-end ownership of valuation projects—from initial scoping to final reporting—while maintaining strict adherence to international valuation standards and internal quality controls. The professional conducts detailed analyses of intangible assets such as intellectual property, customer relationships, and brand value, applying advanced methodologies and tools. They actively contribute to business growth by engaging with clients, stakeholders, and cross-functional teams to align deliverables with strategic objectives. Strong analytical, communication, and time-management abilities are essential to meet tight deadlines and ensure high-quality outcomes in dynamic environments.\\n\\n## Negative  \\nThe Junior Accountant supports daily financial record-keeping and prepares basic financial statements under supervision. Responsibilities include entering transactions into accounting systems, reconciling bank accounts, and assisting with monthly closing procedures. While the role requires attention to detail and familiarity with standard financial practices, it does not involve complex analysis, forecasting, or independent decision-making. The position operates within a structured environment focused on transactional accuracy rather than strategic assessment or stakeholder engagement. No experience in valuing intangible assets or managing full-cycle valuation projects is required. Communication skills are used primarily in routine team interactions and reporting to', 'statistics_easy_triplets': {'input_tokens': 358, 'output_tokens': 256}}",
         "Qwen/Qwen3-4B-Instruct-2507"
        ],
        [
         "8",
         "Accountancy",
         "Enterprise Risk Management",
         "Chief Risk Officer / Risk Partner / Head of Risk / Enterprise Risk Management Director",
         "The Chief Risk Officer/Risk Partner/Head of Risk/Enterprise Risk Management Director manages the overall risk exposure across the organisation in collaboration with relevant business units and senior stakeholders. He/She develops and defines enterprise-level policies and frameworks which establishes acceptable risk appetite and strategies to maintain the organisation's collective risk exposure. He reviews the monitoring and management of enterprise risk exposure, including identifying and measuring risks from an organisational level, and implementing appropriate risk controls across the organisation. He also leads planning for recovery and resolution activities after high-risk incidents in collaboration with business units. The Chief Risk Officer/Risk Partner/Head of Risk/Enterprise Risk Management Director is strategically oriented, well-versed with all aspects of the business including decision-making processes and able to connect the dots to achieve outcomes. He is conceptual, highly experienced in various risk disciplines and takes a big picture approach. He is an influential leader, leading and developing the team, and works well with a wide range of senior stakeholders. He has strong interpersonal skills and the ability to change undesirable behaviours with more desirable ones.",
         null,
         "The Enterprise Risk Management Director oversees the comprehensive identification, assessment, and mitigation of risks across all business functions, working closely with senior leadership and operational teams. This role designs and implements enterprise-wide risk governance structures, defining clear risk tolerances and strategic approaches to ensure sustainable performance. The director ensures ongoing oversight of risk monitoring systems, conducts regular risk evaluations at the organizational level, and deploys effective control mechanisms to align with business objectives. In the event of significant disruptions or incidents, they lead incident response and business continuity planning in coordination with key departments. A strategic thinker with deep business acumen, the individual understands cross-functional dynamics and translates complex risk data into actionable insights. Highly skilled in risk modelling, scenario analysis, and regulatory compliance, they foster a culture of proactive risk awareness and drive continuous improvement within the risk function. They serve as a trusted advisor to executives, influence stakeholder decisions, and build high-performing teams through mentorship and effective communication.",
         "The Junior Risk Analyst supports the day-to-day collection and reporting of departmental risk data, assisting in tracking compliance metrics and updating internal dashboards. This role involves conducting basic risk assessments under supervision, documenting identified issues, and preparing weekly summaries for senior managers. While responsible for maintaining records and flagging potential concerns",
         "{'raw_input_easy_triplets': array([{'content': 'Your task is to generate a positive and a negative sentence given an anchor sentence. Take into account the context given. The positive sentence has to paraphrase the anchor sentence, while the negative sentence can use similar words but must not be related to the anchor sentence. You must output only two new sections: `## Positive` and `## Negative`.', 'role': 'system'},\n       {'content': \"## Context\\n\\n\\nThe text is a job description from the Singapore SkillsFuture Framework. Your task is to generate realistic job descriptions from the provided description.\\n\\nFor the positive query, generate a realistic description for this role. Focus on creating variations that capture the essence of the role in different words, as if written by different people or organizations posting similar jobs.\\n\\nFor negative descriptions you are allowed to choose from the following strategies\\n\\n1. Same industry, different seniority level (Senior → Junior or Vice versa)\\n2. Same industry, different function (Business Valuation → Risk Management)\\n3. Similar skills, different domain (Financial Analysis in Banking vs Healthcare)\\n4. Same title, different industry context\\n\\nThe query should always include the job role. Start the description with The <job role>.\\n\\n\\n\\n## Anchor\\n\\nThe Chief Risk Officer/Risk Partner/Head of Risk/Enterprise Risk Management Director manages the overall risk exposure across the organisation in collaboration with relevant business units and senior stakeholders. He/She develops and defines enterprise-level policies and frameworks which establishes acceptable risk appetite and strategies to maintain the organisation's collective risk exposure. He reviews the monitoring and management of enterprise risk exposure, including identifying and measuring risks from an organisational level, and implementing appropriate risk controls across the organisation. He also leads planning for recovery and resolution activities after high-risk incidents in collaboration with business units. The Chief Risk Officer/Risk Partner/Head of Risk/Enterprise Risk Management Director is strategically oriented, well-versed with all aspects of the business including decision-making processes and able to connect the dots to achieve outcomes. He is conceptual, highly experienced in various risk disciplines and takes a big picture approach. He is an influential leader, leading and developing the team, and works well with a wide range of senior stakeholders. He has strong interpersonal skills and the ability to change undesirable behaviours with more desirable ones.\\n\", 'role': 'user'}],\n      dtype=object), 'raw_output_easy_triplets': '## Positive  \\nThe Enterprise Risk Management Director oversees the comprehensive identification, assessment, and mitigation of risks across all business functions, working closely with senior leadership and operational teams. This role designs and implements enterprise-wide risk governance structures, defining clear risk tolerances and strategic approaches to ensure sustainable performance. The director ensures ongoing oversight of risk monitoring systems, conducts regular risk evaluations at the organizational level, and deploys effective control mechanisms to align with business objectives. In the event of significant disruptions or incidents, they lead incident response and business continuity planning in coordination with key departments. A strategic thinker with deep business acumen, the individual understands cross-functional dynamics and translates complex risk data into actionable insights. Highly skilled in risk modelling, scenario analysis, and regulatory compliance, they foster a culture of proactive risk awareness and drive continuous improvement within the risk function. They serve as a trusted advisor to executives, influence stakeholder decisions, and build high-performing teams through mentorship and effective communication.\\n\\n## Negative  \\nThe Junior Risk Analyst supports the day-to-day collection and reporting of departmental risk data, assisting in tracking compliance metrics and updating internal dashboards. This role involves conducting basic risk assessments under supervision, documenting identified issues, and preparing weekly summaries for senior managers. While responsible for maintaining records and flagging potential concerns', 'statistics_easy_triplets': {'input_tokens': 440, 'output_tokens': 256}}",
         "Qwen/Qwen3-4B-Instruct-2507"
        ],
        [
         "9",
         "Accountancy",
         "Enterprise Risk Management",
         "Enterprise Risk Management Associate / Enterprise Risk Management Executive",
         "The Enterprise Risk Management Associate/Enterprise Risk Management Executive is responsible for supporting the implementation of enterprise risk management (ERM) activities, as well as policy and process maintenance. He/She gathers information, monitors and flags issues within ERM systems. He assists in preparing documents and reports for management review. He monitors adherence to risk policy and guidelines, supporting overall communication and risk reporting mechanisms. He also supports identification of resolution activities after high-risk incidents. The Enterprise Risk Management Associate/Enterprise Risk Management Executive is inquisitive, adaptable, a quick learner and is able to execute work independently. He is highly motivated, takes initiative and able to deliver outcomes as required. He is also analytical, and process and task-oriented in carrying out required procedures. He possesses strong time management, interpersonal and communication skills. The Enterprise Risk Management Associate/Enterprise Risk Management Executive would typically have had prior exposure to other accounting and advisory functions, and is expected to embark on a steep learning curve to acquire ERM skills and expertise. He has basic knowledge of organisations' business model and culture.",
         null,
         "The Enterprise Risk Management Associate supports the strategic rollout of enterprise risk management initiatives by gathering data, tracking key risk indicators, and identifying potential vulnerabilities across business units. This role involves monitoring compliance with internal risk policies, maintaining up-to-date risk registers, and contributing to management-level reporting through clear, actionable insights. The associate plays a proactive role in post-incident reviews, helping to identify root causes and recommend corrective actions. Strong attention to detail, analytical thinking, and effective communication are essential. The ideal candidate is curious, self-motivated, and able to manage multiple tasks efficiently under tight deadlines. Familiarity with organizational structures and business processes is beneficial, and some foundational experience in finance or advisory roles provides a solid foundation for rapid growth in ERM competencies.",
         "The Junior Accountant is responsible for processing daily financial transactions, reconciling bank statements, and assisting with monthly bookkeeping. This role requires accuracy in recording expenses and revenues, ensuring timely submission of financial reports to supervisors, and maintaining organized records in accordance with company policies. The junior accountant will support the preparation of financial statements and assist in budgeting exercises, working closely with the finance team to ensure consistency and compliance. A reliable work ethic, good attention to detail, and a willingness to learn standard",
         "{'raw_input_easy_triplets': array([{'content': 'Your task is to generate a positive and a negative sentence given an anchor sentence. Take into account the context given. The positive sentence has to paraphrase the anchor sentence, while the negative sentence can use similar words but must not be related to the anchor sentence. You must output only two new sections: `## Positive` and `## Negative`.', 'role': 'system'},\n       {'content': \"## Context\\n\\n\\nThe text is a job description from the Singapore SkillsFuture Framework. Your task is to generate realistic job descriptions from the provided description.\\n\\nFor the positive query, generate a realistic description for this role. Focus on creating variations that capture the essence of the role in different words, as if written by different people or organizations posting similar jobs.\\n\\nFor negative descriptions you are allowed to choose from the following strategies\\n\\n1. Same industry, different seniority level (Senior → Junior or Vice versa)\\n2. Same industry, different function (Business Valuation → Risk Management)\\n3. Similar skills, different domain (Financial Analysis in Banking vs Healthcare)\\n4. Same title, different industry context\\n\\nThe query should always include the job role. Start the description with The <job role>.\\n\\n\\n\\n## Anchor\\n\\nThe Enterprise Risk Management Associate/Enterprise Risk Management Executive is responsible for supporting the implementation of enterprise risk management (ERM) activities, as well as policy and process maintenance. He/She gathers information, monitors and flags issues within ERM systems. He assists in preparing documents and reports for management review. He monitors adherence to risk policy and guidelines, supporting overall communication and risk reporting mechanisms. He also supports identification of resolution activities after high-risk incidents. The Enterprise Risk Management Associate/Enterprise Risk Management Executive is inquisitive, adaptable, a quick learner and is able to execute work independently. He is highly motivated, takes initiative and able to deliver outcomes as required. He is also analytical, and process and task-oriented in carrying out required procedures. He possesses strong time management, interpersonal and communication skills. The Enterprise Risk Management Associate/Enterprise Risk Management Executive would typically have had prior exposure to other accounting and advisory functions, and is expected to embark on a steep learning curve to acquire ERM skills and expertise. He has basic knowledge of organisations' business model and culture.\\n\", 'role': 'user'}],\n      dtype=object), 'raw_output_easy_triplets': '## Positive  \\nThe Enterprise Risk Management Associate supports the strategic rollout of enterprise risk management initiatives by gathering data, tracking key risk indicators, and identifying potential vulnerabilities across business units. This role involves monitoring compliance with internal risk policies, maintaining up-to-date risk registers, and contributing to management-level reporting through clear, actionable insights. The associate plays a proactive role in post-incident reviews, helping to identify root causes and recommend corrective actions. Strong attention to detail, analytical thinking, and effective communication are essential. The ideal candidate is curious, self-motivated, and able to manage multiple tasks efficiently under tight deadlines. Familiarity with organizational structures and business processes is beneficial, and some foundational experience in finance or advisory roles provides a solid foundation for rapid growth in ERM competencies.\\n\\n## Negative  \\nThe Junior Accountant is responsible for processing daily financial transactions, reconciling bank statements, and assisting with monthly bookkeeping. This role requires accuracy in recording expenses and revenues, ensuring timely submission of financial reports to supervisors, and maintaining organized records in accordance with company policies. The junior accountant will support the preparation of financial statements and assist in budgeting exercises, working closely with the finance team to ensure consistency and compliance. A reliable work ethic, good attention to detail, and a willingness to learn standard', 'statistics_easy_triplets': {'input_tokens': 440, 'output_tokens': 256}}",
         "Qwen/Qwen3-4B-Instruct-2507"
        ]
       ],
       "shape": {
        "columns": 9,
        "rows": 10
       }
      },
      "text/html": [
       "<div>\n",
       "<style scoped>\n",
       "    .dataframe tbody tr th:only-of-type {\n",
       "        vertical-align: middle;\n",
       "    }\n",
       "\n",
       "    .dataframe tbody tr th {\n",
       "        vertical-align: top;\n",
       "    }\n",
       "\n",
       "    .dataframe thead th {\n",
       "        text-align: right;\n",
       "    }\n",
       "</style>\n",
       "<table border=\"1\" class=\"dataframe\">\n",
       "  <thead>\n",
       "    <tr style=\"text-align: right;\">\n",
       "      <th></th>\n",
       "      <th>Sector</th>\n",
       "      <th>Track</th>\n",
       "      <th>Job Role</th>\n",
       "      <th>anchor</th>\n",
       "      <th>Performance Expectation</th>\n",
       "      <th>positive</th>\n",
       "      <th>negative</th>\n",
       "      <th>distilabel_metadata</th>\n",
       "      <th>model_name</th>\n",
       "    </tr>\n",
       "  </thead>\n",
       "  <tbody>\n",
       "    <tr>\n",
       "      <th>0</th>\n",
       "      <td>Accountancy</td>\n",
       "      <td>Assurance</td>\n",
       "      <td>Audit Associate / Audit Assistant Associate</td>\n",
       "      <td>The Audit Associate/Audit Assistant Associate ...</td>\n",
       "      <td>In accordance with: Singapore Standards on Aud...</td>\n",
       "      <td>The Audit Associate undertakes defined phases ...</td>\n",
       "      <td>The Food Service Manager oversees daily operat...</td>\n",
       "      <td>{'raw_input_easy_triplets': [{'content': 'Your...</td>\n",
       "      <td>Qwen/Qwen3-4B-Instruct-2507</td>\n",
       "    </tr>\n",
       "    <tr>\n",
       "      <th>1</th>\n",
       "      <td>Accountancy</td>\n",
       "      <td>Assurance</td>\n",
       "      <td>Audit Manager</td>\n",
       "      <td>The Audit Senior Manager/Audit Manager manages...</td>\n",
       "      <td>In accordance with: Singapore Standards on Aud...</td>\n",
       "      <td>The Audit Senior Manager oversees a diverse ra...</td>\n",
       "      <td>The Junior Auditor performs basic data collect...</td>\n",
       "      <td>{'raw_input_easy_triplets': [{'content': 'Your...</td>\n",
       "      <td>Qwen/Qwen3-4B-Instruct-2507</td>\n",
       "    </tr>\n",
       "    <tr>\n",
       "      <th>2</th>\n",
       "      <td>Accountancy</td>\n",
       "      <td>Assurance</td>\n",
       "      <td>Audit Partner / Audit Director</td>\n",
       "      <td>The Audit Partner/Audit Director is a transfor...</td>\n",
       "      <td>In accordance with: Singapore Standards on Aud...</td>\n",
       "      <td>The Audit Partner/Audit Director is a visionar...</td>\n",
       "      <td>The Junior Auditor is responsible for assistin...</td>\n",
       "      <td>{'raw_input_easy_triplets': [{'content': 'Your...</td>\n",
       "      <td>Qwen/Qwen3-4B-Instruct-2507</td>\n",
       "    </tr>\n",
       "    <tr>\n",
       "      <th>3</th>\n",
       "      <td>Accountancy</td>\n",
       "      <td>Assurance</td>\n",
       "      <td>Audit Senior</td>\n",
       "      <td>The Audit Senior is expected to team lead vari...</td>\n",
       "      <td>In accordance with: Singapore Standards on Aud...</td>\n",
       "      <td>The Audit Senior is responsible for leading mi...</td>\n",
       "      <td>The Audit Junior supports audit teams by assis...</td>\n",
       "      <td>{'raw_input_easy_triplets': [{'content': 'Your...</td>\n",
       "      <td>Qwen/Qwen3-4B-Instruct-2507</td>\n",
       "    </tr>\n",
       "    <tr>\n",
       "      <th>4</th>\n",
       "      <td>Accountancy</td>\n",
       "      <td>Business Valuation</td>\n",
       "      <td>Business Valuation Associate / Business Valuat...</td>\n",
       "      <td>The Business Valuation Associate/Business Valu...</td>\n",
       "      <td>In accordance with the International Valuation...</td>\n",
       "      <td>The Business Valuation Associate performs hand...</td>\n",
       "      <td>The Junior IT Support Specialist provides basi...</td>\n",
       "      <td>{'raw_input_easy_triplets': [{'content': 'Your...</td>\n",
       "      <td>Qwen/Qwen3-4B-Instruct-2507</td>\n",
       "    </tr>\n",
       "    <tr>\n",
       "      <th>5</th>\n",
       "      <td>Accountancy</td>\n",
       "      <td>Business Valuation</td>\n",
       "      <td>Business Valuation Manager</td>\n",
       "      <td>The Business Valuation Manager is second in ch...</td>\n",
       "      <td>In accordance with the International Valuation...</td>\n",
       "      <td>The Business Valuation Manager leads a dynamic...</td>\n",
       "      <td>The Junior Valuation Analyst assists in compil...</td>\n",
       "      <td>{'raw_input_easy_triplets': [{'content': 'Your...</td>\n",
       "      <td>Qwen/Qwen3-4B-Instruct-2507</td>\n",
       "    </tr>\n",
       "    <tr>\n",
       "      <th>6</th>\n",
       "      <td>Accountancy</td>\n",
       "      <td>Business Valuation</td>\n",
       "      <td>Business Valuation Partner / Business Valuatio...</td>\n",
       "      <td>The Business Valuation Partner/Business Valuat...</td>\n",
       "      <td>In accordance with the International Valuation...</td>\n",
       "      <td>The Business Valuation Director leads a high-p...</td>\n",
       "      <td>The Junior Financial Analyst supports the acco...</td>\n",
       "      <td>{'raw_input_easy_triplets': [{'content': 'Your...</td>\n",
       "      <td>Qwen/Qwen3-4B-Instruct-2507</td>\n",
       "    </tr>\n",
       "    <tr>\n",
       "      <th>7</th>\n",
       "      <td>Accountancy</td>\n",
       "      <td>Business Valuation</td>\n",
       "      <td>Business Valuation Senior / Business Valuation...</td>\n",
       "      <td>The Business Valuation Senior/Business Valuati...</td>\n",
       "      <td>In accordance with the International Valuation...</td>\n",
       "      <td>The Business Valuation Senior Executive leads ...</td>\n",
       "      <td>The Junior Accountant supports daily financial...</td>\n",
       "      <td>{'raw_input_easy_triplets': [{'content': 'Your...</td>\n",
       "      <td>Qwen/Qwen3-4B-Instruct-2507</td>\n",
       "    </tr>\n",
       "    <tr>\n",
       "      <th>8</th>\n",
       "      <td>Accountancy</td>\n",
       "      <td>Enterprise Risk Management</td>\n",
       "      <td>Chief Risk Officer / Risk Partner / Head of Ri...</td>\n",
       "      <td>The Chief Risk Officer/Risk Partner/Head of Ri...</td>\n",
       "      <td>None</td>\n",
       "      <td>The Enterprise Risk Management Director overse...</td>\n",
       "      <td>The Junior Risk Analyst supports the day-to-da...</td>\n",
       "      <td>{'raw_input_easy_triplets': [{'content': 'Your...</td>\n",
       "      <td>Qwen/Qwen3-4B-Instruct-2507</td>\n",
       "    </tr>\n",
       "    <tr>\n",
       "      <th>9</th>\n",
       "      <td>Accountancy</td>\n",
       "      <td>Enterprise Risk Management</td>\n",
       "      <td>Enterprise Risk Management Associate / Enterpr...</td>\n",
       "      <td>The Enterprise Risk Management Associate/Enter...</td>\n",
       "      <td>None</td>\n",
       "      <td>The Enterprise Risk Management Associate suppo...</td>\n",
       "      <td>The Junior Accountant is responsible for proce...</td>\n",
       "      <td>{'raw_input_easy_triplets': [{'content': 'Your...</td>\n",
       "      <td>Qwen/Qwen3-4B-Instruct-2507</td>\n",
       "    </tr>\n",
       "  </tbody>\n",
       "</table>\n",
       "</div>"
      ],
      "text/plain": [
       "        Sector                       Track  \\\n",
       "0  Accountancy                   Assurance   \n",
       "1  Accountancy                   Assurance   \n",
       "2  Accountancy                   Assurance   \n",
       "3  Accountancy                   Assurance   \n",
       "4  Accountancy          Business Valuation   \n",
       "5  Accountancy          Business Valuation   \n",
       "6  Accountancy          Business Valuation   \n",
       "7  Accountancy          Business Valuation   \n",
       "8  Accountancy  Enterprise Risk Management   \n",
       "9  Accountancy  Enterprise Risk Management   \n",
       "\n",
       "                                            Job Role  \\\n",
       "0        Audit Associate / Audit Assistant Associate   \n",
       "1                                      Audit Manager   \n",
       "2                     Audit Partner / Audit Director   \n",
       "3                                       Audit Senior   \n",
       "4  Business Valuation Associate / Business Valuat...   \n",
       "5                         Business Valuation Manager   \n",
       "6  Business Valuation Partner / Business Valuatio...   \n",
       "7  Business Valuation Senior / Business Valuation...   \n",
       "8  Chief Risk Officer / Risk Partner / Head of Ri...   \n",
       "9  Enterprise Risk Management Associate / Enterpr...   \n",
       "\n",
       "                                              anchor  \\\n",
       "0  The Audit Associate/Audit Assistant Associate ...   \n",
       "1  The Audit Senior Manager/Audit Manager manages...   \n",
       "2  The Audit Partner/Audit Director is a transfor...   \n",
       "3  The Audit Senior is expected to team lead vari...   \n",
       "4  The Business Valuation Associate/Business Valu...   \n",
       "5  The Business Valuation Manager is second in ch...   \n",
       "6  The Business Valuation Partner/Business Valuat...   \n",
       "7  The Business Valuation Senior/Business Valuati...   \n",
       "8  The Chief Risk Officer/Risk Partner/Head of Ri...   \n",
       "9  The Enterprise Risk Management Associate/Enter...   \n",
       "\n",
       "                             Performance Expectation  \\\n",
       "0  In accordance with: Singapore Standards on Aud...   \n",
       "1  In accordance with: Singapore Standards on Aud...   \n",
       "2  In accordance with: Singapore Standards on Aud...   \n",
       "3  In accordance with: Singapore Standards on Aud...   \n",
       "4  In accordance with the International Valuation...   \n",
       "5  In accordance with the International Valuation...   \n",
       "6  In accordance with the International Valuation...   \n",
       "7  In accordance with the International Valuation...   \n",
       "8                                               None   \n",
       "9                                               None   \n",
       "\n",
       "                                            positive  \\\n",
       "0  The Audit Associate undertakes defined phases ...   \n",
       "1  The Audit Senior Manager oversees a diverse ra...   \n",
       "2  The Audit Partner/Audit Director is a visionar...   \n",
       "3  The Audit Senior is responsible for leading mi...   \n",
       "4  The Business Valuation Associate performs hand...   \n",
       "5  The Business Valuation Manager leads a dynamic...   \n",
       "6  The Business Valuation Director leads a high-p...   \n",
       "7  The Business Valuation Senior Executive leads ...   \n",
       "8  The Enterprise Risk Management Director overse...   \n",
       "9  The Enterprise Risk Management Associate suppo...   \n",
       "\n",
       "                                            negative  \\\n",
       "0  The Food Service Manager oversees daily operat...   \n",
       "1  The Junior Auditor performs basic data collect...   \n",
       "2  The Junior Auditor is responsible for assistin...   \n",
       "3  The Audit Junior supports audit teams by assis...   \n",
       "4  The Junior IT Support Specialist provides basi...   \n",
       "5  The Junior Valuation Analyst assists in compil...   \n",
       "6  The Junior Financial Analyst supports the acco...   \n",
       "7  The Junior Accountant supports daily financial...   \n",
       "8  The Junior Risk Analyst supports the day-to-da...   \n",
       "9  The Junior Accountant is responsible for proce...   \n",
       "\n",
       "                                 distilabel_metadata  \\\n",
       "0  {'raw_input_easy_triplets': [{'content': 'Your...   \n",
       "1  {'raw_input_easy_triplets': [{'content': 'Your...   \n",
       "2  {'raw_input_easy_triplets': [{'content': 'Your...   \n",
       "3  {'raw_input_easy_triplets': [{'content': 'Your...   \n",
       "4  {'raw_input_easy_triplets': [{'content': 'Your...   \n",
       "5  {'raw_input_easy_triplets': [{'content': 'Your...   \n",
       "6  {'raw_input_easy_triplets': [{'content': 'Your...   \n",
       "7  {'raw_input_easy_triplets': [{'content': 'Your...   \n",
       "8  {'raw_input_easy_triplets': [{'content': 'Your...   \n",
       "9  {'raw_input_easy_triplets': [{'content': 'Your...   \n",
       "\n",
       "                    model_name  \n",
       "0  Qwen/Qwen3-4B-Instruct-2507  \n",
       "1  Qwen/Qwen3-4B-Instruct-2507  \n",
       "2  Qwen/Qwen3-4B-Instruct-2507  \n",
       "3  Qwen/Qwen3-4B-Instruct-2507  \n",
       "4  Qwen/Qwen3-4B-Instruct-2507  \n",
       "5  Qwen/Qwen3-4B-Instruct-2507  \n",
       "6  Qwen/Qwen3-4B-Instruct-2507  \n",
       "7  Qwen/Qwen3-4B-Instruct-2507  \n",
       "8  Qwen/Qwen3-4B-Instruct-2507  \n",
       "9  Qwen/Qwen3-4B-Instruct-2507  "
      ]
     },
     "execution_count": 10,
     "metadata": {},
     "output_type": "execute_result"
    }
   ],
   "source": [
    "distiset[\"easy_triplets\"][\"train\"].to_pandas()"
   ]
  },
  {
   "cell_type": "markdown",
   "id": "rhj4ara3mn",
   "metadata": {},
   "source": [
    "## Publishing to Hugging Face Hub\n",
    "\n",
    "Finally, we can push our synthetic dataset to Hugging Face Hub for sharing and future use. This makes the dataset easily accessible for training embedding models or other downstream tasks.\n",
    "\n",
    "The dataset will be uploaded with all the generated triplets and metadata, ready for use in embedding training pipelines."
   ]
  },
  {
   "cell_type": "code",
   "execution_count": 11,
   "id": "110757f6",
   "metadata": {},
   "outputs": [
    {
     "data": {
      "application/vnd.jupyter.widget-view+json": {
       "model_id": "6df9c168df304557b772971b77e31eca",
       "version_major": 2,
       "version_minor": 0
      },
      "text/plain": [
       "Uploading the dataset shards:   0%|          | 0/1 [00:00<?, ? shards/s]"
      ]
     },
     "metadata": {},
     "output_type": "display_data"
    },
    {
     "data": {
      "application/vnd.jupyter.widget-view+json": {
       "model_id": "4f0ea7546c7c42d58e5eed8adea0c119",
       "version_major": 2,
       "version_minor": 0
      },
      "text/plain": [
       "Creating parquet from Arrow format:   0%|          | 0/1 [00:00<?, ?ba/s]"
      ]
     },
     "metadata": {},
     "output_type": "display_data"
    },
    {
     "data": {
      "application/vnd.jupyter.widget-view+json": {
       "model_id": "a8c9c4b0e7224428b3e84556de2ff044",
       "version_major": 2,
       "version_minor": 0
      },
      "text/plain": [
       "Processing Files (0 / 0)                : |          |  0.00B /  0.00B            "
      ]
     },
     "metadata": {},
     "output_type": "display_data"
    },
    {
     "data": {
      "application/vnd.jupyter.widget-view+json": {
       "model_id": "ce74fe2b154844a69bc85dd43a35c84e",
       "version_major": 2,
       "version_minor": 0
      },
      "text/plain": [
       "New Data Upload                         : |          |  0.00B /  0.00B            "
      ]
     },
     "metadata": {},
     "output_type": "display_data"
    },
    {
     "data": {
      "application/vnd.jupyter.widget-view+json": {
       "model_id": "312814072c604edab22daf69cd73e5b9",
       "version_major": 2,
       "version_minor": 0
      },
      "text/plain": [
       "                                        : 100%|##########| 56.0kB / 56.0kB            "
      ]
     },
     "metadata": {},
     "output_type": "display_data"
    },
    {
     "data": {
      "application/vnd.jupyter.widget-view+json": {
       "model_id": "4d6468480f914692bba2ca84c1cd159d",
       "version_major": 2,
       "version_minor": 0
      },
      "text/plain": [
       "Uploading the dataset shards:   0%|          | 0/1 [00:00<?, ? shards/s]"
      ]
     },
     "metadata": {},
     "output_type": "display_data"
    },
    {
     "data": {
      "application/vnd.jupyter.widget-view+json": {
       "model_id": "e5a40c00b141438fba8621d43adf95d2",
       "version_major": 2,
       "version_minor": 0
      },
      "text/plain": [
       "Creating parquet from Arrow format:   0%|          | 0/1 [00:00<?, ?ba/s]"
      ]
     },
     "metadata": {},
     "output_type": "display_data"
    },
    {
     "data": {
      "application/vnd.jupyter.widget-view+json": {
       "model_id": "355f5a9f8e6743419bdc4a115772dba1",
       "version_major": 2,
       "version_minor": 0
      },
      "text/plain": [
       "Processing Files (0 / 0)                : |          |  0.00B /  0.00B            "
      ]
     },
     "metadata": {},
     "output_type": "display_data"
    },
    {
     "data": {
      "application/vnd.jupyter.widget-view+json": {
       "model_id": "6996fba4a88849c094db960eb4b7cbb4",
       "version_major": 2,
       "version_minor": 0
      },
      "text/plain": [
       "New Data Upload                         : |          |  0.00B /  0.00B            "
      ]
     },
     "metadata": {},
     "output_type": "display_data"
    },
    {
     "data": {
      "application/vnd.jupyter.widget-view+json": {
       "model_id": "647e67c72e484f419053d2f700b09e18",
       "version_major": 2,
       "version_minor": 0
      },
      "text/plain": [
       "                                        : 100%|##########| 56.3kB / 56.3kB            "
      ]
     },
     "metadata": {},
     "output_type": "display_data"
    },
    {
     "data": {
      "application/vnd.jupyter.widget-view+json": {
       "model_id": "f2e660ec45b5474882279d1a15aa8953",
       "version_major": 2,
       "version_minor": 0
      },
      "text/plain": [
       "README.md:   0%|          | 0.00/963 [00:00<?, ?B/s]"
      ]
     },
     "metadata": {},
     "output_type": "display_data"
    },
    {
     "data": {
      "application/vnd.jupyter.widget-view+json": {
       "model_id": "8a2fa1982a6b4f8f9827a510dde64eb5",
       "version_major": 2,
       "version_minor": 0
      },
      "text/plain": [
       "README.md: 0.00B [00:00, ?B/s]"
      ]
     },
     "metadata": {},
     "output_type": "display_data"
    }
   ],
   "source": [
    "distiset.push_to_hub(\"dnth/ssf-dataset-synthetic\")"
   ]
  },
  {
   "cell_type": "markdown",
   "id": "whzstau59xc",
   "metadata": {},
   "source": [
    "## Customization Options\n",
    "\n",
    "This notebook provides several parameters that can be modified to customize the synthetic data generation process for your specific use case:\n",
    "\n",
    "### 1. Large Language Model (LLM) Selection\n",
    "- **Local Models**: Use `TransformersLLM` with different models:\n",
    "  - `Qwen/Qwen3-4B-Instruct-2507` (current)\n",
    "  - `microsoft/DialoGPT-medium`\n",
    "  - `meta-llama/Llama-2-7b-chat-hf`\n",
    "- **API Models**: Switch to `OpenAILLM` with models like:\n",
    "  - `gpt-4o-mini` (cost-effective)\n",
    "  - `gpt-4o` (higher quality)\n",
    "  - `gpt-3.5-turbo` (faster, cheaper)\n",
    "\n",
    "### 2. LLM Generation Parameters\n",
    "- **temperature**: Controls randomness (0.1 = conservative, 1.0 = creative)\n",
    "- **max_new_tokens**: Maximum length of generated text (128-512 typical)\n",
    "- **top_p**: Nucleus sampling parameter for diversity control\n",
    "- **repetition_penalty**: Prevents repetitive text generation\n",
    "\n",
    "### 3. GenerateSentencePair Configuration\n",
    "- **hard_negative**: \n",
    "  - `False`: Generates easier negatives for stable training\n",
    "  - `True` (current): Creates harder negatives that are more challenging to distinguish\n",
    "- **action**: \n",
    "  - `\"paraphrase\"` (current): Focus on paraphrasing\n",
    "  - `\"semantically-similar\"`: More creative generation\n",
    "- **input_batch_size**: Adjust based on your hardware capabilities (1-50)\n",
    "\n",
    "### 4. Context Prompt Engineering\n",
    "The `context` variable can be modified to:\n",
    "- Add industry-specific instructions\n",
    "- Include different negative generation strategies\n",
    "- Specify output format requirements\n",
    "- Add quality control guidelines\n",
    "- Target specific job domains or levels\n",
    "\n",
    "### 5. Dataset Parameters\n",
    "- **num_examples**: Scale from 10 (demo) to thousands (production)\n",
    "- Chain multiple generations.\n",
    "\n",
    "\n",
    "\n",
    "These parameters allow you to fine-tune the generation process for different domains, quality requirements, and training objectives."
   ]
  }
 ],
 "metadata": {
  "kernelspec": {
   "display_name": "rag-datakit",
   "language": "python",
   "name": "python3"
  },
  "language_info": {
   "codemirror_mode": {
    "name": "ipython",
    "version": 3
   },
   "file_extension": ".py",
   "mimetype": "text/x-python",
   "name": "python",
   "nbconvert_exporter": "python",
   "pygments_lexer": "ipython3",
   "version": "3.12.8"
  }
 },
 "nbformat": 4,
 "nbformat_minor": 5
}
